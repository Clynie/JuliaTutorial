{
 "cells": [
  {
   "cell_type": "markdown",
   "metadata": {
    "collapsed": true
   },
   "source": [
    "# Basic Julia Tutorial"
   ]
  },
  {
   "cell_type": "markdown",
   "metadata": {},
   "source": [
    "# Running/Installing Julia\n",
    "\n",
    "1. To run Julia without a local installation, use JuliaBox.com. It works well with Firefox and Chrome.\n",
    "2. To install Julia on your machine, download from https://julialang.org/downloads/. You may also want to use the Atom editor with the Juno IDE (see http://junolab.org/). To run IJulia from your local installation, see https://github.com/JuliaLang/IJulia.jl for instructions.\n",
    "3. Instead of downloading and installing Julia yourself, you may want to try JuliaPro (see https://juliacomputing.com/products/juliapro.html.)"
   ]
  },
  {
   "cell_type": "markdown",
   "metadata": {},
   "source": [
    "# Documentation and Help\n",
    "\n",
    "1.  Cheat sheet at https://cheatsheets.quantecon.org/julia-cheatsheet.html\n",
    "2.  Wiki book at https://en.wikibooks.org/wiki/Introducing_Julia\n",
    "3.  The on-line manual is found at https://docs.julialang.org/en/stable/\n",
    "4.  The manual as a pdf file is at https://readthedocs.org/projects/julia/downloads/\n",
    "5.  Discussion lists are found at\n",
    "    *  https://discourse.julialang.org/\n",
    "    *  https://stackoverflow.com/questions/tagged/julia-lang\n",
    "    *  https://www.reddit.com/r/Julia/\n",
    "    *  https://gitter.im/JuliaLang/julia"
   ]
  },
  {
   "cell_type": "markdown",
   "metadata": {},
   "source": [
    "# Getting This File to JuliaBox\n",
    "\n",
    "1. Download this entire repository to your machine and then upload to JuliaBox (see menu--files in JuliaBox).\n",
    "2. Instead, in JuliaBox, go to menu-sync. Then sync with the git repository https://github.com/PaulSoderlind/JuliaTutorial"
   ]
  },
  {
   "cell_type": "markdown",
   "metadata": {},
   "source": [
    "# About Notebooks\n",
    "\n",
    "This cell is a \"Markdown\" cell. This is meant for comments and documentation, not computations.\n",
    "\n",
    "You can change a cell to \"Code\" or \"Markdown\" in the menu.\n",
    "\n",
    "If you know LaTeX, then Markdown cells can handle them. An example: $\\alpha = \\beta/2$. A Markdown cell can also contain some formatting, like lists of this kind\n",
    "\n",
    "1. To insert a new cell, use the menu. \n",
    "\n",
    "2. The next cell is \"Code\". You can run it."
   ]
  },
  {
   "cell_type": "code",
   "execution_count": 1,
   "metadata": {},
   "outputs": [
    {
     "data": {
      "text/plain": [
       "2"
      ]
     },
     "execution_count": 1,
     "metadata": {},
     "output_type": "execute_result"
    }
   ],
   "source": [
    "a = 2                  #run this cell by using the menu, or by Shift+Enter"
   ]
  },
  {
   "cell_type": "markdown",
   "metadata": {},
   "source": [
    "# Load Packages\n",
    "\n",
    "There are many packages for Julia, for instance, for plotting or statistical methods (see http://pkg.julialang.org/ for a list). To install a package, you run\n",
    "\n",
    "```\n",
    "Pkg.add(\"PackageName\")\n",
    "```\n",
    "\n",
    "Once a package is installed (the most common once are already installed on JuliaBox), you can use it by running\n",
    "\n",
    "```\n",
    "using PackageName\n",
    "```"
   ]
  },
  {
   "cell_type": "code",
   "execution_count": 2,
   "metadata": {},
   "outputs": [
    {
     "name": "stderr",
     "output_type": "stream",
     "text": [
      "\u001b[1m\u001b[36mINFO: \u001b[39m\u001b[22m\u001b[36mRecompiling stale cache file D:\\Julia\\Packages\\lib\\v0.6\\PlotUtils.ji for module PlotUtils.\n",
      "\u001b[39m\u001b[1m\u001b[36mINFO: \u001b[39m\u001b[22m\u001b[36mRecompiling stale cache file D:\\Julia\\Packages\\lib\\v0.6\\PlotThemes.ji for module PlotThemes.\n",
      "\u001b[39m"
     ]
    },
    {
     "data": {
      "text/plain": [
       "println4Ps (generic function with 1 method)"
      ]
     },
     "execution_count": 2,
     "metadata": {},
     "output_type": "execute_result"
    }
   ],
   "source": [
    "using Plots                 #this loads the Plots package\n",
    "\n",
    "backend = \"gr\"              #choice of plotting backend, \"gr\" (default), \"pyplot\" \n",
    "\n",
    "if backend == \"pyplot\"      #some configurations, do bother with the details now\n",
    "    pyplot(size=(600,400))  #default size of plots\n",
    "else    \n",
    "    gr(size=(600,400))\n",
    "end\n",
    "\n",
    "include(\"printmat.jl\")      #just a function for prettier matrix printing"
   ]
  },
  {
   "cell_type": "markdown",
   "metadata": {},
   "source": [
    "# Scalars and Matrices"
   ]
  },
  {
   "cell_type": "markdown",
   "metadata": {},
   "source": [
    "### Create a Matrix and a Scalar"
   ]
  },
  {
   "cell_type": "code",
   "execution_count": 3,
   "metadata": {},
   "outputs": [
    {
     "name": "stdout",
     "output_type": "stream",
     "text": [
      "\n",
      "q is a scalar. To print, use println() or printlnPs()\n",
      "1\n",
      "\n",
      "Q is a matrix. To print, use display() or printmat()\n",
      "         1         2         3\n",
      "         4         5         6\n",
      "\n"
     ]
    }
   ],
   "source": [
    "q = 1                             #create a scalar\n",
    "Q = [ 1 2 3;                      #create 2x3 matrix\n",
    "      4 5 6 ] \n",
    "println(\"\\n\",\"q is a scalar. To print, use println() or printlnPs()\")    #\"\\n\" creates a line break\n",
    "println(q)  \n",
    "\n",
    "println(\"\\nQ is a matrix. To print, use display() or printmat()\") \n",
    "printmat(Q)                       #case sensitive (q and Q are different)"
   ]
  },
  {
   "cell_type": "markdown",
   "metadata": {},
   "source": [
    "### Picking Out Parts of a Matrix"
   ]
  },
  {
   "cell_type": "code",
   "execution_count": 4,
   "metadata": {},
   "outputs": [
    {
     "name": "stdout",
     "output_type": "stream",
     "text": [
      "\n",
      "element [1,2] of Q: 2\n",
      "\n",
      "columns 2 and 3 of Q: \n",
      "         2         3\n",
      "         5         6\n",
      "\n"
     ]
    }
   ],
   "source": [
    "println(\"\\n\",\"element [1,2] of Q: \",Q[1,2])\n",
    "\n",
    "println(\"\\ncolumns 2 and 3 of Q: \")\n",
    "printmat(Q[:,2:3])"
   ]
  },
  {
   "cell_type": "markdown",
   "metadata": {},
   "source": [
    "### Basic Linear Algebra"
   ]
  },
  {
   "cell_type": "code",
   "execution_count": 5,
   "metadata": {},
   "outputs": [
    {
     "name": "stdout",
     "output_type": "stream",
     "text": [
      "transpose of Q:\n",
      "         1         4\n",
      "         2         5\n",
      "         3         6\n",
      "\n",
      "Q'Q:\n",
      "        17        22        27\n",
      "        22        29        36\n",
      "        27        36        45\n",
      "\n",
      "determinant of Q'Q:\n",
      "    -0.000\n",
      "\n"
     ]
    }
   ],
   "source": [
    "println(\"transpose of Q:\")\n",
    "printmat(Q')\n",
    "\n",
    "println(\"Q'Q:\")\n",
    "printmat(Q'Q)\n",
    "\n",
    "println(\"determinant of Q'Q:\")\n",
    "printmat(det(Q'Q))"
   ]
  },
  {
   "cell_type": "markdown",
   "metadata": {},
   "source": [
    "### Creating a Sequence and a Vector"
   ]
  },
  {
   "cell_type": "code",
   "execution_count": 6,
   "metadata": {},
   "outputs": [
    {
     "name": "stdout",
     "output_type": "stream",
     "text": [
      "\n",
      "θ is a sequence: 1:10:21\n",
      "\n",
      "ρ is a vector: \n",
      "         1\n",
      "        11\n",
      "        21\n",
      "\n"
     ]
    }
   ],
   "source": [
    "θ = 1:10:21                  #a sequence, type \\theta + TAB to get this symbol        \n",
    "println(\"\\n\",\"θ is a sequence: \",θ)\n",
    "\n",
    "ρ = collect(θ)               #make the sequence into a vector, \\rho+TAB\n",
    "println(\"\\n\",\"ρ is a vector: \")\n",
    "printmat(ρ)"
   ]
  },
  {
   "cell_type": "markdown",
   "metadata": {},
   "source": [
    "# Types: Integers, Floats, Bools and Others\n",
    "\n",
    "Julia has many different types of variables: signed integers (like 2 or -5), floating point numbers (2.0 and -5.1), bools (false/true), bitarrays (similar to bools, but with more efficient use of memory), strings (\"hello\"), Dates (2017-04-23) and many more types."
   ]
  },
  {
   "cell_type": "markdown",
   "metadata": {},
   "source": [
    "## Integers and Floats"
   ]
  },
  {
   "cell_type": "code",
   "execution_count": 7,
   "metadata": {},
   "outputs": [
    {
     "name": "stdout",
     "output_type": "stream",
     "text": [
      "Finding the type of a, b, A and B:\n",
      "Int64 Float64 Array{Int64,1} Array{Float64,1}\n"
     ]
    }
   ],
   "source": [
    "a = 2                   #integer, Int (Int64 on most machines)\n",
    "b = 2.0                 #floating point, (Float64 on most machines)\n",
    "A = [1;2]\n",
    "B = [1.0;2.0]\n",
    "\n",
    "println(\"Finding the type of a, b, A and B:\")\n",
    "println(typeof(a),\" \",typeof(b),\" \",typeof(A),\" \",typeof(B))"
   ]
  },
  {
   "cell_type": "markdown",
   "metadata": {},
   "source": [
    "## Bools and BitArrays\n",
    "\n",
    "Bools are \"true\" or \"false\". BitArrays are (more memory efficient) versions of this."
   ]
  },
  {
   "cell_type": "code",
   "execution_count": 8,
   "metadata": {},
   "outputs": [
    {
     "name": "stdout",
     "output_type": "stream",
     "text": [
      "Finding the type of c and C:\n",
      "Bool BitArray{1}\n"
     ]
    }
   ],
   "source": [
    "c = 2 > 1.1\n",
    "C = A .> 1.5        #A is an array, so C is too\n",
    "\n",
    "println(\"Finding the type of c and C:\")\n",
    "println(typeof(c),\" \",typeof(C))"
   ]
  },
  {
   "cell_type": "markdown",
   "metadata": {},
   "source": [
    "## Calulations with Mixed Types\n",
    "\n",
    "A calculation like \"integer\" + \"float\" works and the type of the result will be a float (the more flexible type). Similarly, \"bool\" + \"integer\" will give an integer. These promotion rules make it easy to have mixed types in calculations, and also provide a simple way of converting a variable from one type to another. (There are also an explicit convert() function that might be quicker.)"
   ]
  },
  {
   "cell_type": "code",
   "execution_count": 9,
   "metadata": {},
   "outputs": [
    {
     "name": "stdout",
     "output_type": "stream",
     "text": [
      "3.0\n",
      "3\n"
     ]
    }
   ],
   "source": [
    "println(1+2.0)                #integer + Float\n",
    "println((1.>0) + 2)           #bool + integer"
   ]
  },
  {
   "cell_type": "markdown",
   "metadata": {},
   "source": [
    "# Comparing Things\n",
    "\n",
    "To see if the scalar z <= 0, do \n",
    "```\n",
    "vv = z <= 0\n",
    "```\n",
    "to get a single output (true or false)\n",
    "\n",
    "Instead, if x is an array, do \n",
    "```\n",
    "vv = x .<= 0                      #notice the dot.\n",
    "```\n",
    "to get an array of outputs (same dimension as x)"
   ]
  },
  {
   "cell_type": "code",
   "execution_count": 10,
   "metadata": {},
   "outputs": [
    {
     "name": "stdout",
     "output_type": "stream",
     "text": [
      "x values: \n",
      "    -1.500\n",
      "    -1.000\n",
      "    -0.500\n",
      "     0.000\n",
      "     0.500\n",
      "\n",
      "true if x is in (-1,0]: \n",
      "     false\n",
      "     false\n",
      "      true\n",
      "      true\n",
      "     false\n",
      "\n",
      "x values that are in (-1,0]: \n",
      "    -0.500\n",
      "     0.000\n",
      "\n"
     ]
    }
   ],
   "source": [
    "x =  [-1.5;-1.0;-0.5;0;0.5]             #this is a vector\n",
    "\n",
    "println(\"x values: \")\n",
    "printmat(x)\n",
    "\n",
    "vv = -1 .< x .<= 0                      #true for x values (-1,0], vv is a vector\n",
    "println(\"true if x is in (-1,0]: \")\n",
    "printmat(vv)\n",
    "\n",
    "x2 = x[vv]\n",
    "println(\"x values that are in (-1,0]: \")\n",
    "printmat(x2)"
   ]
  },
  {
   "cell_type": "markdown",
   "metadata": {},
   "source": [
    "# If-then-else\n",
    "\n",
    "allows you to run different commands depending on a condition which you specify."
   ]
  },
  {
   "cell_type": "code",
   "execution_count": 11,
   "metadata": {},
   "outputs": [
    {
     "name": "stdout",
     "output_type": "stream",
     "text": [
      "1.05\n"
     ]
    }
   ],
   "source": [
    "z = 1.05\n",
    "if 1 <= z <= 2          #(a) if true, run the next command (y=z) and then jump to end\n",
    "    y = z\n",
    "elseif z < 1            #(b) if (a) is false, try this instead  \n",
    "    y = 1\n",
    "else                    #(c) if also b is false, do this\n",
    "    y = 2\n",
    "end    \n",
    "\n",
    "println(y)"
   ]
  },
  {
   "cell_type": "markdown",
   "metadata": {},
   "source": [
    "# Loops\n",
    "\n",
    "The are two types of loops: for loops and while loops. \n",
    "\n",
    "The for loop is best when you know how many times you want to loop (for instance, over all N rows in a matrix). \n",
    "\n",
    "The while loop is best when you want to keep looping until something happens, for instance, that x1 and x2 get really close."
   ]
  },
  {
   "cell_type": "markdown",
   "metadata": {},
   "source": [
    "### A Simple \"for\" Loop"
   ]
  },
  {
   "cell_type": "code",
   "execution_count": 12,
   "metadata": {},
   "outputs": [
    {
     "name": "stdout",
     "output_type": "stream",
     "text": [
      "i=2 and x=2\n",
      "i=5 and x=7\n",
      "i=8 and x=15\n"
     ]
    }
   ],
   "source": [
    "x = 0\n",
    "for i = 2:3:10                        #first i=2, then i=5, and last i=8\n",
    "    x = x + i                         #adding i to the \"old\" x\n",
    "    println(\"i=$i and x=$x\")          #$x prints the value of x\n",
    "end"
   ]
  },
  {
   "cell_type": "markdown",
   "metadata": {},
   "source": [
    "### A Double \"for\" Loop\n",
    "\n",
    "An example of a nested for for loop\n",
    "\n",
    "```\n",
    "for j = 1:n, i = 1:m         \n",
    "    #do something\n",
    "end\n",
    "```\n",
    "\n",
    "If you prefer, could also write a longer version to do the same thing\n",
    "```\n",
    "for j = 1:n \n",
    "    i = 1:m         \n",
    "        #do something\n",
    "    end    \n",
    "end\n",
    "```"
   ]
  },
  {
   "cell_type": "code",
   "execution_count": 13,
   "metadata": {},
   "outputs": [
    {
     "name": "stdout",
     "output_type": "stream",
     "text": [
      "Pick out elements on and below diagonal from a matrix x\n",
      "\n",
      "original matrix: \n",
      "         1         4         7\n",
      "         2         5         8\n",
      "         3         6         9\n",
      "\n"
     ]
    }
   ],
   "source": [
    "println(\"Pick out elements on and below diagonal from a matrix x\")\n",
    "\n",
    "x = reshape(1:9,3,3)              #generate square matrix\n",
    "(m,n) = size(x,1,2)               #find no. rows and columns\n",
    "println(\"\\n\",\"original matrix: \")\n",
    "printmat(x)"
   ]
  },
  {
   "cell_type": "code",
   "execution_count": 14,
   "metadata": {},
   "outputs": [
    {
     "name": "stdout",
     "output_type": "stream",
     "text": [
      "vech of the matrix (stack elements on and below diagonal): \n",
      "         1\n",
      "         2\n",
      "         3\n",
      "         5\n",
      "         6\n",
      "         9\n",
      "\n"
     ]
    }
   ],
   "source": [
    "nRows = round(Int,n*(n+1)/2)      #must be an integer, so use round()\n",
    "v = fill(-999,nRows)              #to put results in, initialized as -999\n",
    "k = 1                             #fill(value,integer,integer) so must convert\n",
    "for j = 1:n, i = j:m              #loop over columns in x, and rows on and below diagonal\n",
    "    v[k] = x[i,j] \n",
    "    k = k + 1                 #update index in v\n",
    "end\n",
    "println(\"vech of the matrix (stack elements on and below diagonal): \") \n",
    "printmat(v)"
   ]
  },
  {
   "cell_type": "markdown",
   "metadata": {},
   "source": [
    "## A Simple \"while\" Loop\n",
    "\n",
    "The \"while\" loop iterates until two variables ($x_0$ and $x_1$) get close. The iterations (which change the variables) continue as long as $|x_1-x_0| > 0.001$. \n",
    "\n",
    "\n",
    "(The background to the example is that we want to solve a function $f(x)$ for the $x$ value that makes $f(x)=2$. The Newton-Raphson algorithm is to start with a value $x_0$ and update it to\n",
    "$\n",
    "x_1 = x_0 + (2-f(x_0))/f'(x_0)\n",
    "$\n",
    "where $f'(x_0)$ is the derivative of $f'()$ evaluated at $x_0$. The algorithm iterates until $x_0$ and $x_1$ are close.)"
   ]
  },
  {
   "cell_type": "code",
   "execution_count": 15,
   "metadata": {},
   "outputs": [
    {
     "name": "stdout",
     "output_type": "stream",
     "text": [
      "\n",
      "Solving x^2 = 2 with Newton-Raphson:\n",
      "\n",
      "10.0 is changed to 5.1\n",
      "5.1 is changed to 2.74608\n",
      "2.74608 is changed to 1.73719\n",
      "1.73719 is changed to 1.44424\n",
      "1.44424 is changed to 1.41453\n",
      "1.41453 is changed to 1.41421\n",
      "\n",
      "The result should be close to 1.4142135623730951\n"
     ]
    }
   ],
   "source": [
    "println(\"\\nSolving x^2 = 2 with Newton-Raphson:\\n\")\n",
    "\n",
    "x₀ = Inf         #x\\_0 + TAB    \n",
    "x₁ = 10                           \n",
    "\n",
    "while abs(x₁-x₀) > 0.001            #keep going until they get similar\n",
    "    x₀ = x₁                         #initial guess is taken from old guess\n",
    "    y  = x₀^2                       #value of function\n",
    "    dy = 2*x₀                       #derivative of function\n",
    "    x₁ = x₀ + (2 - y)/dy            #updating the guess, Newton-Raphson\n",
    "    println(\"$(round(x₀,5)) is changed to $(round(x₁,5))\")\n",
    "end\n",
    "\n",
    "println(\"\\nThe result should be close to $(sqrt(2))\")"
   ]
  },
  {
   "cell_type": "markdown",
   "metadata": {},
   "source": [
    "# A Simple Function\n",
    "\n",
    "The next cell defines a new function, fn1(). It is meant to take a scalar input (x) and return a scalar output (y).\n",
    "\n",
    "If you instead use a vector as the input, then the computation fails. (The reason is that you cannot do x^2 on a vector. (You could on a square matrix, though.)\n",
    "\n",
    "However, using the \"dot\" syntax\n",
    "```\n",
    "y = fn1.(x)\n",
    "```\n",
    "gives an array as output. Element ```y[i,j] = fn1(x[i,j])```."
   ]
  },
  {
   "cell_type": "code",
   "execution_count": 16,
   "metadata": {},
   "outputs": [
    {
     "data": {
      "text/plain": [
       "fn1 (generic function with 1 method)"
      ]
     },
     "execution_count": 16,
     "metadata": {},
     "output_type": "execute_result"
    }
   ],
   "source": [
    "function fn1(x)               #define a new function \n",
    "  y = (x-1.1)^2 - 0.5                \n",
    "  return y\n",
    "end  "
   ]
  },
  {
   "cell_type": "code",
   "execution_count": 17,
   "metadata": {},
   "outputs": [
    {
     "name": "stdout",
     "output_type": "stream",
     "text": [
      "result from fn1(1.5):     -0.340\n",
      "\n",
      "result from fn1.(x): \n",
      "    -0.490\n",
      "    -0.340\n",
      "\n"
     ]
    }
   ],
   "source": [
    "y = fn1(1.5)\n",
    "printlnPs(\"result from fn1(1.5): \",y)\n",
    "\n",
    "x = [1;1.5] \n",
    "#y = fn1(x)                   #would give an error \n",
    "y = fn1.(x)                   #calling on the function, dot to broadcast over input\n",
    "printlnPs(\"\\nresult from fn1.(x): \")\n",
    "printmat(y)"
   ]
  },
  {
   "cell_type": "markdown",
   "metadata": {},
   "source": [
    "# A First Plot\n",
    "\n",
    "With the Plots package you create a a simple plot like this\n",
    "\n",
    "1. Plot one curve by using the plot() command \n",
    "2. Add another curve to the figure by using the plot!() command. Notice the !\n",
    "3. Add more things by using the title!(), xlabel!() etc commands."
   ]
  },
  {
   "cell_type": "code",
   "execution_count": 18,
   "metadata": {},
   "outputs": [
    {
     "data": {
      "text/html": [
       "<?xml version=\"1.0\" encoding=\"utf-8\"?>\n",
       "<svg xmlns=\"http://www.w3.org/2000/svg\" xmlns:xlink=\"http://www.w3.org/1999/xlink\" width=\"600\" height=\"400\" viewBox=\"0 0 600 400\">\n",
       "<defs>\n",
       "  <clipPath id=\"clip00\">\n",
       "    <rect x=\"0\" y=\"0\" width=\"600\" height=\"400\"/>\n",
       "  </clipPath>\n",
       "</defs>\n",
       "<polygon clip-path=\"url(#clip00)\" points=\"\n",
       "0,400 600,400 600,0 0,0 \n",
       "  \" fill=\"#ffffff\" fill-opacity=\"1\"/>\n",
       "<defs>\n",
       "  <clipPath id=\"clip01\">\n",
       "    <rect x=\"120\" y=\"0\" width=\"421\" height=\"400\"/>\n",
       "  </clipPath>\n",
       "</defs>\n",
       "<polygon clip-path=\"url(#clip00)\" points=\"\n",
       "39.3701,368.504 592.126,368.504 592.126,7.87402 39.3701,7.87402 \n",
       "  \" fill=\"#ffffff\" fill-opacity=\"1\"/>\n",
       "<defs>\n",
       "  <clipPath id=\"clip02\">\n",
       "    <rect x=\"39\" y=\"7\" width=\"554\" height=\"362\"/>\n",
       "  </clipPath>\n",
       "</defs>\n",
       "<polyline clip-path=\"url(#clip02)\" style=\"stroke:#000000; stroke-width:1; stroke-opacity:0.5; fill:none\" stroke-dasharray=\"1, 2\" points=\"\n",
       "  100.995,363.094 100.995,13.2835 \n",
       "  \"/>\n",
       "<polyline clip-path=\"url(#clip02)\" style=\"stroke:#000000; stroke-width:1; stroke-opacity:0.5; fill:none\" stroke-dasharray=\"1, 2\" points=\"\n",
       "  224.245,363.094 224.245,13.2835 \n",
       "  \"/>\n",
       "<polyline clip-path=\"url(#clip02)\" style=\"stroke:#000000; stroke-width:1; stroke-opacity:0.5; fill:none\" stroke-dasharray=\"1, 2\" points=\"\n",
       "  347.494,363.094 347.494,13.2835 \n",
       "  \"/>\n",
       "<polyline clip-path=\"url(#clip02)\" style=\"stroke:#000000; stroke-width:1; stroke-opacity:0.5; fill:none\" stroke-dasharray=\"1, 2\" points=\"\n",
       "  470.744,363.094 470.744,13.2835 \n",
       "  \"/>\n",
       "<polyline clip-path=\"url(#clip02)\" style=\"stroke:#000000; stroke-width:1; stroke-opacity:0.5; fill:none\" stroke-dasharray=\"1, 2\" points=\"\n",
       "  47.6614,353.613 583.835,353.613 \n",
       "  \"/>\n",
       "<polyline clip-path=\"url(#clip02)\" style=\"stroke:#000000; stroke-width:1; stroke-opacity:0.5; fill:none\" stroke-dasharray=\"1, 2\" points=\"\n",
       "  47.6614,204.677 583.835,204.677 \n",
       "  \"/>\n",
       "<polyline clip-path=\"url(#clip02)\" style=\"stroke:#000000; stroke-width:1; stroke-opacity:0.5; fill:none\" stroke-dasharray=\"1, 2\" points=\"\n",
       "  47.6614,55.7413 583.835,55.7413 \n",
       "  \"/>\n",
       "<polyline clip-path=\"url(#clip00)\" style=\"stroke:#000000; stroke-width:1; stroke-opacity:1; fill:none\" points=\"\n",
       "  39.3701,368.504 592.126,368.504 \n",
       "  \"/>\n",
       "<polyline clip-path=\"url(#clip00)\" style=\"stroke:#000000; stroke-width:1; stroke-opacity:1; fill:none\" points=\"\n",
       "  100.995,368.504 100.995,363.094 \n",
       "  \"/>\n",
       "<polyline clip-path=\"url(#clip00)\" style=\"stroke:#000000; stroke-width:1; stroke-opacity:1; fill:none\" points=\"\n",
       "  224.245,368.504 224.245,363.094 \n",
       "  \"/>\n",
       "<polyline clip-path=\"url(#clip00)\" style=\"stroke:#000000; stroke-width:1; stroke-opacity:1; fill:none\" points=\"\n",
       "  347.494,368.504 347.494,363.094 \n",
       "  \"/>\n",
       "<polyline clip-path=\"url(#clip00)\" style=\"stroke:#000000; stroke-width:1; stroke-opacity:1; fill:none\" points=\"\n",
       "  470.744,368.504 470.744,363.094 \n",
       "  \"/>\n",
       "<polyline clip-path=\"url(#clip00)\" style=\"stroke:#000000; stroke-width:1; stroke-opacity:1; fill:none\" points=\"\n",
       "  39.3701,368.504 39.3701,7.87402 \n",
       "  \"/>\n",
       "<polyline clip-path=\"url(#clip00)\" style=\"stroke:#000000; stroke-width:1; stroke-opacity:1; fill:none\" points=\"\n",
       "  39.3701,353.613 47.6614,353.613 \n",
       "  \"/>\n",
       "<polyline clip-path=\"url(#clip00)\" style=\"stroke:#000000; stroke-width:1; stroke-opacity:1; fill:none\" points=\"\n",
       "  39.3701,204.677 47.6614,204.677 \n",
       "  \"/>\n",
       "<polyline clip-path=\"url(#clip00)\" style=\"stroke:#000000; stroke-width:1; stroke-opacity:1; fill:none\" points=\"\n",
       "  39.3701,55.7413 47.6614,55.7413 \n",
       "  \"/>\n",
       "<g clip-path=\"url(#clip00)\">\n",
       "<text style=\"fill:#000000; fill-opacity:1; font-family:Arial,Helvetica Neue,Helvetica,sans-serif; font-size:12; text-anchor:middle;\" transform=\"rotate(0, 100.995, 382.304)\" x=\"100.995\" y=\"382.304\">-2</text>\n",
       "</g>\n",
       "<g clip-path=\"url(#clip00)\">\n",
       "<text style=\"fill:#000000; fill-opacity:1; font-family:Arial,Helvetica Neue,Helvetica,sans-serif; font-size:12; text-anchor:middle;\" transform=\"rotate(0, 224.245, 382.304)\" x=\"224.245\" y=\"382.304\">0</text>\n",
       "</g>\n",
       "<g clip-path=\"url(#clip00)\">\n",
       "<text style=\"fill:#000000; fill-opacity:1; font-family:Arial,Helvetica Neue,Helvetica,sans-serif; font-size:12; text-anchor:middle;\" transform=\"rotate(0, 347.494, 382.304)\" x=\"347.494\" y=\"382.304\">2</text>\n",
       "</g>\n",
       "<g clip-path=\"url(#clip00)\">\n",
       "<text style=\"fill:#000000; fill-opacity:1; font-family:Arial,Helvetica Neue,Helvetica,sans-serif; font-size:12; text-anchor:middle;\" transform=\"rotate(0, 470.744, 382.304)\" x=\"470.744\" y=\"382.304\">4</text>\n",
       "</g>\n",
       "<g clip-path=\"url(#clip00)\">\n",
       "<text style=\"fill:#000000; fill-opacity:1; font-family:Arial,Helvetica Neue,Helvetica,sans-serif; font-size:12; text-anchor:end;\" transform=\"rotate(0, 33.3701, 358.113)\" x=\"33.3701\" y=\"358.113\">0</text>\n",
       "</g>\n",
       "<g clip-path=\"url(#clip00)\">\n",
       "<text style=\"fill:#000000; fill-opacity:1; font-family:Arial,Helvetica Neue,Helvetica,sans-serif; font-size:12; text-anchor:end;\" transform=\"rotate(0, 33.3701, 209.177)\" x=\"33.3701\" y=\"209.177\">10</text>\n",
       "</g>\n",
       "<g clip-path=\"url(#clip00)\">\n",
       "<text style=\"fill:#000000; fill-opacity:1; font-family:Arial,Helvetica Neue,Helvetica,sans-serif; font-size:12; text-anchor:end;\" transform=\"rotate(0, 33.3701, 60.2413)\" x=\"33.3701\" y=\"60.2413\">20</text>\n",
       "</g>\n",
       "<g clip-path=\"url(#clip00)\">\n",
       "<text style=\"fill:#000000; fill-opacity:1; font-family:Arial,Helvetica Neue,Helvetica,sans-serif; font-size:21; text-anchor:middle;\" transform=\"rotate(0, 315.748, 18)\" x=\"315.748\" y=\"18\">My Results</text>\n",
       "</g>\n",
       "<g clip-path=\"url(#clip00)\">\n",
       "<text style=\"fill:#000000; fill-opacity:1; font-family:Arial,Helvetica Neue,Helvetica,sans-serif; font-size:16; text-anchor:middle;\" transform=\"rotate(0, 315.748, 397.6)\" x=\"315.748\" y=\"397.6\">x</text>\n",
       "</g>\n",
       "<g clip-path=\"url(#clip00)\">\n",
       "<text style=\"fill:#000000; fill-opacity:1; font-family:Arial,Helvetica Neue,Helvetica,sans-serif; font-size:16; text-anchor:middle;\" transform=\"rotate(-90, 14.4, 188.189)\" x=\"14.4\" y=\"188.189\">my output value</text>\n",
       "</g>\n",
       "<polyline clip-path=\"url(#clip02)\" style=\"stroke:#ff0000; stroke-width:2; stroke-opacity:1; fill:none\" points=\"\n",
       "  39.3701,110.699 43.1049,118.046 46.8398,125.283 50.5746,132.411 54.3094,139.43 58.0443,146.339 61.7791,153.139 65.5139,159.83 69.2488,166.411 72.9836,172.883 \n",
       "  76.7185,179.245 80.4533,185.498 84.1881,191.641 87.923,197.675 91.6578,203.6 95.3926,209.415 99.1275,215.121 102.862,220.717 106.597,226.204 110.332,231.582 \n",
       "  114.067,236.85 117.802,242.009 121.536,247.058 125.271,251.998 129.006,256.828 132.741,261.549 136.476,266.161 140.211,270.663 143.946,275.056 147.68,279.34 \n",
       "  151.415,283.514 155.15,287.578 158.885,291.534 162.62,295.379 166.355,299.116 170.089,302.743 173.824,306.26 177.559,309.669 181.294,312.967 185.029,316.157 \n",
       "  188.764,319.237 192.498,322.207 196.233,325.068 199.968,327.82 203.703,330.462 207.438,332.995 211.173,335.418 214.907,337.733 218.642,339.937 222.377,342.032 \n",
       "  226.112,344.018 229.847,345.895 233.582,347.662 237.316,349.319 241.051,350.867 244.786,352.306 248.521,353.635 252.256,354.855 255.991,355.966 259.725,356.967 \n",
       "  263.46,357.859 267.195,358.641 270.93,359.314 274.665,359.877 278.4,360.331 282.134,360.676 285.869,360.911 289.604,361.037 293.339,361.054 297.074,360.961 \n",
       "  300.809,360.758 304.544,360.446 308.278,360.025 312.013,359.494 315.748,358.854 319.483,358.105 323.218,357.246 326.953,356.278 330.687,355.2 334.422,354.013 \n",
       "  338.157,352.716 341.892,351.31 345.627,349.795 349.362,348.17 353.096,346.436 356.831,344.593 360.566,342.64 364.301,340.577 368.036,338.405 371.771,336.124 \n",
       "  375.505,333.734 379.24,331.233 382.975,328.624 386.71,325.905 390.445,323.077 394.18,320.139 397.914,317.092 401.649,313.936 405.384,310.67 409.119,307.294 \n",
       "  412.854,303.81 416.589,300.215 420.323,296.512 424.058,292.699 427.793,288.776 431.528,284.745 435.263,280.603 438.998,276.353 442.732,271.993 446.467,267.523 \n",
       "  450.202,262.944 453.937,258.256 457.672,253.459 461.407,248.551 465.142,243.535 468.876,238.409 472.611,233.174 476.346,227.829 480.081,222.375 483.816,216.811 \n",
       "  487.551,211.138 491.285,205.356 495.02,199.464 498.755,193.463 502.49,187.352 506.225,181.132 509.96,174.803 513.694,168.364 517.429,161.816 521.164,155.158 \n",
       "  524.899,148.391 528.634,141.514 532.369,134.528 536.103,127.433 539.838,120.228 543.573,112.914 547.308,105.491 551.043,97.9578 554.778,90.3154 558.512,82.5636 \n",
       "  562.247,74.7024 565.982,66.7318 569.717,58.6518 573.452,50.4623 577.187,42.1635 580.921,33.7552 584.656,25.2376 588.391,16.6105 592.126,7.87402 \n",
       "  \"/>\n",
       "<polyline clip-path=\"url(#clip02)\" style=\"stroke:#0000ff; stroke-width:1; stroke-opacity:1; fill:none\" stroke-dasharray=\"8, 5\" points=\"\n",
       "  39.3701,368.358 43.1049,368.204 46.8398,367.996 50.5746,367.735 54.3094,367.422 58.0443,367.059 61.7791,366.646 65.5139,366.186 69.2488,365.679 72.9836,365.128 \n",
       "  76.7185,364.535 80.4533,363.901 84.1881,363.23 87.923,362.524 91.6578,361.784 95.3926,361.015 99.1275,360.219 102.862,359.398 106.597,358.556 110.332,357.696 \n",
       "  114.067,356.821 117.802,355.934 121.536,355.039 125.271,354.139 129.006,353.236 132.741,352.335 136.476,351.439 140.211,350.55 143.946,349.673 147.68,348.81 \n",
       "  151.415,347.965 155.15,347.141 158.885,346.34 162.62,345.566 166.355,344.822 170.089,344.11 173.824,343.433 177.559,342.793 181.294,342.193 185.029,341.635 \n",
       "  188.764,341.121 192.498,340.653 196.233,340.232 199.968,339.861 203.703,339.54 207.438,339.27 211.173,339.054 214.907,338.89 218.642,338.781 222.377,338.727 \n",
       "  226.112,338.727 229.847,338.781 233.582,338.89 237.316,339.054 241.051,339.27 244.786,339.54 248.521,339.861 252.256,340.232 255.991,340.653 259.725,341.121 \n",
       "  263.46,341.635 267.195,342.193 270.93,342.793 274.665,343.433 278.4,344.11 282.134,344.822 285.869,345.566 289.604,346.34 293.339,347.141 297.074,347.965 \n",
       "  300.809,348.81 304.544,349.673 308.278,350.55 312.013,351.439 315.748,352.335 319.483,353.236 323.218,354.139 326.953,355.039 330.687,355.934 334.422,356.821 \n",
       "  338.157,357.696 341.892,358.556 345.627,359.398 349.362,360.219 353.096,361.015 356.831,361.784 360.566,362.524 364.301,363.23 368.036,363.901 371.771,364.535 \n",
       "  375.505,365.128 379.24,365.679 382.975,366.186 386.71,366.646 390.445,367.059 394.18,367.422 397.914,367.735 401.649,367.996 405.384,368.204 409.119,368.358 \n",
       "  412.854,368.458 416.589,368.504 420.323,368.495 424.058,368.431 427.793,368.313 431.528,368.141 435.263,367.916 438.998,367.638 442.732,367.309 446.467,366.929 \n",
       "  450.202,366.501 453.937,366.025 457.672,365.503 461.407,364.938 465.142,364.332 468.876,363.686 472.611,363.003 476.346,362.285 480.081,361.536 483.816,360.757 \n",
       "  487.551,359.953 491.285,359.125 495.02,358.277 498.755,357.411 502.49,356.532 506.225,355.642 509.96,354.745 513.694,353.843 517.429,352.941 521.164,352.041 \n",
       "  524.899,351.147 528.634,350.261 532.369,349.389 536.103,348.531 539.838,347.693 543.573,346.876 547.308,346.084 551.043,345.319 554.778,344.585 558.512,343.884 \n",
       "  562.247,343.219 565.982,342.592 569.717,342.006 573.452,341.462 577.187,340.963 580.921,340.51 584.656,340.105 588.391,339.75 592.126,339.446 \n",
       "  \"/>\n",
       "<polygon clip-path=\"url(#clip00)\" points=\"\n",
       "489.759,74.114 574.126,74.114 574.126,28.754 489.759,28.754 \n",
       "  \" fill=\"#ffffff\" fill-opacity=\"1\"/>\n",
       "<polyline clip-path=\"url(#clip00)\" style=\"stroke:#000000; stroke-width:1; stroke-opacity:1; fill:none\" points=\"\n",
       "  489.759,74.114 574.126,74.114 574.126,28.754 489.759,28.754 489.759,74.114 \n",
       "  \"/>\n",
       "<polyline clip-path=\"url(#clip00)\" style=\"stroke:#ff0000; stroke-width:2; stroke-opacity:1; fill:none\" points=\"\n",
       "  495.759,43.874 531.759,43.874 \n",
       "  \"/>\n",
       "<g clip-path=\"url(#clip00)\">\n",
       "<text style=\"fill:#000000; fill-opacity:1; font-family:Arial,Helvetica Neue,Helvetica,sans-serif; font-size:12; text-anchor:start;\" transform=\"rotate(0, 537.759, 48.374)\" x=\"537.759\" y=\"48.374\">fn1()</text>\n",
       "</g>\n",
       "<polyline clip-path=\"url(#clip00)\" style=\"stroke:#0000ff; stroke-width:1; stroke-opacity:1; fill:none\" stroke-dasharray=\"8, 5\" points=\"\n",
       "  495.759,58.994 531.759,58.994 \n",
       "  \"/>\n",
       "<g clip-path=\"url(#clip00)\">\n",
       "<text style=\"fill:#000000; fill-opacity:1; font-family:Arial,Helvetica Neue,Helvetica,sans-serif; font-size:12; text-anchor:start;\" transform=\"rotate(0, 537.759, 63.494)\" x=\"537.759\" y=\"63.494\">cos</text>\n",
       "</g>\n",
       "</svg>\n"
      ]
     },
     "execution_count": 18,
     "metadata": {},
     "output_type": "execute_result"
    }
   ],
   "source": [
    "x = collect(-3:6/99:6) \n",
    "\n",
    "plot(x,fn1.(x),color=:red,linewidth=2,label=\"fn1()\")\n",
    "plot!(x,cos.(x),color=:blue,line=(:dash),label=\"cos\")\n",
    "title!(\"My Results\")\n",
    "xlabel!(\"x\")\n",
    "ylabel!(\"my output value\")"
   ]
  },
  {
   "cell_type": "code",
   "execution_count": 19,
   "metadata": {},
   "outputs": [
    {
     "name": "stdout",
     "output_type": "stream",
     "text": [
      "end of program\n"
     ]
    }
   ],
   "source": [
    "println(\"end of program\")"
   ]
  },
  {
   "cell_type": "code",
   "execution_count": null,
   "metadata": {
    "collapsed": true
   },
   "outputs": [],
   "source": []
  }
 ],
 "metadata": {
  "anaconda-cloud": {},
  "kernelspec": {
   "display_name": "Julia 0.6.0",
   "language": "julia",
   "name": "julia-0.6"
  },
  "language_info": {
   "file_extension": ".jl",
   "mimetype": "application/julia",
   "name": "julia",
   "version": "0.6.0"
  }
 },
 "nbformat": 4,
 "nbformat_minor": 1
}
