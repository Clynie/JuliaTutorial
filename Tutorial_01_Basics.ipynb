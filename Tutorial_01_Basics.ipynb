{
 "cells": [
  {
   "cell_type": "markdown",
   "metadata": {
    "collapsed": true
   },
   "source": [
    "# Basic Julia Tutorial"
   ]
  },
  {
   "cell_type": "markdown",
   "metadata": {},
   "source": [
    "# Running/Installing Julia\n",
    "\n",
    "1. To run Julia without a local installation, use JuliaBox.com. It works well with Firefox and Chrome.\n",
    "2. To install Julia on your machine, download from https://julialang.org/downloads/. You may also want to use the Atom editor with the Juno IDE (see http://junolab.org/). To run IJulia from your local installation, see https://github.com/JuliaLang/IJulia.jl for instructions.\n",
    "3. Instead of downloading and installing Julia yourself, you may want to try JuliaPro (see https://juliacomputing.com/products/juliapro.html.)"
   ]
  },
  {
   "cell_type": "markdown",
   "metadata": {},
   "source": [
    "# Documentation and Help\n",
    "\n",
    "1.  Cheat sheet at https://cheatsheets.quantecon.org/julia-cheatsheet.html\n",
    "2.  Wiki book at https://en.wikibooks.org/wiki/Introducing_Julia\n",
    "3.  The on-line manual is found at https://docs.julialang.org/en/stable/\n",
    "4.  Discussion lists are found at\n",
    "    *  https://discourse.julialang.org/\n",
    "    *  https://stackoverflow.com/questions/tagged/julia-lang\n",
    "    *  https://www.reddit.com/r/Julia/\n",
    "    *  https://gitter.im/JuliaLang/julia\n",
    "5. In Julia, do ```? cos``` to get help with the cos function    "
   ]
  },
  {
   "cell_type": "markdown",
   "metadata": {},
   "source": [
    "# Getting This File to JuliaBox\n",
    "\n",
    "Download this entire repository (\"Clone or download\") to your machine and then upload to JuliaBox (see menu--files in JuliaBox)."
   ]
  },
  {
   "cell_type": "markdown",
   "metadata": {},
   "source": [
    "# About Notebooks\n",
    "\n",
    "This cell is a \"Markdown\" cell. This is meant for comments and documentation, not computations.\n",
    "\n",
    "You can change a cell to \"Code\" or \"Markdown\" in the menu.\n",
    "\n",
    "If you know LaTeX, then Markdown cells can handle it. An example: $\\alpha = \\beta/2$. A Markdown cell can also contain some formatting, like lists of this kind\n",
    "\n",
    "1. To insert a new cell, use the menu. \n",
    "\n",
    "2. The next cell is \"Code\". You can run it. Text after a # sign is treated as a comment.\n",
    "\n",
    "3. The subsequent cell shows how to get help on a command."
   ]
  },
  {
   "cell_type": "code",
   "execution_count": 1,
   "metadata": {},
   "outputs": [],
   "source": [
    "a = 2                  #this is a comment\n",
    "                       #run this cell by using the menu, or by Shift+Enter  "
   ]
  },
  {
   "cell_type": "code",
   "execution_count": 2,
   "metadata": {},
   "outputs": [
    {
     "name": "stdout",
     "output_type": "stream",
     "text": [
      "search: \u001b[0m\u001b[1mc\u001b[22m\u001b[0m\u001b[1mo\u001b[22m\u001b[0m\u001b[1ms\u001b[22m \u001b[0m\u001b[1mc\u001b[22m\u001b[0m\u001b[1mo\u001b[22m\u001b[0m\u001b[1ms\u001b[22mh \u001b[0m\u001b[1mc\u001b[22m\u001b[0m\u001b[1mo\u001b[22m\u001b[0m\u001b[1ms\u001b[22md \u001b[0m\u001b[1mc\u001b[22m\u001b[0m\u001b[1mo\u001b[22m\u001b[0m\u001b[1ms\u001b[22mc \u001b[0m\u001b[1mc\u001b[22m\u001b[0m\u001b[1mo\u001b[22m\u001b[0m\u001b[1ms\u001b[22mpi a\u001b[0m\u001b[1mc\u001b[22m\u001b[0m\u001b[1mo\u001b[22m\u001b[0m\u001b[1ms\u001b[22m a\u001b[0m\u001b[1mc\u001b[22m\u001b[0m\u001b[1mo\u001b[22m\u001b[0m\u001b[1ms\u001b[22mh a\u001b[0m\u001b[1mc\u001b[22m\u001b[0m\u001b[1mo\u001b[22m\u001b[0m\u001b[1ms\u001b[22md sin\u001b[0m\u001b[1mc\u001b[22m\u001b[0m\u001b[1mo\u001b[22m\u001b[0m\u001b[1ms\u001b[22m \u001b[0m\u001b[1mc\u001b[22m\u001b[0m\u001b[1mo\u001b[22mn\u001b[0m\u001b[1ms\u001b[22mt \u001b[0m\u001b[1mc\u001b[22ml\u001b[0m\u001b[1mo\u001b[22m\u001b[0m\u001b[1ms\u001b[22me is\u001b[0m\u001b[1mc\u001b[22m\u001b[0m\u001b[1mo\u001b[22mn\u001b[0m\u001b[1ms\u001b[22mt\n",
      "\n"
     ]
    },
    {
     "data": {
      "text/markdown": [
       "```\n",
       "cos(x)\n",
       "```\n",
       "\n",
       "Compute cosine of `x`, where `x` is in radians.\n",
       "\n",
       "---\n",
       "\n",
       "```\n",
       "cos(A::AbstractMatrix)\n",
       "```\n",
       "\n",
       "Compute the matrix cosine of a square matrix `A`.\n",
       "\n",
       "If `A` is symmetric or Hermitian, its eigendecomposition ([`eigen`](@ref)) is used to compute the cosine. Otherwise, the cosine is determined by calling [`exp`](@ref).\n",
       "\n",
       "# Examples\n",
       "\n",
       "```jldoctest\n",
       "julia> cos(fill(1.0, (2,2)))\n",
       "2×2 Array{Float64,2}:\n",
       "  0.291927  -0.708073\n",
       " -0.708073   0.291927\n",
       "```\n"
      ],
      "text/plain": [
       "\u001b[36m  cos(x)\u001b[39m\n",
       "\n",
       "  Compute cosine of \u001b[36mx\u001b[39m, where \u001b[36mx\u001b[39m is in radians.\n",
       "\n",
       "  ────────────────────────────────────────────────────────────────────────────\n",
       "\n",
       "\u001b[36m  cos(A::AbstractMatrix)\u001b[39m\n",
       "\n",
       "  Compute the matrix cosine of a square matrix \u001b[36mA\u001b[39m.\n",
       "\n",
       "  If \u001b[36mA\u001b[39m is symmetric or Hermitian, its eigendecomposition (\u001b[36meigen\u001b[39m) is used to\n",
       "  compute the cosine. Otherwise, the cosine is determined by calling \u001b[36mexp\u001b[39m.\n",
       "\n",
       "\u001b[1m  Examples\u001b[22m\n",
       "\u001b[1m  ≡≡≡≡≡≡≡≡≡≡\u001b[22m\n",
       "\n",
       "\u001b[36m  julia> cos(fill(1.0, (2,2)))\u001b[39m\n",
       "\u001b[36m  2×2 Array{Float64,2}:\u001b[39m\n",
       "\u001b[36m    0.291927  -0.708073\u001b[39m\n",
       "\u001b[36m   -0.708073   0.291927\u001b[39m"
      ]
     },
     "execution_count": 2,
     "metadata": {},
     "output_type": "execute_result"
    }
   ],
   "source": [
    "? cos                  #to get help on the cos() function "
   ]
  },
  {
   "cell_type": "markdown",
   "metadata": {},
   "source": [
    "# Load Packages\n",
    "\n",
    "There are many packages for Julia, for instance, for plotting or statistical methods (see http://pkg.julialang.org/ for a list). To install a package, you enter the \"package manager mode\" by typing `]` in the Julia console (REPL). Now, you can check which packages you already have installed by `st` followed by Enter. To add a package do `add PackageName` and to update all your packages do `up`. You leave the package manager model by ctrl-c or ESC.\n",
    "\n",
    "Once a package is installed (the most common ones are already installed on JuliaBox), you can use it by running\n",
    "\n",
    "```\n",
    "using PackageName\n",
    "```"
   ]
  },
  {
   "cell_type": "code",
   "execution_count": 3,
   "metadata": {},
   "outputs": [
    {
     "data": {
      "text/plain": [
       "printlnPs (generic function with 2 methods)"
      ]
     },
     "execution_count": 3,
     "metadata": {},
     "output_type": "execute_result"
    }
   ],
   "source": [
    "using Dates                  \n",
    "\n",
    "include(\"printmat.jl\")      #just a function for prettier matrix printing"
   ]
  },
  {
   "cell_type": "code",
   "execution_count": 5,
   "metadata": {},
   "outputs": [],
   "source": [
    "using Plots                 #this loads the Plots package\n",
    "\n",
    "backend = \"gr\"              #choice of plotting backend, \"gr\" (default), \"pyplot\" \n",
    "\n",
    "if backend == \"pyplot\"      #some configurations, do not bother with the details now\n",
    "    pyplot(size=(600,400))  #default size of plots\n",
    "else    \n",
    "    gr(size=(480,320))\n",
    "    default(fmt = :svg)\n",
    "end"
   ]
  },
  {
   "cell_type": "markdown",
   "metadata": {},
   "source": [
    "# Scalars and Matrices\n",
    "\n"
   ]
  },
  {
   "cell_type": "markdown",
   "metadata": {},
   "source": [
    "### Create a Scalar and a Matrix"
   ]
  },
  {
   "cell_type": "code",
   "execution_count": 6,
   "metadata": {},
   "outputs": [
    {
     "name": "stdout",
     "output_type": "stream",
     "text": [
      "q is a scalar. To print, use println() or printlnPs()\n",
      "1\n",
      "\n",
      "Q is a matrix. To print, use display() or printmat()\n",
      "         1         2         3\n",
      "         4         5         6\n",
      "\n"
     ]
    }
   ],
   "source": [
    "q = 1                             #create a scalar\n",
    "Q = [ 1 2 3;                      #create 2x3 matrix\n",
    "      4 5 6 ] \n",
    "println(\"q is a scalar. To print, use println() or printlnPs()\")    \n",
    "println(q)\n",
    "\n",
    "println(\"\\nQ is a matrix. To print, use display() or printmat()\") \n",
    "printmat(Q)                       #case sensitive (q and Q are different)\n",
    "                                  #the \\n adds a line break   "
   ]
  },
  {
   "cell_type": "markdown",
   "metadata": {},
   "source": [
    "### Picking Out Parts of a Matrix"
   ]
  },
  {
   "cell_type": "code",
   "execution_count": 7,
   "metadata": {},
   "outputs": [
    {
     "name": "stdout",
     "output_type": "stream",
     "text": [
      "\n",
      "element [1,2] of Q: 2\n",
      "\n",
      "columns 2 and 3 of Q: \n",
      "         2         3\n",
      "         5         6\n",
      "\n",
      "\n",
      "line 1 of Q (as a vector): \n",
      "         1\n",
      "         2\n",
      "         3\n",
      "\n"
     ]
    }
   ],
   "source": [
    "println(\"\\n\",\"element [1,2] of Q: \",            #commands continue on\n",
    "        Q[1,2])                                 #the next line (until fisnished)\n",
    "\n",
    "println(\"\\ncolumns 2 and 3 of Q: \")\n",
    "printmat(Q[:,2:3])\n",
    "\n",
    "println(\"\\nline 1 of Q (as a vector): \")\n",
    "printmat(Q[1,:])"
   ]
  },
  {
   "cell_type": "markdown",
   "metadata": {},
   "source": [
    "### Basic Linear Algebra\n",
    "\n",
    "The syntax for linear algebra is similar to the standard text book approach. For instance, \n",
    "* `Q'Q` multiplies the transpose ($Q'$) with the matrix ($Q$)\n",
    "* `A*B` does matrix multiplication\n",
    "* `100*Q` multiplies each element of the matrix ($Q$) by 100\n",
    "\n",
    "However, to add a scalar to each element of a matrix, use `100 .+ Q`. Notice the dot."
   ]
  },
  {
   "cell_type": "code",
   "execution_count": 8,
   "metadata": {},
   "outputs": [
    {
     "name": "stdout",
     "output_type": "stream",
     "text": [
      "transpose of Q:\n",
      "         1         4\n",
      "         2         5\n",
      "         3         6\n",
      "\n",
      "Q'Q:\n",
      "        17        22        27\n",
      "        22        29        36\n",
      "        27        36        45\n",
      "\n",
      "scalar * matrix:\n",
      "       100       200       300\n",
      "       400       500       600\n",
      "\n",
      "scalar .+ matrix:\n",
      "       101       102       103\n",
      "       104       105       106\n",
      "\n"
     ]
    }
   ],
   "source": [
    "println(\"transpose of Q:\")\n",
    "printmat(Q')\n",
    "\n",
    "println(\"Q'Q:\")\n",
    "printmat(Q'Q)\n",
    "\n",
    "println(\"scalar * matrix:\")\n",
    "printmat(100*Q)\n",
    "\n",
    "println(\"scalar .+ matrix:\")                        #notice the dot\n",
    "printmat(100 .+ Q)"
   ]
  },
  {
   "cell_type": "markdown",
   "metadata": {},
   "source": [
    "### Creating a Sequence and a Vector"
   ]
  },
  {
   "cell_type": "code",
   "execution_count": 9,
   "metadata": {},
   "outputs": [
    {
     "name": "stdout",
     "output_type": "stream",
     "text": [
      "\n",
      "θ is a sequence: 1:10:21\n",
      "\n",
      "ρ is a vector: \n",
      "         1\n",
      "        11\n",
      "        21\n",
      "\n"
     ]
    }
   ],
   "source": [
    "θ = 1:10:21                  #a sequence, type \\theta + TAB to get this symbol        \n",
    "println(\"\\n\",\"θ is a sequence: \",θ)\n",
    "\n",
    "ρ = collect(θ)               #make the sequence into a vector, \\rho+TAB\n",
    "println(\"\\n\",\"ρ is a vector: \")\n",
    "printmat(ρ)"
   ]
  },
  {
   "cell_type": "markdown",
   "metadata": {},
   "source": [
    "# Types: Integers, Floats, Bools and Others\n",
    "\n",
    "Julia has many different types of variables: signed integers (like 2 or -5), floating point numbers (2.0 and -5.1), bools (false/true), bitarrays (similar to bools, but with more efficient use of memory), strings (\"hello\"), Dates (2017-04-23) and many more types."
   ]
  },
  {
   "cell_type": "markdown",
   "metadata": {},
   "source": [
    "## Integers and Floats"
   ]
  },
  {
   "cell_type": "code",
   "execution_count": 10,
   "metadata": {},
   "outputs": [
    {
     "name": "stdout",
     "output_type": "stream",
     "text": [
      "Finding the type of a, b, A and B:\n",
      "Int64 Float64 Array{Int64,1} Array{Float64,1}\n"
     ]
    }
   ],
   "source": [
    "a = 2                   #integer, Int (Int64 on most machines)\n",
    "b = 2.0                 #floating point, (Float64 on most machines)\n",
    "A = [1,2]\n",
    "B = [1.0,2.0]\n",
    "\n",
    "println(\"Finding the type of a, b, A and B:\")\n",
    "println(typeof(a),\" \",typeof(b),\" \",typeof(A),\" \",typeof(B))"
   ]
  },
  {
   "cell_type": "markdown",
   "metadata": {},
   "source": [
    "## Bools and BitArrays\n",
    "\n",
    "Bools are \"true\" or \"false\". BitArrays are (more memory efficient) versions of this."
   ]
  },
  {
   "cell_type": "code",
   "execution_count": 11,
   "metadata": {},
   "outputs": [
    {
     "name": "stdout",
     "output_type": "stream",
     "text": [
      "Finding the type of c and C:\n",
      "Bool BitArray{1}\n"
     ]
    }
   ],
   "source": [
    "c = 2 > 1.1\n",
    "C = A .> 1.5        #A is an array, so C is too\n",
    "\n",
    "println(\"Finding the type of c and C:\")\n",
    "println(typeof(c),\" \",typeof(C))"
   ]
  },
  {
   "cell_type": "markdown",
   "metadata": {},
   "source": [
    "## Calculations with Mixed Types\n",
    "\n",
    "A calculation like \"integer\" + \"float\" works and the type of the result will be a float (the more flexible type). Similarly, \"bool\" + \"integer\" will give an integer. These promotion rules make it easy to have mixed types in calculations, and also provide a simple way of converting a variable from one type to another. (There are also an explicit convert() function that might be quicker.)"
   ]
  },
  {
   "cell_type": "code",
   "execution_count": 12,
   "metadata": {},
   "outputs": [
    {
     "name": "stdout",
     "output_type": "stream",
     "text": [
      "3.0\n",
      "3\n"
     ]
    }
   ],
   "source": [
    "println(1+2.0)                #integer + Float\n",
    "println((1>0) + 2)            #bool + integer"
   ]
  },
  {
   "cell_type": "markdown",
   "metadata": {},
   "source": [
    "## Arrays of Arrays (or other types)\n",
    "\n",
    "You can store very different things (a mixture of numbers, matrices, strings) in an array. For instance, if `x1` is a vector and `x2` is a string, then `[x1,x2]` puts them into a vector."
   ]
  },
  {
   "cell_type": "code",
   "execution_count": 13,
   "metadata": {},
   "outputs": [
    {
     "name": "stdout",
     "output_type": "stream",
     "text": [
      "x[2] is: And Ezra Pound and T.S. Eliot fighting in the captain's tower...\n"
     ]
    }
   ],
   "source": [
    "x1 = 1:10\n",
    "x2 = \"And Ezra Pound and T.S. Eliot fighting in the captain's tower...\"\n",
    "x3 = rand(4,3)\n",
    "x  = [x1,x2,x3]\n",
    "\n",
    "println(\"x[2] is: \",x[2])"
   ]
  },
  {
   "cell_type": "markdown",
   "metadata": {},
   "source": [
    "# Comparing Things\n",
    "\n",
    "To see if the scalar z <= 0, do \n",
    "```\n",
    "vv = z <= 0\n",
    "```\n",
    "to get a single output (true or false)\n",
    "\n",
    "Instead, if x is an array, do \n",
    "```\n",
    "vv = x .<= 0                      #notice the dot.\n",
    "```\n",
    "to get an array of outputs (same dimension as x)"
   ]
  },
  {
   "cell_type": "code",
   "execution_count": 14,
   "metadata": {},
   "outputs": [
    {
     "name": "stdout",
     "output_type": "stream",
     "text": [
      "x values: \n",
      "    -1.500\n",
      "    -1.000\n",
      "    -0.500\n",
      "     0.000\n",
      "     0.500\n",
      "\n",
      "true if x is in (-1,0]: \n",
      "     false\n",
      "     false\n",
      "      true\n",
      "      true\n",
      "     false\n",
      "\n",
      "x values that are in (-1,0]: \n",
      "    -0.500\n",
      "     0.000\n",
      "\n"
     ]
    }
   ],
   "source": [
    "x =  [-1.5,-1.0,-0.5,0,0.5]             #this is a vector\n",
    "\n",
    "println(\"x values: \")\n",
    "printmat(x)\n",
    "\n",
    "vv = -1 .< x .<= 0                      #true for x values (-1,0], vv is a vector\n",
    "println(\"true if x is in (-1,0]: \")\n",
    "printmat(vv)\n",
    "\n",
    "x2 = x[vv]                              #x values for which vv==true\n",
    "println(\"x values that are in (-1,0]: \")\n",
    "printmat(x2)"
   ]
  },
  {
   "cell_type": "markdown",
   "metadata": {},
   "source": [
    "# If-then-else\n",
    "\n",
    "allows you to run different commands depending on a condition which you specify."
   ]
  },
  {
   "cell_type": "code",
   "execution_count": 15,
   "metadata": {},
   "outputs": [
    {
     "name": "stdout",
     "output_type": "stream",
     "text": [
      "1.05\n"
     ]
    }
   ],
   "source": [
    "z = 1.05\n",
    "\n",
    "if 1 <= z <= 2          #(a) if true, run the next command (y=z) and then jump to end\n",
    "    y = z\n",
    "elseif z < 1            #(b) if (a) is false, try this instead  \n",
    "    y = 1\n",
    "else                    #(c) if also (b) is false, do this\n",
    "    y = 2\n",
    "end    \n",
    "\n",
    "println(y)"
   ]
  },
  {
   "cell_type": "markdown",
   "metadata": {},
   "source": [
    "# Loops\n",
    "\n",
    "The are two types of loops: \"for loops\" and \"while loops\". \n",
    "\n",
    "The *for loop* is best when you know how many times you want to loop (for instance, over all $m$ rows in a matrix). \n",
    "\n",
    "The *while loop* is best when you want to keep looping until something happens, for instance, that $x_0$ and $x_1$ get really close.\n",
    "\n",
    "If you want the loop to assign values to a variable `x` defined before the loop, add `global x` somewhere inside the loop. (This is not needed if you only assign values to some elements of an existing array.) In contrast, to make sure that the `x` calculated inside the loop does not affect `x` outside the loop, add `local x`."
   ]
  },
  {
   "cell_type": "markdown",
   "metadata": {},
   "source": [
    "### A Simple \"for loop\"\n",
    "\n",
    "The \"for loop\" in the next cell makes 3 iterations and changes a global $x$ variable."
   ]
  },
  {
   "cell_type": "code",
   "execution_count": 16,
   "metadata": {},
   "outputs": [
    {
     "name": "stdout",
     "output_type": "stream",
     "text": [
      "i=3 and x=3\n",
      "i=6 and x=9\n",
      "i=9 and x=18\n"
     ]
    }
   ],
   "source": [
    "x = 0\n",
    "for i = 3:3:9                         #first i=3, then i=6, and last i=9\n",
    "    global x                          #to change the x outside loop\n",
    "    x = x + i                         #adding i to the \"old\" x\n",
    "    println(\"i=$i and x=$x\")          #$x prints the value of x\n",
    "end"
   ]
  },
  {
   "cell_type": "markdown",
   "metadata": {},
   "source": [
    "### A Double \"for loop\"\n",
    "\n",
    "An example of a nested for for loop\n",
    "\n",
    "```\n",
    "for j = 1:n, i = 1:m         \n",
    "    #do something\n",
    "end\n",
    "```\n",
    "\n",
    "If you prefer, could also write a longer version to do the same thing\n",
    "```\n",
    "for j = 1:n \n",
    "    for i = 1:m         \n",
    "        #do something\n",
    "    end    \n",
    "end\n",
    "```\n",
    "\n",
    "The next cell uses a double loop to fill a matrix. "
   ]
  },
  {
   "cell_type": "code",
   "execution_count": 17,
   "metadata": {},
   "outputs": [
    {
     "name": "stdout",
     "output_type": "stream",
     "text": [
      "new x matrix: \n",
      "\n",
      "        11        12        13\n",
      "        21        22        23\n",
      "        31        32        33\n",
      "        41        42        43\n",
      "\n"
     ]
    }
   ],
   "source": [
    "(m,n) = (4,3)                     #same as m=4;n=3\n",
    "x = fill(-999,(m,n))              #to put results in, initialized as -999\n",
    "for i = 1:m, j = 1:n\n",
    "    x[i,j] = 10*i + j\n",
    "end\n",
    "\n",
    "println(\"new x matrix: \\n\") \n",
    "printmat(x)"
   ]
  },
  {
   "cell_type": "markdown",
   "metadata": {},
   "source": [
    "## A Simple \"while loop\"\n",
    "\n",
    "The \"while loop\" in the next cell iterates until two variables ($x_0$ and $x_1$) get close.\n",
    "\n",
    "(The background to the example is that we want to solve a function $f(x)=x^2$ for the $x$ value that makes $f(x)=2$. The Newton-Raphson algorithm is to start with a value $x_0$ and update it to\n",
    "$\n",
    "x_1 = x_0 + (2-f(x_0))/f'(x_0)\n",
    "$\n",
    "where $f'(x_0)$ is the derivative of $f()$ evaluated at $x_0$. The algorithm iterates until $x_0$ and $x_1$ are close. Clearly, we are trying to find the square root of 2.)"
   ]
  },
  {
   "cell_type": "code",
   "execution_count": 18,
   "metadata": {},
   "outputs": [
    {
     "name": "stdout",
     "output_type": "stream",
     "text": [
      "\n",
      "Solving x^2 = 2 with Newton-Raphson:\n",
      "\n",
      "        10 is changed to      5.100\n",
      "     5.100 is changed to      2.746\n",
      "     2.746 is changed to      1.737\n",
      "     1.737 is changed to      1.444\n",
      "     1.444 is changed to      1.415\n",
      "     1.415 is changed to      1.414\n",
      "\n",
      "The result should be close to      1.414\n"
     ]
    }
   ],
   "source": [
    "println(\"\\nSolving x^2 = 2 with Newton-Raphson:\\n\")\n",
    "\n",
    "x₀ = Inf         #x\\_0 + TAB    \n",
    "x₁ = 10                           \n",
    "\n",
    "while abs(x₁-x₀) > 0.001            #keep going until they get similar\n",
    "    global x₀, x₁\n",
    "    local y, dy                    #to make sure we don't overwrite any y,dy outside loop\n",
    "    x₀ = x₁                         #initial guess is taken from old guess\n",
    "    y  = x₀^2                       #value of function\n",
    "    dy = 2*x₀                       #derivative of function\n",
    "    x₁ = x₀ + (2 - y)/dy            #updating the guess, Newton-Raphson\n",
    "    printlnPs(x₀,\" is changed to \",x₁)\n",
    "end\n",
    "\n",
    "printlnPs(\"\\nThe result should be close to \",sqrt(2))"
   ]
  },
  {
   "cell_type": "markdown",
   "metadata": {},
   "source": [
    "# A Simple Function\n",
    "\n",
    "The next cell defines a new function, `fn1()`. It is meant to take a scalar input (`x`) and return a scalar output (`y`).\n",
    "\n",
    "If you instead use a vector as the input, then the computation fails. (The reason is that you cannot do x^2 on a vector. You could on a square matrix, though.)\n",
    "\n",
    "However, using the \"dot\" syntax\n",
    "```\n",
    "y = fn1.(x)\n",
    "```\n",
    "gives an array as output where element `y[i,j] = fn1(x[i,j])`."
   ]
  },
  {
   "cell_type": "code",
   "execution_count": 19,
   "metadata": {},
   "outputs": [
    {
     "data": {
      "text/plain": [
       "fn1 (generic function with 1 method)"
      ]
     },
     "execution_count": 19,
     "metadata": {},
     "output_type": "execute_result"
    }
   ],
   "source": [
    "function fn1(x)               #define a new function \n",
    "  y = (x-1.1)^2 - 0.5                \n",
    "  return y\n",
    "end  "
   ]
  },
  {
   "cell_type": "code",
   "execution_count": 20,
   "metadata": {},
   "outputs": [
    {
     "name": "stdout",
     "output_type": "stream",
     "text": [
      "result from fn1(1.5):     -0.340\n",
      "\n",
      "result from fn1.(x): \n",
      "    -0.490\n",
      "    -0.340\n",
      "\n"
     ]
    }
   ],
   "source": [
    "y = fn1(1.5)\n",
    "printlnPs(\"result from fn1(1.5): \",y)\n",
    "\n",
    "x = [1;1.5] \n",
    "#y = fn1(x)                   #would give an error \n",
    "y = fn1.(x)                   #calling on the function, dot. to do for each element in x\n",
    "printlnPs(\"\\nresult from fn1.(x): \")\n",
    "printmat(y)"
   ]
  },
  {
   "cell_type": "markdown",
   "metadata": {},
   "source": [
    "# A First Plot\n",
    "\n",
    "With the Plots package you create a a simple plot like this:\n",
    "\n",
    "1. Plot one curve by using the `plot()` command \n",
    "2. Add another curve to the figure by using the `plot!()` command. Notice the !\n",
    "3. Add more things by using the `title!()`, `xlabel!()` etc commands."
   ]
  },
  {
   "cell_type": "code",
   "execution_count": 21,
   "metadata": {},
   "outputs": [
    {
     "data": {
      "image/svg+xml": [
       "<?xml version=\"1.0\" encoding=\"utf-8\"?>\n",
       "<svg xmlns=\"http://www.w3.org/2000/svg\" xmlns:xlink=\"http://www.w3.org/1999/xlink\" width=\"480\" height=\"320\" viewBox=\"0 0 480 320\">\n",
       "<defs>\n",
       "  <clipPath id=\"clip6500\">\n",
       "    <rect x=\"0\" y=\"0\" width=\"480\" height=\"320\"/>\n",
       "  </clipPath>\n",
       "</defs>\n",
       "<polygon clip-path=\"url(#clip6500)\" points=\"\n",
       "0,320 480,320 480,0 0,0 \n",
       "  \" fill=\"#ffffff\" fill-opacity=\"1\"/>\n",
       "<defs>\n",
       "  <clipPath id=\"clip6501\">\n",
       "    <rect x=\"96\" y=\"0\" width=\"337\" height=\"320\"/>\n",
       "  </clipPath>\n",
       "</defs>\n",
       "<polygon clip-path=\"url(#clip6500)\" points=\"\n",
       "52.7512,280.121 460.315,280.121 460.315,31.4961 52.7512,31.4961 \n",
       "  \" fill=\"#ffffff\" fill-opacity=\"1\"/>\n",
       "<defs>\n",
       "  <clipPath id=\"clip6502\">\n",
       "    <rect x=\"52\" y=\"31\" width=\"409\" height=\"250\"/>\n",
       "  </clipPath>\n",
       "</defs>\n",
       "<polyline clip-path=\"url(#clip6502)\" style=\"stroke:#000000; stroke-width:0.5; stroke-opacity:0.1; fill:none\" points=\"\n",
       "  107.152,280.121 107.152,31.4961 \n",
       "  \"/>\n",
       "<polyline clip-path=\"url(#clip6502)\" style=\"stroke:#000000; stroke-width:0.5; stroke-opacity:0.1; fill:none\" points=\"\n",
       "  192.884,280.121 192.884,31.4961 \n",
       "  \"/>\n",
       "<polyline clip-path=\"url(#clip6502)\" style=\"stroke:#000000; stroke-width:0.5; stroke-opacity:0.1; fill:none\" points=\"\n",
       "  278.616,280.121 278.616,31.4961 \n",
       "  \"/>\n",
       "<polyline clip-path=\"url(#clip6502)\" style=\"stroke:#000000; stroke-width:0.5; stroke-opacity:0.1; fill:none\" points=\"\n",
       "  364.347,280.121 364.347,31.4961 \n",
       "  \"/>\n",
       "<polyline clip-path=\"url(#clip6502)\" style=\"stroke:#000000; stroke-width:0.5; stroke-opacity:0.1; fill:none\" points=\"\n",
       "  450.079,280.121 450.079,31.4961 \n",
       "  \"/>\n",
       "<polyline clip-path=\"url(#clip6502)\" style=\"stroke:#000000; stroke-width:0.5; stroke-opacity:0.1; fill:none\" points=\"\n",
       "  52.7512,263.399 460.315,263.399 \n",
       "  \"/>\n",
       "<polyline clip-path=\"url(#clip6502)\" style=\"stroke:#000000; stroke-width:0.5; stroke-opacity:0.1; fill:none\" points=\"\n",
       "  52.7512,214.966 460.315,214.966 \n",
       "  \"/>\n",
       "<polyline clip-path=\"url(#clip6502)\" style=\"stroke:#000000; stroke-width:0.5; stroke-opacity:0.1; fill:none\" points=\"\n",
       "  52.7512,166.532 460.315,166.532 \n",
       "  \"/>\n",
       "<polyline clip-path=\"url(#clip6502)\" style=\"stroke:#000000; stroke-width:0.5; stroke-opacity:0.1; fill:none\" points=\"\n",
       "  52.7512,118.099 460.315,118.099 \n",
       "  \"/>\n",
       "<polyline clip-path=\"url(#clip6502)\" style=\"stroke:#000000; stroke-width:0.5; stroke-opacity:0.1; fill:none\" points=\"\n",
       "  52.7512,69.6652 460.315,69.6652 \n",
       "  \"/>\n",
       "<polyline clip-path=\"url(#clip6500)\" style=\"stroke:#000000; stroke-width:1; stroke-opacity:1; fill:none\" points=\"\n",
       "  52.7512,280.121 460.315,280.121 \n",
       "  \"/>\n",
       "<polyline clip-path=\"url(#clip6500)\" style=\"stroke:#000000; stroke-width:1; stroke-opacity:1; fill:none\" points=\"\n",
       "  52.7512,280.121 52.7512,31.4961 \n",
       "  \"/>\n",
       "<polyline clip-path=\"url(#clip6500)\" style=\"stroke:#000000; stroke-width:1; stroke-opacity:1; fill:none\" points=\"\n",
       "  107.152,280.121 107.152,276.391 \n",
       "  \"/>\n",
       "<polyline clip-path=\"url(#clip6500)\" style=\"stroke:#000000; stroke-width:1; stroke-opacity:1; fill:none\" points=\"\n",
       "  192.884,280.121 192.884,276.391 \n",
       "  \"/>\n",
       "<polyline clip-path=\"url(#clip6500)\" style=\"stroke:#000000; stroke-width:1; stroke-opacity:1; fill:none\" points=\"\n",
       "  278.616,280.121 278.616,276.391 \n",
       "  \"/>\n",
       "<polyline clip-path=\"url(#clip6500)\" style=\"stroke:#000000; stroke-width:1; stroke-opacity:1; fill:none\" points=\"\n",
       "  364.347,280.121 364.347,276.391 \n",
       "  \"/>\n",
       "<polyline clip-path=\"url(#clip6500)\" style=\"stroke:#000000; stroke-width:1; stroke-opacity:1; fill:none\" points=\"\n",
       "  450.079,280.121 450.079,276.391 \n",
       "  \"/>\n",
       "<polyline clip-path=\"url(#clip6500)\" style=\"stroke:#000000; stroke-width:1; stroke-opacity:1; fill:none\" points=\"\n",
       "  52.7512,263.399 58.8647,263.399 \n",
       "  \"/>\n",
       "<polyline clip-path=\"url(#clip6500)\" style=\"stroke:#000000; stroke-width:1; stroke-opacity:1; fill:none\" points=\"\n",
       "  52.7512,214.966 58.8647,214.966 \n",
       "  \"/>\n",
       "<polyline clip-path=\"url(#clip6500)\" style=\"stroke:#000000; stroke-width:1; stroke-opacity:1; fill:none\" points=\"\n",
       "  52.7512,166.532 58.8647,166.532 \n",
       "  \"/>\n",
       "<polyline clip-path=\"url(#clip6500)\" style=\"stroke:#000000; stroke-width:1; stroke-opacity:1; fill:none\" points=\"\n",
       "  52.7512,118.099 58.8647,118.099 \n",
       "  \"/>\n",
       "<polyline clip-path=\"url(#clip6500)\" style=\"stroke:#000000; stroke-width:1; stroke-opacity:1; fill:none\" points=\"\n",
       "  52.7512,69.6652 58.8647,69.6652 \n",
       "  \"/>\n",
       "<g clip-path=\"url(#clip6500)\">\n",
       "<text style=\"fill:#000000; fill-opacity:1; font-family:Arial,Helvetica Neue,Helvetica,sans-serif; font-size:12; text-anchor:middle;\" transform=\"rotate(0, 107.152, 293.321)\" x=\"107.152\" y=\"293.321\">-2</text>\n",
       "</g>\n",
       "<g clip-path=\"url(#clip6500)\">\n",
       "<text style=\"fill:#000000; fill-opacity:1; font-family:Arial,Helvetica Neue,Helvetica,sans-serif; font-size:12; text-anchor:middle;\" transform=\"rotate(0, 192.884, 293.321)\" x=\"192.884\" y=\"293.321\">0</text>\n",
       "</g>\n",
       "<g clip-path=\"url(#clip6500)\">\n",
       "<text style=\"fill:#000000; fill-opacity:1; font-family:Arial,Helvetica Neue,Helvetica,sans-serif; font-size:12; text-anchor:middle;\" transform=\"rotate(0, 278.616, 293.321)\" x=\"278.616\" y=\"293.321\">2</text>\n",
       "</g>\n",
       "<g clip-path=\"url(#clip6500)\">\n",
       "<text style=\"fill:#000000; fill-opacity:1; font-family:Arial,Helvetica Neue,Helvetica,sans-serif; font-size:12; text-anchor:middle;\" transform=\"rotate(0, 364.347, 293.321)\" x=\"364.347\" y=\"293.321\">4</text>\n",
       "</g>\n",
       "<g clip-path=\"url(#clip6500)\">\n",
       "<text style=\"fill:#000000; fill-opacity:1; font-family:Arial,Helvetica Neue,Helvetica,sans-serif; font-size:12; text-anchor:middle;\" transform=\"rotate(0, 450.079, 293.321)\" x=\"450.079\" y=\"293.321\">6</text>\n",
       "</g>\n",
       "<g clip-path=\"url(#clip6500)\">\n",
       "<text style=\"fill:#000000; fill-opacity:1; font-family:Arial,Helvetica Neue,Helvetica,sans-serif; font-size:12; text-anchor:end;\" transform=\"rotate(0, 47.9512, 267.899)\" x=\"47.9512\" y=\"267.899\">0</text>\n",
       "</g>\n",
       "<g clip-path=\"url(#clip6500)\">\n",
       "<text style=\"fill:#000000; fill-opacity:1; font-family:Arial,Helvetica Neue,Helvetica,sans-serif; font-size:12; text-anchor:end;\" transform=\"rotate(0, 47.9512, 219.466)\" x=\"47.9512\" y=\"219.466\">5</text>\n",
       "</g>\n",
       "<g clip-path=\"url(#clip6500)\">\n",
       "<text style=\"fill:#000000; fill-opacity:1; font-family:Arial,Helvetica Neue,Helvetica,sans-serif; font-size:12; text-anchor:end;\" transform=\"rotate(0, 47.9512, 171.032)\" x=\"47.9512\" y=\"171.032\">10</text>\n",
       "</g>\n",
       "<g clip-path=\"url(#clip6500)\">\n",
       "<text style=\"fill:#000000; fill-opacity:1; font-family:Arial,Helvetica Neue,Helvetica,sans-serif; font-size:12; text-anchor:end;\" transform=\"rotate(0, 47.9512, 122.599)\" x=\"47.9512\" y=\"122.599\">15</text>\n",
       "</g>\n",
       "<g clip-path=\"url(#clip6500)\">\n",
       "<text style=\"fill:#000000; fill-opacity:1; font-family:Arial,Helvetica Neue,Helvetica,sans-serif; font-size:12; text-anchor:end;\" transform=\"rotate(0, 47.9512, 74.1652)\" x=\"47.9512\" y=\"74.1652\">20</text>\n",
       "</g>\n",
       "<g clip-path=\"url(#clip6500)\">\n",
       "<text style=\"fill:#000000; fill-opacity:1; font-family:Arial,Helvetica Neue,Helvetica,sans-serif; font-size:21; text-anchor:middle;\" transform=\"rotate(0, 256.533, 18)\" x=\"256.533\" y=\"18\">My Results</text>\n",
       "</g>\n",
       "<g clip-path=\"url(#clip6500)\">\n",
       "<text style=\"fill:#000000; fill-opacity:1; font-family:Arial,Helvetica Neue,Helvetica,sans-serif; font-size:16; text-anchor:middle;\" transform=\"rotate(0, 256.533, 317.6)\" x=\"256.533\" y=\"317.6\">x</text>\n",
       "</g>\n",
       "<g clip-path=\"url(#clip6500)\">\n",
       "<text style=\"fill:#000000; fill-opacity:1; font-family:Arial,Helvetica Neue,Helvetica,sans-serif; font-size:16; text-anchor:middle;\" transform=\"rotate(-90, 14.4, 155.808)\" x=\"14.4\" y=\"155.808\">my output value</text>\n",
       "</g>\n",
       "<polyline clip-path=\"url(#clip6502)\" style=\"stroke:#ff0000; stroke-width:2; stroke-opacity:1; fill:none\" points=\"\n",
       "  64.2861,105.409 66.884,110.188 69.4819,114.895 72.0799,119.531 74.6778,124.096 77.2757,128.59 79.8737,133.012 82.4716,137.364 85.0695,141.644 87.6675,145.853 \n",
       "  90.2654,149.991 92.8633,154.058 95.4613,158.054 98.0592,161.978 100.657,165.831 103.255,169.614 105.853,173.325 108.451,176.965 111.049,180.533 113.647,184.031 \n",
       "  116.245,187.457 118.843,190.812 121.441,194.096 124.039,197.309 126.636,200.451 129.234,203.522 131.832,206.521 134.43,209.449 137.028,212.306 139.626,215.092 \n",
       "  142.224,217.807 144.822,220.451 147.42,223.023 150.018,225.524 152.616,227.954 155.214,230.313 157.812,232.601 160.41,234.818 163.008,236.963 165.605,239.038 \n",
       "  168.203,241.041 170.801,242.973 173.399,244.834 175.997,246.623 178.595,248.342 181.193,249.989 183.791,251.566 186.389,253.071 188.987,254.504 191.585,255.867 \n",
       "  194.183,257.159 196.781,258.379 199.379,259.528 201.977,260.606 204.574,261.613 207.172,262.549 209.77,263.414 212.368,264.207 214.966,264.929 217.564,265.581 \n",
       "  220.162,266.161 222.76,266.669 225.358,267.107 227.956,267.473 230.554,267.769 233.152,267.993 235.75,268.146 238.348,268.228 240.946,268.238 243.543,268.178 \n",
       "  246.141,268.046 248.739,267.843 251.337,267.569 253.935,267.224 256.533,266.808 259.131,266.321 261.729,265.762 264.327,265.132 266.925,264.431 269.523,263.659 \n",
       "  272.121,262.816 274.719,261.902 277.317,260.916 279.915,259.859 282.512,258.731 285.11,257.532 287.708,256.262 290.306,254.921 292.904,253.508 295.502,252.025 \n",
       "  298.1,250.47 300.698,248.844 303.296,247.146 305.894,245.378 308.492,243.539 311.09,241.628 313.688,239.646 316.286,237.593 318.883,235.469 321.481,233.274 \n",
       "  324.079,231.007 326.677,228.67 329.275,226.261 331.873,223.781 334.471,221.23 337.069,218.608 339.667,215.914 342.265,213.15 344.863,210.314 347.461,207.407 \n",
       "  350.059,204.429 352.657,201.38 355.255,198.259 357.852,195.068 360.45,191.805 363.048,188.471 365.646,185.066 368.244,181.59 370.842,178.043 373.44,174.424 \n",
       "  376.038,170.734 378.636,166.974 381.234,163.142 383.832,159.238 386.43,155.264 389.028,151.219 391.626,147.102 394.224,142.914 396.821,138.655 399.419,134.325 \n",
       "  402.017,129.924 404.615,125.451 407.213,120.908 409.811,116.293 412.409,111.607 415.007,106.85 417.605,102.022 420.203,97.1225 422.801,92.152 425.399,87.1103 \n",
       "  427.997,81.9974 430.595,76.8133 433.193,71.5582 435.79,66.2318 438.388,60.8343 440.986,55.3656 443.584,49.8258 446.182,44.2148 448.78,38.5326 \n",
       "  \"/>\n",
       "<polyline clip-path=\"url(#clip6502)\" style=\"stroke:#0000ff; stroke-width:1; stroke-opacity:1; fill:none\" stroke-dasharray=\"8, 5\" points=\"\n",
       "  64.2861,272.989 66.884,272.889 69.4819,272.754 72.0799,272.584 74.6778,272.381 77.2757,272.144 79.8737,271.876 82.4716,271.576 85.0695,271.247 87.6675,270.888 \n",
       "  90.2654,270.503 92.8633,270.091 95.4613,269.654 98.0592,269.195 100.657,268.714 103.255,268.213 105.853,267.696 108.451,267.162 111.049,266.614 113.647,266.055 \n",
       "  116.245,265.486 118.843,264.909 121.441,264.327 124.039,263.741 126.636,263.154 129.234,262.568 131.832,261.985 134.43,261.407 137.028,260.837 139.626,260.275 \n",
       "  142.224,259.726 144.822,259.19 147.42,258.669 150.018,258.166 152.616,257.682 155.214,257.218 157.812,256.778 160.41,256.362 163.008,255.972 165.605,255.609 \n",
       "  168.203,255.274 170.801,254.97 173.399,254.696 175.997,254.455 178.595,254.246 181.193,254.071 183.791,253.93 186.389,253.824 188.987,253.753 191.585,253.717 \n",
       "  194.183,253.717 196.781,253.753 199.379,253.824 201.977,253.93 204.574,254.071 207.172,254.246 209.77,254.455 212.368,254.696 214.966,254.97 217.564,255.274 \n",
       "  220.162,255.609 222.76,255.972 225.358,256.362 227.956,256.778 230.554,257.218 233.152,257.682 235.75,258.166 238.348,258.669 240.946,259.19 243.543,259.726 \n",
       "  246.141,260.275 248.739,260.837 251.337,261.407 253.935,261.985 256.533,262.568 259.131,263.154 261.729,263.741 264.327,264.327 266.925,264.909 269.523,265.486 \n",
       "  272.121,266.055 274.719,266.614 277.317,267.162 279.915,267.696 282.512,268.213 285.11,268.714 287.708,269.195 290.306,269.654 292.904,270.091 295.502,270.503 \n",
       "  298.1,270.888 300.698,271.247 303.296,271.576 305.894,271.876 308.492,272.144 311.09,272.381 313.688,272.584 316.286,272.754 318.883,272.889 321.481,272.989 \n",
       "  324.079,273.054 326.677,273.084 329.275,273.078 331.873,273.037 334.471,272.96 337.069,272.848 339.667,272.702 342.265,272.521 344.863,272.307 347.461,272.06 \n",
       "  350.059,271.781 352.657,271.472 355.255,271.133 357.852,270.765 360.45,270.37 363.048,269.95 365.646,269.506 368.244,269.039 370.842,268.552 373.44,268.046 \n",
       "  376.038,267.522 378.636,266.984 381.234,266.432 383.832,265.869 386.43,265.298 389.028,264.719 391.626,264.135 394.224,263.549 396.821,262.962 399.419,262.377 \n",
       "  402.017,261.795 404.615,261.219 407.213,260.652 409.811,260.094 412.409,259.549 415.007,259.017 417.605,258.502 420.203,258.005 422.801,257.528 425.399,257.072 \n",
       "  427.997,256.639 430.595,256.231 433.193,255.85 435.79,255.496 438.388,255.171 440.986,254.877 443.584,254.614 446.182,254.383 448.78,254.185 \n",
       "  \"/>\n",
       "<polygon clip-path=\"url(#clip6500)\" points=\"\n",
       "373.174,90.5361 445.915,90.5361 445.915,45.1761 373.174,45.1761 \n",
       "  \" fill=\"#ffffff\" fill-opacity=\"1\"/>\n",
       "<polyline clip-path=\"url(#clip6500)\" style=\"stroke:#000000; stroke-width:1; stroke-opacity:1; fill:none\" points=\"\n",
       "  373.174,90.5361 445.915,90.5361 445.915,45.1761 373.174,45.1761 373.174,90.5361 \n",
       "  \"/>\n",
       "<polyline clip-path=\"url(#clip6500)\" style=\"stroke:#ff0000; stroke-width:2; stroke-opacity:1; fill:none\" points=\"\n",
       "  377.974,60.2961 406.774,60.2961 \n",
       "  \"/>\n",
       "<g clip-path=\"url(#clip6500)\">\n",
       "<text style=\"fill:#000000; fill-opacity:1; font-family:Arial,Helvetica Neue,Helvetica,sans-serif; font-size:12; text-anchor:start;\" transform=\"rotate(0, 411.574, 64.7961)\" x=\"411.574\" y=\"64.7961\">fn1()</text>\n",
       "</g>\n",
       "<polyline clip-path=\"url(#clip6500)\" style=\"stroke:#0000ff; stroke-width:1; stroke-opacity:1; fill:none\" stroke-dasharray=\"8, 5\" points=\"\n",
       "  377.974,75.4161 406.774,75.4161 \n",
       "  \"/>\n",
       "<g clip-path=\"url(#clip6500)\">\n",
       "<text style=\"fill:#000000; fill-opacity:1; font-family:Arial,Helvetica Neue,Helvetica,sans-serif; font-size:12; text-anchor:start;\" transform=\"rotate(0, 411.574, 79.9161)\" x=\"411.574\" y=\"79.9161\">cos</text>\n",
       "</g>\n",
       "</svg>\n"
      ]
     },
     "execution_count": 21,
     "metadata": {},
     "output_type": "execute_result"
    }
   ],
   "source": [
    "x = collect(-3:6/99:6) \n",
    "\n",
    "p1 = plot(x,fn1.(x),color=:red,linewidth=2,label=\"fn1()\")\n",
    "plot!(x,cos.(x),color=:blue,line=(:dash),label=\"cos\")\n",
    "title!(\"My Results\")\n",
    "xlabel!(\"x\")\n",
    "ylabel!(\"my output value\")"
   ]
  },
  {
   "cell_type": "code",
   "execution_count": null,
   "metadata": {},
   "outputs": [],
   "source": []
  }
 ],
 "metadata": {
  "anaconda-cloud": {},
  "kernelspec": {
   "display_name": "Julia 1.0.0",
   "language": "julia",
   "name": "julia-1.0"
  },
  "language_info": {
   "file_extension": ".jl",
   "mimetype": "application/julia",
   "name": "julia",
   "version": "1.0.0"
  }
 },
 "nbformat": 4,
 "nbformat_minor": 1
}
