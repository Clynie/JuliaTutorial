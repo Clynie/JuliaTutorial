{
 "cells": [
  {
   "cell_type": "markdown",
   "metadata": {
    "collapsed": true,
    "deletable": true,
    "editable": true
   },
   "source": [
    "# Basic Julia Tutorial"
   ]
  },
  {
   "cell_type": "markdown",
   "metadata": {
    "deletable": true,
    "editable": true
   },
   "source": [
    "# Running/Installing Julia\n",
    "\n",
    "1. To run Julia without a local installation, use JuliaBox.com. It works well with Firefox and Chrome.\n",
    "2. To install Julia on your machine, download from https://julialang.org/downloads/. You may also want to use the Atom editor with the Juno IDE (see http://junolab.org/). To run IJulia from your local installation, see https://github.com/JuliaLang/IJulia.jl for instructions.\n",
    "3. Instead of downloading and installing Julia yourself, you may want to try JuliaPro (see https://juliacomputing.com/products/juliapro.html.)"
   ]
  },
  {
   "cell_type": "markdown",
   "metadata": {
    "deletable": true,
    "editable": true
   },
   "source": [
    "# Documentation and Help\n",
    "\n",
    "1.  Cheat sheet at https://cheatsheets.quantecon.org/julia-cheatsheet.html\n",
    "2.  Wiki book at https://en.wikibooks.org/wiki/Introducing_Julia\n",
    "3.  The on-line manual is found at https://docs.julialang.org/en/stable/\n",
    "4.  The manual as a pdf file is at https://readthedocs.org/projects/julia/downloads/\n",
    "5.  Discussion lists are found at\n",
    "    *  https://discourse.julialang.org/\n",
    "    *  https://stackoverflow.com/questions/tagged/julia-lang\n",
    "    *  https://www.reddit.com/r/Julia/\n",
    "    *  https://gitter.im/JuliaLang/julia\n",
    "6. In Julia, do ```? cos``` to get help with the cos function    "
   ]
  },
  {
   "cell_type": "markdown",
   "metadata": {
    "deletable": true,
    "editable": true
   },
   "source": [
    "# Getting This File to JuliaBox\n",
    "\n",
    "1. Download this entire repository to your machine and then upload to JuliaBox (see menu--files in JuliaBox).\n",
    "2. Instead, in JuliaBox, go to menu-sync. Then sync with the git repository https://github.com/PaulSoderlind/JuliaTutorial"
   ]
  },
  {
   "cell_type": "markdown",
   "metadata": {
    "deletable": true,
    "editable": true
   },
   "source": [
    "# About Notebooks\n",
    "\n",
    "This cell is a \"Markdown\" cell. This is meant for comments and documentation, not computations.\n",
    "\n",
    "You can change a cell to \"Code\" or \"Markdown\" in the menu.\n",
    "\n",
    "If you know LaTeX, then Markdown cells can handle them. An example: $\\alpha = \\beta/2$. A Markdown cell can also contain some formatting, like lists of this kind\n",
    "\n",
    "1. To insert a new cell, use the menu. \n",
    "\n",
    "2. The next cell is \"Code\". You can run it."
   ]
  },
  {
   "cell_type": "code",
   "execution_count": 1,
   "metadata": {
    "collapsed": false,
    "deletable": true,
    "editable": true
   },
   "outputs": [
    {
     "data": {
      "text/plain": [
       "2"
      ]
     },
     "execution_count": 1,
     "metadata": {},
     "output_type": "execute_result"
    }
   ],
   "source": [
    "a = 2                  #run this cell by using the menu, or by Shift+Enter"
   ]
  },
  {
   "cell_type": "code",
   "execution_count": 3,
   "metadata": {
    "collapsed": false
   },
   "outputs": [
    {
     "name": "stdout",
     "output_type": "stream",
     "text": [
      "search: \u001b[1mc\u001b[22m\u001b[1mo\u001b[22m\u001b[1ms\u001b[22m \u001b[1mc\u001b[22m\u001b[1mo\u001b[22m\u001b[1ms\u001b[22mh \u001b[1mc\u001b[22m\u001b[1mo\u001b[22m\u001b[1ms\u001b[22md \u001b[1mc\u001b[22m\u001b[1mo\u001b[22m\u001b[1ms\u001b[22mc \u001b[1mc\u001b[22m\u001b[1mo\u001b[22m\u001b[1ms\u001b[22mpi a\u001b[1mc\u001b[22m\u001b[1mo\u001b[22m\u001b[1ms\u001b[22m a\u001b[1mc\u001b[22m\u001b[1mo\u001b[22m\u001b[1ms\u001b[22mh a\u001b[1mc\u001b[22m\u001b[1mo\u001b[22m\u001b[1ms\u001b[22md \u001b[1mc\u001b[22m\u001b[1mo\u001b[22mn\u001b[1ms\u001b[22mt \u001b[1mc\u001b[22m\u001b[1mo\u001b[22mn\u001b[1ms\u001b[22mume \u001b[1mc\u001b[22mr\u001b[1mo\u001b[22m\u001b[1ms\u001b[22ms \u001b[1mc\u001b[22ml\u001b[1mo\u001b[22m\u001b[1ms\u001b[22me\n",
      "\n"
     ]
    },
    {
     "data": {
      "text/markdown": [
       "```\n",
       "cos(x)\n",
       "```\n",
       "\n",
       "Compute cosine of `x`, where `x` is in radians.\n"
      ],
      "text/plain": [
       "```\n",
       "cos(x)\n",
       "```\n",
       "\n",
       "Compute cosine of `x`, where `x` is in radians.\n"
      ]
     },
     "execution_count": 3,
     "metadata": {},
     "output_type": "execute_result"
    }
   ],
   "source": [
    "? cos"
   ]
  },
  {
   "cell_type": "markdown",
   "metadata": {
    "deletable": true,
    "editable": true
   },
   "source": [
    "# Load Packages\n",
    "\n",
    "There are many packages for Julia, for instance, for plotting or statistical methods (see http://pkg.julialang.org/ for a list). To install a package, you run\n",
    "\n",
    "```\n",
    "Pkg.add(\"PackageName\")\n",
    "```\n",
    "\n",
    "Once a package is installed (the most common once are already installed on JuliaBox), you can use it by running\n",
    "\n",
    "```\n",
    "using PackageName\n",
    "```"
   ]
  },
  {
   "cell_type": "code",
   "execution_count": 4,
   "metadata": {
    "collapsed": false,
    "deletable": true,
    "editable": true
   },
   "outputs": [
    {
     "data": {
      "text/plain": [
       "println4Ps (generic function with 1 method)"
      ]
     },
     "execution_count": 4,
     "metadata": {},
     "output_type": "execute_result"
    }
   ],
   "source": [
    "using Plots                 #this loads the Plots package\n",
    "\n",
    "backend = \"gr\"              #choice of plotting backend, \"gr\" (default), \"pyplot\" \n",
    "\n",
    "if backend == \"pyplot\"      #some configurations, do bother with the details now\n",
    "    pyplot(size=(600,400))  #default size of plots\n",
    "else    \n",
    "    gr(size=(600,400))\n",
    "end\n",
    "\n",
    "include(\"printmat.jl\")      #just a function for prettier matrix printing"
   ]
  },
  {
   "cell_type": "markdown",
   "metadata": {
    "deletable": true,
    "editable": true
   },
   "source": [
    "# Scalars and Matrices"
   ]
  },
  {
   "cell_type": "markdown",
   "metadata": {
    "deletable": true,
    "editable": true
   },
   "source": [
    "### Create a Matrix and a Scalar"
   ]
  },
  {
   "cell_type": "code",
   "execution_count": 5,
   "metadata": {
    "collapsed": false,
    "deletable": true,
    "editable": true
   },
   "outputs": [
    {
     "name": "stdout",
     "output_type": "stream",
     "text": [
      "\n",
      "q is a scalar. To print, use println() or printlnPs()\n",
      "1\n",
      "\n",
      "Q is a matrix. To print, use display() or printmat()\n",
      "         1         2         3\n",
      "         4         5         6\n",
      "\n"
     ]
    }
   ],
   "source": [
    "q = 1                             #create a scalar\n",
    "Q = [ 1 2 3;                      #create 2x3 matrix\n",
    "      4 5 6 ] \n",
    "println(\"\\n\",\"q is a scalar. To print, use println() or printlnPs()\")    #\"\\n\" creates a line break\n",
    "println(q)  \n",
    "\n",
    "println(\"\\nQ is a matrix. To print, use display() or printmat()\") \n",
    "printmat(Q)                       #case sensitive (q and Q are different)"
   ]
  },
  {
   "cell_type": "markdown",
   "metadata": {
    "deletable": true,
    "editable": true
   },
   "source": [
    "### Picking Out Parts of a Matrix"
   ]
  },
  {
   "cell_type": "code",
   "execution_count": 6,
   "metadata": {
    "collapsed": false,
    "deletable": true,
    "editable": true
   },
   "outputs": [
    {
     "name": "stdout",
     "output_type": "stream",
     "text": [
      "\n",
      "element [1,2] of Q: 2\n",
      "\n",
      "columns 2 and 3 of Q: \n",
      "         2         3\n",
      "         5         6\n",
      "\n"
     ]
    }
   ],
   "source": [
    "println(\"\\n\",\"element [1,2] of Q: \",Q[1,2])\n",
    "\n",
    "println(\"\\ncolumns 2 and 3 of Q: \")\n",
    "printmat(Q[:,2:3])"
   ]
  },
  {
   "cell_type": "markdown",
   "metadata": {
    "deletable": true,
    "editable": true
   },
   "source": [
    "### Basic Linear Algebra"
   ]
  },
  {
   "cell_type": "code",
   "execution_count": 7,
   "metadata": {
    "collapsed": false,
    "deletable": true,
    "editable": true
   },
   "outputs": [
    {
     "name": "stdout",
     "output_type": "stream",
     "text": [
      "transpose of Q:\n",
      "         1         4\n",
      "         2         5\n",
      "         3         6\n",
      "\n",
      "Q'Q:\n",
      "        17        22        27\n",
      "        22        29        36\n",
      "        27        36        45\n",
      "\n",
      "determinant of Q'Q:\n",
      "    -0.000\n",
      "\n"
     ]
    }
   ],
   "source": [
    "println(\"transpose of Q:\")\n",
    "printmat(Q')\n",
    "\n",
    "println(\"Q'Q:\")\n",
    "printmat(Q'Q)\n",
    "\n",
    "println(\"determinant of Q'Q:\")\n",
    "printmat(det(Q'Q))"
   ]
  },
  {
   "cell_type": "markdown",
   "metadata": {
    "deletable": true,
    "editable": true
   },
   "source": [
    "### Creating a Sequence and a Vector"
   ]
  },
  {
   "cell_type": "code",
   "execution_count": 8,
   "metadata": {
    "collapsed": false,
    "deletable": true,
    "editable": true
   },
   "outputs": [
    {
     "name": "stdout",
     "output_type": "stream",
     "text": [
      "\n",
      "θ is a sequence: 1:10:21\n",
      "\n",
      "ρ is a vector: \n",
      "         1\n",
      "        11\n",
      "        21\n",
      "\n"
     ]
    }
   ],
   "source": [
    "θ = 1:10:21                  #a sequence, type \\theta + TAB to get this symbol        \n",
    "println(\"\\n\",\"θ is a sequence: \",θ)\n",
    "\n",
    "ρ = collect(θ)               #make the sequence into a vector, \\rho+TAB\n",
    "println(\"\\n\",\"ρ is a vector: \")\n",
    "printmat(ρ)"
   ]
  },
  {
   "cell_type": "markdown",
   "metadata": {
    "deletable": true,
    "editable": true
   },
   "source": [
    "# Types: Integers, Floats, Bools and Others\n",
    "\n",
    "Julia has many different types of variables: signed integers (like 2 or -5), floating point numbers (2.0 and -5.1), bools (false/true), bitarrays (similar to bools, but with more efficient use of memory), strings (\"hello\"), Dates (2017-04-23) and many more types."
   ]
  },
  {
   "cell_type": "markdown",
   "metadata": {
    "deletable": true,
    "editable": true
   },
   "source": [
    "## Integers and Floats"
   ]
  },
  {
   "cell_type": "code",
   "execution_count": 9,
   "metadata": {
    "collapsed": false,
    "deletable": true,
    "editable": true
   },
   "outputs": [
    {
     "name": "stdout",
     "output_type": "stream",
     "text": [
      "Finding the type of a, b, A and B:\n",
      "Int64 Float64 Array{Int64,1} Array{Float64,1}\n"
     ]
    }
   ],
   "source": [
    "a = 2                   #integer, Int (Int64 on most machines)\n",
    "b = 2.0                 #floating point, (Float64 on most machines)\n",
    "A = [1;2]\n",
    "B = [1.0;2.0]\n",
    "\n",
    "println(\"Finding the type of a, b, A and B:\")\n",
    "println(typeof(a),\" \",typeof(b),\" \",typeof(A),\" \",typeof(B))"
   ]
  },
  {
   "cell_type": "markdown",
   "metadata": {
    "deletable": true,
    "editable": true
   },
   "source": [
    "## Bools and BitArrays\n",
    "\n",
    "Bools are \"true\" or \"false\". BitArrays are (more memory efficient) versions of this."
   ]
  },
  {
   "cell_type": "code",
   "execution_count": 10,
   "metadata": {
    "collapsed": false,
    "deletable": true,
    "editable": true
   },
   "outputs": [
    {
     "name": "stdout",
     "output_type": "stream",
     "text": [
      "Finding the type of c and C:\n",
      "Bool BitArray{1}\n"
     ]
    }
   ],
   "source": [
    "c = 2 > 1.1\n",
    "C = A .> 1.5        #A is an array, so C is too\n",
    "\n",
    "println(\"Finding the type of c and C:\")\n",
    "println(typeof(c),\" \",typeof(C))"
   ]
  },
  {
   "cell_type": "markdown",
   "metadata": {
    "deletable": true,
    "editable": true
   },
   "source": [
    "## Calulations with Mixed Types\n",
    "\n",
    "A calculation like \"integer\" + \"float\" works and the type of the result will be a float (the more flexible type). Similarly, \"bool\" + \"integer\" will give an integer. These promotion rules make it easy to have mixed types in calculations, and also provide a simple way of converting a variable from one type to another. (There are also an explicit convert() function that might be quicker.)"
   ]
  },
  {
   "cell_type": "code",
   "execution_count": 11,
   "metadata": {
    "collapsed": false,
    "deletable": true,
    "editable": true
   },
   "outputs": [
    {
     "name": "stdout",
     "output_type": "stream",
     "text": [
      "3.0\n",
      "3\n"
     ]
    }
   ],
   "source": [
    "println(1+2.0)                #integer + Float\n",
    "println((1.>0) + 2)           #bool + integer"
   ]
  },
  {
   "cell_type": "markdown",
   "metadata": {
    "deletable": true,
    "editable": true
   },
   "source": [
    "## \"Any\" Arrays\n",
    "\n",
    "If you need an array to store very different things (a mixture of numers, matrices, strings), then Any arrays are very useful."
   ]
  },
  {
   "cell_type": "code",
   "execution_count": 12,
   "metadata": {
    "collapsed": false,
    "deletable": true,
    "editable": true
   },
   "outputs": [
    {
     "name": "stdout",
     "output_type": "stream",
     "text": [
      "x[2] is \n",
      "And Ezra Pound and T.S. Eliot fighting in the captain's tower...\n"
     ]
    }
   ],
   "source": [
    "x1 = 1:10\n",
    "x2 = \"And Ezra Pound and T.S. Eliot fighting in the captain's tower...\"\n",
    "x3 = rand(4,3)\n",
    "x  = Any[x1,x2,x3]\n",
    "\n",
    "println(\"x[2] is \")\n",
    "println(x[2])"
   ]
  },
  {
   "cell_type": "markdown",
   "metadata": {
    "deletable": true,
    "editable": true
   },
   "source": [
    "# Comparing Things\n",
    "\n",
    "To see if the scalar z <= 0, do \n",
    "```\n",
    "vv = z <= 0\n",
    "```\n",
    "to get a single output (true or false)\n",
    "\n",
    "Instead, if x is an array, do \n",
    "```\n",
    "vv = x .<= 0                      #notice the dot.\n",
    "```\n",
    "to get an array of outputs (same dimension as x)"
   ]
  },
  {
   "cell_type": "code",
   "execution_count": 13,
   "metadata": {
    "collapsed": false,
    "deletable": true,
    "editable": true
   },
   "outputs": [
    {
     "name": "stdout",
     "output_type": "stream",
     "text": [
      "x values: \n",
      "    -1.500\n",
      "    -1.000\n",
      "    -0.500\n",
      "     0.000\n",
      "     0.500\n",
      "\n",
      "true if x is in (-1,0]: \n",
      "     false\n",
      "     false\n",
      "      true\n",
      "      true\n",
      "     false\n",
      "\n",
      "x values that are in (-1,0]: \n",
      "    -0.500\n",
      "     0.000\n",
      "\n"
     ]
    }
   ],
   "source": [
    "x =  [-1.5;-1.0;-0.5;0;0.5]             #this is a vector\n",
    "\n",
    "println(\"x values: \")\n",
    "printmat(x)\n",
    "\n",
    "vv = -1 .< x .<= 0                      #true for x values (-1,0], vv is a vector\n",
    "println(\"true if x is in (-1,0]: \")\n",
    "printmat(vv)\n",
    "\n",
    "x2 = x[vv]\n",
    "println(\"x values that are in (-1,0]: \")\n",
    "printmat(x2)"
   ]
  },
  {
   "cell_type": "markdown",
   "metadata": {
    "deletable": true,
    "editable": true
   },
   "source": [
    "# If-then-else\n",
    "\n",
    "allows you to run different commands depending on a condition which you specify."
   ]
  },
  {
   "cell_type": "code",
   "execution_count": 14,
   "metadata": {
    "collapsed": false,
    "deletable": true,
    "editable": true
   },
   "outputs": [
    {
     "name": "stdout",
     "output_type": "stream",
     "text": [
      "1.05\n"
     ]
    }
   ],
   "source": [
    "z = 1.05\n",
    "if 1 <= z <= 2          #(a) if true, run the next command (y=z) and then jump to end\n",
    "    y = z\n",
    "elseif z < 1            #(b) if (a) is false, try this instead  \n",
    "    y = 1\n",
    "else                    #(c) if also b is false, do this\n",
    "    y = 2\n",
    "end    \n",
    "\n",
    "println(y)"
   ]
  },
  {
   "cell_type": "markdown",
   "metadata": {
    "deletable": true,
    "editable": true
   },
   "source": [
    "# Loops\n",
    "\n",
    "The are two types of loops: for loops and while loops. \n",
    "\n",
    "The for loop is best when you know how many times you want to loop (for instance, over all N rows in a matrix). \n",
    "\n",
    "The while loop is best when you want to keep looping until something happens, for instance, that x1 and x2 get really close."
   ]
  },
  {
   "cell_type": "markdown",
   "metadata": {
    "deletable": true,
    "editable": true
   },
   "source": [
    "### A Simple \"for\" Loop"
   ]
  },
  {
   "cell_type": "code",
   "execution_count": 15,
   "metadata": {
    "collapsed": false,
    "deletable": true,
    "editable": true
   },
   "outputs": [
    {
     "name": "stdout",
     "output_type": "stream",
     "text": [
      "i=2 and x=2\n",
      "i=5 and x=7\n",
      "i=8 and x=15\n"
     ]
    }
   ],
   "source": [
    "x = 0\n",
    "for i = 2:3:10                        #first i=2, then i=5, and last i=8\n",
    "    x = x + i                         #adding i to the \"old\" x\n",
    "    println(\"i=$i and x=$x\")          #$x prints the value of x\n",
    "end"
   ]
  },
  {
   "cell_type": "markdown",
   "metadata": {
    "deletable": true,
    "editable": true
   },
   "source": [
    "### A Double \"for\" Loop\n",
    "\n",
    "An example of a nested for for loop\n",
    "\n",
    "```\n",
    "for j = 1:n, i = 1:m         \n",
    "    #do something\n",
    "end\n",
    "```\n",
    "\n",
    "If you prefer, could also write a longer version to do the same thing\n",
    "```\n",
    "for j = 1:n \n",
    "    i = 1:m         \n",
    "        #do something\n",
    "    end    \n",
    "end\n",
    "```"
   ]
  },
  {
   "cell_type": "code",
   "execution_count": 16,
   "metadata": {
    "collapsed": false,
    "deletable": true,
    "editable": true
   },
   "outputs": [
    {
     "name": "stdout",
     "output_type": "stream",
     "text": [
      "Pick out elements on and below diagonal from a matrix x\n",
      "\n",
      "original matrix: \n",
      "         1         4         7\n",
      "         2         5         8\n",
      "         3         6         9\n",
      "\n"
     ]
    }
   ],
   "source": [
    "println(\"Pick out elements on and below diagonal from a matrix x\")\n",
    "\n",
    "x = reshape(1:9,3,3)              #generate square matrix\n",
    "(m,n) = size(x,1,2)               #find no. rows and columns\n",
    "println(\"\\n\",\"original matrix: \")\n",
    "printmat(x)"
   ]
  },
  {
   "cell_type": "code",
   "execution_count": 17,
   "metadata": {
    "collapsed": false,
    "deletable": true,
    "editable": true
   },
   "outputs": [
    {
     "name": "stdout",
     "output_type": "stream",
     "text": [
      "vech of the matrix (stack elements on and below diagonal): \n",
      "         1\n",
      "         2\n",
      "         3\n",
      "         5\n",
      "         6\n",
      "         9\n",
      "\n"
     ]
    }
   ],
   "source": [
    "nRows = round(Int,n*(n+1)/2)      #must be an integer, so use round()\n",
    "v = fill(-999,nRows)              #to put results in, initialized as -999\n",
    "k = 1                             #fill(value,integer,integer) so must convert\n",
    "for j = 1:n, i = j:m              #loop over columns in x, and rows on and below diagonal\n",
    "    v[k] = x[i,j] \n",
    "    k = k + 1                 #update index in v\n",
    "end\n",
    "println(\"vech of the matrix (stack elements on and below diagonal): \") \n",
    "printmat(v)"
   ]
  },
  {
   "cell_type": "markdown",
   "metadata": {
    "deletable": true,
    "editable": true
   },
   "source": [
    "## A Simple \"while\" Loop\n",
    "\n",
    "The \"while\" loop iterates until two variables ($x_0$ and $x_1$) get close. The iterations (which change the variables) continue as long as $|x_1-x_0| > 0.001$. \n",
    "\n",
    "\n",
    "(The background to the example is that we want to solve a function $f(x)$ for the $x$ value that makes $f(x)=2$. The Newton-Raphson algorithm is to start with a value $x_0$ and update it to\n",
    "$\n",
    "x_1 = x_0 + (2-f(x_0))/f'(x_0)\n",
    "$\n",
    "where $f'(x_0)$ is the derivative of $f'()$ evaluated at $x_0$. The algorithm iterates until $x_0$ and $x_1$ are close.)"
   ]
  },
  {
   "cell_type": "code",
   "execution_count": 18,
   "metadata": {
    "collapsed": false,
    "deletable": true,
    "editable": true
   },
   "outputs": [
    {
     "name": "stdout",
     "output_type": "stream",
     "text": [
      "\n",
      "Solving x^2 = 2 with Newton-Raphson:\n",
      "\n",
      "10.0 is changed to 5.1\n",
      "5.1 is changed to 2.74608\n",
      "2.74608 is changed to 1.73719\n",
      "1.73719 is changed to 1.44424\n",
      "1.44424 is changed to 1.41453\n",
      "1.41453 is changed to 1.41421\n",
      "\n",
      "The result should be close to 1.4142135623730951\n"
     ]
    }
   ],
   "source": [
    "println(\"\\nSolving x^2 = 2 with Newton-Raphson:\\n\")\n",
    "\n",
    "x₀ = Inf         #x\\_0 + TAB    \n",
    "x₁ = 10                           \n",
    "\n",
    "while abs(x₁-x₀) > 0.001            #keep going until they get similar\n",
    "    x₀ = x₁                         #initial guess is taken from old guess\n",
    "    y  = x₀^2                       #value of function\n",
    "    dy = 2*x₀                       #derivative of function\n",
    "    x₁ = x₀ + (2 - y)/dy            #updating the guess, Newton-Raphson\n",
    "    println(\"$(round(x₀,5)) is changed to $(round(x₁,5))\")\n",
    "end\n",
    "\n",
    "println(\"\\nThe result should be close to $(sqrt(2))\")"
   ]
  },
  {
   "cell_type": "markdown",
   "metadata": {
    "deletable": true,
    "editable": true
   },
   "source": [
    "# A Simple Function\n",
    "\n",
    "The next cell defines a new function, fn1(). It is meant to take a scalar input (x) and return a scalar output (y).\n",
    "\n",
    "If you instead use a vector as the input, then the computation fails. (The reason is that you cannot do x^2 on a vector. (You could on a square matrix, though.)\n",
    "\n",
    "However, using the \"dot\" syntax\n",
    "```\n",
    "y = fn1.(x)\n",
    "```\n",
    "gives an array as output. Element ```y[i,j] = fn1(x[i,j])```."
   ]
  },
  {
   "cell_type": "code",
   "execution_count": 19,
   "metadata": {
    "collapsed": false,
    "deletable": true,
    "editable": true
   },
   "outputs": [
    {
     "data": {
      "text/plain": [
       "fn1 (generic function with 1 method)"
      ]
     },
     "execution_count": 19,
     "metadata": {},
     "output_type": "execute_result"
    }
   ],
   "source": [
    "function fn1(x)               #define a new function \n",
    "  y = (x-1.1)^2 - 0.5                \n",
    "  return y\n",
    "end  "
   ]
  },
  {
   "cell_type": "code",
   "execution_count": 20,
   "metadata": {
    "collapsed": false,
    "deletable": true,
    "editable": true
   },
   "outputs": [
    {
     "name": "stdout",
     "output_type": "stream",
     "text": [
      "result from fn1(1.5):     -0.340\n",
      "\n",
      "result from fn1.(x): \n",
      "    -0.490\n",
      "    -0.340\n",
      "\n"
     ]
    }
   ],
   "source": [
    "y = fn1(1.5)\n",
    "printlnPs(\"result from fn1(1.5): \",y)\n",
    "\n",
    "x = [1;1.5] \n",
    "#y = fn1(x)                   #would give an error \n",
    "y = fn1.(x)                   #calling on the function, dot to broadcast over input\n",
    "printlnPs(\"\\nresult from fn1.(x): \")\n",
    "printmat(y)"
   ]
  },
  {
   "cell_type": "markdown",
   "metadata": {
    "deletable": true,
    "editable": true
   },
   "source": [
    "# A First Plot\n",
    "\n",
    "With the Plots package you create a a simple plot like this\n",
    "\n",
    "1. Plot one curve by using the plot() command \n",
    "2. Add another curve to the figure by using the plot!() command. Notice the !\n",
    "3. Add more things by using the title!(), xlabel!() etc commands."
   ]
  },
  {
   "cell_type": "code",
   "execution_count": 21,
   "metadata": {
    "collapsed": false,
    "deletable": true,
    "editable": true
   },
   "outputs": [
    {
     "data": {
      "text/html": [
       "<?xml version=\"1.0\" encoding=\"utf-8\"?>\n",
       "<svg xmlns=\"http://www.w3.org/2000/svg\" xmlns:xlink=\"http://www.w3.org/1999/xlink\" width=\"600\" height=\"400\" viewBox=\"0 0 600 400\">\n",
       "<defs>\n",
       "  <clipPath id=\"clip00\">\n",
       "    <rect x=\"0\" y=\"0\" width=\"600\" height=\"400\"/>\n",
       "  </clipPath>\n",
       "</defs>\n",
       "<polygon clip-path=\"url(#clip00)\" points=\"\n",
       "0,400 600,400 600,0 0,0 \n",
       "  \" fill=\"#ffffff\" fill-opacity=\"1\"/>\n",
       "<defs>\n",
       "  <clipPath id=\"clip01\">\n",
       "    <rect x=\"120\" y=\"0\" width=\"421\" height=\"400\"/>\n",
       "  </clipPath>\n",
       "</defs>\n",
       "<polygon clip-path=\"url(#clip00)\" points=\"\n",
       "55.1181,372.441 592.126,372.441 592.126,27.5591 55.1181,27.5591 \n",
       "  \" fill=\"#ffffff\" fill-opacity=\"1\"/>\n",
       "<defs>\n",
       "  <clipPath id=\"clip02\">\n",
       "    <rect x=\"55\" y=\"27\" width=\"538\" height=\"346\"/>\n",
       "  </clipPath>\n",
       "</defs>\n",
       "<polyline clip-path=\"url(#clip02)\" style=\"stroke:#000000; stroke-width:0.5; stroke-opacity:0.1; fill:none\" points=\"\n",
       "  114.987,367.268 114.987,32.7323 \n",
       "  \"/>\n",
       "<polyline clip-path=\"url(#clip02)\" style=\"stroke:#000000; stroke-width:0.5; stroke-opacity:0.1; fill:none\" points=\"\n",
       "  234.725,367.268 234.725,32.7323 \n",
       "  \"/>\n",
       "<polyline clip-path=\"url(#clip02)\" style=\"stroke:#000000; stroke-width:0.5; stroke-opacity:0.1; fill:none\" points=\"\n",
       "  354.464,367.268 354.464,32.7323 \n",
       "  \"/>\n",
       "<polyline clip-path=\"url(#clip02)\" style=\"stroke:#000000; stroke-width:0.5; stroke-opacity:0.1; fill:none\" points=\"\n",
       "  474.202,367.268 474.202,32.7323 \n",
       "  \"/>\n",
       "<polyline clip-path=\"url(#clip02)\" style=\"stroke:#000000; stroke-width:0.5; stroke-opacity:0.1; fill:none\" points=\"\n",
       "  63.1732,358.201 584.071,358.201 \n",
       "  \"/>\n",
       "<polyline clip-path=\"url(#clip02)\" style=\"stroke:#000000; stroke-width:0.5; stroke-opacity:0.1; fill:none\" points=\"\n",
       "  63.1732,215.768 584.071,215.768 \n",
       "  \"/>\n",
       "<polyline clip-path=\"url(#clip02)\" style=\"stroke:#000000; stroke-width:0.5; stroke-opacity:0.1; fill:none\" points=\"\n",
       "  63.1732,73.3361 584.071,73.3361 \n",
       "  \"/>\n",
       "<polyline clip-path=\"url(#clip00)\" style=\"stroke:#000000; stroke-width:1; stroke-opacity:1; fill:none\" points=\"\n",
       "  55.1181,372.441 592.126,372.441 \n",
       "  \"/>\n",
       "<polyline clip-path=\"url(#clip00)\" style=\"stroke:#000000; stroke-width:1; stroke-opacity:1; fill:none\" points=\"\n",
       "  114.987,372.441 114.987,367.268 \n",
       "  \"/>\n",
       "<polyline clip-path=\"url(#clip00)\" style=\"stroke:#000000; stroke-width:1; stroke-opacity:1; fill:none\" points=\"\n",
       "  234.725,372.441 234.725,367.268 \n",
       "  \"/>\n",
       "<polyline clip-path=\"url(#clip00)\" style=\"stroke:#000000; stroke-width:1; stroke-opacity:1; fill:none\" points=\"\n",
       "  354.464,372.441 354.464,367.268 \n",
       "  \"/>\n",
       "<polyline clip-path=\"url(#clip00)\" style=\"stroke:#000000; stroke-width:1; stroke-opacity:1; fill:none\" points=\"\n",
       "  474.202,372.441 474.202,367.268 \n",
       "  \"/>\n",
       "<polyline clip-path=\"url(#clip00)\" style=\"stroke:#000000; stroke-width:1; stroke-opacity:1; fill:none\" points=\"\n",
       "  55.1181,372.441 55.1181,27.5591 \n",
       "  \"/>\n",
       "<polyline clip-path=\"url(#clip00)\" style=\"stroke:#000000; stroke-width:1; stroke-opacity:1; fill:none\" points=\"\n",
       "  55.1181,358.201 63.1732,358.201 \n",
       "  \"/>\n",
       "<polyline clip-path=\"url(#clip00)\" style=\"stroke:#000000; stroke-width:1; stroke-opacity:1; fill:none\" points=\"\n",
       "  55.1181,215.768 63.1732,215.768 \n",
       "  \"/>\n",
       "<polyline clip-path=\"url(#clip00)\" style=\"stroke:#000000; stroke-width:1; stroke-opacity:1; fill:none\" points=\"\n",
       "  55.1181,73.3361 63.1732,73.3361 \n",
       "  \"/>\n",
       "<g clip-path=\"url(#clip00)\">\n",
       "<text style=\"fill:#000000; fill-opacity:1; font-family:Arial,Helvetica Neue,Helvetica,sans-serif; font-size:12; text-anchor:middle;\" transform=\"rotate(0, 114.987, 386.241)\" x=\"114.987\" y=\"386.241\">-2</text>\n",
       "</g>\n",
       "<g clip-path=\"url(#clip00)\">\n",
       "<text style=\"fill:#000000; fill-opacity:1; font-family:Arial,Helvetica Neue,Helvetica,sans-serif; font-size:12; text-anchor:middle;\" transform=\"rotate(0, 234.725, 386.241)\" x=\"234.725\" y=\"386.241\">0</text>\n",
       "</g>\n",
       "<g clip-path=\"url(#clip00)\">\n",
       "<text style=\"fill:#000000; fill-opacity:1; font-family:Arial,Helvetica Neue,Helvetica,sans-serif; font-size:12; text-anchor:middle;\" transform=\"rotate(0, 354.464, 386.241)\" x=\"354.464\" y=\"386.241\">2</text>\n",
       "</g>\n",
       "<g clip-path=\"url(#clip00)\">\n",
       "<text style=\"fill:#000000; fill-opacity:1; font-family:Arial,Helvetica Neue,Helvetica,sans-serif; font-size:12; text-anchor:middle;\" transform=\"rotate(0, 474.202, 386.241)\" x=\"474.202\" y=\"386.241\">4</text>\n",
       "</g>\n",
       "<g clip-path=\"url(#clip00)\">\n",
       "<text style=\"fill:#000000; fill-opacity:1; font-family:Arial,Helvetica Neue,Helvetica,sans-serif; font-size:12; text-anchor:end;\" transform=\"rotate(0, 49.1181, 362.701)\" x=\"49.1181\" y=\"362.701\">0</text>\n",
       "</g>\n",
       "<g clip-path=\"url(#clip00)\">\n",
       "<text style=\"fill:#000000; fill-opacity:1; font-family:Arial,Helvetica Neue,Helvetica,sans-serif; font-size:12; text-anchor:end;\" transform=\"rotate(0, 49.1181, 220.268)\" x=\"49.1181\" y=\"220.268\">10</text>\n",
       "</g>\n",
       "<g clip-path=\"url(#clip00)\">\n",
       "<text style=\"fill:#000000; fill-opacity:1; font-family:Arial,Helvetica Neue,Helvetica,sans-serif; font-size:12; text-anchor:end;\" transform=\"rotate(0, 49.1181, 77.8361)\" x=\"49.1181\" y=\"77.8361\">20</text>\n",
       "</g>\n",
       "<g clip-path=\"url(#clip00)\">\n",
       "<text style=\"fill:#000000; fill-opacity:1; font-family:Arial,Helvetica Neue,Helvetica,sans-serif; font-size:21; text-anchor:middle;\" transform=\"rotate(0, 323.622, 18)\" x=\"323.622\" y=\"18\">My Results</text>\n",
       "</g>\n",
       "<g clip-path=\"url(#clip00)\">\n",
       "<text style=\"fill:#000000; fill-opacity:1; font-family:Arial,Helvetica Neue,Helvetica,sans-serif; font-size:16; text-anchor:middle;\" transform=\"rotate(0, 323.622, 397.6)\" x=\"323.622\" y=\"397.6\">x</text>\n",
       "</g>\n",
       "<g clip-path=\"url(#clip00)\">\n",
       "<text style=\"fill:#000000; fill-opacity:1; font-family:Arial,Helvetica Neue,Helvetica,sans-serif; font-size:16; text-anchor:middle;\" transform=\"rotate(-90, 14.4, 200)\" x=\"14.4\" y=\"200\">my output value</text>\n",
       "</g>\n",
       "<polyline clip-path=\"url(#clip02)\" style=\"stroke:#ff0000; stroke-width:2; stroke-opacity:1; fill:none\" points=\"\n",
       "  55.1181,125.894 58.7465,132.92 62.375,139.841 66.0034,146.658 69.6318,153.37 73.2603,159.978 76.8887,166.481 80.5171,172.879 84.1456,179.173 87.774,185.362 \n",
       "  91.4024,191.446 95.0309,197.426 98.6593,203.301 102.288,209.072 105.916,214.738 109.545,220.299 113.173,225.756 116.801,231.108 120.43,236.355 124.058,241.498 \n",
       "  127.687,246.536 131.315,251.469 134.944,256.298 138.572,261.022 142.2,265.642 145.829,270.157 149.457,274.567 153.086,278.873 156.714,283.074 160.343,287.17 \n",
       "  163.971,291.162 167.599,295.049 171.228,298.832 174.856,302.51 178.485,306.083 182.113,309.551 185.742,312.915 189.37,316.175 192.999,319.329 196.627,322.38 \n",
       "  200.255,325.325 203.884,328.166 207.512,330.902 211.141,333.533 214.769,336.06 218.398,338.483 222.026,340.8 225.654,343.013 229.283,345.122 232.911,347.125 \n",
       "  236.54,349.024 240.168,350.819 243.797,352.509 247.425,354.094 251.053,355.575 254.682,356.95 258.31,358.222 261.939,359.388 265.567,360.45 269.196,361.408 \n",
       "  272.824,362.261 276.452,363.009 280.081,363.652 283.709,364.191 287.338,364.625 290.966,364.955 294.595,365.18 298.223,365.3 301.851,365.316 305.48,365.227 \n",
       "  309.108,365.033 312.737,364.735 316.365,364.332 319.994,363.825 323.622,363.213 327.25,362.496 330.879,361.675 334.507,360.749 338.136,359.718 341.764,358.583 \n",
       "  345.393,357.343 349.021,355.998 352.649,354.549 356.278,352.995 359.906,351.337 363.535,349.574 367.163,347.706 370.792,345.734 374.42,343.657 378.049,341.475 \n",
       "  381.677,339.189 385.305,336.798 388.934,334.303 392.562,331.702 396.191,328.998 399.819,326.188 403.448,323.274 407.076,320.255 410.704,317.132 414.333,313.904 \n",
       "  417.961,310.572 421.59,307.134 425.218,303.593 428.847,299.946 432.475,296.195 436.103,292.339 439.732,288.379 443.36,284.314 446.989,280.144 450.617,275.87 \n",
       "  454.246,271.491 457.874,267.008 461.502,262.419 465.131,257.727 468.759,252.929 472.388,248.027 476.016,243.02 479.645,237.909 483.273,232.693 486.901,227.372 \n",
       "  490.53,221.947 494.158,216.417 497.787,210.783 501.415,205.044 505.044,199.2 508.672,193.251 512.3,187.198 515.929,181.041 519.557,174.778 523.186,168.411 \n",
       "  526.814,161.94 530.443,155.364 534.071,148.683 537.7,141.897 541.328,135.007 544.956,128.012 548.585,120.913 552.213,113.709 555.842,106.4 559.47,98.9871 \n",
       "  563.099,91.4692 566.727,83.8466 570.355,76.1194 573.984,68.2876 577.612,60.3512 581.241,52.3101 584.869,44.1644 588.498,35.914 592.126,27.5591 \n",
       "  \"/>\n",
       "<polyline clip-path=\"url(#clip02)\" style=\"stroke:#0000ff; stroke-width:1; stroke-opacity:1; fill:none\" stroke-dasharray=\"8, 5\" points=\"\n",
       "  55.1181,372.301 58.7465,372.154 62.375,371.955 66.0034,371.705 69.6318,371.407 73.2603,371.059 76.8887,370.664 80.5171,370.224 84.1456,369.739 87.774,369.212 \n",
       "  91.4024,368.645 95.0309,368.039 98.6593,367.397 102.288,366.722 105.916,366.015 109.545,365.279 113.173,364.518 116.801,363.733 120.43,362.928 124.058,362.105 \n",
       "  127.687,361.268 131.315,360.42 134.944,359.564 138.572,358.703 142.2,357.84 145.829,356.978 149.457,356.121 153.086,355.271 156.714,354.432 160.343,353.607 \n",
       "  163.971,352.799 167.599,352.011 171.228,351.245 174.856,350.505 178.485,349.793 182.113,349.112 185.742,348.465 189.37,347.853 192.999,347.279 196.627,346.745 \n",
       "  200.255,346.254 203.884,345.806 207.512,345.404 211.141,345.048 214.769,344.741 218.398,344.484 222.026,344.277 225.654,344.121 229.283,344.016 232.911,343.964 \n",
       "  236.54,343.964 240.168,344.016 243.797,344.121 247.425,344.277 251.053,344.484 254.682,344.741 258.31,345.048 261.939,345.404 265.567,345.806 269.196,346.254 \n",
       "  272.824,346.745 276.452,347.279 280.081,347.853 283.709,348.465 287.338,349.112 290.966,349.793 294.595,350.505 298.223,351.245 301.851,352.011 305.48,352.799 \n",
       "  309.108,353.607 312.737,354.432 316.365,355.271 319.994,356.121 323.622,356.978 327.25,357.84 330.879,358.703 334.507,359.564 338.136,360.42 341.764,361.268 \n",
       "  345.393,362.105 349.021,362.928 352.649,363.733 356.278,364.518 359.906,365.279 363.535,366.015 367.163,366.722 370.792,367.397 374.42,368.039 378.049,368.645 \n",
       "  381.677,369.212 385.305,369.739 388.934,370.224 392.562,370.664 396.191,371.059 399.819,371.407 403.448,371.705 407.076,371.955 410.704,372.154 414.333,372.301 \n",
       "  417.961,372.397 421.59,372.441 425.218,372.432 428.847,372.372 432.475,372.259 436.103,372.094 439.732,371.879 443.36,371.613 446.989,371.298 450.617,370.935 \n",
       "  454.246,370.525 457.874,370.07 461.502,369.571 465.131,369.031 468.759,368.451 472.388,367.833 476.016,367.18 479.645,366.494 483.273,365.777 486.901,365.033 \n",
       "  490.53,364.263 494.158,363.471 497.787,362.66 501.415,361.833 505.044,360.992 508.672,360.141 512.3,359.282 515.929,358.42 519.557,357.557 523.186,356.697 \n",
       "  526.814,355.842 530.443,354.995 534.071,354.16 537.7,353.341 541.328,352.539 544.956,351.757 548.585,351 552.213,350.269 555.842,349.567 559.47,348.896 \n",
       "  563.099,348.26 566.727,347.661 570.355,347.1 573.984,346.58 577.612,346.102 581.241,345.669 584.869,345.282 588.498,344.943 592.126,344.652 \n",
       "  \"/>\n",
       "<polygon clip-path=\"url(#clip00)\" points=\"\n",
       "489.759,93.7991 574.126,93.7991 574.126,48.4391 489.759,48.4391 \n",
       "  \" fill=\"#ffffff\" fill-opacity=\"1\"/>\n",
       "<polyline clip-path=\"url(#clip00)\" style=\"stroke:#000000; stroke-width:1; stroke-opacity:1; fill:none\" points=\"\n",
       "  489.759,93.7991 574.126,93.7991 574.126,48.4391 489.759,48.4391 489.759,93.7991 \n",
       "  \"/>\n",
       "<polyline clip-path=\"url(#clip00)\" style=\"stroke:#ff0000; stroke-width:2; stroke-opacity:1; fill:none\" points=\"\n",
       "  495.759,63.5591 531.759,63.5591 \n",
       "  \"/>\n",
       "<g clip-path=\"url(#clip00)\">\n",
       "<text style=\"fill:#000000; fill-opacity:1; font-family:Arial,Helvetica Neue,Helvetica,sans-serif; font-size:12; text-anchor:start;\" transform=\"rotate(0, 537.759, 68.0591)\" x=\"537.759\" y=\"68.0591\">fn1()</text>\n",
       "</g>\n",
       "<polyline clip-path=\"url(#clip00)\" style=\"stroke:#0000ff; stroke-width:1; stroke-opacity:1; fill:none\" stroke-dasharray=\"8, 5\" points=\"\n",
       "  495.759,78.6791 531.759,78.6791 \n",
       "  \"/>\n",
       "<g clip-path=\"url(#clip00)\">\n",
       "<text style=\"fill:#000000; fill-opacity:1; font-family:Arial,Helvetica Neue,Helvetica,sans-serif; font-size:12; text-anchor:start;\" transform=\"rotate(0, 537.759, 83.1791)\" x=\"537.759\" y=\"83.1791\">cos</text>\n",
       "</g>\n",
       "</svg>\n"
      ]
     },
     "execution_count": 21,
     "metadata": {},
     "output_type": "execute_result"
    }
   ],
   "source": [
    "x = collect(-3:6/99:6) \n",
    "\n",
    "plot(x,fn1.(x),color=:red,linewidth=2,label=\"fn1()\")\n",
    "plot!(x,cos.(x),color=:blue,line=(:dash),label=\"cos\")\n",
    "title!(\"My Results\")\n",
    "xlabel!(\"x\")\n",
    "ylabel!(\"my output value\")"
   ]
  },
  {
   "cell_type": "code",
   "execution_count": 22,
   "metadata": {
    "collapsed": false,
    "deletable": true,
    "editable": true
   },
   "outputs": [
    {
     "name": "stdout",
     "output_type": "stream",
     "text": [
      "end of program\n"
     ]
    }
   ],
   "source": [
    "println(\"end of program\")"
   ]
  },
  {
   "cell_type": "code",
   "execution_count": null,
   "metadata": {
    "collapsed": true,
    "deletable": true,
    "editable": true
   },
   "outputs": [],
   "source": []
  }
 ],
 "metadata": {
  "anaconda-cloud": {},
  "kernelspec": {
   "display_name": "Julia 0.6.0",
   "language": "julia",
   "name": "julia-0.6"
  },
  "language_info": {
   "file_extension": ".jl",
   "mimetype": "application/julia",
   "name": "julia",
   "version": "0.6.0"
  }
 },
 "nbformat": 4,
 "nbformat_minor": 1
}
