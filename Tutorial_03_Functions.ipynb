{
 "cells": [
  {
   "cell_type": "markdown",
   "metadata": {
    "collapsed": true
   },
   "source": [
    "# Functions\n",
    "\n",
    "This notebook shows how to define functions with one (or several) inputs and outputs. It also shows how to use to dot (.) syntax to apply a function to each element of an array."
   ]
  },
  {
   "cell_type": "markdown",
   "metadata": {},
   "source": [
    "## Loading Packages"
   ]
  },
  {
   "cell_type": "code",
   "execution_count": 1,
   "metadata": {},
   "outputs": [
    {
     "data": {
      "text/plain": [
       "printlnPs (generic function with 2 methods)"
      ]
     },
     "execution_count": 1,
     "metadata": {},
     "output_type": "execute_result"
    }
   ],
   "source": [
    "using Dates, Roots\n",
    "             \n",
    "include(\"printmat.jl\")"
   ]
  },
  {
   "cell_type": "code",
   "execution_count": 3,
   "metadata": {},
   "outputs": [],
   "source": [
    "using Plots\n",
    "\n",
    "backend = \"gr\"              #\"gr\" (default), \"pyplot\" \n",
    "\n",
    "if backend == \"pyplot\"\n",
    "    pyplot(size=(600,400))\n",
    "else    \n",
    "    gr(size=(480,320))\n",
    "    default(fmt = :png)\n",
    "end"
   ]
  },
  {
   "cell_type": "markdown",
   "metadata": {},
   "source": [
    "# Functions with One Output"
   ]
  },
  {
   "cell_type": "markdown",
   "metadata": {},
   "source": [
    "## The Basic Approach\n",
    "\n",
    "The basic approach to define a function with the name `fn` is\n",
    "```\n",
    "function fn(x,b)\n",
    "    ...(some code)\n",
    "    return y\n",
    "end    \n",
    "``` \n",
    "\n",
    "Once you have defined a function, you can use it (call on it) by, for instance, `y1 = fn(2,1)`. This will generate a `y1` variable (not a `y` variable) in the workspace. Inside the function, `x` is then 2 and `b` is 1. Clearly, if `x1=2 and b1=1`, you get the same result by calling as `y1 = fn(x1,b1)`."
   ]
  },
  {
   "cell_type": "code",
   "execution_count": 4,
   "metadata": {},
   "outputs": [
    {
     "name": "stdout",
     "output_type": "stream",
     "text": [
      "result from fn1(2,1):      0.310\n"
     ]
    }
   ],
   "source": [
    "function fn1(x,b)                   #x and b are the inputs\n",
    "    c = 0.5                         #c is only \"seen\" inside the function   \n",
    "    y = b*(x-1.1)^2 - c\n",
    "    return y                        #this is the output \n",
    "end\n",
    "\n",
    "y1 = fn1(2,1)\n",
    "printlnPs(\"result from fn1(2,1): \",y1)"
   ]
  },
  {
   "cell_type": "markdown",
   "metadata": {},
   "source": [
    "## Default Values for the Inputs\n",
    "\n",
    "You can change the first line of the function to specify default values as \n",
    "```\n",
    "function fn(x,b=1)\n",
    "```\n",
    "\n",
    "In this case you can call on the function as `fn(x)` and the value of `b` will default to 1. (Clearly, inputs with default values must be towards the end of the list of inputs.)"
   ]
  },
  {
   "cell_type": "code",
   "execution_count": 5,
   "metadata": {},
   "outputs": [
    {
     "name": "stdout",
     "output_type": "stream",
     "text": [
      "result from fn2(2,1) and fn2(2):      0.310     0.310\n"
     ]
    }
   ],
   "source": [
    "function fn2(x,b=1)                 #b=1 is the default in case we call as fn2(x)\n",
    "    y = b*(x-1.1)^2 - 0.5\n",
    "    return y\n",
    "end\n",
    "\n",
    "printlnPs(\"result from fn2(2,1) and fn2(2): \",fn2(2,1),fn2(2))"
   ]
  },
  {
   "cell_type": "markdown",
   "metadata": {},
   "source": [
    "## Elementwise Evaluation\n",
    "\n",
    "To apply the function to each element of arrays `x` and `b`, use the dot syntax: \n",
    "```\n",
    "y = fn.(x,b)\n",
    "```\n",
    "This calculates `fn(x[i],b[i])` for each pair `(x[i],b[i])`.\n",
    "\n",
    "Instead, with `fn.(x,2)`, you calculate `fn(x[i],2)` for each element `x[i]`."
   ]
  },
  {
   "cell_type": "code",
   "execution_count": 6,
   "metadata": {},
   "outputs": [
    {
     "name": "stdout",
     "output_type": "stream",
     "text": [
      "\n",
      "result from the function fn2.(x1,2): \n",
      "    -0.480\n",
      "    -0.180\n",
      "\n",
      "\n",
      "result from the function fn2.(x1,b1): \n",
      "    -0.480\n",
      "    -0.180\n",
      "\n"
     ]
    }
   ],
   "source": [
    "x1 = [1,1.5]\n",
    "b1 = [2,2]\n",
    "\n",
    "println(\"\\nresult from the function fn2.(x1,2): \")\n",
    "printmat(fn2.(x1,2))\n",
    "\n",
    "println(\"\\nresult from the function fn2.(x1,b1): \")\n",
    "printmat(fn2.(x1,b1))"
   ]
  },
  {
   "cell_type": "code",
   "execution_count": 7,
   "metadata": {},
   "outputs": [
    {
     "data": {
      "image/png": "[encoded data removed]"
     },
     "execution_count": 7,
     "metadata": {},
     "output_type": "execute_result"
    }
   ],
   "source": [
    "x2 = -1:0.01:3                        \n",
    "\n",
    "p1 = plot(x2,fn1.(x2,2),label=\"fn1(x,2)\")           #plotting the function\n",
    "plot!([0],linetype=:hline,linecolor=:black,line=(:dash,1),label=\"\")"
   ]
  },
  {
   "cell_type": "markdown",
   "metadata": {},
   "source": [
    "## A \"one-liner\"\n",
    "\n",
    "We can also create a short version of a function as in the cell below. Notice, however, that this short version can (essentially) only contain one expression."
   ]
  },
  {
   "cell_type": "code",
   "execution_count": 8,
   "metadata": {},
   "outputs": [
    {
     "name": "stdout",
     "output_type": "stream",
     "text": [
      "result from the function fn1b.(x1): \n",
      "    -0.490\n",
      "    -0.340\n",
      "\n"
     ]
    }
   ],
   "source": [
    "fn3(x,b) = b*(x-1.1)^2 - 0.5          #short form of a function\n",
    "\n",
    "y = fn3.(x1,1)                 \n",
    "println(\"result from the function fn1b.(x1): \")\n",
    "printmat(y)"
   ]
  },
  {
   "cell_type": "markdown",
   "metadata": {},
   "source": [
    "## Explicit Names of the Inputs: Keyword Arguments\n",
    "\n",
    "You can also define functions that take *keyword arguments* like in \n",
    "```\n",
    "fn(x;b,c)\n",
    "``` \n",
    "Notice the semi-colon (;). You can also specify default values as `fn(x;b=1,c=0.5)`\n",
    "\n",
    "In this case, you *call* on the function by `fn(x,c=3,b=2)` (or just `fn(x)` if you want to use the default values). This helps remembering/interpreting what the arguments represent. When calling on the function, you can pass the keyword arguments in any order and you can use comma (,) instead of semi-colon (;)."
   ]
  },
  {
   "cell_type": "code",
   "execution_count": 10,
   "metadata": {},
   "outputs": [
    {
     "name": "stdout",
     "output_type": "stream",
     "text": [
      "result from fn4(1,c=3,b=2):     -2.980\n"
     ]
    }
   ],
   "source": [
    "function fn4(x;b=1,c=0.5)\n",
    "    y = b*(x-1.1)^2 - c\n",
    "    return y\n",
    "end\n",
    "\n",
    "printlnPs(\"result from fn4(1,c=3,b=2): \",fn4(1,c=3,b=2))  "
   ]
  },
  {
   "cell_type": "markdown",
   "metadata": {},
   "source": [
    "## An \"Anonymous\" Function\n",
    "\n",
    "The expression \n",
    "```\n",
    "x->2*(x-1.1)^2 - 0.5\n",
    "```\n",
    "creates an anonymous function (a function without a name). \n",
    "\n",
    "This approach is often useful as an input to another function. For instance, the next cell uses\n",
    "```\n",
    "x->fn1(x,2)\n",
    "```\n",
    "This creates an anonymous function with only one input (`x`), which is what the root finding routine ```find_zero()``` wants."
   ]
  },
  {
   "cell_type": "code",
   "execution_count": 11,
   "metadata": {},
   "outputs": [
    {
     "name": "stdout",
     "output_type": "stream",
     "text": [
      "A root at:      0.600, compare with the graph above.\n"
     ]
    }
   ],
   "source": [
    "xRoot = find_zero(x->fn1(x,2),(-1,1))         #finding a root of a function in     \n",
    "                                           #the interval [-1,1]\n",
    "printlnPs(\"A root at: \",xRoot,\", compare with the graph above.\")"
   ]
  },
  {
   "cell_type": "markdown",
   "metadata": {},
   "source": [
    "# Functions with Several Outputs"
   ]
  },
  {
   "cell_type": "markdown",
   "metadata": {},
   "source": [
    "## Basic Approach\n",
    "\n",
    "A function can produce a \"tuple\" like `(y1,y2,y3)` as output.\n",
    "\n",
    "In case you only want the first two outputs, call as `(y1,y2,) = fn(x)`.\n",
    "\n",
    "Instead, if you only want the 2nd and third outputs, call as `(_,y2,y3) = fn(x)`\n",
    "\n",
    "You can also extract the second output as `y2 = fn(x)[2]`"
   ]
  },
  {
   "cell_type": "code",
   "execution_count": 12,
   "metadata": {},
   "outputs": [
    {
     "name": "stdout",
     "output_type": "stream",
     "text": [
      "The first 2 outputs from the function fn11(1,2):     -0.480         2\n",
      "The result from calling fn11(1,2)[2]:          2\n"
     ]
    }
   ],
   "source": [
    "function fn11(x,b=1)                 \n",
    "    y1 = b*(x-1.1)^2 - 0.5\n",
    "    y2 = b*x\n",
    "    y3 = 3\n",
    "    return y1, y2, y3\n",
    "end\n",
    "\n",
    "(y1,y2,) = fn11(1,2)\n",
    "printlnPs(\"The first 2 outputs from the function fn11(1,2): \",y1,y2)\n",
    "\n",
    "y2 = fn11(1,2)[2]         #to grab just the second output from the function\n",
    "printlnPs(\"The result from calling fn11(1,2)[2]: \",y2)"
   ]
  },
  {
   "cell_type": "markdown",
   "metadata": {},
   "source": [
    "## Several Outputs 2: Named Tuples and Dictionaries\n",
    "\n",
    "\n",
    "Instead of returning several values, it might be easier to combine them into either a \"named tuple\" or a dictionary and then exporting that."
   ]
  },
  {
   "cell_type": "code",
   "execution_count": 13,
   "metadata": {},
   "outputs": [
    {
     "name": "stdout",
     "output_type": "stream",
     "text": [
      "from fn12(1,2): \n",
      "    -0.480         2\n"
     ]
    }
   ],
   "source": [
    "function fn12(x,b=1)                 \n",
    "    y1 = b*(x-1.1)^2 - 0.5\n",
    "    y2 = b*x\n",
    "    y3 = 3\n",
    "    y  = (a=y1,b=y2,c=y3)                     #named tuple\n",
    "    return y                                   \n",
    "end\n",
    "\n",
    "y1 = fn12(1,2)\n",
    "println(\"from fn12(1,2): \")      \n",
    "printlnPs(y1.a,y1.b)                          #y1.a to get \"element\" a of the output y1"
   ]
  },
  {
   "cell_type": "code",
   "execution_count": 14,
   "metadata": {},
   "outputs": [
    {
     "name": "stdout",
     "output_type": "stream",
     "text": [
      "from the function fn13(1,2): \n",
      "    -0.480         2\n"
     ]
    }
   ],
   "source": [
    "function fn13(x,b=1)                 \n",
    "    y1 = b*(x-1.1)^2 - 0.5\n",
    "    y2 = b*x\n",
    "    y3 = 3\n",
    "    y  = Dict(\"a\"=>y1,\"b\"=>y2,\"c\"=>y3)                     #dictionary\n",
    "    return y\n",
    "end\n",
    "\n",
    "y1 = fn13(1,2)\n",
    "println(\"from the function fn13(1,2): \")\n",
    "printlnPs(y1[\"a\"],y1[\"b\"])                  #y1[\"a\"] to get \"element\" a of the output y1                          "
   ]
  },
  {
   "cell_type": "markdown",
   "metadata": {},
   "source": [
    "## Several Outputs 3: Elementwise Evaluation (extra)\n",
    "\n",
    "...can be tricky, because you get an array (same dimension as the input) of tuples instead of a tuple of arrays (which is probably what you want).\n",
    "\n",
    "One way around this is to reshuffle the array of tuples as matrix - and the split it up into vectors, as in the cell below.\n",
    "\n",
    "However, it might be easier to either loop over the function calls, or to write the function so that it can directly handle array inputs (without the dot). This is done in `fn14()`."
   ]
  },
  {
   "cell_type": "code",
   "execution_count": 15,
   "metadata": {},
   "outputs": [
    {
     "name": "stdout",
     "output_type": "stream",
     "text": [
      "type and size of y: Array{Tuple{Float64,Float64,Int64},1} (2,)\n",
      "\n",
      "printing the vectors y1 and y2\n",
      "    -0.480     2.000\n",
      "    -0.180     3.000\n",
      "\n"
     ]
    }
   ],
   "source": [
    "y = fn11.(x1,2)\n",
    "println(\"type and size of y: \",typeof(y),\" \",size(y) )\n",
    "\n",
    "z = [y[i][j] for i = 1:length(x1),j=1:3]    #create 2x3 matrix\n",
    "(y1,y2,y3) = [z[:,i] for i=1:3]            #split up into 3 vectors\n",
    "\n",
    "println(\"\\nprinting the vectors y1 and y2\")\n",
    "printmat([y1 y2])"
   ]
  },
  {
   "cell_type": "code",
   "execution_count": 16,
   "metadata": {},
   "outputs": [
    {
     "name": "stdout",
     "output_type": "stream",
     "text": [
      "result from the function fn3b(x1,2): \n",
      "    -0.480     2.000\n",
      "    -0.180     3.000\n",
      "\n"
     ]
    }
   ],
   "source": [
    "function fn14(x,b=1)                 #x can be an array\n",
    "    y1 = b*(x.-1.1).^2 .- 0.5\n",
    "    y2 = b*x\n",
    "    y3 = 3\n",
    "    return y1, y2, y3\n",
    "end\n",
    "\n",
    "(y1,y2,) = fn14(x1,2)                                  #function written to handle arrays\n",
    "println(\"result from the function fn3b(x1,2): \")\n",
    "printmat([y1 y2])"
   ]
  },
  {
   "cell_type": "markdown",
   "metadata": {
    "collapsed": true
   },
   "source": [
    "# Documenting Your Function \n",
    "\n",
    "To use Julia's help function (`? FunctionName`), put the documentation in triple quotes, just above the function defintiion. The cell below illustrates a simple case."
   ]
  },
  {
   "cell_type": "code",
   "execution_count": 17,
   "metadata": {},
   "outputs": [
    {
     "data": {
      "text/plain": [
       "fn101"
      ]
     },
     "execution_count": 17,
     "metadata": {},
     "output_type": "execute_result"
    }
   ],
   "source": [
    "\"\"\"\n",
    "    fn101(x,b=1)\n",
    "\n",
    "Calculate b*(x-1.1)^2 - 0.5.\n",
    "\n",
    "# Arguments\n",
    "- `x`:    a number\n",
    "- `b`:    a number\n",
    "\n",
    "\"\"\"\n",
    "function fn101(x,b=1)       \n",
    "    y = b*(x-1.1)^2 - 0.5\n",
    "    return y\n",
    "end"
   ]
  },
  {
   "cell_type": "code",
   "execution_count": 18,
   "metadata": {},
   "outputs": [
    {
     "name": "stdout",
     "output_type": "stream",
     "text": [
      "search: \u001b[0m\u001b[1mf\u001b[22m\u001b[0m\u001b[1mn\u001b[22m\u001b[0m\u001b[1m1\u001b[22m\u001b[0m\u001b[1m0\u001b[22m\u001b[0m\u001b[1m1\u001b[22m\n",
      "\n"
     ]
    },
    {
     "data": {
      "text/markdown": [
       "```\n",
       "fn101(x,b=1)\n",
       "```\n",
       "\n",
       "Calculate b*(x-1.1)^2 - 0.5.\n",
       "\n",
       "# Arguments\n",
       "\n",
       "  * `x`:    a number\n",
       "  * `b`:    a number\n"
      ],
      "text/plain": [
       "\u001b[36m  fn101(x,b=1)\u001b[39m\n",
       "\n",
       "  Calculate b*(x-1.1)^2 - 0.5.\n",
       "\n",
       "\u001b[1m  Arguments\u001b[22m\n",
       "\u001b[1m  ≡≡≡≡≡≡≡≡≡≡≡\u001b[22m\n",
       "\n",
       "    •    \u001b[36mx\u001b[39m: a number\n",
       "\n",
       "    •    \u001b[36mb\u001b[39m: a number"
      ]
     },
     "execution_count": 18,
     "metadata": {},
     "output_type": "execute_result"
    }
   ],
   "source": [
    "? fn101"
   ]
  },
  {
   "cell_type": "code",
   "execution_count": null,
   "metadata": {},
   "outputs": [],
   "source": []
  }
 ],
 "metadata": {
  "anaconda-cloud": {},
  "kernelspec": {
   "display_name": "Julia 1.0.1",
   "language": "julia",
   "name": "julia-1.0"
  },
  "language_info": {
   "file_extension": ".jl",
   "mimetype": "application/julia",
   "name": "julia",
   "version": "1.0.1"
  }
 },
 "nbformat": 4,
 "nbformat_minor": 1
}
