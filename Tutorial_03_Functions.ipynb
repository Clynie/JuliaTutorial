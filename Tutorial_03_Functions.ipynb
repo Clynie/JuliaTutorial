{
 "cells": [
  {
   "cell_type": "markdown",
   "metadata": {
    "collapsed": true
   },
   "source": [
    "# Functions"
   ]
  },
  {
   "cell_type": "markdown",
   "metadata": {},
   "source": [
    "## Loading Packages"
   ]
  },
  {
   "cell_type": "code",
   "execution_count": 1,
   "metadata": {},
   "outputs": [
    {
     "data": {
      "text/plain": [
       "printmatDate"
      ]
     },
     "execution_count": 1,
     "metadata": {},
     "output_type": "execute_result"
    }
   ],
   "source": [
    "using Roots\n",
    "\n",
    "#using Dates                #Julia 0.7, needed for printmat.jl\n",
    "include(\"printmat.jl\")   #a function for prettier matrix printing"
   ]
  },
  {
   "cell_type": "code",
   "execution_count": 2,
   "metadata": {},
   "outputs": [
    {
     "data": {
      "text/plain": [
       "Plots.GRBackend()"
      ]
     },
     "execution_count": 2,
     "metadata": {},
     "output_type": "execute_result"
    }
   ],
   "source": [
    "using Plots\n",
    "\n",
    "backend = \"gr\"              #\"gr\" (default), \"pyplot\" \n",
    "\n",
    "if backend == \"pyplot\"\n",
    "    pyplot(size=(600,400))\n",
    "else    \n",
    "    gr(size=(600,400))\n",
    "end"
   ]
  },
  {
   "cell_type": "markdown",
   "metadata": {},
   "source": [
    "## A Function with a Scalar Input and a Scalar Output\n",
    "\n",
    "The function below takes a scalar as input and produces a scalar as output."
   ]
  },
  {
   "cell_type": "code",
   "execution_count": 3,
   "metadata": {},
   "outputs": [
    {
     "data": {
      "text/plain": [
       "fn1 (generic function with 1 method)"
      ]
     },
     "execution_count": 3,
     "metadata": {},
     "output_type": "execute_result"
    }
   ],
   "source": [
    "function fn1(x)\n",
    "    b = 2                    #only seen inside function  \n",
    "    y = b*(x-1.1)^2 - 0.5\n",
    "    return y\n",
    "end"
   ]
  },
  {
   "cell_type": "code",
   "execution_count": 4,
   "metadata": {},
   "outputs": [
    {
     "name": "stdout",
     "output_type": "stream",
     "text": [
      "result from calling fn1(1):     -0.480\n"
     ]
    }
   ],
   "source": [
    "y = fn1(1)                   #calling on the function\n",
    "printlnPs(\"result from calling fn1(1): \",y)"
   ]
  },
  {
   "cell_type": "markdown",
   "metadata": {},
   "source": [
    "## Elementwise Evaluation\n",
    "\n",
    "If we instead want to apply your function to each element of an array, then use the dot syntax: \n",
    "```\n",
    "y = fn1.(x)\n",
    "```\n",
    "\n",
    "Alternatively, write a loop or perhaps a function that directly supports elementwise operations on arrays like\n",
    "```\n",
    "y = 2*(x.-1.1).^2 .- 0.5      # .- and .^2 means that x could be an array \n",
    "```"
   ]
  },
  {
   "cell_type": "code",
   "execution_count": 5,
   "metadata": {},
   "outputs": [
    {
     "name": "stdout",
     "output_type": "stream",
     "text": [
      "result from calling fn1.(x): \n",
      "    -0.480\n",
      "    -0.180\n",
      "\n",
      "fn1.(x) evaluates fn1(x[i,j]) for each element x[i,j]\n"
     ]
    }
   ],
   "source": [
    "x = [1;1.5] \n",
    "\n",
    "y = fn1.(x)                   \n",
    "println(\"result from calling fn1.(x): \")\n",
    "printmat(y)\n",
    "\n",
    "println(\"fn1.(x) evaluates fn1(x[i,j]) for each element x[i,j]\")"
   ]
  },
  {
   "cell_type": "code",
   "execution_count": 6,
   "metadata": {},
   "outputs": [
    {
     "data": {
      "text/html": [
       "<?xml version=\"1.0\" encoding=\"utf-8\"?>\n",
       "<svg xmlns=\"http://www.w3.org/2000/svg\" xmlns:xlink=\"http://www.w3.org/1999/xlink\" width=\"600\" height=\"400\" viewBox=\"0 0 600 400\">\n",
       "<defs>\n",
       "  <clipPath id=\"clip00\">\n",
       "    <rect x=\"0\" y=\"0\" width=\"600\" height=\"400\"/>\n",
       "  </clipPath>\n",
       "</defs>\n",
       "<polygon clip-path=\"url(#clip00)\" points=\"\n",
       "0,400 600,400 600,0 0,0 \n",
       "  \" fill=\"#ffffff\" fill-opacity=\"1\"/>\n",
       "<defs>\n",
       "  <clipPath id=\"clip01\">\n",
       "    <rect x=\"120\" y=\"0\" width=\"421\" height=\"400\"/>\n",
       "  </clipPath>\n",
       "</defs>\n",
       "<polygon clip-path=\"url(#clip00)\" points=\"\n",
       "22.3377,375.813 580.315,375.813 580.315,11.811 22.3377,11.811 \n",
       "  \" fill=\"#ffffff\" fill-opacity=\"1\"/>\n",
       "<defs>\n",
       "  <clipPath id=\"clip02\">\n",
       "    <rect x=\"22\" y=\"11\" width=\"559\" height=\"365\"/>\n",
       "  </clipPath>\n",
       "</defs>\n",
       "<polyline clip-path=\"url(#clip02)\" style=\"stroke:#000000; stroke-width:0.5; stroke-opacity:0.1; fill:none\" points=\"\n",
       "  22.3377,375.813 22.3377,11.811 \n",
       "  \"/>\n",
       "<polyline clip-path=\"url(#clip02)\" style=\"stroke:#000000; stroke-width:0.5; stroke-opacity:0.1; fill:none\" points=\"\n",
       "  161.832,375.813 161.832,11.811 \n",
       "  \"/>\n",
       "<polyline clip-path=\"url(#clip02)\" style=\"stroke:#000000; stroke-width:0.5; stroke-opacity:0.1; fill:none\" points=\"\n",
       "  301.326,375.813 301.326,11.811 \n",
       "  \"/>\n",
       "<polyline clip-path=\"url(#clip02)\" style=\"stroke:#000000; stroke-width:0.5; stroke-opacity:0.1; fill:none\" points=\"\n",
       "  440.821,375.813 440.821,11.811 \n",
       "  \"/>\n",
       "<polyline clip-path=\"url(#clip02)\" style=\"stroke:#000000; stroke-width:0.5; stroke-opacity:0.1; fill:none\" points=\"\n",
       "  580.315,375.813 580.315,11.811 \n",
       "  \"/>\n",
       "<polyline clip-path=\"url(#clip02)\" style=\"stroke:#000000; stroke-width:0.5; stroke-opacity:0.1; fill:none\" points=\"\n",
       "  22.3377,355.178 580.315,355.178 \n",
       "  \"/>\n",
       "<polyline clip-path=\"url(#clip02)\" style=\"stroke:#000000; stroke-width:0.5; stroke-opacity:0.1; fill:none\" points=\"\n",
       "  22.3377,272.638 580.315,272.638 \n",
       "  \"/>\n",
       "<polyline clip-path=\"url(#clip02)\" style=\"stroke:#000000; stroke-width:0.5; stroke-opacity:0.1; fill:none\" points=\"\n",
       "  22.3377,190.098 580.315,190.098 \n",
       "  \"/>\n",
       "<polyline clip-path=\"url(#clip02)\" style=\"stroke:#000000; stroke-width:0.5; stroke-opacity:0.1; fill:none\" points=\"\n",
       "  22.3377,107.558 580.315,107.558 \n",
       "  \"/>\n",
       "<polyline clip-path=\"url(#clip02)\" style=\"stroke:#000000; stroke-width:0.5; stroke-opacity:0.1; fill:none\" points=\"\n",
       "  22.3377,25.0175 580.315,25.0175 \n",
       "  \"/>\n",
       "<polyline clip-path=\"url(#clip00)\" style=\"stroke:#000000; stroke-width:1; stroke-opacity:1; fill:none\" points=\"\n",
       "  22.3377,375.813 580.315,375.813 \n",
       "  \"/>\n",
       "<polyline clip-path=\"url(#clip00)\" style=\"stroke:#000000; stroke-width:1; stroke-opacity:1; fill:none\" points=\"\n",
       "  22.3377,375.813 22.3377,11.811 \n",
       "  \"/>\n",
       "<polyline clip-path=\"url(#clip00)\" style=\"stroke:#000000; stroke-width:1; stroke-opacity:1; fill:none\" points=\"\n",
       "  22.3377,375.813 22.3377,370.353 \n",
       "  \"/>\n",
       "<polyline clip-path=\"url(#clip00)\" style=\"stroke:#000000; stroke-width:1; stroke-opacity:1; fill:none\" points=\"\n",
       "  161.832,375.813 161.832,370.353 \n",
       "  \"/>\n",
       "<polyline clip-path=\"url(#clip00)\" style=\"stroke:#000000; stroke-width:1; stroke-opacity:1; fill:none\" points=\"\n",
       "  301.326,375.813 301.326,370.353 \n",
       "  \"/>\n",
       "<polyline clip-path=\"url(#clip00)\" style=\"stroke:#000000; stroke-width:1; stroke-opacity:1; fill:none\" points=\"\n",
       "  440.821,375.813 440.821,370.353 \n",
       "  \"/>\n",
       "<polyline clip-path=\"url(#clip00)\" style=\"stroke:#000000; stroke-width:1; stroke-opacity:1; fill:none\" points=\"\n",
       "  580.315,375.813 580.315,370.353 \n",
       "  \"/>\n",
       "<polyline clip-path=\"url(#clip00)\" style=\"stroke:#000000; stroke-width:1; stroke-opacity:1; fill:none\" points=\"\n",
       "  22.3377,355.178 30.7073,355.178 \n",
       "  \"/>\n",
       "<polyline clip-path=\"url(#clip00)\" style=\"stroke:#000000; stroke-width:1; stroke-opacity:1; fill:none\" points=\"\n",
       "  22.3377,272.638 30.7073,272.638 \n",
       "  \"/>\n",
       "<polyline clip-path=\"url(#clip00)\" style=\"stroke:#000000; stroke-width:1; stroke-opacity:1; fill:none\" points=\"\n",
       "  22.3377,190.098 30.7073,190.098 \n",
       "  \"/>\n",
       "<polyline clip-path=\"url(#clip00)\" style=\"stroke:#000000; stroke-width:1; stroke-opacity:1; fill:none\" points=\"\n",
       "  22.3377,107.558 30.7073,107.558 \n",
       "  \"/>\n",
       "<polyline clip-path=\"url(#clip00)\" style=\"stroke:#000000; stroke-width:1; stroke-opacity:1; fill:none\" points=\"\n",
       "  22.3377,25.0175 30.7073,25.0175 \n",
       "  \"/>\n",
       "<g clip-path=\"url(#clip00)\">\n",
       "<text style=\"fill:#000000; fill-opacity:1; font-family:Arial,Helvetica Neue,Helvetica,sans-serif; font-size:12; text-anchor:middle;\" transform=\"rotate(0, 22.3377, 389.613)\" x=\"22.3377\" y=\"389.613\">-1</text>\n",
       "</g>\n",
       "<g clip-path=\"url(#clip00)\">\n",
       "<text style=\"fill:#000000; fill-opacity:1; font-family:Arial,Helvetica Neue,Helvetica,sans-serif; font-size:12; text-anchor:middle;\" transform=\"rotate(0, 161.832, 389.613)\" x=\"161.832\" y=\"389.613\">0</text>\n",
       "</g>\n",
       "<g clip-path=\"url(#clip00)\">\n",
       "<text style=\"fill:#000000; fill-opacity:1; font-family:Arial,Helvetica Neue,Helvetica,sans-serif; font-size:12; text-anchor:middle;\" transform=\"rotate(0, 301.326, 389.613)\" x=\"301.326\" y=\"389.613\">1</text>\n",
       "</g>\n",
       "<g clip-path=\"url(#clip00)\">\n",
       "<text style=\"fill:#000000; fill-opacity:1; font-family:Arial,Helvetica Neue,Helvetica,sans-serif; font-size:12; text-anchor:middle;\" transform=\"rotate(0, 440.821, 389.613)\" x=\"440.821\" y=\"389.613\">2</text>\n",
       "</g>\n",
       "<g clip-path=\"url(#clip00)\">\n",
       "<text style=\"fill:#000000; fill-opacity:1; font-family:Arial,Helvetica Neue,Helvetica,sans-serif; font-size:12; text-anchor:middle;\" transform=\"rotate(0, 580.315, 389.613)\" x=\"580.315\" y=\"389.613\">3</text>\n",
       "</g>\n",
       "<g clip-path=\"url(#clip00)\">\n",
       "<text style=\"fill:#000000; fill-opacity:1; font-family:Arial,Helvetica Neue,Helvetica,sans-serif; font-size:12; text-anchor:end;\" transform=\"rotate(0, 16.3377, 359.678)\" x=\"16.3377\" y=\"359.678\">0</text>\n",
       "</g>\n",
       "<g clip-path=\"url(#clip00)\">\n",
       "<text style=\"fill:#000000; fill-opacity:1; font-family:Arial,Helvetica Neue,Helvetica,sans-serif; font-size:12; text-anchor:end;\" transform=\"rotate(0, 16.3377, 277.138)\" x=\"16.3377\" y=\"277.138\">2</text>\n",
       "</g>\n",
       "<g clip-path=\"url(#clip00)\">\n",
       "<text style=\"fill:#000000; fill-opacity:1; font-family:Arial,Helvetica Neue,Helvetica,sans-serif; font-size:12; text-anchor:end;\" transform=\"rotate(0, 16.3377, 194.598)\" x=\"16.3377\" y=\"194.598\">4</text>\n",
       "</g>\n",
       "<g clip-path=\"url(#clip00)\">\n",
       "<text style=\"fill:#000000; fill-opacity:1; font-family:Arial,Helvetica Neue,Helvetica,sans-serif; font-size:12; text-anchor:end;\" transform=\"rotate(0, 16.3377, 112.058)\" x=\"16.3377\" y=\"112.058\">6</text>\n",
       "</g>\n",
       "<g clip-path=\"url(#clip00)\">\n",
       "<text style=\"fill:#000000; fill-opacity:1; font-family:Arial,Helvetica Neue,Helvetica,sans-serif; font-size:12; text-anchor:end;\" transform=\"rotate(0, 16.3377, 29.5175)\" x=\"16.3377\" y=\"29.5175\">8</text>\n",
       "</g>\n",
       "<polyline clip-path=\"url(#clip02)\" style=\"stroke:#009af9; stroke-width:1; stroke-opacity:1; fill:none\" points=\"\n",
       "  22.3377,11.811 23.7326,15.2695 25.1275,18.7114 26.5225,22.1368 27.9174,25.5457 29.3124,28.9381 30.7073,32.314 32.1023,35.6734 33.4972,39.0163 34.8922,42.3427 \n",
       "  36.2871,45.6525 37.682,48.9459 39.077,52.2227 40.4719,55.4831 41.8669,58.7269 43.2618,61.9542 44.6568,65.165 46.0517,68.3593 47.4466,71.5371 48.8416,74.6984 \n",
       "  50.2365,77.8432 51.6315,80.9715 53.0264,84.0833 54.4214,87.1785 55.8163,90.2573 57.2112,93.3195 58.6062,96.3652 60.0011,99.3945 61.3961,102.407 62.791,105.403 \n",
       "  64.186,108.383 65.5809,111.346 66.9758,114.293 68.3708,117.223 69.7657,120.137 71.1607,123.034 72.5556,125.915 73.9506,128.779 75.3455,131.626 76.7404,134.458 \n",
       "  78.1354,137.272 79.5303,140.07 80.9253,142.852 82.3202,145.617 83.7152,148.366 85.1101,151.098 86.5051,153.813 87.9,156.512 89.2949,159.195 90.6899,161.861 \n",
       "  92.0848,164.51 93.4798,167.143 94.8747,169.76 96.2697,172.36 97.6646,174.944 99.0595,177.511 100.454,180.061 101.849,182.595 103.244,185.112 104.639,187.613 \n",
       "  106.034,190.098 107.429,192.566 108.824,195.017 110.219,197.452 111.614,199.871 113.009,202.273 114.404,204.658 115.799,207.027 117.194,209.379 118.589,211.715 \n",
       "  119.984,214.035 121.379,216.337 122.774,218.624 124.169,220.894 125.563,223.147 126.958,225.384 128.353,227.604 129.748,229.808 131.143,231.995 132.538,234.166 \n",
       "  133.933,236.32 135.328,238.458 136.723,240.58 138.118,242.684 139.513,244.773 140.908,246.844 142.303,248.9 143.698,250.938 145.093,252.961 146.488,254.966 \n",
       "  147.883,256.956 149.277,258.928 150.672,260.884 152.067,262.824 153.462,264.747 154.857,266.654 156.252,268.544 157.647,270.418 159.042,272.275 160.437,274.116 \n",
       "  161.832,275.94 163.227,277.747 164.622,279.539 166.017,281.313 167.412,283.071 168.807,284.813 170.202,286.538 171.597,288.247 172.992,289.939 174.386,291.614 \n",
       "  175.781,293.273 177.176,294.916 178.571,296.542 179.966,298.151 181.361,299.744 182.756,301.321 184.151,302.881 185.546,304.424 186.941,305.951 188.336,307.462 \n",
       "  189.731,308.956 191.126,310.433 192.521,311.894 193.916,313.339 195.311,314.767 196.706,316.178 198.101,317.573 199.495,318.951 200.89,320.313 202.285,321.659 \n",
       "  203.68,322.988 205.075,324.3 206.47,325.596 207.865,326.875 209.26,328.138 210.655,329.385 212.05,330.614 213.445,331.828 214.84,333.025 216.235,334.205 \n",
       "  217.63,335.369 219.025,336.516 220.42,337.647 221.815,338.761 223.209,339.859 224.604,340.94 225.999,342.005 227.394,343.053 228.789,344.085 230.184,345.1 \n",
       "  231.579,346.099 232.974,347.081 234.369,348.047 235.764,348.996 237.159,349.929 238.554,350.845 239.949,351.745 241.344,352.628 242.739,353.495 244.134,354.345 \n",
       "  245.529,355.178 246.924,355.996 248.318,356.796 249.713,357.58 251.108,358.348 252.503,359.099 253.898,359.834 255.293,360.552 256.688,361.253 258.083,361.938 \n",
       "  259.478,362.607 260.873,363.259 262.268,363.895 263.663,364.514 265.058,365.116 266.453,365.702 267.848,366.272 269.243,366.825 270.638,367.361 272.033,367.881 \n",
       "  273.427,368.385 274.822,368.872 276.217,369.342 277.612,369.796 279.007,370.234 280.402,370.655 281.797,371.059 283.192,371.447 284.587,371.819 285.982,372.173 \n",
       "  287.377,372.512 288.772,372.834 290.167,373.139 291.562,373.428 292.957,373.7 294.352,373.956 295.747,374.196 297.141,374.419 298.536,374.625 299.931,374.815 \n",
       "  301.326,374.988 302.721,375.145 304.116,375.285 305.511,375.409 306.906,375.516 308.301,375.607 309.696,375.681 311.091,375.739 312.486,375.78 313.881,375.805 \n",
       "  315.276,375.813 316.671,375.805 318.066,375.78 319.461,375.739 320.856,375.681 322.25,375.607 323.645,375.516 325.04,375.409 326.435,375.285 327.83,375.145 \n",
       "  329.225,374.988 330.62,374.815 332.015,374.625 333.41,374.419 334.805,374.196 336.2,373.956 337.595,373.7 338.99,373.428 340.385,373.139 341.78,372.834 \n",
       "  343.175,372.512 344.57,372.173 345.964,371.819 347.359,371.447 348.754,371.059 350.149,370.655 351.544,370.234 352.939,369.796 354.334,369.342 355.729,368.872 \n",
       "  357.124,368.385 358.519,367.881 359.914,367.361 361.309,366.825 362.704,366.272 364.099,365.702 365.494,365.116 366.889,364.514 368.284,363.895 369.679,363.259 \n",
       "  371.073,362.607 372.468,361.938 373.863,361.253 375.258,360.552 376.653,359.834 378.048,359.099 379.443,358.348 380.838,357.58 382.233,356.796 383.628,355.996 \n",
       "  385.023,355.178 386.418,354.345 387.813,353.495 389.208,352.628 390.603,351.745 391.998,350.845 393.393,349.929 394.788,348.996 396.182,348.047 397.577,347.081 \n",
       "  398.972,346.099 400.367,345.1 401.762,344.085 403.157,343.053 404.552,342.005 405.947,340.94 407.342,339.859 408.737,338.761 410.132,337.647 411.527,336.516 \n",
       "  412.922,335.369 414.317,334.205 415.712,333.025 417.107,331.828 418.502,330.614 419.896,329.385 421.291,328.138 422.686,326.875 424.081,325.596 425.476,324.3 \n",
       "  426.871,322.988 428.266,321.659 429.661,320.313 431.056,318.951 432.451,317.573 433.846,316.178 435.241,314.767 436.636,313.339 438.031,311.894 439.426,310.433 \n",
       "  440.821,308.956 442.216,307.462 443.611,305.951 445.005,304.424 446.4,302.881 447.795,301.321 449.19,299.744 450.585,298.151 451.98,296.542 453.375,294.916 \n",
       "  454.77,293.273 456.165,291.614 457.56,289.939 458.955,288.247 460.35,286.538 461.745,284.813 463.14,283.071 464.535,281.313 465.93,279.539 467.325,277.747 \n",
       "  468.72,275.94 470.114,274.116 471.509,272.275 472.904,270.418 474.299,268.544 475.694,266.654 477.089,264.747 478.484,262.824 479.879,260.884 481.274,258.928 \n",
       "  482.669,256.956 484.064,254.966 485.459,252.961 486.854,250.938 488.249,248.9 489.644,246.844 491.039,244.773 492.434,242.684 493.828,240.58 495.223,238.458 \n",
       "  496.618,236.32 498.013,234.166 499.408,231.995 500.803,229.808 502.198,227.604 503.593,225.384 504.988,223.147 506.383,220.894 507.778,218.624 509.173,216.337 \n",
       "  510.568,214.035 511.963,211.715 513.358,209.379 514.753,207.027 516.148,204.658 517.543,202.273 518.937,199.871 520.332,197.452 521.727,195.017 523.122,192.566 \n",
       "  524.517,190.098 525.912,187.613 527.307,185.112 528.702,182.595 530.097,180.061 531.492,177.511 532.887,174.944 534.282,172.36 535.677,169.76 537.072,167.143 \n",
       "  538.467,164.51 539.862,161.861 541.257,159.195 542.651,156.512 544.046,153.813 545.441,151.098 546.836,148.366 548.231,145.617 549.626,142.852 551.021,140.07 \n",
       "  552.416,137.272 553.811,134.458 555.206,131.626 556.601,128.779 557.996,125.915 559.391,123.034 560.786,120.137 562.181,117.223 563.576,114.293 564.971,111.346 \n",
       "  566.366,108.383 567.76,105.403 569.155,102.407 570.55,99.3945 571.945,96.3652 573.34,93.3195 574.735,90.2573 576.13,87.1785 577.525,84.0833 578.92,80.9715 \n",
       "  580.315,77.8432 \n",
       "  \"/>\n",
       "<polygon clip-path=\"url(#clip00)\" points=\"\n",
       "472.022,62.931 562.315,62.931 562.315,32.691 472.022,32.691 \n",
       "  \" fill=\"#ffffff\" fill-opacity=\"1\"/>\n",
       "<polyline clip-path=\"url(#clip00)\" style=\"stroke:#000000; stroke-width:1; stroke-opacity:1; fill:none\" points=\"\n",
       "  472.022,62.931 562.315,62.931 562.315,32.691 472.022,32.691 472.022,62.931 \n",
       "  \"/>\n",
       "<polyline clip-path=\"url(#clip00)\" style=\"stroke:#009af9; stroke-width:1; stroke-opacity:1; fill:none\" points=\"\n",
       "  478.022,47.811 514.022,47.811 \n",
       "  \"/>\n",
       "<g clip-path=\"url(#clip00)\">\n",
       "<text style=\"fill:#000000; fill-opacity:1; font-family:Arial,Helvetica Neue,Helvetica,sans-serif; font-size:12; text-anchor:start;\" transform=\"rotate(0, 520.022, 52.311)\" x=\"520.022\" y=\"52.311\">fn1(x)</text>\n",
       "</g>\n",
       "</svg>\n"
      ]
     },
     "execution_count": 6,
     "metadata": {},
     "output_type": "execute_result"
    }
   ],
   "source": [
    "x2 = -1:0.01:3                        \n",
    "\n",
    "plot(x2,fn1.(x2),label=\"fn1(x)\")           #plotting the function"
   ]
  },
  {
   "cell_type": "markdown",
   "metadata": {},
   "source": [
    "## A \"one-liner\"\n",
    "\n",
    "We can also create a short version of a function as in the cell below. Notice, however, that it can (essentially) only contain one expression."
   ]
  },
  {
   "cell_type": "code",
   "execution_count": 7,
   "metadata": {},
   "outputs": [
    {
     "data": {
      "text/plain": [
       "fn1b (generic function with 1 method)"
      ]
     },
     "execution_count": 7,
     "metadata": {},
     "output_type": "execute_result"
    }
   ],
   "source": [
    "fn1b(x) = 2*(x-1.1)^2 - 0.5          #short form of a function"
   ]
  },
  {
   "cell_type": "code",
   "execution_count": 8,
   "metadata": {},
   "outputs": [
    {
     "name": "stdout",
     "output_type": "stream",
     "text": [
      "result from the function fn1b.(x): \n",
      "    -0.480\n",
      "    -0.180\n",
      "\n"
     ]
    }
   ],
   "source": [
    "y = fn1b.(x)                 \n",
    "println(\"result from the function fn1b.(x): \")\n",
    "printmat(y)"
   ]
  },
  {
   "cell_type": "markdown",
   "metadata": {},
   "source": [
    "## Several Inputs\n",
    "\n",
    "It is straightforward to define functions with several inputs. You can also specify default values of the inputs. They are used when you do not supply those inputs when calling on the function. (Clearly, inputs with default values must be towards the end of the list of inputs.)"
   ]
  },
  {
   "cell_type": "code",
   "execution_count": 13,
   "metadata": {},
   "outputs": [
    {
     "data": {
      "text/plain": [
       "fn2 (generic function with 2 methods)"
      ]
     },
     "execution_count": 13,
     "metadata": {},
     "output_type": "execute_result"
    }
   ],
   "source": [
    "function fn2a(x,b)\n",
    "    y = b*(x-1.1)^2 - 0.5\n",
    "    return y\n",
    "end\n",
    "\n",
    "function fn2(x,b=1)                 #b=1 is the default in case we call as fn2(x)\n",
    "    y = b*(x-1.1)^2 - 0.5\n",
    "    return y\n",
    "end"
   ]
  },
  {
   "cell_type": "code",
   "execution_count": 14,
   "metadata": {},
   "outputs": [
    {
     "name": "stdout",
     "output_type": "stream",
     "text": [
      "result from the fn2a(1,1) and fn2(1):     -0.490    -0.490\n",
      "\n",
      "result from the function fn2.(x,2): \n",
      "    -0.480\n",
      "    -0.180\n",
      "\n"
     ]
    }
   ],
   "source": [
    "printlnPs(\"result from the fn2a(1,1) and fn2(1): \",fn2a(1,1),fn2(1))\n",
    "\n",
    "y2b = fn2.(x,2)\n",
    "println(\"\\nresult from the function fn2.(x,2): \")\n",
    "printmat(y2b)"
   ]
  },
  {
   "cell_type": "markdown",
   "metadata": {},
   "source": [
    "## An \"Anonymous\" Function\n",
    "\n",
    "The expression \n",
    "```\n",
    "x->2*(x-1.1)^2 - 0.5\n",
    "```\n",
    "creates an anonymous function (a function without a name). \n",
    "\n",
    "This approach is often useful as an input to another function. For instance, the next cell uses\n",
    "```\n",
    "x->fn2a(x,2)\n",
    "```\n",
    "This creates an anonymous function with only one input (```x```), which is what the root finding routine ```fzero()``` wants."
   ]
  },
  {
   "cell_type": "code",
   "execution_count": 15,
   "metadata": {},
   "outputs": [
    {
     "name": "stdout",
     "output_type": "stream",
     "text": [
      "A root at:      0.600\n",
      "\n",
      "fn2a(x,2)=0.75 at      1.891,    testing:      0.750\n"
     ]
    }
   ],
   "source": [
    "x1 = fzero(x->fn2a(x,2),[-1;1])          #finding a root of a function      \n",
    "                                        #[-1;1] searches roots in this interval\n",
    "printlnPs(\"A root at: \",x1)\n",
    "\n",
    "x2 = fzero(x->fn2a(x,2)-0.75,2)           #at which x is fn(x,2) == 0.75? Starting guess: x=2\n",
    "                                        \n",
    "printlnPs(\"\\n\",\"fn2a(x,2)=0.75 at \",x2,\",    testing: \",fn2a(x2,2))"
   ]
  },
  {
   "cell_type": "markdown",
   "metadata": {},
   "source": [
    "## Several Outputs\n",
    "\n",
    "Functions can produce a \"tuple\" like (y1,y2,y3) as outputs.\n",
    "\n",
    "In case you only want the first two outputs, call as ```(y1,y2,) = fn(x)```.\n",
    "\n",
    "Instead, if you only want the 2nd and third outputs, call as ```(_,y2,y3) = fn(x)```\n",
    "\n",
    "You can also extract the second output as ```y2 = fn(x)[2]```"
   ]
  },
  {
   "cell_type": "code",
   "execution_count": 16,
   "metadata": {},
   "outputs": [
    {
     "data": {
      "text/plain": [
       "fn3 (generic function with 2 methods)"
      ]
     },
     "execution_count": 16,
     "metadata": {},
     "output_type": "execute_result"
    }
   ],
   "source": [
    "function fn3(x,b=1)                 \n",
    "    y1 = b*(x-1.1)^2 - 0.5\n",
    "    y2 = b*x\n",
    "    y3 = 3\n",
    "    return y1, y2, y3\n",
    "end"
   ]
  },
  {
   "cell_type": "code",
   "execution_count": 17,
   "metadata": {},
   "outputs": [
    {
     "name": "stdout",
     "output_type": "stream",
     "text": [
      "The first 2 outputs from the function fn3(1,2): \n",
      "    -0.480     2.000\n",
      "\n",
      "The result from calling fn3(1,2)[2]:          2\n"
     ]
    }
   ],
   "source": [
    "(y1,y2,) = fn3(1,2)\n",
    "println(\"The first 2 outputs from the function fn3(1,2): \")\n",
    "printmat([y1 y2])\n",
    "\n",
    "y2 = fn3(1,2)[2]         #to grab just the second output from the function\n",
    "printlnPs(\"The result from calling fn3(1,2)[2]: \",y2)"
   ]
  },
  {
   "cell_type": "markdown",
   "metadata": {},
   "source": [
    "## Elemenwise Evaluation with Several Outputs (extra)\n",
    "\n",
    "...can be tricky. In\n",
    "```\n",
    "(z1,z2,) = fn3.(x)\n",
    "``` \n",
    "```z1``` is the tuple ```(y1,y2,y3)``` corresponding to x[1,1], and similarly for ```z2```. Also,\n",
    "```\n",
    "Z = fn3.(x)\n",
    "``` \n",
    "gives an array of tuples (```(y1,y2,y3)``` for each of the ```x[i,j]``` elements).\n",
    "\n",
    "In this case, it might be easier to either loop over the function calls, or to write the function so that it can directly handle array inputs (without the dot), see ```fn3b()```."
   ]
  },
  {
   "cell_type": "code",
   "execution_count": 18,
   "metadata": {},
   "outputs": [
    {
     "data": {
      "text/plain": [
       "fn3b (generic function with 2 methods)"
      ]
     },
     "execution_count": 18,
     "metadata": {},
     "output_type": "execute_result"
    }
   ],
   "source": [
    "function fn3b(x,b=1)                 #x can be an array\n",
    "    y1 = b*(x.-1.1).^2 .- 0.5\n",
    "    y2 = b*x\n",
    "    y3 = 3\n",
    "    return y1, y2, y3\n",
    "end"
   ]
  },
  {
   "cell_type": "code",
   "execution_count": 19,
   "metadata": {},
   "outputs": [
    {
     "name": "stdout",
     "output_type": "stream",
     "text": [
      "result from the function fn3b(x,2): \n",
      "    -0.480     2.000\n",
      "    -0.180     3.000\n",
      "\n"
     ]
    }
   ],
   "source": [
    "(y1,y2,) = fn3b(x,2)                                  #function written to handle arrays\n",
    "println(\"result from the function fn3b(x,2): \")\n",
    "printmat([y1 y2])"
   ]
  },
  {
   "cell_type": "markdown",
   "metadata": {
    "collapsed": true
   },
   "source": [
    "## Documenting Your Function \n",
    "\n",
    "To use Julia's help function (```? FunctionName```), use this structure\n",
    "\n",
    "\"\"\"\n",
    "\n",
    "here is the documentation (in markdown)\n",
    "\n",
    "\"\"\"\n",
    "\n",
    "function code\n",
    "\n",
    "The cell below illustrates a simple case."
   ]
  },
  {
   "cell_type": "code",
   "execution_count": 20,
   "metadata": {},
   "outputs": [
    {
     "data": {
      "text/plain": [
       "fn4"
      ]
     },
     "execution_count": 20,
     "metadata": {},
     "output_type": "execute_result"
    }
   ],
   "source": [
    "\"\"\"\n",
    "    fn4(x,b=1)\n",
    "\n",
    "Calculate b*(x-1.1)^2 - 0.5.\n",
    "\n",
    "# Arguments\n",
    "- `x`:    a number\n",
    "- `b`:    a number\n",
    "\n",
    "\"\"\"\n",
    "function fn4(x,b=1)       \n",
    "    y = b*(x-1.1)^2 - 0.5\n",
    "    return y\n",
    "end"
   ]
  },
  {
   "cell_type": "code",
   "execution_count": 21,
   "metadata": {},
   "outputs": [
    {
     "name": "stdout",
     "output_type": "stream",
     "text": [
      "search:\n",
      "\n"
     ]
    },
    {
     "data": {
      "text/markdown": [
       "```\n",
       "fn4(x,b=1)\n",
       "```\n",
       "\n",
       "Calculate b*(x-1.1)^2 - 0.5.\n",
       "\n",
       "# Arguments\n",
       "\n",
       "  * `x`:    a number\n",
       "  * `b`:    a number\n"
      ],
      "text/plain": [
       "```\n",
       "fn4(x,b=1)\n",
       "```\n",
       "\n",
       "Calculate b*(x-1.1)^2 - 0.5.\n",
       "\n",
       "# Arguments\n",
       "\n",
       "  * `x`:    a number\n",
       "  * `b`:    a number\n"
      ]
     },
     "execution_count": 21,
     "metadata": {},
     "output_type": "execute_result"
    }
   ],
   "source": [
    "? fn4"
   ]
  },
  {
   "cell_type": "code",
   "execution_count": null,
   "metadata": {
    "collapsed": true
   },
   "outputs": [],
   "source": []
  }
 ],
 "metadata": {
  "anaconda-cloud": {},
  "kernelspec": {
   "display_name": "Julia 0.6.2",
   "language": "julia",
   "name": "julia-0.6"
  },
  "language_info": {
   "file_extension": ".jl",
   "mimetype": "application/julia",
   "name": "julia",
   "version": "0.6.2"
  }
 },
 "nbformat": 4,
 "nbformat_minor": 1
}
