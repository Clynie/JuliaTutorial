{
 "cells": [
  {
   "cell_type": "markdown",
   "metadata": {
    "collapsed": true
   },
   "source": [
    "# Functions"
   ]
  },
  {
   "cell_type": "markdown",
   "metadata": {},
   "source": [
    "## Loading Packages"
   ]
  },
  {
   "cell_type": "code",
   "execution_count": 1,
   "metadata": {},
   "outputs": [
    {
     "data": {
      "text/plain": [
       "printlnPs (generic function with 2 methods)"
      ]
     },
     "execution_count": 1,
     "metadata": {},
     "output_type": "execute_result"
    }
   ],
   "source": [
    "using Roots\n",
    "\n",
    "using Compat, Missings        #in Julia 0.6 \n",
    "#using Dates                  #in Julia 0.7\n",
    "\n",
    "include(\"printmat.jl\")   #a function for prettier matrix printing"
   ]
  },
  {
   "cell_type": "code",
   "execution_count": 2,
   "metadata": {},
   "outputs": [
    {
     "data": {
      "text/plain": [
       "Plots.GRBackend()"
      ]
     },
     "execution_count": 2,
     "metadata": {},
     "output_type": "execute_result"
    }
   ],
   "source": [
    "using Plots\n",
    "\n",
    "backend = \"gr\"              #\"gr\" (default), \"pyplot\" \n",
    "\n",
    "if backend == \"pyplot\"\n",
    "    pyplot(size=(600,400))\n",
    "else    \n",
    "    gr(size=(600,400))\n",
    "end"
   ]
  },
  {
   "cell_type": "markdown",
   "metadata": {},
   "source": [
    "## A Function with a Scalar Input and a Scalar Output\n",
    "\n",
    "The function below takes a scalar as input and produces a scalar as output."
   ]
  },
  {
   "cell_type": "code",
   "execution_count": 3,
   "metadata": {},
   "outputs": [
    {
     "data": {
      "text/plain": [
       "fn1 (generic function with 1 method)"
      ]
     },
     "execution_count": 3,
     "metadata": {},
     "output_type": "execute_result"
    }
   ],
   "source": [
    "function fn1(x)\n",
    "    b = 2                    #only seen inside function  \n",
    "    y = b*(x-1.1)^2 - 0.5\n",
    "    return y\n",
    "end"
   ]
  },
  {
   "cell_type": "code",
   "execution_count": 4,
   "metadata": {},
   "outputs": [
    {
     "name": "stdout",
     "output_type": "stream",
     "text": [
      "result from calling fn1(1):     -0.480\n"
     ]
    }
   ],
   "source": [
    "y = fn1(1)                   #calling on the function\n",
    "printlnPs(\"result from calling fn1(1): \",y)"
   ]
  },
  {
   "cell_type": "markdown",
   "metadata": {},
   "source": [
    "## Elementwise Evaluation\n",
    "\n",
    "To apply the function to each element of an array, use the dot syntax: \n",
    "```\n",
    "y = fn1.(x)\n",
    "```\n",
    "\n",
    "Alternatively, write a loop or perhaps a function that directly supports elementwise operations on arrays like\n",
    "```\n",
    "y = 2*(x.-1.1).^2 .- 0.5      # .- and .^2 means that x could be an array \n",
    "```"
   ]
  },
  {
   "cell_type": "code",
   "execution_count": 5,
   "metadata": {},
   "outputs": [
    {
     "name": "stdout",
     "output_type": "stream",
     "text": [
      "result from calling fn1.(x): \n",
      "    -0.480\n",
      "    -0.180\n",
      "\n",
      "fn1.(x) evaluates fn1(x[i,j]) for each element x[i,j]\n"
     ]
    }
   ],
   "source": [
    "x = [1;1.5] \n",
    "\n",
    "y = fn1.(x)                   \n",
    "println(\"result from calling fn1.(x): \")\n",
    "printmat(y)\n",
    "\n",
    "println(\"fn1.(x) evaluates fn1(x[i,j]) for each element x[i,j]\")"
   ]
  },
  {
   "cell_type": "code",
   "execution_count": 6,
   "metadata": {},
   "outputs": [
    {
     "data": {
      "image/svg+xml": [
       "<?xml version=\"1.0\" encoding=\"utf-8\"?>\n",
       "<svg xmlns=\"http://www.w3.org/2000/svg\" xmlns:xlink=\"http://www.w3.org/1999/xlink\" width=\"600\" height=\"400\" viewBox=\"0 0 600 400\">\n",
       "<defs>\n",
       "  <clipPath id=\"clip6300\">\n",
       "    <rect x=\"0\" y=\"0\" width=\"600\" height=\"400\"/>\n",
       "  </clipPath>\n",
       "</defs>\n",
       "<polygon clip-path=\"url(#clip6300)\" points=\"\n",
       "0,400 600,400 600,0 0,0 \n",
       "  \" fill=\"#ffffff\" fill-opacity=\"1\"/>\n",
       "<defs>\n",
       "  <clipPath id=\"clip6301\">\n",
       "    <rect x=\"120\" y=\"0\" width=\"421\" height=\"400\"/>\n",
       "  </clipPath>\n",
       "</defs>\n",
       "<polygon clip-path=\"url(#clip6300)\" points=\"\n",
       "22.4386,375.869 580.315,375.869 580.315,11.811 22.4386,11.811 \n",
       "  \" fill=\"#ffffff\" fill-opacity=\"1\"/>\n",
       "<defs>\n",
       "  <clipPath id=\"clip6302\">\n",
       "    <rect x=\"22\" y=\"11\" width=\"559\" height=\"365\"/>\n",
       "  </clipPath>\n",
       "</defs>\n",
       "<polyline clip-path=\"url(#clip6302)\" style=\"stroke:#000000; stroke-width:0.5; stroke-opacity:0.1; fill:none\" points=\"\n",
       "  22.4386,375.869 22.4386,11.811 \n",
       "  \"/>\n",
       "<polyline clip-path=\"url(#clip6302)\" style=\"stroke:#000000; stroke-width:0.5; stroke-opacity:0.1; fill:none\" points=\"\n",
       "  161.908,375.869 161.908,11.811 \n",
       "  \"/>\n",
       "<polyline clip-path=\"url(#clip6302)\" style=\"stroke:#000000; stroke-width:0.5; stroke-opacity:0.1; fill:none\" points=\"\n",
       "  301.377,375.869 301.377,11.811 \n",
       "  \"/>\n",
       "<polyline clip-path=\"url(#clip6302)\" style=\"stroke:#000000; stroke-width:0.5; stroke-opacity:0.1; fill:none\" points=\"\n",
       "  440.846,375.869 440.846,11.811 \n",
       "  \"/>\n",
       "<polyline clip-path=\"url(#clip6302)\" style=\"stroke:#000000; stroke-width:0.5; stroke-opacity:0.1; fill:none\" points=\"\n",
       "  580.315,375.869 580.315,11.811 \n",
       "  \"/>\n",
       "<polyline clip-path=\"url(#clip6302)\" style=\"stroke:#000000; stroke-width:0.5; stroke-opacity:0.1; fill:none\" points=\"\n",
       "  22.4386,355.23 580.315,355.23 \n",
       "  \"/>\n",
       "<polyline clip-path=\"url(#clip6302)\" style=\"stroke:#000000; stroke-width:0.5; stroke-opacity:0.1; fill:none\" points=\"\n",
       "  22.4386,272.678 580.315,272.678 \n",
       "  \"/>\n",
       "<polyline clip-path=\"url(#clip6302)\" style=\"stroke:#000000; stroke-width:0.5; stroke-opacity:0.1; fill:none\" points=\"\n",
       "  22.4386,190.125 580.315,190.125 \n",
       "  \"/>\n",
       "<polyline clip-path=\"url(#clip6302)\" style=\"stroke:#000000; stroke-width:0.5; stroke-opacity:0.1; fill:none\" points=\"\n",
       "  22.4386,107.572 580.315,107.572 \n",
       "  \"/>\n",
       "<polyline clip-path=\"url(#clip6302)\" style=\"stroke:#000000; stroke-width:0.5; stroke-opacity:0.1; fill:none\" points=\"\n",
       "  22.4386,25.0195 580.315,25.0195 \n",
       "  \"/>\n",
       "<polyline clip-path=\"url(#clip6300)\" style=\"stroke:#000000; stroke-width:1; stroke-opacity:1; fill:none\" points=\"\n",
       "  22.4386,375.869 580.315,375.869 \n",
       "  \"/>\n",
       "<polyline clip-path=\"url(#clip6300)\" style=\"stroke:#000000; stroke-width:1; stroke-opacity:1; fill:none\" points=\"\n",
       "  22.4386,375.869 22.4386,11.811 \n",
       "  \"/>\n",
       "<polyline clip-path=\"url(#clip6300)\" style=\"stroke:#000000; stroke-width:1; stroke-opacity:1; fill:none\" points=\"\n",
       "  22.4386,375.869 22.4386,370.408 \n",
       "  \"/>\n",
       "<polyline clip-path=\"url(#clip6300)\" style=\"stroke:#000000; stroke-width:1; stroke-opacity:1; fill:none\" points=\"\n",
       "  161.908,375.869 161.908,370.408 \n",
       "  \"/>\n",
       "<polyline clip-path=\"url(#clip6300)\" style=\"stroke:#000000; stroke-width:1; stroke-opacity:1; fill:none\" points=\"\n",
       "  301.377,375.869 301.377,370.408 \n",
       "  \"/>\n",
       "<polyline clip-path=\"url(#clip6300)\" style=\"stroke:#000000; stroke-width:1; stroke-opacity:1; fill:none\" points=\"\n",
       "  440.846,375.869 440.846,370.408 \n",
       "  \"/>\n",
       "<polyline clip-path=\"url(#clip6300)\" style=\"stroke:#000000; stroke-width:1; stroke-opacity:1; fill:none\" points=\"\n",
       "  580.315,375.869 580.315,370.408 \n",
       "  \"/>\n",
       "<polyline clip-path=\"url(#clip6300)\" style=\"stroke:#000000; stroke-width:1; stroke-opacity:1; fill:none\" points=\"\n",
       "  22.4386,355.23 30.8068,355.23 \n",
       "  \"/>\n",
       "<polyline clip-path=\"url(#clip6300)\" style=\"stroke:#000000; stroke-width:1; stroke-opacity:1; fill:none\" points=\"\n",
       "  22.4386,272.678 30.8068,272.678 \n",
       "  \"/>\n",
       "<polyline clip-path=\"url(#clip6300)\" style=\"stroke:#000000; stroke-width:1; stroke-opacity:1; fill:none\" points=\"\n",
       "  22.4386,190.125 30.8068,190.125 \n",
       "  \"/>\n",
       "<polyline clip-path=\"url(#clip6300)\" style=\"stroke:#000000; stroke-width:1; stroke-opacity:1; fill:none\" points=\"\n",
       "  22.4386,107.572 30.8068,107.572 \n",
       "  \"/>\n",
       "<polyline clip-path=\"url(#clip6300)\" style=\"stroke:#000000; stroke-width:1; stroke-opacity:1; fill:none\" points=\"\n",
       "  22.4386,25.0195 30.8068,25.0195 \n",
       "  \"/>\n",
       "<g clip-path=\"url(#clip6300)\">\n",
       "<text style=\"fill:#000000; fill-opacity:1; font-family:Arial,Helvetica Neue,Helvetica,sans-serif; font-size:12; text-anchor:middle;\" transform=\"rotate(0, 22.4386, 389.669)\" x=\"22.4386\" y=\"389.669\">-1</text>\n",
       "</g>\n",
       "<g clip-path=\"url(#clip6300)\">\n",
       "<text style=\"fill:#000000; fill-opacity:1; font-family:Arial,Helvetica Neue,Helvetica,sans-serif; font-size:12; text-anchor:middle;\" transform=\"rotate(0, 161.908, 389.669)\" x=\"161.908\" y=\"389.669\">0</text>\n",
       "</g>\n",
       "<g clip-path=\"url(#clip6300)\">\n",
       "<text style=\"fill:#000000; fill-opacity:1; font-family:Arial,Helvetica Neue,Helvetica,sans-serif; font-size:12; text-anchor:middle;\" transform=\"rotate(0, 301.377, 389.669)\" x=\"301.377\" y=\"389.669\">1</text>\n",
       "</g>\n",
       "<g clip-path=\"url(#clip6300)\">\n",
       "<text style=\"fill:#000000; fill-opacity:1; font-family:Arial,Helvetica Neue,Helvetica,sans-serif; font-size:12; text-anchor:middle;\" transform=\"rotate(0, 440.846, 389.669)\" x=\"440.846\" y=\"389.669\">2</text>\n",
       "</g>\n",
       "<g clip-path=\"url(#clip6300)\">\n",
       "<text style=\"fill:#000000; fill-opacity:1; font-family:Arial,Helvetica Neue,Helvetica,sans-serif; font-size:12; text-anchor:middle;\" transform=\"rotate(0, 580.315, 389.669)\" x=\"580.315\" y=\"389.669\">3</text>\n",
       "</g>\n",
       "<g clip-path=\"url(#clip6300)\">\n",
       "<text style=\"fill:#000000; fill-opacity:1; font-family:Arial,Helvetica Neue,Helvetica,sans-serif; font-size:12; text-anchor:end;\" transform=\"rotate(0, 16.4386, 359.73)\" x=\"16.4386\" y=\"359.73\">0</text>\n",
       "</g>\n",
       "<g clip-path=\"url(#clip6300)\">\n",
       "<text style=\"fill:#000000; fill-opacity:1; font-family:Arial,Helvetica Neue,Helvetica,sans-serif; font-size:12; text-anchor:end;\" transform=\"rotate(0, 16.4386, 277.178)\" x=\"16.4386\" y=\"277.178\">2</text>\n",
       "</g>\n",
       "<g clip-path=\"url(#clip6300)\">\n",
       "<text style=\"fill:#000000; fill-opacity:1; font-family:Arial,Helvetica Neue,Helvetica,sans-serif; font-size:12; text-anchor:end;\" transform=\"rotate(0, 16.4386, 194.625)\" x=\"16.4386\" y=\"194.625\">4</text>\n",
       "</g>\n",
       "<g clip-path=\"url(#clip6300)\">\n",
       "<text style=\"fill:#000000; fill-opacity:1; font-family:Arial,Helvetica Neue,Helvetica,sans-serif; font-size:12; text-anchor:end;\" transform=\"rotate(0, 16.4386, 112.072)\" x=\"16.4386\" y=\"112.072\">6</text>\n",
       "</g>\n",
       "<g clip-path=\"url(#clip6300)\">\n",
       "<text style=\"fill:#000000; fill-opacity:1; font-family:Arial,Helvetica Neue,Helvetica,sans-serif; font-size:12; text-anchor:end;\" transform=\"rotate(0, 16.4386, 29.5195)\" x=\"16.4386\" y=\"29.5195\">8</text>\n",
       "</g>\n",
       "<polyline clip-path=\"url(#clip6302)\" style=\"stroke:#009af9; stroke-width:1; stroke-opacity:1; fill:none\" points=\"\n",
       "  22.4386,11.811 23.8333,15.27 25.228,18.7124 26.6227,22.1384 28.0174,25.5478 29.4121,28.9407 30.8068,32.3171 32.2015,35.677 33.5961,39.0204 34.9908,42.3473 \n",
       "  36.3855,45.6577 37.7802,48.9515 39.1749,52.2289 40.5696,55.4897 41.9643,58.734 43.359,61.9618 44.7537,65.1731 46.1484,68.3679 47.5431,71.5462 48.9377,74.708 \n",
       "  50.3324,77.8532 51.7271,80.982 53.1218,84.0942 54.5165,87.1899 55.9112,90.2692 57.3059,93.3319 58.7006,96.3781 60.0953,99.4078 61.49,102.421 62.8847,105.418 \n",
       "  64.2793,108.398 65.674,111.361 67.0687,114.309 68.4634,117.239 69.8581,120.153 71.2528,123.051 72.6475,125.932 74.0422,128.797 75.4369,131.645 76.8316,134.476 \n",
       "  78.2263,137.291 79.6209,140.09 81.0156,142.872 82.4103,145.637 83.805,148.386 85.1997,151.119 86.5944,153.835 87.9891,156.534 89.3838,159.217 90.7785,161.884 \n",
       "  92.1732,164.534 93.5679,167.167 94.9625,169.784 96.3572,172.384 97.7519,174.968 99.1466,177.536 100.541,180.087 101.936,182.621 103.331,185.139 104.725,187.64 \n",
       "  106.12,190.125 107.515,192.593 108.909,195.045 110.304,197.48 111.699,199.899 113.094,202.302 114.488,204.687 115.883,207.057 117.278,209.409 118.672,211.746 \n",
       "  120.067,214.065 121.462,216.368 122.856,218.655 124.251,220.925 125.646,223.179 127.04,225.416 128.435,227.637 129.83,229.841 131.225,232.029 132.619,234.2 \n",
       "  134.014,236.355 135.409,238.493 136.803,240.614 138.198,242.719 139.593,244.808 140.987,246.88 142.382,248.936 143.777,250.975 145.171,252.997 146.566,255.003 \n",
       "  147.961,256.993 149.355,258.966 150.75,260.922 152.145,262.862 153.54,264.786 154.934,266.693 156.329,268.583 157.724,270.457 159.118,272.315 160.513,274.155 \n",
       "  161.908,275.98 163.302,277.788 164.697,279.579 166.092,281.354 167.486,283.112 168.881,284.854 170.276,286.58 171.671,288.288 173.065,289.981 174.46,291.657 \n",
       "  175.855,293.316 177.249,294.959 178.644,296.585 180.039,298.195 181.433,299.788 182.828,301.365 184.223,302.925 185.617,304.469 187.012,305.996 188.407,307.507 \n",
       "  189.802,309.001 191.196,310.479 192.591,311.94 193.986,313.384 195.38,314.813 196.775,316.224 198.17,317.619 199.564,318.998 200.959,320.36 202.354,321.706 \n",
       "  203.748,323.035 205.143,324.348 206.538,325.644 207.933,326.923 209.327,328.186 210.722,329.433 212.117,330.663 213.511,331.876 214.906,333.073 216.301,334.254 \n",
       "  217.695,335.418 219.09,336.565 220.485,337.696 221.879,338.811 223.274,339.909 224.669,340.99 226.063,342.055 227.458,343.103 228.853,344.135 230.248,345.151 \n",
       "  231.642,346.15 233.037,347.132 234.432,348.098 235.826,349.047 237.221,349.98 238.616,350.896 240.01,351.796 241.405,352.68 242.8,353.546 244.194,354.397 \n",
       "  245.589,355.23 246.984,356.048 248.379,356.849 249.773,357.633 251.168,358.401 252.563,359.152 253.957,359.886 255.352,360.605 256.747,361.306 258.141,361.992 \n",
       "  259.536,362.66 260.931,363.312 262.325,363.948 263.72,364.567 265.115,365.17 266.51,365.756 267.904,366.326 269.299,366.879 270.694,367.415 272.088,367.935 \n",
       "  273.483,368.439 274.878,368.926 276.272,369.397 277.667,369.851 279.062,370.288 280.456,370.709 281.851,371.114 283.246,371.502 284.64,371.873 286.035,372.228 \n",
       "  287.43,372.567 288.825,372.889 290.219,373.194 291.614,373.483 293.009,373.755 294.403,374.011 295.798,374.251 297.193,374.474 298.587,374.68 299.982,374.87 \n",
       "  301.377,375.043 302.771,375.2 304.166,375.34 305.561,375.464 306.956,375.571 308.35,375.662 309.745,375.737 311.14,375.794 312.534,375.836 313.929,375.86 \n",
       "  315.324,375.869 316.718,375.86 318.113,375.836 319.508,375.794 320.902,375.737 322.297,375.662 323.692,375.571 325.087,375.464 326.481,375.34 327.876,375.2 \n",
       "  329.271,375.043 330.665,374.87 332.06,374.68 333.455,374.474 334.849,374.251 336.244,374.011 337.639,373.755 339.033,373.483 340.428,373.194 341.823,372.889 \n",
       "  343.218,372.567 344.612,372.228 346.007,371.873 347.402,371.502 348.796,371.114 350.191,370.709 351.586,370.288 352.98,369.851 354.375,369.397 355.77,368.926 \n",
       "  357.164,368.439 358.559,367.935 359.954,367.415 361.348,366.879 362.743,366.326 364.138,365.756 365.533,365.17 366.927,364.567 368.322,363.948 369.717,363.312 \n",
       "  371.111,362.66 372.506,361.992 373.901,361.306 375.295,360.605 376.69,359.886 378.085,359.152 379.479,358.401 380.874,357.633 382.269,356.849 383.664,356.048 \n",
       "  385.058,355.23 386.453,354.397 387.848,353.546 389.242,352.68 390.637,351.796 392.032,350.896 393.426,349.98 394.821,349.047 396.216,348.098 397.61,347.132 \n",
       "  399.005,346.15 400.4,345.151 401.795,344.135 403.189,343.103 404.584,342.055 405.979,340.99 407.373,339.909 408.768,338.811 410.163,337.696 411.557,336.565 \n",
       "  412.952,335.418 414.347,334.254 415.741,333.073 417.136,331.876 418.531,330.663 419.926,329.433 421.32,328.186 422.715,326.923 424.11,325.644 425.504,324.348 \n",
       "  426.899,323.035 428.294,321.706 429.688,320.36 431.083,318.998 432.478,317.619 433.872,316.224 435.267,314.813 436.662,313.384 438.056,311.94 439.451,310.479 \n",
       "  440.846,309.001 442.241,307.507 443.635,305.996 445.03,304.469 446.425,302.925 447.819,301.365 449.214,299.788 450.609,298.195 452.003,296.585 453.398,294.959 \n",
       "  454.793,293.316 456.187,291.657 457.582,289.981 458.977,288.288 460.372,286.58 461.766,284.854 463.161,283.112 464.556,281.354 465.95,279.579 467.345,277.788 \n",
       "  468.74,275.98 470.134,274.155 471.529,272.315 472.924,270.457 474.318,268.583 475.713,266.693 477.108,264.786 478.503,262.862 479.897,260.922 481.292,258.966 \n",
       "  482.687,256.993 484.081,255.003 485.476,252.997 486.871,250.975 488.265,248.936 489.66,246.88 491.055,244.808 492.449,242.719 493.844,240.614 495.239,238.493 \n",
       "  496.634,236.355 498.028,234.2 499.423,232.029 500.818,229.841 502.212,227.637 503.607,225.416 505.002,223.179 506.396,220.925 507.791,218.655 509.186,216.368 \n",
       "  510.58,214.065 511.975,211.746 513.37,209.409 514.764,207.057 516.159,204.687 517.554,202.302 518.949,199.899 520.343,197.48 521.738,195.045 523.133,192.593 \n",
       "  524.527,190.125 525.922,187.64 527.317,185.139 528.711,182.621 530.106,180.087 531.501,177.536 532.895,174.968 534.29,172.384 535.685,169.784 537.08,167.167 \n",
       "  538.474,164.534 539.869,161.884 541.264,159.217 542.658,156.534 544.053,153.835 545.448,151.119 546.842,148.386 548.237,145.637 549.632,142.872 551.026,140.09 \n",
       "  552.421,137.291 553.816,134.476 555.211,131.645 556.605,128.797 558,125.932 559.395,123.051 560.789,120.153 562.184,117.239 563.579,114.309 564.973,111.361 \n",
       "  566.368,108.398 567.763,105.418 569.157,102.421 570.552,99.4078 571.947,96.3781 573.342,93.3319 574.736,90.2692 576.131,87.1899 577.526,84.0942 578.92,80.982 \n",
       "  580.315,77.8532 \n",
       "  \"/>\n",
       "<polygon clip-path=\"url(#clip6300)\" points=\"\n",
       "471.558,62.931 562.315,62.931 562.315,32.691 471.558,32.691 \n",
       "  \" fill=\"#ffffff\" fill-opacity=\"1\"/>\n",
       "<polyline clip-path=\"url(#clip6300)\" style=\"stroke:#000000; stroke-width:1; stroke-opacity:1; fill:none\" points=\"\n",
       "  471.558,62.931 562.315,62.931 562.315,32.691 471.558,32.691 471.558,62.931 \n",
       "  \"/>\n",
       "<polyline clip-path=\"url(#clip6300)\" style=\"stroke:#009af9; stroke-width:1; stroke-opacity:1; fill:none\" points=\"\n",
       "  477.558,47.811 513.558,47.811 \n",
       "  \"/>\n",
       "<g clip-path=\"url(#clip6300)\">\n",
       "<text style=\"fill:#000000; fill-opacity:1; font-family:Arial,Helvetica Neue,Helvetica,sans-serif; font-size:12; text-anchor:start;\" transform=\"rotate(0, 519.558, 52.311)\" x=\"519.558\" y=\"52.311\">fn1(x)</text>\n",
       "</g>\n",
       "</svg>\n"
      ]
     },
     "execution_count": 6,
     "metadata": {},
     "output_type": "execute_result"
    }
   ],
   "source": [
    "x2 = -1:0.01:3                        \n",
    "\n",
    "plot(x2,fn1.(x2),label=\"fn1(x)\")           #plotting the function"
   ]
  },
  {
   "cell_type": "markdown",
   "metadata": {},
   "source": [
    "## A \"one-liner\"\n",
    "\n",
    "We can also create a short version of a function as in the cell below. Notice, however, that it can (essentially) only contain one expression."
   ]
  },
  {
   "cell_type": "code",
   "execution_count": 7,
   "metadata": {},
   "outputs": [
    {
     "data": {
      "text/plain": [
       "fn1b (generic function with 1 method)"
      ]
     },
     "execution_count": 7,
     "metadata": {},
     "output_type": "execute_result"
    }
   ],
   "source": [
    "fn1b(x) = 2*(x-1.1)^2 - 0.5          #short form of a function"
   ]
  },
  {
   "cell_type": "code",
   "execution_count": 8,
   "metadata": {},
   "outputs": [
    {
     "name": "stdout",
     "output_type": "stream",
     "text": [
      "result from the function fn1b.(x): \n",
      "    -0.480\n",
      "    -0.180\n",
      "\n"
     ]
    }
   ],
   "source": [
    "y = fn1b.(x)                 \n",
    "println(\"result from the function fn1b.(x): \")\n",
    "printmat(y)"
   ]
  },
  {
   "cell_type": "markdown",
   "metadata": {},
   "source": [
    "## Several Inputs\n",
    "\n",
    "It is straightforward to define functions with several inputs. You can also specify default values of the inputs. They are used when you do not supply those inputs when calling on the function. (Clearly, inputs with default values must be towards the end of the list of inputs.)"
   ]
  },
  {
   "cell_type": "code",
   "execution_count": 9,
   "metadata": {},
   "outputs": [
    {
     "data": {
      "text/plain": [
       "fn2 (generic function with 2 methods)"
      ]
     },
     "execution_count": 9,
     "metadata": {},
     "output_type": "execute_result"
    }
   ],
   "source": [
    "function fn2a(x,b)\n",
    "    y = b*(x-1.1)^2 - 0.5\n",
    "    return y\n",
    "end\n",
    "\n",
    "function fn2(x,b=1)                 #b=1 is the default in case we call as fn2(x)\n",
    "    y = b*(x-1.1)^2 - 0.5\n",
    "    return y\n",
    "end"
   ]
  },
  {
   "cell_type": "code",
   "execution_count": 10,
   "metadata": {},
   "outputs": [
    {
     "name": "stdout",
     "output_type": "stream",
     "text": [
      "result from the fn2a(1,1) and fn2(1):     -0.490    -0.490\n",
      "\n",
      "result from the function fn2.(x,2): \n",
      "    -0.480\n",
      "    -0.180\n",
      "\n"
     ]
    }
   ],
   "source": [
    "printlnPs(\"result from the fn2a(1,1) and fn2(1): \",fn2a(1,1),fn2(1))\n",
    "\n",
    "y2b = fn2.(x,2)\n",
    "println(\"\\nresult from the function fn2.(x,2): \")\n",
    "printmat(y2b)"
   ]
  },
  {
   "cell_type": "markdown",
   "metadata": {},
   "source": [
    "## Several Inputs 2: Keyword Arguments\n",
    "\n",
    "You can also define functions that take *keyword arguments* like in `fn2b(x;b=0,c=5)`. Notice the semi-colon (;). \n",
    "\n",
    "In this case, you call on the function by `fn2b(x,b=1,b=1)`. This helps remembering/interpreting what the arguments represent. You can also pass the keyword arguments in any order and you could use comma (,) instead of semi-colon (;)."
   ]
  },
  {
   "cell_type": "code",
   "execution_count": 11,
   "metadata": {},
   "outputs": [
    {
     "data": {
      "text/plain": [
       "fn2b (generic function with 1 method)"
      ]
     },
     "execution_count": 11,
     "metadata": {},
     "output_type": "execute_result"
    }
   ],
   "source": [
    "function fn2b(x;b=1,c=0.5)\n",
    "    y = b*(x-1.1)^2 - c\n",
    "    return y\n",
    "end"
   ]
  },
  {
   "cell_type": "code",
   "execution_count": 12,
   "metadata": {},
   "outputs": [
    {
     "name": "stdout",
     "output_type": "stream",
     "text": [
      "result from the fn2b(1,c=0.5,b=1):     -0.490\n",
      "notice that you can pass the keyword arguments in any order\n"
     ]
    }
   ],
   "source": [
    "printlnPs(\"result from the fn2b(1,c=0.5,b=1): \",fn2b(1,c=0.5,b=1))  \n",
    "\n",
    "println(\"notice that you can pass the keyword arguments in any order\")"
   ]
  },
  {
   "cell_type": "markdown",
   "metadata": {},
   "source": [
    "## An \"Anonymous\" Function\n",
    "\n",
    "The expression \n",
    "```\n",
    "x->2*(x-1.1)^2 - 0.5\n",
    "```\n",
    "creates an anonymous function (a function without a name). \n",
    "\n",
    "This approach is often useful as an input to another function. For instance, the next cell uses\n",
    "```\n",
    "x->fn2a(x,2)\n",
    "```\n",
    "This creates an anonymous function with only one input (```x```), which is what the root finding routine ```fzero()``` wants."
   ]
  },
  {
   "cell_type": "code",
   "execution_count": 13,
   "metadata": {},
   "outputs": [
    {
     "name": "stdout",
     "output_type": "stream",
     "text": [
      "A root at:      0.600\n",
      "\n",
      "fn2a(x,2)=0.75 at      1.891,    testing:      0.750\n"
     ]
    }
   ],
   "source": [
    "x1 = fzero(x->fn2a(x,2),[-1;1])          #finding a root of a function      \n",
    "                                         #[-1;1] searches roots in this interval\n",
    "printlnPs(\"A root at: \",x1)\n",
    "\n",
    "x2 = fzero(x->fn2a(x,2)-0.75,2)           #at which x is fn(x,2) == 0.75? Starting guess: x=2\n",
    "                                        \n",
    "printlnPs(\"\\n\",\"fn2a(x,2)=0.75 at \",x2,\",    testing: \",fn2a(x2,2))"
   ]
  },
  {
   "cell_type": "markdown",
   "metadata": {},
   "source": [
    "## Several Outputs\n",
    "\n",
    "Functions can produce a \"tuple\" like `(y1,y2,y3)` as outputs.\n",
    "\n",
    "In case you only want the first two outputs, call as `(y1,y2,) = fn(x)`.\n",
    "\n",
    "Instead, if you only want the 2nd and third outputs, call as `(_,y2,y3) = fn(x)`\n",
    "\n",
    "You can also extract the second output as `y2 = fn(x)[2]`"
   ]
  },
  {
   "cell_type": "code",
   "execution_count": 14,
   "metadata": {},
   "outputs": [
    {
     "data": {
      "text/plain": [
       "fn3 (generic function with 2 methods)"
      ]
     },
     "execution_count": 14,
     "metadata": {},
     "output_type": "execute_result"
    }
   ],
   "source": [
    "function fn3(x,b=1)                 \n",
    "    y1 = b*(x-1.1)^2 - 0.5\n",
    "    y2 = b*x\n",
    "    y3 = 3\n",
    "    return y1, y2, y3\n",
    "end"
   ]
  },
  {
   "cell_type": "code",
   "execution_count": 15,
   "metadata": {},
   "outputs": [
    {
     "name": "stdout",
     "output_type": "stream",
     "text": [
      "The first 2 outputs from the function fn3(1,2): \n",
      "    -0.480     2.000\n",
      "\n",
      "The result from calling fn3(1,2)[2]:          2\n"
     ]
    }
   ],
   "source": [
    "(y1,y2,) = fn3(1,2)\n",
    "println(\"The first 2 outputs from the function fn3(1,2): \")\n",
    "printmat([y1 y2])\n",
    "\n",
    "y2 = fn3(1,2)[2]         #to grab just the second output from the function\n",
    "printlnPs(\"The result from calling fn3(1,2)[2]: \",y2)"
   ]
  },
  {
   "cell_type": "markdown",
   "metadata": {},
   "source": [
    "## Elementwise Evaluation with Several Outputs (extra)\n",
    "\n",
    "...can be tricky, because you get an array (same dimension as the input) of tuples instead of a tuple of arrays (which is probably what you want).\n",
    "\n",
    "In this case, it might be easier to either loop over the function calls, or to write the function so that it can directly handle array inputs (without the dot), see `fn3b()`."
   ]
  },
  {
   "cell_type": "code",
   "execution_count": 16,
   "metadata": {},
   "outputs": [
    {
     "data": {
      "text/plain": [
       "fn3b (generic function with 2 methods)"
      ]
     },
     "execution_count": 16,
     "metadata": {},
     "output_type": "execute_result"
    }
   ],
   "source": [
    "function fn3b(x,b=1)                 #x can be an array\n",
    "    y1 = b*(x.-1.1).^2 .- 0.5\n",
    "    y2 = b*x\n",
    "    y3 = 3\n",
    "    return y1, y2, y3\n",
    "end"
   ]
  },
  {
   "cell_type": "code",
   "execution_count": 17,
   "metadata": {},
   "outputs": [
    {
     "name": "stdout",
     "output_type": "stream",
     "text": [
      "result from the function fn3b(x,2): \n",
      "    -0.480     2.000\n",
      "    -0.180     3.000\n",
      "\n"
     ]
    }
   ],
   "source": [
    "(y1,y2,) = fn3b(x,2)                                  #function written to handle arrays\n",
    "println(\"result from the function fn3b(x,2): \")\n",
    "printmat([y1 y2])"
   ]
  },
  {
   "cell_type": "markdown",
   "metadata": {
    "collapsed": true
   },
   "source": [
    "## Documenting Your Function \n",
    "\n",
    "To use Julia's help function (`? FunctionName`), put the documentation in triple quotes, just above the function defintiion. The cell below illustrates a simple case."
   ]
  },
  {
   "cell_type": "code",
   "execution_count": 18,
   "metadata": {},
   "outputs": [
    {
     "data": {
      "text/plain": [
       "fn4"
      ]
     },
     "execution_count": 18,
     "metadata": {},
     "output_type": "execute_result"
    }
   ],
   "source": [
    "\"\"\"\n",
    "    fn4(x,b=1)\n",
    "\n",
    "Calculate b*(x-1.1)^2 - 0.5.\n",
    "\n",
    "# Arguments\n",
    "- `x`:    a number\n",
    "- `b`:    a number\n",
    "\n",
    "\"\"\"\n",
    "function fn4(x,b=1)       \n",
    "    y = b*(x-1.1)^2 - 0.5\n",
    "    return y\n",
    "end"
   ]
  },
  {
   "cell_type": "code",
   "execution_count": 19,
   "metadata": {},
   "outputs": [
    {
     "name": "stdout",
     "output_type": "stream",
     "text": [
      "search:\n",
      "\n"
     ]
    },
    {
     "data": {
      "text/markdown": [
       "```\n",
       "fn4(x,b=1)\n",
       "```\n",
       "\n",
       "Calculate b*(x-1.1)^2 - 0.5.\n",
       "\n",
       "# Arguments\n",
       "\n",
       "  * `x`:    a number\n",
       "  * `b`:    a number\n"
      ],
      "text/plain": [
       "```\n",
       "fn4(x,b=1)\n",
       "```\n",
       "\n",
       "Calculate b*(x-1.1)^2 - 0.5.\n",
       "\n",
       "# Arguments\n",
       "\n",
       "  * `x`:    a number\n",
       "  * `b`:    a number\n"
      ]
     },
     "execution_count": 19,
     "metadata": {},
     "output_type": "execute_result"
    }
   ],
   "source": [
    "? fn4"
   ]
  },
  {
   "cell_type": "code",
   "execution_count": null,
   "metadata": {},
   "outputs": [],
   "source": []
  }
 ],
 "metadata": {
  "anaconda-cloud": {},
  "kernelspec": {
   "display_name": "Julia 0.6.2",
   "language": "julia",
   "name": "julia-0.6"
  },
  "language_info": {
   "file_extension": ".jl",
   "mimetype": "application/julia",
   "name": "julia",
   "version": "0.6.2"
  }
 },
 "nbformat": 4,
 "nbformat_minor": 1
}
