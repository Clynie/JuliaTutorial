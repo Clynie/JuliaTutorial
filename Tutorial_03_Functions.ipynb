{
 "cells": [
  {
   "cell_type": "markdown",
   "metadata": {
    "collapsed": true
   },
   "source": [
    "# Functions"
   ]
  },
  {
   "cell_type": "markdown",
   "metadata": {},
   "source": [
    "## Loading Packages"
   ]
  },
  {
   "cell_type": "code",
   "execution_count": 1,
   "metadata": {},
   "outputs": [
    {
     "data": {
      "text/plain": [
       "printlnPs (generic function with 2 methods)"
      ]
     },
     "execution_count": 1,
     "metadata": {},
     "output_type": "execute_result"
    }
   ],
   "source": [
    "using Dates, Roots\n",
    "             \n",
    "include(\"printmat.jl\")"
   ]
  },
  {
   "cell_type": "code",
   "execution_count": 3,
   "metadata": {},
   "outputs": [],
   "source": [
    "using Plots\n",
    "\n",
    "backend = \"gr\"              #\"gr\" (default), \"pyplot\" \n",
    "\n",
    "if backend == \"pyplot\"\n",
    "    pyplot(size=(600,400))\n",
    "else    \n",
    "    gr(size=(480,320))\n",
    "    default(fmt = :svg)\n",
    "end"
   ]
  },
  {
   "cell_type": "markdown",
   "metadata": {},
   "source": [
    "## A Function with a Scalar Input and a Scalar Output\n",
    "\n",
    "The function below takes a scalar as input and produces a scalar as output."
   ]
  },
  {
   "cell_type": "code",
   "execution_count": 4,
   "metadata": {},
   "outputs": [
    {
     "data": {
      "text/plain": [
       "fn1 (generic function with 1 method)"
      ]
     },
     "execution_count": 4,
     "metadata": {},
     "output_type": "execute_result"
    }
   ],
   "source": [
    "function fn1(x)\n",
    "    b = 2                    #only seen inside function  \n",
    "    y = b*(x-1.1)^2 - 0.5\n",
    "    return y\n",
    "end"
   ]
  },
  {
   "cell_type": "code",
   "execution_count": 5,
   "metadata": {},
   "outputs": [
    {
     "name": "stdout",
     "output_type": "stream",
     "text": [
      "result from calling fn1(1):     -0.480\n"
     ]
    }
   ],
   "source": [
    "y = fn1(1)                   #calling on the function\n",
    "printlnPs(\"result from calling fn1(1): \",y)"
   ]
  },
  {
   "cell_type": "markdown",
   "metadata": {},
   "source": [
    "## Elementwise Evaluation\n",
    "\n",
    "To apply the function to each element of an array, use the dot syntax: \n",
    "```\n",
    "y = fn1.(x)\n",
    "```\n",
    "\n",
    "Alternatively, write a loop or perhaps a function that directly supports elementwise operations on arrays like\n",
    "```\n",
    "y = 2*(x.-1.1).^2 .- 0.5      # .- and .^2 mean that x could be an array \n",
    "```"
   ]
  },
  {
   "cell_type": "code",
   "execution_count": 6,
   "metadata": {},
   "outputs": [
    {
     "name": "stdout",
     "output_type": "stream",
     "text": [
      "result from calling fn1.(x): \n",
      "    -0.480\n",
      "    -0.180\n",
      "\n",
      "fn1.(x) evaluates fn1(x[i,j]) for each element x[i,j]\n"
     ]
    }
   ],
   "source": [
    "x = [1;1.5] \n",
    "\n",
    "y = fn1.(x)                   \n",
    "println(\"result from calling fn1.(x): \")\n",
    "printmat(y)\n",
    "\n",
    "println(\"fn1.(x) evaluates fn1(x[i,j]) for each element x[i,j]\")"
   ]
  },
  {
   "cell_type": "code",
   "execution_count": 7,
   "metadata": {},
   "outputs": [
    {
     "data": {
      "image/svg+xml": [
       "<?xml version=\"1.0\" encoding=\"utf-8\"?>\n",
       "<svg xmlns=\"http://www.w3.org/2000/svg\" xmlns:xlink=\"http://www.w3.org/1999/xlink\" width=\"480\" height=\"320\" viewBox=\"0 0 480 320\">\n",
       "<defs>\n",
       "  <clipPath id=\"clip1800\">\n",
       "    <rect x=\"0\" y=\"0\" width=\"480\" height=\"320\"/>\n",
       "  </clipPath>\n",
       "</defs>\n",
       "<polygon clip-path=\"url(#clip1800)\" points=\"\n",
       "0,320 480,320 480,0 0,0 \n",
       "  \" fill=\"#ffffff\" fill-opacity=\"1\"/>\n",
       "<defs>\n",
       "  <clipPath id=\"clip1801\">\n",
       "    <rect x=\"96\" y=\"0\" width=\"337\" height=\"320\"/>\n",
       "  </clipPath>\n",
       "</defs>\n",
       "<polygon clip-path=\"url(#clip1800)\" points=\"\n",
       "30.3126,295.869 460.315,295.869 460.315,11.811 30.3126,11.811 \n",
       "  \" fill=\"#ffffff\" fill-opacity=\"1\"/>\n",
       "<defs>\n",
       "  <clipPath id=\"clip1802\">\n",
       "    <rect x=\"30\" y=\"11\" width=\"431\" height=\"285\"/>\n",
       "  </clipPath>\n",
       "</defs>\n",
       "<polyline clip-path=\"url(#clip1802)\" style=\"stroke:#000000; stroke-width:0.5; stroke-opacity:0.1; fill:none\" points=\"\n",
       "  42.4825,295.869 42.4825,11.811 \n",
       "  \"/>\n",
       "<polyline clip-path=\"url(#clip1802)\" style=\"stroke:#000000; stroke-width:0.5; stroke-opacity:0.1; fill:none\" points=\"\n",
       "  143.898,295.869 143.898,11.811 \n",
       "  \"/>\n",
       "<polyline clip-path=\"url(#clip1802)\" style=\"stroke:#000000; stroke-width:0.5; stroke-opacity:0.1; fill:none\" points=\"\n",
       "  245.314,295.869 245.314,11.811 \n",
       "  \"/>\n",
       "<polyline clip-path=\"url(#clip1802)\" style=\"stroke:#000000; stroke-width:0.5; stroke-opacity:0.1; fill:none\" points=\"\n",
       "  346.729,295.869 346.729,11.811 \n",
       "  \"/>\n",
       "<polyline clip-path=\"url(#clip1802)\" style=\"stroke:#000000; stroke-width:0.5; stroke-opacity:0.1; fill:none\" points=\"\n",
       "  448.145,295.869 448.145,11.811 \n",
       "  \"/>\n",
       "<polyline clip-path=\"url(#clip1802)\" style=\"stroke:#000000; stroke-width:0.5; stroke-opacity:0.1; fill:none\" points=\"\n",
       "  30.3126,272.638 460.315,272.638 \n",
       "  \"/>\n",
       "<polyline clip-path=\"url(#clip1802)\" style=\"stroke:#000000; stroke-width:0.5; stroke-opacity:0.1; fill:none\" points=\"\n",
       "  30.3126,211.872 460.315,211.872 \n",
       "  \"/>\n",
       "<polyline clip-path=\"url(#clip1802)\" style=\"stroke:#000000; stroke-width:0.5; stroke-opacity:0.1; fill:none\" points=\"\n",
       "  30.3126,151.105 460.315,151.105 \n",
       "  \"/>\n",
       "<polyline clip-path=\"url(#clip1802)\" style=\"stroke:#000000; stroke-width:0.5; stroke-opacity:0.1; fill:none\" points=\"\n",
       "  30.3126,90.3392 460.315,90.3392 \n",
       "  \"/>\n",
       "<polyline clip-path=\"url(#clip1802)\" style=\"stroke:#000000; stroke-width:0.5; stroke-opacity:0.1; fill:none\" points=\"\n",
       "  30.3126,29.573 460.315,29.573 \n",
       "  \"/>\n",
       "<polyline clip-path=\"url(#clip1800)\" style=\"stroke:#000000; stroke-width:1; stroke-opacity:1; fill:none\" points=\"\n",
       "  30.3126,295.869 460.315,295.869 \n",
       "  \"/>\n",
       "<polyline clip-path=\"url(#clip1800)\" style=\"stroke:#000000; stroke-width:1; stroke-opacity:1; fill:none\" points=\"\n",
       "  30.3126,295.869 30.3126,11.811 \n",
       "  \"/>\n",
       "<polyline clip-path=\"url(#clip1800)\" style=\"stroke:#000000; stroke-width:1; stroke-opacity:1; fill:none\" points=\"\n",
       "  42.4825,295.869 42.4825,291.608 \n",
       "  \"/>\n",
       "<polyline clip-path=\"url(#clip1800)\" style=\"stroke:#000000; stroke-width:1; stroke-opacity:1; fill:none\" points=\"\n",
       "  143.898,295.869 143.898,291.608 \n",
       "  \"/>\n",
       "<polyline clip-path=\"url(#clip1800)\" style=\"stroke:#000000; stroke-width:1; stroke-opacity:1; fill:none\" points=\"\n",
       "  245.314,295.869 245.314,291.608 \n",
       "  \"/>\n",
       "<polyline clip-path=\"url(#clip1800)\" style=\"stroke:#000000; stroke-width:1; stroke-opacity:1; fill:none\" points=\"\n",
       "  346.729,295.869 346.729,291.608 \n",
       "  \"/>\n",
       "<polyline clip-path=\"url(#clip1800)\" style=\"stroke:#000000; stroke-width:1; stroke-opacity:1; fill:none\" points=\"\n",
       "  448.145,295.869 448.145,291.608 \n",
       "  \"/>\n",
       "<polyline clip-path=\"url(#clip1800)\" style=\"stroke:#000000; stroke-width:1; stroke-opacity:1; fill:none\" points=\"\n",
       "  30.3126,272.638 36.7627,272.638 \n",
       "  \"/>\n",
       "<polyline clip-path=\"url(#clip1800)\" style=\"stroke:#000000; stroke-width:1; stroke-opacity:1; fill:none\" points=\"\n",
       "  30.3126,211.872 36.7627,211.872 \n",
       "  \"/>\n",
       "<polyline clip-path=\"url(#clip1800)\" style=\"stroke:#000000; stroke-width:1; stroke-opacity:1; fill:none\" points=\"\n",
       "  30.3126,151.105 36.7627,151.105 \n",
       "  \"/>\n",
       "<polyline clip-path=\"url(#clip1800)\" style=\"stroke:#000000; stroke-width:1; stroke-opacity:1; fill:none\" points=\"\n",
       "  30.3126,90.3392 36.7627,90.3392 \n",
       "  \"/>\n",
       "<polyline clip-path=\"url(#clip1800)\" style=\"stroke:#000000; stroke-width:1; stroke-opacity:1; fill:none\" points=\"\n",
       "  30.3126,29.573 36.7627,29.573 \n",
       "  \"/>\n",
       "<g clip-path=\"url(#clip1800)\">\n",
       "<text style=\"fill:#000000; fill-opacity:1; font-family:Arial,Helvetica Neue,Helvetica,sans-serif; font-size:12; text-anchor:middle;\" transform=\"rotate(0, 42.4825, 309.069)\" x=\"42.4825\" y=\"309.069\">-1</text>\n",
       "</g>\n",
       "<g clip-path=\"url(#clip1800)\">\n",
       "<text style=\"fill:#000000; fill-opacity:1; font-family:Arial,Helvetica Neue,Helvetica,sans-serif; font-size:12; text-anchor:middle;\" transform=\"rotate(0, 143.898, 309.069)\" x=\"143.898\" y=\"309.069\">0</text>\n",
       "</g>\n",
       "<g clip-path=\"url(#clip1800)\">\n",
       "<text style=\"fill:#000000; fill-opacity:1; font-family:Arial,Helvetica Neue,Helvetica,sans-serif; font-size:12; text-anchor:middle;\" transform=\"rotate(0, 245.314, 309.069)\" x=\"245.314\" y=\"309.069\">1</text>\n",
       "</g>\n",
       "<g clip-path=\"url(#clip1800)\">\n",
       "<text style=\"fill:#000000; fill-opacity:1; font-family:Arial,Helvetica Neue,Helvetica,sans-serif; font-size:12; text-anchor:middle;\" transform=\"rotate(0, 346.729, 309.069)\" x=\"346.729\" y=\"309.069\">2</text>\n",
       "</g>\n",
       "<g clip-path=\"url(#clip1800)\">\n",
       "<text style=\"fill:#000000; fill-opacity:1; font-family:Arial,Helvetica Neue,Helvetica,sans-serif; font-size:12; text-anchor:middle;\" transform=\"rotate(0, 448.145, 309.069)\" x=\"448.145\" y=\"309.069\">3</text>\n",
       "</g>\n",
       "<g clip-path=\"url(#clip1800)\">\n",
       "<text style=\"fill:#000000; fill-opacity:1; font-family:Arial,Helvetica Neue,Helvetica,sans-serif; font-size:12; text-anchor:end;\" transform=\"rotate(0, 25.5126, 277.138)\" x=\"25.5126\" y=\"277.138\">0</text>\n",
       "</g>\n",
       "<g clip-path=\"url(#clip1800)\">\n",
       "<text style=\"fill:#000000; fill-opacity:1; font-family:Arial,Helvetica Neue,Helvetica,sans-serif; font-size:12; text-anchor:end;\" transform=\"rotate(0, 25.5126, 216.372)\" x=\"25.5126\" y=\"216.372\">2</text>\n",
       "</g>\n",
       "<g clip-path=\"url(#clip1800)\">\n",
       "<text style=\"fill:#000000; fill-opacity:1; font-family:Arial,Helvetica Neue,Helvetica,sans-serif; font-size:12; text-anchor:end;\" transform=\"rotate(0, 25.5126, 155.605)\" x=\"25.5126\" y=\"155.605\">4</text>\n",
       "</g>\n",
       "<g clip-path=\"url(#clip1800)\">\n",
       "<text style=\"fill:#000000; fill-opacity:1; font-family:Arial,Helvetica Neue,Helvetica,sans-serif; font-size:12; text-anchor:end;\" transform=\"rotate(0, 25.5126, 94.8392)\" x=\"25.5126\" y=\"94.8392\">6</text>\n",
       "</g>\n",
       "<g clip-path=\"url(#clip1800)\">\n",
       "<text style=\"fill:#000000; fill-opacity:1; font-family:Arial,Helvetica Neue,Helvetica,sans-serif; font-size:12; text-anchor:end;\" transform=\"rotate(0, 25.5126, 34.073)\" x=\"25.5126\" y=\"34.073\">8</text>\n",
       "</g>\n",
       "<polyline clip-path=\"url(#clip1802)\" style=\"stroke:#009af9; stroke-width:1; stroke-opacity:1; fill:none\" points=\"\n",
       "  42.4825,19.8504 43.4967,22.3965 44.5108,24.9304 45.525,27.4522 46.5391,29.9619 47.5533,32.4594 48.5674,34.9447 49.5816,37.4179 50.5958,39.8789 51.6099,42.3278 \n",
       "  52.6241,44.7645 53.6382,47.1891 54.6524,49.6015 55.6665,52.0018 56.6807,54.3899 57.6949,56.7659 58.709,59.1297 59.7232,61.4813 60.7373,63.8208 61.7515,66.1482 \n",
       "  62.7656,68.4633 63.7798,70.7664 64.794,73.0573 65.8081,75.336 66.8223,77.6026 67.8364,79.857 68.8506,82.0993 69.8647,84.3294 70.8789,86.5474 71.893,88.7532 \n",
       "  72.9072,90.9468 73.9214,93.1283 74.9355,95.2977 75.9497,97.4549 76.9638,99.5999 77.978,101.733 78.9921,103.854 80.0063,105.962 81.0205,108.059 82.0346,110.143 \n",
       "  83.0488,112.215 84.0629,114.275 85.0771,116.323 86.0912,118.358 87.1054,120.382 88.1195,122.393 89.1337,124.393 90.1479,126.38 91.162,128.355 92.1762,130.317 \n",
       "  93.1903,132.268 94.2045,134.206 95.2186,136.133 96.2328,138.047 97.247,139.949 98.2611,141.839 99.2753,143.716 100.289,145.582 101.304,147.435 102.318,149.276 \n",
       "  103.332,151.105 104.346,152.922 105.36,154.727 106.374,156.52 107.389,158.3 108.403,160.068 109.417,161.825 110.431,163.569 111.445,165.3 112.459,167.02 \n",
       "  113.473,168.728 114.488,170.423 115.502,172.106 116.516,173.777 117.53,175.436 118.544,177.083 119.558,178.718 120.573,180.34 121.587,181.95 122.601,183.548 \n",
       "  123.615,185.134 124.629,186.708 125.643,188.27 126.657,189.82 127.672,191.357 128.686,192.882 129.7,194.395 130.714,195.896 131.728,197.385 132.742,198.862 \n",
       "  133.757,200.326 134.771,201.778 135.785,203.218 136.799,204.646 137.813,206.062 138.827,207.466 139.842,208.858 140.856,210.237 141.87,211.604 142.884,212.959 \n",
       "  143.898,214.302 144.912,215.633 145.926,216.952 146.941,218.258 147.955,219.552 148.969,220.835 149.983,222.105 150.997,223.362 152.011,224.608 153.026,225.842 \n",
       "  154.04,227.063 155.054,228.272 156.068,229.469 157.082,230.654 158.096,231.827 159.11,232.988 160.125,234.136 161.139,235.273 162.153,236.397 163.167,237.509 \n",
       "  164.181,238.609 165.195,239.696 166.21,240.772 167.224,241.835 168.238,242.887 169.252,243.926 170.266,244.953 171.28,245.967 172.295,246.97 173.309,247.961 \n",
       "  174.323,248.939 175.337,249.905 176.351,250.859 177.365,251.801 178.379,252.731 179.394,253.648 180.408,254.554 181.422,255.447 182.436,256.328 183.45,257.197 \n",
       "  184.464,258.054 185.479,258.899 186.493,259.731 187.507,260.551 188.521,261.36 189.535,262.156 190.549,262.939 191.564,263.711 192.578,264.471 193.592,265.218 \n",
       "  194.606,265.953 195.62,266.677 196.634,267.388 197.648,268.086 198.663,268.773 199.677,269.448 200.691,270.11 201.705,270.76 202.719,271.398 203.733,272.024 \n",
       "  204.748,272.638 205.762,273.239 206.776,273.829 207.79,274.406 208.804,274.971 209.818,275.524 210.832,276.065 211.847,276.594 212.861,277.11 213.875,277.615 \n",
       "  214.889,278.107 215.903,278.587 216.917,279.055 217.932,279.51 218.946,279.954 219.96,280.385 220.974,280.805 221.988,281.212 223.002,281.607 224.017,281.99 \n",
       "  225.031,282.36 226.045,282.719 227.059,283.065 228.073,283.399 229.087,283.722 230.101,284.031 231.116,284.329 232.13,284.615 233.144,284.888 234.158,285.15 \n",
       "  235.172,285.399 236.186,285.636 237.201,285.86 238.215,286.073 239.229,286.274 240.243,286.462 241.257,286.638 242.271,286.802 243.285,286.954 244.3,287.094 \n",
       "  245.314,287.222 246.328,287.337 247.342,287.44 248.356,287.532 249.37,287.611 250.385,287.677 251.399,287.732 252.413,287.775 253.427,287.805 254.441,287.823 \n",
       "  255.455,287.829 256.47,287.823 257.484,287.805 258.498,287.775 259.512,287.732 260.526,287.677 261.54,287.611 262.554,287.532 263.569,287.44 264.583,287.337 \n",
       "  265.597,287.222 266.611,287.094 267.625,286.954 268.639,286.802 269.654,286.638 270.668,286.462 271.682,286.274 272.696,286.073 273.71,285.86 274.724,285.636 \n",
       "  275.738,285.399 276.753,285.15 277.767,284.888 278.781,284.615 279.795,284.329 280.809,284.031 281.823,283.722 282.838,283.399 283.852,283.065 284.866,282.719 \n",
       "  285.88,282.36 286.894,281.99 287.908,281.607 288.923,281.212 289.937,280.805 290.951,280.385 291.965,279.954 292.979,279.51 293.993,279.055 295.007,278.587 \n",
       "  296.022,278.107 297.036,277.615 298.05,277.11 299.064,276.594 300.078,276.065 301.092,275.524 302.107,274.971 303.121,274.406 304.135,273.829 305.149,273.239 \n",
       "  306.163,272.638 307.177,272.024 308.191,271.398 309.206,270.76 310.22,270.11 311.234,269.448 312.248,268.773 313.262,268.086 314.276,267.388 315.291,266.677 \n",
       "  316.305,265.953 317.319,265.218 318.333,264.471 319.347,263.711 320.361,262.939 321.376,262.156 322.39,261.36 323.404,260.551 324.418,259.731 325.432,258.899 \n",
       "  326.446,258.054 327.46,257.197 328.475,256.328 329.489,255.447 330.503,254.554 331.517,253.648 332.531,252.731 333.545,251.801 334.56,250.859 335.574,249.905 \n",
       "  336.588,248.939 337.602,247.961 338.616,246.97 339.63,245.967 340.645,244.953 341.659,243.926 342.673,242.887 343.687,241.835 344.701,240.772 345.715,239.696 \n",
       "  346.729,238.609 347.744,237.509 348.758,236.397 349.772,235.273 350.786,234.136 351.8,232.988 352.814,231.827 353.829,230.654 354.843,229.469 355.857,228.272 \n",
       "  356.871,227.063 357.885,225.842 358.899,224.608 359.913,223.362 360.928,222.105 361.942,220.835 362.956,219.552 363.97,218.258 364.984,216.952 365.998,215.633 \n",
       "  367.013,214.302 368.027,212.959 369.041,211.604 370.055,210.237 371.069,208.858 372.083,207.466 373.098,206.062 374.112,204.646 375.126,203.218 376.14,201.778 \n",
       "  377.154,200.326 378.168,198.862 379.182,197.385 380.197,195.896 381.211,194.395 382.225,192.882 383.239,191.357 384.253,189.82 385.267,188.27 386.282,186.708 \n",
       "  387.296,185.134 388.31,183.548 389.324,181.95 390.338,180.34 391.352,178.718 392.366,177.083 393.381,175.436 394.395,173.777 395.409,172.106 396.423,170.423 \n",
       "  397.437,168.728 398.451,167.02 399.466,165.3 400.48,163.569 401.494,161.825 402.508,160.068 403.522,158.3 404.536,156.52 405.551,154.727 406.565,152.922 \n",
       "  407.579,151.105 408.593,149.276 409.607,147.435 410.621,145.582 411.635,143.716 412.65,141.839 413.664,139.949 414.678,138.047 415.692,136.133 416.706,134.206 \n",
       "  417.72,132.268 418.735,130.317 419.749,128.355 420.763,126.38 421.777,124.393 422.791,122.393 423.805,120.382 424.819,118.358 425.834,116.323 426.848,114.275 \n",
       "  427.862,112.215 428.876,110.143 429.89,108.059 430.904,105.962 431.919,103.854 432.933,101.733 433.947,99.5999 434.961,97.4549 435.975,95.2977 436.989,93.1283 \n",
       "  438.004,90.9468 439.018,88.7532 440.032,86.5474 441.046,84.3294 442.06,82.0993 443.074,79.857 444.088,77.6026 445.103,75.336 446.117,73.0573 447.131,70.7664 \n",
       "  448.145,68.4633 \n",
       "  \"/>\n",
       "<polygon clip-path=\"url(#clip1800)\" points=\"\n",
       "367.158,55.731 445.915,55.731 445.915,25.491 367.158,25.491 \n",
       "  \" fill=\"#ffffff\" fill-opacity=\"1\"/>\n",
       "<polyline clip-path=\"url(#clip1800)\" style=\"stroke:#000000; stroke-width:1; stroke-opacity:1; fill:none\" points=\"\n",
       "  367.158,55.731 445.915,55.731 445.915,25.491 367.158,25.491 367.158,55.731 \n",
       "  \"/>\n",
       "<polyline clip-path=\"url(#clip1800)\" style=\"stroke:#009af9; stroke-width:1; stroke-opacity:1; fill:none\" points=\"\n",
       "  371.958,40.611 400.758,40.611 \n",
       "  \"/>\n",
       "<g clip-path=\"url(#clip1800)\">\n",
       "<text style=\"fill:#000000; fill-opacity:1; font-family:Arial,Helvetica Neue,Helvetica,sans-serif; font-size:12; text-anchor:start;\" transform=\"rotate(0, 405.558, 45.111)\" x=\"405.558\" y=\"45.111\">fn1(x)</text>\n",
       "</g>\n",
       "</svg>\n"
      ]
     },
     "execution_count": 7,
     "metadata": {},
     "output_type": "execute_result"
    }
   ],
   "source": [
    "x2 = -1:0.01:3                        \n",
    "\n",
    "p1 = plot(x2,fn1.(x2),label=\"fn1(x)\")           #plotting the function"
   ]
  },
  {
   "cell_type": "markdown",
   "metadata": {},
   "source": [
    "## A \"one-liner\"\n",
    "\n",
    "We can also create a short version of a function as in the cell below. Notice, however, that it can (essentially) only contain one expression."
   ]
  },
  {
   "cell_type": "code",
   "execution_count": 8,
   "metadata": {},
   "outputs": [
    {
     "data": {
      "text/plain": [
       "fn1b (generic function with 1 method)"
      ]
     },
     "execution_count": 8,
     "metadata": {},
     "output_type": "execute_result"
    }
   ],
   "source": [
    "fn1b(x) = 2*(x-1.1)^2 - 0.5          #short form of a function"
   ]
  },
  {
   "cell_type": "code",
   "execution_count": 9,
   "metadata": {},
   "outputs": [
    {
     "name": "stdout",
     "output_type": "stream",
     "text": [
      "result from the function fn1b.(x): \n",
      "    -0.480\n",
      "    -0.180\n",
      "\n"
     ]
    }
   ],
   "source": [
    "y = fn1b.(x)                 \n",
    "println(\"result from the function fn1b.(x): \")\n",
    "printmat(y)"
   ]
  },
  {
   "cell_type": "markdown",
   "metadata": {},
   "source": [
    "## Several Inputs\n",
    "\n",
    "It is straightforward to define functions with several inputs. You can also specify default values of the inputs. They are used when you do not supply those inputs when calling on the function. (Clearly, inputs with default values must be towards the end of the list of inputs.)"
   ]
  },
  {
   "cell_type": "code",
   "execution_count": 10,
   "metadata": {},
   "outputs": [
    {
     "data": {
      "text/plain": [
       "fn2 (generic function with 2 methods)"
      ]
     },
     "execution_count": 10,
     "metadata": {},
     "output_type": "execute_result"
    }
   ],
   "source": [
    "function fn2a(x,b)\n",
    "    y = b*(x-1.1)^2 - 0.5\n",
    "    return y\n",
    "end\n",
    "\n",
    "function fn2(x,b=1)                 #b=1 is the default in case we call as fn2(x)\n",
    "    y = b*(x-1.1)^2 - 0.5\n",
    "    return y\n",
    "end"
   ]
  },
  {
   "cell_type": "code",
   "execution_count": 11,
   "metadata": {},
   "outputs": [
    {
     "name": "stdout",
     "output_type": "stream",
     "text": [
      "result from the fn2a(1,1) and fn2(1):     -0.490    -0.490\n",
      "\n",
      "result from the function fn2.(x,2): \n",
      "    -0.480\n",
      "    -0.180\n",
      "\n"
     ]
    }
   ],
   "source": [
    "printlnPs(\"result from the fn2a(1,1) and fn2(1): \",fn2a(1,1),fn2(1))\n",
    "\n",
    "y2b = fn2.(x,2)\n",
    "println(\"\\nresult from the function fn2.(x,2): \")\n",
    "printmat(y2b)"
   ]
  },
  {
   "cell_type": "markdown",
   "metadata": {},
   "source": [
    "## Several Inputs 2: Keyword Arguments\n",
    "\n",
    "You can also define functions that take *keyword arguments* like in `fn2b(x;b=1,c=0.5)`. Notice the semi-colon (;). \n",
    "\n",
    "In this case, you call on the function by `fn2b(x,b=1,c=3)`. This helps remembering/interpreting what the arguments represent. You can also pass the keyword arguments in any order and you could use comma (,) instead of semi-colon (;)."
   ]
  },
  {
   "cell_type": "code",
   "execution_count": 12,
   "metadata": {},
   "outputs": [
    {
     "data": {
      "text/plain": [
       "fn2b (generic function with 1 method)"
      ]
     },
     "execution_count": 12,
     "metadata": {},
     "output_type": "execute_result"
    }
   ],
   "source": [
    "function fn2b(x;b=1,c=0.5)\n",
    "    y = b*(x-1.1)^2 - c\n",
    "    return y\n",
    "end"
   ]
  },
  {
   "cell_type": "code",
   "execution_count": 13,
   "metadata": {},
   "outputs": [
    {
     "name": "stdout",
     "output_type": "stream",
     "text": [
      "result from the fn2b(1,c=0.5,b=1):     -0.490\n",
      "notice that you can pass the keyword arguments in any order\n"
     ]
    }
   ],
   "source": [
    "printlnPs(\"result from the fn2b(1,c=0.5,b=1): \",fn2b(1,c=0.5,b=1))  \n",
    "\n",
    "println(\"notice that you can pass the keyword arguments in any order\")"
   ]
  },
  {
   "cell_type": "markdown",
   "metadata": {},
   "source": [
    "## An \"Anonymous\" Function\n",
    "\n",
    "The expression \n",
    "```\n",
    "x->2*(x-1.1)^2 - 0.5\n",
    "```\n",
    "creates an anonymous function (a function without a name). \n",
    "\n",
    "This approach is often useful as an input to another function. For instance, the next cell uses\n",
    "```\n",
    "x->fn2a(x,2)\n",
    "```\n",
    "This creates an anonymous function with only one input (```x```), which is what the root finding routine ```find_zero()``` wants."
   ]
  },
  {
   "cell_type": "code",
   "execution_count": 14,
   "metadata": {},
   "outputs": [
    {
     "name": "stdout",
     "output_type": "stream",
     "text": [
      "A root at:      0.600\n",
      "\n",
      "fn2a(x,2)=0.75 at      1.891,    testing:      0.750\n"
     ]
    }
   ],
   "source": [
    "x1 = find_zero(x->fn2a(x,2),(-1,1))         #finding a root of a function in     \n",
    "                                            #the interval [-1,1]\n",
    "printlnPs(\"A root at: \",x1)\n",
    "\n",
    "x2 = find_zero(x->fn2a(x,2)-0.75,2)         #at which x is fn(x,2) == 0.75? Starting guess: x=2\n",
    "                                        \n",
    "printlnPs(\"\\n\",\"fn2a(x,2)=0.75 at \",x2,\",    testing: \",fn2a(x2,2))"
   ]
  },
  {
   "cell_type": "markdown",
   "metadata": {},
   "source": [
    "## Several Outputs\n",
    "\n",
    "Functions can produce a \"tuple\" like `(y1,y2,y3)` as outputs.\n",
    "\n",
    "In case you only want the first two outputs, call as `(y1,y2,) = fn(x)`.\n",
    "\n",
    "Instead, if you only want the 2nd and third outputs, call as `(_,y2,y3) = fn(x)`\n",
    "\n",
    "You can also extract the second output as `y2 = fn(x)[2]`"
   ]
  },
  {
   "cell_type": "code",
   "execution_count": 15,
   "metadata": {},
   "outputs": [
    {
     "data": {
      "text/plain": [
       "fn3 (generic function with 2 methods)"
      ]
     },
     "execution_count": 15,
     "metadata": {},
     "output_type": "execute_result"
    }
   ],
   "source": [
    "function fn3(x,b=1)                 \n",
    "    y1 = b*(x-1.1)^2 - 0.5\n",
    "    y2 = b*x\n",
    "    y3 = 3\n",
    "    return y1, y2, y3\n",
    "end"
   ]
  },
  {
   "cell_type": "code",
   "execution_count": 16,
   "metadata": {},
   "outputs": [
    {
     "name": "stdout",
     "output_type": "stream",
     "text": [
      "The first 2 outputs from the function fn3(1,2): \n",
      "    -0.480     2.000\n",
      "\n",
      "The result from calling fn3(1,2)[2]:          2\n"
     ]
    }
   ],
   "source": [
    "(y1,y2,) = fn3(1,2)\n",
    "println(\"The first 2 outputs from the function fn3(1,2): \")\n",
    "printmat([y1 y2])\n",
    "\n",
    "y2 = fn3(1,2)[2]         #to grab just the second output from the function\n",
    "printlnPs(\"The result from calling fn3(1,2)[2]: \",y2)"
   ]
  },
  {
   "cell_type": "markdown",
   "metadata": {},
   "source": [
    "## Elementwise Evaluation with Several Outputs (extra)\n",
    "\n",
    "...can be tricky, because you get an array (same dimension as the input) of tuples instead of a tuple of arrays (which is probably what you want).\n",
    "\n",
    "One way around this is to reshuffle the array of tuples as matrix - and the split it up into vectors, as in the cell below."
   ]
  },
  {
   "cell_type": "code",
   "execution_count": 17,
   "metadata": {},
   "outputs": [
    {
     "name": "stdout",
     "output_type": "stream",
     "text": [
      "type and size of y: Array{Tuple{Float64,Float64,Int64},1} (2,)\n",
      "\n",
      "printing the vectors y1 and y2\n",
      "    -0.480     2.000\n",
      "    -0.180     3.000\n",
      "\n"
     ]
    }
   ],
   "source": [
    "y = fn3.(x,2)\n",
    "println(\"type and size of y: \",typeof(y),\" \",size(y) )\n",
    "\n",
    "z = [y[i][j] for i = 1:length(x),j=1:3]    #create 2x3 matrix\n",
    "(y1,y2,y3) = [z[:,i] for i=1:3]            #split up into 3 vectors\n",
    "\n",
    "println(\"\\nprinting the vectors y1 and y2\")\n",
    "printmat([y1 y2])"
   ]
  },
  {
   "cell_type": "markdown",
   "metadata": {},
   "source": [
    "However, it might be easier to either loop over the function calls, or to write the function so that it can directly handle array inputs (without the dot), see `fn3b()`."
   ]
  },
  {
   "cell_type": "code",
   "execution_count": 18,
   "metadata": {},
   "outputs": [
    {
     "data": {
      "text/plain": [
       "fn3b (generic function with 2 methods)"
      ]
     },
     "execution_count": 18,
     "metadata": {},
     "output_type": "execute_result"
    }
   ],
   "source": [
    "function fn3b(x,b=1)                 #x can be an array\n",
    "    y1 = b*(x.-1.1).^2 .- 0.5\n",
    "    y2 = b*x\n",
    "    y3 = 3\n",
    "    return y1, y2, y3\n",
    "end"
   ]
  },
  {
   "cell_type": "code",
   "execution_count": 19,
   "metadata": {},
   "outputs": [
    {
     "name": "stdout",
     "output_type": "stream",
     "text": [
      "result from the function fn3b(x,2): \n",
      "    -0.480     2.000\n",
      "    -0.180     3.000\n",
      "\n"
     ]
    }
   ],
   "source": [
    "(y1,y2,) = fn3b(x,2)                                  #function written to handle arrays\n",
    "println(\"result from the function fn3b(x,2): \")\n",
    "printmat([y1 y2])"
   ]
  },
  {
   "cell_type": "markdown",
   "metadata": {
    "collapsed": true
   },
   "source": [
    "## Documenting Your Function \n",
    "\n",
    "To use Julia's help function (`? FunctionName`), put the documentation in triple quotes, just above the function defintiion. The cell below illustrates a simple case."
   ]
  },
  {
   "cell_type": "code",
   "execution_count": 20,
   "metadata": {},
   "outputs": [
    {
     "data": {
      "text/plain": [
       "fn4 (generic function with 2 methods)"
      ]
     },
     "execution_count": 20,
     "metadata": {},
     "output_type": "execute_result"
    }
   ],
   "source": [
    "\"\"\"\n",
    "    fn4(x,b=1)\n",
    "\n",
    "Calculate b*(x-1.1)^2 - 0.5.\n",
    "\n",
    "# Arguments\n",
    "- `x`:    a number\n",
    "- `b`:    a number\n",
    "\n",
    "\"\"\"\n",
    "function fn4(x,b=1)       \n",
    "    y = b*(x-1.1)^2 - 0.5\n",
    "    return y\n",
    "end"
   ]
  },
  {
   "cell_type": "code",
   "execution_count": 21,
   "metadata": {},
   "outputs": [
    {
     "name": "stdout",
     "output_type": "stream",
     "text": [
      "search: \u001b[0m\u001b[1mf\u001b[22m\u001b[0m\u001b[1mn\u001b[22m\u001b[0m\u001b[1m4\u001b[22m\n",
      "\n"
     ]
    },
    {
     "data": {
      "text/markdown": [
       "No documentation found.\n",
       "\n",
       "`fn4` is a `Function`.\n",
       "\n",
       "```\n",
       "# 2 methods for generic function \"fn4\":\n",
       "[1] fn4(x) in Main at In[20]:12\n",
       "[2] fn4(x, b) in Main at In[20]:12\n",
       "```\n"
      ],
      "text/plain": [
       "  No documentation found.\n",
       "\n",
       "  \u001b[36mfn4\u001b[39m is a \u001b[36mFunction\u001b[39m.\n",
       "\n",
       "\u001b[36m  # 2 methods for generic function \"fn4\":\u001b[39m\n",
       "\u001b[36m  [1] fn4(x) in Main at In[20]:12\u001b[39m\n",
       "\u001b[36m  [2] fn4(x, b) in Main at In[20]:12\u001b[39m"
      ]
     },
     "execution_count": 21,
     "metadata": {},
     "output_type": "execute_result"
    }
   ],
   "source": [
    "? fn4"
   ]
  },
  {
   "cell_type": "code",
   "execution_count": null,
   "metadata": {},
   "outputs": [],
   "source": []
  }
 ],
 "metadata": {
  "anaconda-cloud": {},
  "kernelspec": {
   "display_name": "Julia 1.0.0",
   "language": "julia",
   "name": "julia-1.0"
  },
  "language_info": {
   "file_extension": ".jl",
   "mimetype": "application/julia",
   "name": "julia",
   "version": "1.0.0"
  }
 },
 "nbformat": 4,
 "nbformat_minor": 1
}
