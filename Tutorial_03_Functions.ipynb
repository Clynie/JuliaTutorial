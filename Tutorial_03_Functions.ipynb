{
 "cells": [
  {
   "cell_type": "markdown",
   "metadata": {
    "collapsed": true,
    "deletable": true,
    "editable": true
   },
   "source": [
    "# Functions"
   ]
  },
  {
   "cell_type": "markdown",
   "metadata": {
    "deletable": true,
    "editable": true
   },
   "source": [
    "## Loading Packages"
   ]
  },
  {
   "cell_type": "code",
   "execution_count": 1,
   "metadata": {
    "collapsed": false,
    "deletable": true,
    "editable": true
   },
   "outputs": [
    {
     "data": {
      "text/plain": [
       "println4Ps (generic function with 1 method)"
      ]
     },
     "execution_count": 1,
     "metadata": {},
     "output_type": "execute_result"
    }
   ],
   "source": [
    "using Roots\n",
    "\n",
    "include(\"printmat.jl\")   #just a function for prettier matrix printing"
   ]
  },
  {
   "cell_type": "code",
   "execution_count": 2,
   "metadata": {
    "collapsed": false,
    "deletable": true,
    "editable": true
   },
   "outputs": [
    {
     "data": {
      "text/plain": [
       "Plots.GRBackend()"
      ]
     },
     "execution_count": 2,
     "metadata": {},
     "output_type": "execute_result"
    }
   ],
   "source": [
    "using Plots\n",
    "\n",
    "backend = \"gr\"              #\"gr\" (default), \"pyplot\" \n",
    "\n",
    "if backend == \"pyplot\"\n",
    "    pyplot(size=(600,400))\n",
    "else    \n",
    "    gr(size=(600,400))\n",
    "end"
   ]
  },
  {
   "cell_type": "markdown",
   "metadata": {
    "deletable": true,
    "editable": true
   },
   "source": [
    "## A Function with One Input and One Output"
   ]
  },
  {
   "cell_type": "code",
   "execution_count": 3,
   "metadata": {
    "collapsed": false,
    "deletable": true,
    "editable": true
   },
   "outputs": [
    {
     "data": {
      "text/plain": [
       "fn1 (generic function with 1 method)"
      ]
     },
     "execution_count": 3,
     "metadata": {},
     "output_type": "execute_result"
    }
   ],
   "source": [
    "function fn1(x)\n",
    "    y = (x-1.1).^2 - 0.5      # .^2 means that x could be an array \n",
    "    return y\n",
    "end"
   ]
  },
  {
   "cell_type": "code",
   "execution_count": 4,
   "metadata": {
    "collapsed": false,
    "deletable": true,
    "editable": true
   },
   "outputs": [
    {
     "name": "stdout",
     "output_type": "stream",
     "text": [
      "result from the function fn1(x): \n",
      "    -0.490\n",
      "    -0.340\n",
      "\n",
      "the output is one vector since x is a vector\n"
     ]
    }
   ],
   "source": [
    "x = [1;1.5] \n",
    "\n",
    "y = fn1(x)                   #calling on the function\n",
    "println(\"result from the function fn1(x): \")\n",
    "printmat(y)\n",
    "\n",
    "println(\"the output is one vector since x is a vector\")"
   ]
  },
  {
   "cell_type": "code",
   "execution_count": 5,
   "metadata": {
    "collapsed": false,
    "deletable": true,
    "editable": true
   },
   "outputs": [
    {
     "data": {
      "text/html": [
       "<?xml version=\"1.0\" encoding=\"utf-8\"?>\n",
       "<svg xmlns=\"http://www.w3.org/2000/svg\" xmlns:xlink=\"http://www.w3.org/1999/xlink\" width=\"600\" height=\"400\" viewBox=\"0 0 600 400\">\n",
       "<defs>\n",
       "  <clipPath id=\"clip00\">\n",
       "    <rect x=\"0\" y=\"0\" width=\"600\" height=\"400\"/>\n",
       "  </clipPath>\n",
       "</defs>\n",
       "<polygon clip-path=\"url(#clip00)\" points=\"\n",
       "0,400 600,400 600,0 0,0 \n",
       "  \" fill=\"#ffffff\" fill-opacity=\"1\"/>\n",
       "<defs>\n",
       "  <clipPath id=\"clip01\">\n",
       "    <rect x=\"120\" y=\"0\" width=\"421\" height=\"400\"/>\n",
       "  </clipPath>\n",
       "</defs>\n",
       "<polygon clip-path=\"url(#clip00)\" points=\"\n",
       "39.3701,376.378 592.126,376.378 592.126,7.87402 39.3701,7.87402 \n",
       "  \" fill=\"#ffffff\" fill-opacity=\"1\"/>\n",
       "<defs>\n",
       "  <clipPath id=\"clip02\">\n",
       "    <rect x=\"39\" y=\"7\" width=\"554\" height=\"370\"/>\n",
       "  </clipPath>\n",
       "</defs>\n",
       "<polyline clip-path=\"url(#clip02)\" style=\"stroke:#000000; stroke-width:0.5; stroke-opacity:0.1; fill:none\" points=\"\n",
       "  100.787,370.85 100.787,13.4016 \n",
       "  \"/>\n",
       "<polyline clip-path=\"url(#clip02)\" style=\"stroke:#000000; stroke-width:0.5; stroke-opacity:0.1; fill:none\" points=\"\n",
       "  223.622,370.85 223.622,13.4016 \n",
       "  \"/>\n",
       "<polyline clip-path=\"url(#clip02)\" style=\"stroke:#000000; stroke-width:0.5; stroke-opacity:0.1; fill:none\" points=\"\n",
       "  346.457,370.85 346.457,13.4016 \n",
       "  \"/>\n",
       "<polyline clip-path=\"url(#clip02)\" style=\"stroke:#000000; stroke-width:0.5; stroke-opacity:0.1; fill:none\" points=\"\n",
       "  469.291,370.85 469.291,13.4016 \n",
       "  \"/>\n",
       "<polyline clip-path=\"url(#clip02)\" style=\"stroke:#000000; stroke-width:0.5; stroke-opacity:0.1; fill:none\" points=\"\n",
       "  592.126,370.85 592.126,13.4016 \n",
       "  \"/>\n",
       "<polyline clip-path=\"url(#clip02)\" style=\"stroke:#000000; stroke-width:0.5; stroke-opacity:0.1; fill:none\" points=\"\n",
       "  47.6614,368.704 583.835,368.704 \n",
       "  \"/>\n",
       "<polyline clip-path=\"url(#clip02)\" style=\"stroke:#000000; stroke-width:0.5; stroke-opacity:0.1; fill:none\" points=\"\n",
       "  47.6614,215.225 583.835,215.225 \n",
       "  \"/>\n",
       "<polyline clip-path=\"url(#clip02)\" style=\"stroke:#000000; stroke-width:0.5; stroke-opacity:0.1; fill:none\" points=\"\n",
       "  47.6614,61.7453 583.835,61.7453 \n",
       "  \"/>\n",
       "<polyline clip-path=\"url(#clip00)\" style=\"stroke:#000000; stroke-width:1; stroke-opacity:1; fill:none\" points=\"\n",
       "  39.3701,376.378 592.126,376.378 \n",
       "  \"/>\n",
       "<polyline clip-path=\"url(#clip00)\" style=\"stroke:#000000; stroke-width:1; stroke-opacity:1; fill:none\" points=\"\n",
       "  100.787,376.378 100.787,370.85 \n",
       "  \"/>\n",
       "<polyline clip-path=\"url(#clip00)\" style=\"stroke:#000000; stroke-width:1; stroke-opacity:1; fill:none\" points=\"\n",
       "  223.622,376.378 223.622,370.85 \n",
       "  \"/>\n",
       "<polyline clip-path=\"url(#clip00)\" style=\"stroke:#000000; stroke-width:1; stroke-opacity:1; fill:none\" points=\"\n",
       "  346.457,376.378 346.457,370.85 \n",
       "  \"/>\n",
       "<polyline clip-path=\"url(#clip00)\" style=\"stroke:#000000; stroke-width:1; stroke-opacity:1; fill:none\" points=\"\n",
       "  469.291,376.378 469.291,370.85 \n",
       "  \"/>\n",
       "<polyline clip-path=\"url(#clip00)\" style=\"stroke:#000000; stroke-width:1; stroke-opacity:1; fill:none\" points=\"\n",
       "  592.126,376.378 592.126,370.85 \n",
       "  \"/>\n",
       "<polyline clip-path=\"url(#clip00)\" style=\"stroke:#000000; stroke-width:1; stroke-opacity:1; fill:none\" points=\"\n",
       "  39.3701,376.378 39.3701,7.87402 \n",
       "  \"/>\n",
       "<polyline clip-path=\"url(#clip00)\" style=\"stroke:#000000; stroke-width:1; stroke-opacity:1; fill:none\" points=\"\n",
       "  39.3701,368.704 47.6614,368.704 \n",
       "  \"/>\n",
       "<polyline clip-path=\"url(#clip00)\" style=\"stroke:#000000; stroke-width:1; stroke-opacity:1; fill:none\" points=\"\n",
       "  39.3701,215.225 47.6614,215.225 \n",
       "  \"/>\n",
       "<polyline clip-path=\"url(#clip00)\" style=\"stroke:#000000; stroke-width:1; stroke-opacity:1; fill:none\" points=\"\n",
       "  39.3701,61.7453 47.6614,61.7453 \n",
       "  \"/>\n",
       "<g clip-path=\"url(#clip00)\">\n",
       "<text style=\"fill:#000000; fill-opacity:1; font-family:Arial,Helvetica Neue,Helvetica,sans-serif; font-size:12; text-anchor:middle;\" transform=\"rotate(0, 100.787, 390.178)\" x=\"100.787\" y=\"390.178\">-2</text>\n",
       "</g>\n",
       "<g clip-path=\"url(#clip00)\">\n",
       "<text style=\"fill:#000000; fill-opacity:1; font-family:Arial,Helvetica Neue,Helvetica,sans-serif; font-size:12; text-anchor:middle;\" transform=\"rotate(0, 223.622, 390.178)\" x=\"223.622\" y=\"390.178\">0</text>\n",
       "</g>\n",
       "<g clip-path=\"url(#clip00)\">\n",
       "<text style=\"fill:#000000; fill-opacity:1; font-family:Arial,Helvetica Neue,Helvetica,sans-serif; font-size:12; text-anchor:middle;\" transform=\"rotate(0, 346.457, 390.178)\" x=\"346.457\" y=\"390.178\">2</text>\n",
       "</g>\n",
       "<g clip-path=\"url(#clip00)\">\n",
       "<text style=\"fill:#000000; fill-opacity:1; font-family:Arial,Helvetica Neue,Helvetica,sans-serif; font-size:12; text-anchor:middle;\" transform=\"rotate(0, 469.291, 390.178)\" x=\"469.291\" y=\"390.178\">4</text>\n",
       "</g>\n",
       "<g clip-path=\"url(#clip00)\">\n",
       "<text style=\"fill:#000000; fill-opacity:1; font-family:Arial,Helvetica Neue,Helvetica,sans-serif; font-size:12; text-anchor:middle;\" transform=\"rotate(0, 592.126, 390.178)\" x=\"592.126\" y=\"390.178\">6</text>\n",
       "</g>\n",
       "<g clip-path=\"url(#clip00)\">\n",
       "<text style=\"fill:#000000; fill-opacity:1; font-family:Arial,Helvetica Neue,Helvetica,sans-serif; font-size:12; text-anchor:end;\" transform=\"rotate(0, 33.3701, 373.204)\" x=\"33.3701\" y=\"373.204\">0</text>\n",
       "</g>\n",
       "<g clip-path=\"url(#clip00)\">\n",
       "<text style=\"fill:#000000; fill-opacity:1; font-family:Arial,Helvetica Neue,Helvetica,sans-serif; font-size:12; text-anchor:end;\" transform=\"rotate(0, 33.3701, 219.725)\" x=\"33.3701\" y=\"219.725\">10</text>\n",
       "</g>\n",
       "<g clip-path=\"url(#clip00)\">\n",
       "<text style=\"fill:#000000; fill-opacity:1; font-family:Arial,Helvetica Neue,Helvetica,sans-serif; font-size:12; text-anchor:end;\" transform=\"rotate(0, 33.3701, 66.2453)\" x=\"33.3701\" y=\"66.2453\">20</text>\n",
       "</g>\n",
       "<polyline clip-path=\"url(#clip02)\" style=\"stroke:#009af9; stroke-width:1; stroke-opacity:1; fill:none\" points=\"\n",
       "  39.3701,118.379 39.9843,119.636 40.5984,120.89 41.2126,122.141 41.8268,123.389 42.4409,124.633 43.0551,125.875 43.6693,127.114 44.2835,128.349 44.8976,129.582 \n",
       "  45.5118,130.811 46.126,132.037 46.7402,133.261 47.3543,134.481 47.9685,135.698 48.5827,136.912 49.1969,138.123 49.811,139.331 50.4252,140.535 51.0394,141.737 \n",
       "  51.6535,142.936 52.2677,144.131 52.8819,145.324 53.4961,146.513 54.1102,147.7 54.7244,148.883 55.3386,150.063 55.9528,151.241 56.5669,152.415 57.1811,153.586 \n",
       "  57.7953,154.754 58.4094,155.919 59.0236,157.081 59.6378,158.239 60.252,159.395 60.8661,160.548 61.4803,161.697 62.0945,162.844 62.7087,163.987 63.3228,165.127 \n",
       "  63.937,166.265 64.5512,167.399 65.1654,168.53 65.7795,169.658 66.3937,170.783 67.0079,171.905 67.622,173.024 68.2362,174.14 68.8504,175.252 69.4646,176.362 \n",
       "  70.0787,177.469 70.6929,178.572 71.3071,179.673 71.9213,180.77 72.5354,181.864 73.1496,182.956 73.7638,184.044 74.378,185.129 74.9921,186.211 75.6063,187.29 \n",
       "  76.2205,188.366 76.8346,189.439 77.4488,190.508 78.063,191.575 78.6772,192.639 79.2913,193.699 79.9055,194.757 80.5197,195.811 81.1339,196.862 81.748,197.911 \n",
       "  82.3622,198.956 82.9764,199.998 83.5906,201.037 84.2047,202.073 84.8189,203.106 85.4331,204.136 86.0472,205.163 86.6614,206.186 87.2756,207.207 87.8898,208.224 \n",
       "  88.5039,209.239 89.1181,210.25 89.7323,211.259 90.3465,212.264 90.9606,213.266 91.5748,214.265 92.189,215.261 92.8031,216.254 93.4173,217.244 94.0315,218.231 \n",
       "  94.6457,219.215 95.2598,220.196 95.874,221.173 96.4882,222.148 97.1024,223.12 97.7165,224.088 98.3307,225.053 98.9449,226.016 99.5591,226.975 100.173,227.931 \n",
       "  100.787,228.884 101.402,229.834 102.016,230.781 102.63,231.725 103.244,232.666 103.858,233.604 104.472,234.538 105.087,235.47 105.701,236.399 106.315,237.324 \n",
       "  106.929,238.247 107.543,239.166 108.157,240.082 108.772,240.995 109.386,241.905 110,242.813 110.614,243.717 111.228,244.617 111.843,245.515 112.457,246.41 \n",
       "  113.071,247.302 113.685,248.19 114.299,249.076 114.913,249.959 115.528,250.838 116.142,251.714 116.756,252.588 117.37,253.458 117.984,254.325 118.598,255.189 \n",
       "  119.213,256.05 119.827,256.908 120.441,257.763 121.055,258.615 121.669,259.464 122.283,260.309 122.898,261.152 123.512,261.991 124.126,262.828 124.74,263.661 \n",
       "  125.354,264.492 125.969,265.319 126.583,266.143 127.197,266.964 127.811,267.782 128.425,268.597 129.039,269.409 129.654,270.218 130.268,271.024 130.882,271.826 \n",
       "  131.496,272.626 132.11,273.422 132.724,274.216 133.339,275.006 133.953,275.794 134.567,276.578 135.181,277.359 135.795,278.137 136.409,278.912 137.024,279.684 \n",
       "  137.638,280.453 138.252,281.219 138.866,281.982 139.48,282.742 140.094,283.498 140.709,284.252 141.323,285.002 141.937,285.75 142.551,286.494 143.165,287.236 \n",
       "  143.78,287.974 144.394,288.709 145.008,289.441 145.622,290.17 146.236,290.896 146.85,291.619 147.465,292.339 148.079,293.056 148.693,293.769 149.307,294.48 \n",
       "  149.921,295.187 150.535,295.892 151.15,296.593 151.764,297.292 152.378,297.987 152.992,298.679 153.606,299.368 154.22,300.054 154.835,300.737 155.449,301.417 \n",
       "  156.063,302.094 156.677,302.768 157.291,303.438 157.906,304.106 158.52,304.771 159.134,305.432 159.748,306.091 160.362,306.746 160.976,307.398 161.591,308.047 \n",
       "  162.205,308.694 162.819,309.337 163.433,309.977 164.047,310.614 164.661,311.247 165.276,311.878 165.89,312.506 166.504,313.131 167.118,313.752 167.732,314.371 \n",
       "  168.346,314.986 168.961,315.599 169.575,316.208 170.189,316.814 170.803,317.417 171.417,318.017 172.031,318.614 172.646,319.208 173.26,319.799 173.874,320.387 \n",
       "  174.488,320.972 175.102,321.554 175.717,322.132 176.331,322.708 176.945,323.28 177.559,323.85 178.173,324.416 178.787,324.979 179.402,325.539 180.016,326.097 \n",
       "  180.63,326.651 181.244,327.202 181.858,327.75 182.472,328.294 183.087,328.836 183.701,329.375 184.315,329.911 184.929,330.443 185.543,330.973 186.157,331.499 \n",
       "  186.772,332.022 187.386,332.543 188,333.06 188.614,333.574 189.228,334.085 189.843,334.593 190.457,335.098 191.071,335.6 191.685,336.099 192.299,336.595 \n",
       "  192.913,337.087 193.528,337.577 194.142,338.063 194.756,338.547 195.37,339.027 195.984,339.505 196.598,339.979 197.213,340.45 197.827,340.918 198.441,341.383 \n",
       "  199.055,341.845 199.669,342.304 200.283,342.76 200.898,343.213 201.512,343.662 202.126,344.109 202.74,344.552 203.354,344.993 203.969,345.43 204.583,345.865 \n",
       "  205.197,346.296 205.811,346.724 206.425,347.149 207.039,347.571 207.654,347.99 208.268,348.406 208.882,348.819 209.496,349.229 210.11,349.636 210.724,350.039 \n",
       "  211.339,350.44 211.953,350.837 212.567,351.232 213.181,351.623 213.795,352.012 214.409,352.397 215.024,352.779 215.638,353.158 216.252,353.534 216.866,353.907 \n",
       "  217.48,354.277 218.094,354.644 218.709,355.007 219.323,355.368 219.937,355.726 220.551,356.08 221.165,356.432 221.78,356.78 222.394,357.126 223.008,357.468 \n",
       "  223.622,357.807 224.236,358.143 224.85,358.476 225.465,358.806 226.079,359.133 226.693,359.457 227.307,359.778 227.921,360.095 228.535,360.41 229.15,360.722 \n",
       "  229.764,361.03 230.378,361.335 230.992,361.638 231.606,361.937 232.22,362.233 232.835,362.526 233.449,362.817 234.063,363.104 234.677,363.387 235.291,363.668 \n",
       "  235.906,363.946 236.52,364.221 237.134,364.493 237.748,364.761 238.362,365.027 238.976,365.289 239.591,365.548 240.205,365.805 240.819,366.058 241.433,366.308 \n",
       "  242.047,366.555 242.661,366.799 243.276,367.04 243.89,367.278 244.504,367.513 245.118,367.745 245.732,367.973 246.346,368.199 246.961,368.422 247.575,368.641 \n",
       "  248.189,368.857 248.803,369.071 249.417,369.281 250.031,369.488 250.646,369.692 251.26,369.893 251.874,370.091 252.488,370.286 253.102,370.478 253.717,370.667 \n",
       "  254.331,370.853 254.945,371.035 255.559,371.215 256.173,371.391 256.787,371.565 257.402,371.735 258.016,371.902 258.63,372.067 259.244,372.228 259.858,372.386 \n",
       "  260.472,372.541 261.087,372.693 261.701,372.842 262.315,372.988 262.929,373.13 263.543,373.27 264.157,373.407 264.772,373.54 265.386,373.671 266,373.798 \n",
       "  266.614,373.922 267.228,374.044 267.843,374.162 268.457,374.277 269.071,374.389 269.685,374.498 270.299,374.604 270.913,374.707 271.528,374.806 272.142,374.903 \n",
       "  272.756,374.997 273.37,375.087 273.984,375.175 274.598,375.259 275.213,375.34 275.827,375.419 276.441,375.494 277.055,375.566 277.669,375.635 278.283,375.701 \n",
       "  278.898,375.764 279.512,375.824 280.126,375.881 280.74,375.934 281.354,375.985 281.969,376.033 282.583,376.077 283.197,376.119 283.811,376.157 284.425,376.192 \n",
       "  285.039,376.224 285.654,376.254 286.268,376.28 286.882,376.303 287.496,376.323 288.11,376.34 288.724,376.353 289.339,376.364 289.953,376.372 290.567,376.376 \n",
       "  291.181,376.378 291.795,376.376 292.409,376.372 293.024,376.364 293.638,376.353 294.252,376.34 294.866,376.323 295.48,376.303 296.094,376.28 296.709,376.254 \n",
       "  297.323,376.224 297.937,376.192 298.551,376.157 299.165,376.119 299.78,376.077 300.394,376.033 301.008,375.985 301.622,375.934 302.236,375.881 302.85,375.824 \n",
       "  303.465,375.764 304.079,375.701 304.693,375.635 305.307,375.566 305.921,375.494 306.535,375.419 307.15,375.34 307.764,375.259 308.378,375.175 308.992,375.087 \n",
       "  309.606,374.997 310.22,374.903 310.835,374.806 311.449,374.707 312.063,374.604 312.677,374.498 313.291,374.389 313.906,374.277 314.52,374.162 315.134,374.044 \n",
       "  315.748,373.922 316.362,373.798 316.976,373.671 317.591,373.54 318.205,373.407 318.819,373.27 319.433,373.13 320.047,372.988 320.661,372.842 321.276,372.693 \n",
       "  321.89,372.541 322.504,372.386 323.118,372.228 323.732,372.067 324.346,371.902 324.961,371.735 325.575,371.565 326.189,371.391 326.803,371.215 327.417,371.035 \n",
       "  328.031,370.853 328.646,370.667 329.26,370.478 329.874,370.286 330.488,370.091 331.102,369.893 331.717,369.692 332.331,369.488 332.945,369.281 333.559,369.071 \n",
       "  334.173,368.857 334.787,368.641 335.402,368.422 336.016,368.199 336.63,367.973 337.244,367.745 337.858,367.513 338.472,367.278 339.087,367.04 339.701,366.799 \n",
       "  340.315,366.555 340.929,366.308 341.543,366.058 342.157,365.805 342.772,365.548 343.386,365.289 344,365.027 344.614,364.761 345.228,364.493 345.843,364.221 \n",
       "  346.457,363.946 347.071,363.668 347.685,363.387 348.299,363.104 348.913,362.817 349.528,362.526 350.142,362.233 350.756,361.937 351.37,361.638 351.984,361.335 \n",
       "  352.598,361.03 353.213,360.722 353.827,360.41 354.441,360.095 355.055,359.778 355.669,359.457 356.283,359.133 356.898,358.806 357.512,358.476 358.126,358.143 \n",
       "  358.74,357.807 359.354,357.468 359.969,357.126 360.583,356.78 361.197,356.432 361.811,356.08 362.425,355.726 363.039,355.368 363.654,355.007 364.268,354.644 \n",
       "  364.882,354.277 365.496,353.907 366.11,353.534 366.724,353.158 367.339,352.779 367.953,352.397 368.567,352.012 369.181,351.623 369.795,351.232 370.409,350.837 \n",
       "  371.024,350.44 371.638,350.039 372.252,349.636 372.866,349.229 373.48,348.819 374.094,348.406 374.709,347.99 375.323,347.571 375.937,347.149 376.551,346.724 \n",
       "  377.165,346.296 377.78,345.865 378.394,345.43 379.008,344.993 379.622,344.552 380.236,344.109 380.85,343.662 381.465,343.213 382.079,342.76 382.693,342.304 \n",
       "  383.307,341.845 383.921,341.383 384.535,340.918 385.15,340.45 385.764,339.979 386.378,339.505 386.992,339.027 387.606,338.547 388.22,338.063 388.835,337.577 \n",
       "  389.449,337.087 390.063,336.595 390.677,336.099 391.291,335.6 391.906,335.098 392.52,334.593 393.134,334.085 393.748,333.574 394.362,333.06 394.976,332.543 \n",
       "  395.591,332.022 396.205,331.499 396.819,330.973 397.433,330.443 398.047,329.911 398.661,329.375 399.276,328.836 399.89,328.294 400.504,327.75 401.118,327.202 \n",
       "  401.732,326.651 402.346,326.097 402.961,325.539 403.575,324.979 404.189,324.416 404.803,323.85 405.417,323.28 406.031,322.708 406.646,322.132 407.26,321.554 \n",
       "  407.874,320.972 408.488,320.387 409.102,319.799 409.717,319.208 410.331,318.614 410.945,318.017 411.559,317.417 412.173,316.814 412.787,316.208 413.402,315.599 \n",
       "  414.016,314.986 414.63,314.371 415.244,313.752 415.858,313.131 416.472,312.506 417.087,311.878 417.701,311.247 418.315,310.614 418.929,309.977 419.543,309.337 \n",
       "  420.157,308.694 420.772,308.047 421.386,307.398 422,306.746 422.614,306.091 423.228,305.432 423.843,304.771 424.457,304.106 425.071,303.438 425.685,302.768 \n",
       "  426.299,302.094 426.913,301.417 427.528,300.737 428.142,300.054 428.756,299.368 429.37,298.679 429.984,297.987 430.598,297.292 431.213,296.593 431.827,295.892 \n",
       "  432.441,295.187 433.055,294.48 433.669,293.769 434.283,293.056 434.898,292.339 435.512,291.619 436.126,290.896 436.74,290.17 437.354,289.441 437.969,288.709 \n",
       "  438.583,287.974 439.197,287.236 439.811,286.494 440.425,285.75 441.039,285.002 441.654,284.252 442.268,283.498 442.882,282.742 443.496,281.982 444.11,281.219 \n",
       "  444.724,280.453 445.339,279.684 445.953,278.912 446.567,278.137 447.181,277.359 447.795,276.578 448.409,275.794 449.024,275.006 449.638,274.216 450.252,273.422 \n",
       "  450.866,272.626 451.48,271.826 452.094,271.024 452.709,270.218 453.323,269.409 453.937,268.597 454.551,267.782 455.165,266.964 455.78,266.143 456.394,265.319 \n",
       "  457.008,264.492 457.622,263.661 458.236,262.828 458.85,261.991 459.465,261.152 460.079,260.309 460.693,259.464 461.307,258.615 461.921,257.763 462.535,256.908 \n",
       "  463.15,256.05 463.764,255.189 464.378,254.325 464.992,253.458 465.606,252.588 466.22,251.714 466.835,250.838 467.449,249.959 468.063,249.076 468.677,248.19 \n",
       "  469.291,247.302 469.906,246.41 470.52,245.515 471.134,244.617 471.748,243.717 472.362,242.813 472.976,241.905 473.591,240.995 474.205,240.082 474.819,239.166 \n",
       "  475.433,238.247 476.047,237.324 476.661,236.399 477.276,235.47 477.89,234.538 478.504,233.604 479.118,232.666 479.732,231.725 480.346,230.781 480.961,229.834 \n",
       "  481.575,228.884 482.189,227.931 482.803,226.975 483.417,226.016 484.031,225.053 484.646,224.088 485.26,223.12 485.874,222.148 486.488,221.173 487.102,220.196 \n",
       "  487.717,219.215 488.331,218.231 488.945,217.244 489.559,216.254 490.173,215.261 490.787,214.265 491.402,213.266 492.016,212.264 492.63,211.259 493.244,210.25 \n",
       "  493.858,209.239 494.472,208.224 495.087,207.207 495.701,206.186 496.315,205.163 496.929,204.136 497.543,203.106 498.157,202.073 498.772,201.037 499.386,199.998 \n",
       "  500,198.956 500.614,197.911 501.228,196.862 501.843,195.811 502.457,194.757 503.071,193.699 503.685,192.639 504.299,191.575 504.913,190.508 505.528,189.439 \n",
       "  506.142,188.366 506.756,187.29 507.37,186.211 507.984,185.129 508.598,184.044 509.213,182.956 509.827,181.864 510.441,180.77 511.055,179.673 511.669,178.572 \n",
       "  512.283,177.469 512.898,176.362 513.512,175.252 514.126,174.14 514.74,173.024 515.354,171.905 515.969,170.783 516.583,169.658 517.197,168.53 517.811,167.399 \n",
       "  518.425,166.265 519.039,165.127 519.654,163.987 520.268,162.844 520.882,161.697 521.496,160.548 522.11,159.395 522.724,158.239 523.339,157.081 523.953,155.919 \n",
       "  524.567,154.754 525.181,153.586 525.795,152.415 526.409,151.241 527.024,150.063 527.638,148.883 528.252,147.7 528.866,146.513 529.48,145.324 530.094,144.131 \n",
       "  530.709,142.936 531.323,141.737 531.937,140.535 532.551,139.331 533.165,138.123 533.78,136.912 534.394,135.698 535.008,134.481 535.622,133.261 536.236,132.037 \n",
       "  536.85,130.811 537.465,129.582 538.079,128.349 538.693,127.114 539.307,125.875 539.921,124.633 540.535,123.389 541.15,122.141 541.764,120.89 542.378,119.636 \n",
       "  542.992,118.379 543.606,117.119 544.22,115.856 544.835,114.59 545.449,113.32 546.063,112.048 546.677,110.773 547.291,109.494 547.906,108.213 548.52,106.928 \n",
       "  549.134,105.64 549.748,104.35 550.362,103.056 550.976,101.759 551.591,100.459 552.205,99.1559 552.819,97.8498 553.433,96.5406 554.047,95.2283 554.661,93.913 \n",
       "  555.276,92.5946 555.89,91.2732 556.504,89.9486 557.118,88.621 557.732,87.2904 558.346,85.9566 558.961,84.6198 559.575,83.28 560.189,81.937 560.803,80.591 \n",
       "  561.417,79.2419 562.031,77.8898 562.646,76.5345 563.26,75.1762 563.874,73.8149 564.488,72.4505 565.102,71.083 565.717,69.7124 566.331,68.3387 566.945,66.962 \n",
       "  567.559,65.5823 568.173,64.1994 568.787,62.8135 569.402,61.4245 570.016,60.0324 570.63,58.6373 571.244,57.2391 571.858,55.8378 572.472,54.4335 573.087,53.0261 \n",
       "  573.701,51.6156 574.315,50.2021 574.929,48.7855 575.543,47.3658 576.157,45.943 576.772,44.5172 577.386,43.0883 578,41.6564 578.614,40.2213 579.228,38.7832 \n",
       "  579.843,37.3421 580.457,35.8978 581.071,34.4505 581.685,33.0001 582.299,31.5467 582.913,30.0902 583.528,28.6306 584.142,27.1679 584.756,25.7022 585.37,24.2334 \n",
       "  585.984,22.7615 586.598,21.2866 587.213,19.8086 587.827,18.3275 588.441,16.8433 589.055,15.3561 589.669,13.8658 590.283,12.3725 590.898,10.8761 591.512,9.37658 \n",
       "  592.126,7.87402 \n",
       "  \"/>\n",
       "<polygon clip-path=\"url(#clip00)\" points=\"\n",
       "483.833,58.994 574.126,58.994 574.126,28.754 483.833,28.754 \n",
       "  \" fill=\"#ffffff\" fill-opacity=\"1\"/>\n",
       "<polyline clip-path=\"url(#clip00)\" style=\"stroke:#000000; stroke-width:1; stroke-opacity:1; fill:none\" points=\"\n",
       "  483.833,58.994 574.126,58.994 574.126,28.754 483.833,28.754 483.833,58.994 \n",
       "  \"/>\n",
       "<polyline clip-path=\"url(#clip00)\" style=\"stroke:#009af9; stroke-width:1; stroke-opacity:1; fill:none\" points=\"\n",
       "  489.833,43.874 525.833,43.874 \n",
       "  \"/>\n",
       "<g clip-path=\"url(#clip00)\">\n",
       "<text style=\"fill:#000000; fill-opacity:1; font-family:Arial,Helvetica Neue,Helvetica,sans-serif; font-size:12; text-anchor:start;\" transform=\"rotate(0, 531.833, 48.374)\" x=\"531.833\" y=\"48.374\">fn1(x)</text>\n",
       "</g>\n",
       "</svg>\n"
      ]
     },
     "execution_count": 5,
     "metadata": {},
     "output_type": "execute_result"
    }
   ],
   "source": [
    "x2 = -3:0.01:6                        #plotting the function\n",
    "\n",
    "plot(x2,fn1(x2),label=\"fn1(x)\")"
   ]
  },
  {
   "cell_type": "markdown",
   "metadata": {
    "deletable": true,
    "editable": true
   },
   "source": [
    "## An \"Anonymous\" Function\n",
    "\n",
    "The expression \n",
    "```\n",
    "x->(x-1.1).^2 - 0.5\n",
    "```\n",
    "creates an anonymous function (a function without a name). It is useful as an input to another function (see below)."
   ]
  },
  {
   "cell_type": "code",
   "execution_count": 6,
   "metadata": {
    "collapsed": false,
    "deletable": true,
    "editable": true
   },
   "outputs": [
    {
     "name": "stdout",
     "output_type": "stream",
     "text": [
      "A root at: "
     ]
    }
   ],
   "source": [
    "x1 = fzero(x->(x-1.1).^2 - 0.5,[-1;1])      #finding a root of a function      \n",
    "                                            #[-1;1] searches roots in this interval\n",
    "printlnPs(\"A root at: \",x1)"
   ]
  },
  {
   "cell_type": "markdown",
   "metadata": {
    "deletable": true,
    "editable": true
   },
   "source": [
    "## A \"one-liner\"\n",
    "\n",
    "We can also create a short version of a function as in the cell below. Notice, however, that it can (essentially) only contain one expression."
   ]
  },
  {
   "cell_type": "code",
   "execution_count": 7,
   "metadata": {
    "collapsed": false,
    "deletable": true,
    "editable": true
   },
   "outputs": [
    {
     "data": {
      "text/plain": [
       "fn1b (generic function with 1 method)"
      ]
     },
     "execution_count": 7,
     "metadata": {},
     "output_type": "execute_result"
    }
   ],
   "source": [
    "fn1b(x) = (x-1.1).^2 - 0.5          #short form of a function"
   ]
  },
  {
   "cell_type": "code",
   "execution_count": 8,
   "metadata": {
    "collapsed": false,
    "deletable": true,
    "editable": true
   },
   "outputs": [
    {
     "name": "stdout",
     "output_type": "stream",
     "text": [
      "result from the function fn1b(x): \n",
      "    -0.490\n",
      "    -0.340\n",
      "\n"
     ]
    }
   ],
   "source": [
    "y = fn1b(x)                 \n",
    "println(\"result from the function fn1b(x): \")\n",
    "printmat(y)"
   ]
  },
  {
   "cell_type": "markdown",
   "metadata": {
    "deletable": true,
    "editable": true
   },
   "source": [
    "## Elementwise Evaluation\n",
    "\n",
    "The functions above were written to accept an array as the input (by using .^2) and give an array as output. \n",
    "\n",
    "Suppose instead that you have a traditional function that only works on a scalar input (by using ^2 instead of .^2). You can still supply an array as input, provided you use the dot syntax: fn1c.(x)"
   ]
  },
  {
   "cell_type": "code",
   "execution_count": 9,
   "metadata": {
    "collapsed": false,
    "deletable": true,
    "editable": true
   },
   "outputs": [
    {
     "data": {
      "text/plain": [
       "fn1c (generic function with 1 method)"
      ]
     },
     "execution_count": 9,
     "metadata": {},
     "output_type": "execute_result"
    }
   ],
   "source": [
    "function fn1c(x)                     #similar to fn1(), but would not work when x is an array\n",
    "    y = (x-1.1)^2 - 0.5\n",
    "    return y\n",
    "end"
   ]
  },
  {
   "cell_type": "code",
   "execution_count": 10,
   "metadata": {
    "collapsed": false,
    "deletable": true,
    "editable": true
   },
   "outputs": [
    {
     "name": "stdout",
     "output_type": "stream",
     "text": [
      "fn1c.(x) evaluates fn1c(x[i,j]) for each element x[i,j]\n",
      "    -0.490\n",
      "    -0.340\n",
      "\n"
     ]
    }
   ],
   "source": [
    "println(\"fn1c.(x) evaluates fn1c(x[i,j]) for each element x[i,j]\")\n",
    "\n",
    "y5 = fn1c.(x)\n",
    "\n",
    "printmat(y5)"
   ]
  },
  {
   "cell_type": "markdown",
   "metadata": {
    "deletable": true,
    "editable": true
   },
   "source": [
    "## Several Inputs\n",
    "\n",
    "It is straightforward to define functions with several inputs. You can also specify default values on the inputs. They are used when you do not supply that input when calling on the function."
   ]
  },
  {
   "cell_type": "code",
   "execution_count": 11,
   "metadata": {
    "collapsed": false,
    "deletable": true,
    "editable": true
   },
   "outputs": [
    {
     "data": {
      "text/plain": [
       "fn2 (generic function with 2 methods)"
      ]
     },
     "execution_count": 11,
     "metadata": {},
     "output_type": "execute_result"
    }
   ],
   "source": [
    "function fn2(x,b=1)                 #b=1 is the default in case we call as fn2(x)\n",
    "    y = b*(x-1.1).^2 - 0.5\n",
    "    return y\n",
    "end"
   ]
  },
  {
   "cell_type": "code",
   "execution_count": 12,
   "metadata": {
    "collapsed": false,
    "deletable": true,
    "editable": true
   },
   "outputs": [
    {
     "name": "stdout",
     "output_type": "stream",
     "text": [
      "result from the function fn2(x): \n",
      "    -0.490\n",
      "    -0.340\n",
      "\n",
      "result from the function fn2(x,7): \n",
      "    -0.430\n",
      "     0.620\n",
      "\n"
     ]
    }
   ],
   "source": [
    "y2 = fn2(x)\n",
    "println(\"result from the function fn2(x): \")\n",
    "printmat(y2)\n",
    "\n",
    "y2b = fn2(x,7)\n",
    "println(\"result from the function fn2(x,7): \")\n",
    "printmat(y2b)"
   ]
  },
  {
   "cell_type": "markdown",
   "metadata": {
    "deletable": true,
    "editable": true
   },
   "source": [
    "## Several Outputs\n",
    "\n",
    "Functions can preduce a \"tuple\" (y1,y2,y3) as outputs. (There could be more values)\n",
    "\n",
    "In case you only want the first two outputs, call as (y1,y2,) = fn().\n",
    "\n",
    "Instead, if you only want the 2nd and third outputs, call as (_,y2,y3) = fn()\n",
    "\n",
    "You can also extract the second output as y2 = fn()[2]"
   ]
  },
  {
   "cell_type": "code",
   "execution_count": 13,
   "metadata": {
    "collapsed": false,
    "deletable": true,
    "editable": true
   },
   "outputs": [
    {
     "data": {
      "text/plain": [
       "fn3 (generic function with 2 methods)"
      ]
     },
     "execution_count": 13,
     "metadata": {},
     "output_type": "execute_result"
    }
   ],
   "source": [
    "function fn3(x,b=1)                 \n",
    "    y1 = b*(x-1.1).^2 - 0.5\n",
    "    y2 = b*x\n",
    "    y3 = 3\n",
    "    return y1, y2, y3\n",
    "end"
   ]
  },
  {
   "cell_type": "code",
   "execution_count": 14,
   "metadata": {
    "collapsed": false,
    "deletable": true,
    "editable": true
   },
   "outputs": [
    {
     "name": "stdout",
     "output_type": "stream",
     "text": [
      "result from the function fn3(x,7): \n",
      "    -0.430     7.000\n",
      "     0.620    10.500\n",
      "\n",
      "the output is two vectors since x is a vector\n"
     ]
    }
   ],
   "source": [
    "(y1,y2,) = fn3(x,7)\n",
    "\n",
    "println(\"result from the function fn3(x,7): \")\n",
    "printmat([y1 y2])\n",
    "\n",
    "println(\"the output is two vectors since x is a vector\")"
   ]
  },
  {
   "cell_type": "code",
   "execution_count": 15,
   "metadata": {
    "collapsed": false,
    "deletable": true,
    "editable": true
   },
   "outputs": [
    {
     "name": "stdout",
     "output_type": "stream",
     "text": [
      "the first result from the function fn3(x,7): \n",
      "    -0.430\n",
      "     0.620\n",
      "\n",
      "result from the function fn3(x,7)[2]: \n",
      "     7.000\n",
      "    10.500\n",
      "\n"
     ]
    }
   ],
   "source": [
    "y1, = fn3(x,7)           #to grab just the first output  \n",
    "\n",
    "y2 = fn3(x,7)[2]         #to grab just the second output from the function\n",
    "\n",
    "println(\"the first result from the function fn3(x,7): \")\n",
    "printmat(y1)\n",
    "println(\"result from the function fn3(x,7)[2]: \")\n",
    "printmat(y2)"
   ]
  },
  {
   "cell_type": "markdown",
   "metadata": {
    "collapsed": true,
    "deletable": true,
    "editable": true
   },
   "source": [
    "## Documenting Your Function \n",
    "\n",
    "To use Julia's help function (```? function name```), use this structure\n",
    "\n",
    "\"\"\"\n",
    "\n",
    "here is the documentation (in markdown)\n",
    "\n",
    "\"\"\"\n",
    "\n",
    "function code\n",
    "\n",
    "The cell below illustrates a simple case."
   ]
  },
  {
   "cell_type": "code",
   "execution_count": 16,
   "metadata": {
    "collapsed": false
   },
   "outputs": [
    {
     "data": {
      "text/plain": [
       "fn4"
      ]
     },
     "execution_count": 16,
     "metadata": {},
     "output_type": "execute_result"
    }
   ],
   "source": [
    "\"\"\"\n",
    "    fn4(x,b=1)\n",
    "\n",
    "Calculate b*(x-1.1)^2 - 0.5.\n",
    "\n",
    "# Arguments\n",
    "- `x`:    a number\n",
    "- `b`:    a number\n",
    "\n",
    "\"\"\"\n",
    "function fn4(x,b=1)       \n",
    "    y = b*(x-1.1)^2 - 0.5\n",
    "    return y\n",
    "end"
   ]
  },
  {
   "cell_type": "code",
   "execution_count": 17,
   "metadata": {
    "collapsed": false
   },
   "outputs": [
    {
     "name": "stdout",
     "output_type": "stream",
     "text": [
      "search:\n",
      "\n"
     ]
    },
    {
     "data": {
      "text/markdown": [
       "```\n",
       "fn4(x,b=1)\n",
       "```\n",
       "\n",
       "Calculate b*(x-1.1)^2 - 0.5.\n",
       "\n",
       "# Arguments\n",
       "\n",
       "  * `x`:    a number\n",
       "  * `b`:    a number\n"
      ],
      "text/plain": [
       "```\n",
       "fn4(x,b=1)\n",
       "```\n",
       "\n",
       "Calculate b*(x-1.1)^2 - 0.5.\n",
       "\n",
       "# Arguments\n",
       "\n",
       "  * `x`:    a number\n",
       "  * `b`:    a number\n"
      ]
     },
     "execution_count": 17,
     "metadata": {},
     "output_type": "execute_result"
    }
   ],
   "source": [
    "? fn4"
   ]
  }
 ],
 "metadata": {
  "anaconda-cloud": {},
  "kernelspec": {
   "display_name": "Julia 0.6.0",
   "language": "julia",
   "name": "julia-0.6"
  },
  "language_info": {
   "file_extension": ".jl",
   "mimetype": "application/julia",
   "name": "julia",
   "version": "0.6.0"
  }
 },
 "nbformat": 4,
 "nbformat_minor": 1
}
