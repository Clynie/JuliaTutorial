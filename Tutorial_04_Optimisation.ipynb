{
 "cells": [
  {
   "cell_type": "markdown",
   "metadata": {
    "collapsed": true
   },
   "source": [
    "# Optimisation and Solving Non-linear Equations\n",
    "\n",
    "The package Optim (https://github.com/JuliaNLSolvers/Optim.jl) provides powerful methods for optimisation. It can easily handle objective functions with several choice variables.\n",
    "\n",
    "The package Roots (https://github.com/JuliaMath/Roots.jl) provides methods for solving a non-linear equation (one variable, one function). If you have a system of non-linear equations, try NLsolve.jl (https://github.com/JuliaNLSolvers/NLsolve.jl)."
   ]
  },
  {
   "cell_type": "markdown",
   "metadata": {},
   "source": [
    "# Load Packages"
   ]
  },
  {
   "cell_type": "code",
   "execution_count": 1,
   "metadata": {},
   "outputs": [
    {
     "data": {
      "text/plain": [
       "printmatDate"
      ]
     },
     "execution_count": 1,
     "metadata": {},
     "output_type": "execute_result"
    }
   ],
   "source": [
    "using Roots, Optim\n",
    "\n",
    "#using Dates             #Julia 0.7, needed for printmat.jl\n",
    "include(\"printmat.jl\")   #just a function for prettier matrix printing"
   ]
  },
  {
   "cell_type": "code",
   "execution_count": 2,
   "metadata": {},
   "outputs": [
    {
     "data": {
      "text/plain": [
       "Plots.GRBackend()"
      ]
     },
     "execution_count": 2,
     "metadata": {},
     "output_type": "execute_result"
    }
   ],
   "source": [
    "using Plots\n",
    "\n",
    "backend = \"gr\"              #\"gr\" (default), \"pyplot\" \n",
    "\n",
    "if backend == \"pyplot\"\n",
    "    pyplot(size=(600,400))\n",
    "else    \n",
    "    gr(size=(600,400))\n",
    "end"
   ]
  },
  {
   "cell_type": "markdown",
   "metadata": {},
   "source": [
    "# Defining and Plotting the Function"
   ]
  },
  {
   "cell_type": "markdown",
   "metadata": {},
   "source": [
    "## A Quadratic Function"
   ]
  },
  {
   "cell_type": "code",
   "execution_count": 3,
   "metadata": {},
   "outputs": [
    {
     "data": {
      "text/plain": [
       "fn1 (generic function with 1 method)"
      ]
     },
     "execution_count": 3,
     "metadata": {},
     "output_type": "execute_result"
    }
   ],
   "source": [
    "function fn1(a,c)                    #notice: the function has two arguments\n",
    "  value = 2*(a - 1.1)^2 - c\n",
    "  return value\n",
    "end  "
   ]
  },
  {
   "cell_type": "code",
   "execution_count": 4,
   "metadata": {},
   "outputs": [
    {
     "name": "stdout",
     "output_type": "stream",
     "text": [
      "x and the result from the function fn1.(x,0.5): \n",
      "     1.000    -0.480\n",
      "     1.500    -0.180\n",
      "\n"
     ]
    }
   ],
   "source": [
    "x = [1;1.5] \n",
    "y = fn1.(x,0.5)                   #calling on the function\n",
    "println(\"x and the result from the function fn1.(x,0.5): \")\n",
    "printmat([x y])"
   ]
  },
  {
   "cell_type": "markdown",
   "metadata": {},
   "source": [
    "## Plotting the Function\n",
    "\n",
    "If possible, plot your function. Maybe you see something strange. It also helps you set the initial guesses (or brackets) for root solving and optimization."
   ]
  },
  {
   "cell_type": "code",
   "execution_count": 5,
   "metadata": {},
   "outputs": [
    {
     "data": {
      "text/html": [
       "<?xml version=\"1.0\" encoding=\"utf-8\"?>\n",
       "<svg xmlns=\"http://www.w3.org/2000/svg\" xmlns:xlink=\"http://www.w3.org/1999/xlink\" width=\"600\" height=\"400\" viewBox=\"0 0 600 400\">\n",
       "<defs>\n",
       "  <clipPath id=\"clip00\">\n",
       "    <rect x=\"0\" y=\"0\" width=\"600\" height=\"400\"/>\n",
       "  </clipPath>\n",
       "</defs>\n",
       "<polygon clip-path=\"url(#clip00)\" points=\"\n",
       "0,400 600,400 600,0 0,0 \n",
       "  \" fill=\"#ffffff\" fill-opacity=\"1\"/>\n",
       "<defs>\n",
       "  <clipPath id=\"clip01\">\n",
       "    <rect x=\"120\" y=\"0\" width=\"421\" height=\"400\"/>\n",
       "  </clipPath>\n",
       "</defs>\n",
       "<polygon clip-path=\"url(#clip00)\" points=\"\n",
       "38.0857,360.065 580.315,360.065 580.315,31.4961 38.0857,31.4961 \n",
       "  \" fill=\"#ffffff\" fill-opacity=\"1\"/>\n",
       "<defs>\n",
       "  <clipPath id=\"clip02\">\n",
       "    <rect x=\"38\" y=\"31\" width=\"543\" height=\"330\"/>\n",
       "  </clipPath>\n",
       "</defs>\n",
       "<polyline clip-path=\"url(#clip02)\" style=\"stroke:#000000; stroke-width:0.5; stroke-opacity:0.1; fill:none\" points=\"\n",
       "  38.0857,360.065 38.0857,31.4961 \n",
       "  \"/>\n",
       "<polyline clip-path=\"url(#clip02)\" style=\"stroke:#000000; stroke-width:0.5; stroke-opacity:0.1; fill:none\" points=\"\n",
       "  173.643,360.065 173.643,31.4961 \n",
       "  \"/>\n",
       "<polyline clip-path=\"url(#clip02)\" style=\"stroke:#000000; stroke-width:0.5; stroke-opacity:0.1; fill:none\" points=\"\n",
       "  309.2,360.065 309.2,31.4961 \n",
       "  \"/>\n",
       "<polyline clip-path=\"url(#clip02)\" style=\"stroke:#000000; stroke-width:0.5; stroke-opacity:0.1; fill:none\" points=\"\n",
       "  444.758,360.065 444.758,31.4961 \n",
       "  \"/>\n",
       "<polyline clip-path=\"url(#clip02)\" style=\"stroke:#000000; stroke-width:0.5; stroke-opacity:0.1; fill:none\" points=\"\n",
       "  580.315,360.065 580.315,31.4961 \n",
       "  \"/>\n",
       "<polyline clip-path=\"url(#clip02)\" style=\"stroke:#000000; stroke-width:0.5; stroke-opacity:0.1; fill:none\" points=\"\n",
       "  38.0857,341.439 580.315,341.439 \n",
       "  \"/>\n",
       "<polyline clip-path=\"url(#clip02)\" style=\"stroke:#000000; stroke-width:0.5; stroke-opacity:0.1; fill:none\" points=\"\n",
       "  38.0857,266.934 580.315,266.934 \n",
       "  \"/>\n",
       "<polyline clip-path=\"url(#clip02)\" style=\"stroke:#000000; stroke-width:0.5; stroke-opacity:0.1; fill:none\" points=\"\n",
       "  38.0857,192.428 580.315,192.428 \n",
       "  \"/>\n",
       "<polyline clip-path=\"url(#clip02)\" style=\"stroke:#000000; stroke-width:0.5; stroke-opacity:0.1; fill:none\" points=\"\n",
       "  38.0857,117.922 580.315,117.922 \n",
       "  \"/>\n",
       "<polyline clip-path=\"url(#clip02)\" style=\"stroke:#000000; stroke-width:0.5; stroke-opacity:0.1; fill:none\" points=\"\n",
       "  38.0857,43.4169 580.315,43.4169 \n",
       "  \"/>\n",
       "<polyline clip-path=\"url(#clip00)\" style=\"stroke:#000000; stroke-width:1; stroke-opacity:1; fill:none\" points=\"\n",
       "  38.0857,360.065 580.315,360.065 \n",
       "  \"/>\n",
       "<polyline clip-path=\"url(#clip00)\" style=\"stroke:#000000; stroke-width:1; stroke-opacity:1; fill:none\" points=\"\n",
       "  38.0857,360.065 38.0857,31.4961 \n",
       "  \"/>\n",
       "<polyline clip-path=\"url(#clip00)\" style=\"stroke:#000000; stroke-width:1; stroke-opacity:1; fill:none\" points=\"\n",
       "  38.0857,360.065 38.0857,355.137 \n",
       "  \"/>\n",
       "<polyline clip-path=\"url(#clip00)\" style=\"stroke:#000000; stroke-width:1; stroke-opacity:1; fill:none\" points=\"\n",
       "  173.643,360.065 173.643,355.137 \n",
       "  \"/>\n",
       "<polyline clip-path=\"url(#clip00)\" style=\"stroke:#000000; stroke-width:1; stroke-opacity:1; fill:none\" points=\"\n",
       "  309.2,360.065 309.2,355.137 \n",
       "  \"/>\n",
       "<polyline clip-path=\"url(#clip00)\" style=\"stroke:#000000; stroke-width:1; stroke-opacity:1; fill:none\" points=\"\n",
       "  444.758,360.065 444.758,355.137 \n",
       "  \"/>\n",
       "<polyline clip-path=\"url(#clip00)\" style=\"stroke:#000000; stroke-width:1; stroke-opacity:1; fill:none\" points=\"\n",
       "  580.315,360.065 580.315,355.137 \n",
       "  \"/>\n",
       "<polyline clip-path=\"url(#clip00)\" style=\"stroke:#000000; stroke-width:1; stroke-opacity:1; fill:none\" points=\"\n",
       "  38.0857,341.439 46.2191,341.439 \n",
       "  \"/>\n",
       "<polyline clip-path=\"url(#clip00)\" style=\"stroke:#000000; stroke-width:1; stroke-opacity:1; fill:none\" points=\"\n",
       "  38.0857,266.934 46.2191,266.934 \n",
       "  \"/>\n",
       "<polyline clip-path=\"url(#clip00)\" style=\"stroke:#000000; stroke-width:1; stroke-opacity:1; fill:none\" points=\"\n",
       "  38.0857,192.428 46.2191,192.428 \n",
       "  \"/>\n",
       "<polyline clip-path=\"url(#clip00)\" style=\"stroke:#000000; stroke-width:1; stroke-opacity:1; fill:none\" points=\"\n",
       "  38.0857,117.922 46.2191,117.922 \n",
       "  \"/>\n",
       "<polyline clip-path=\"url(#clip00)\" style=\"stroke:#000000; stroke-width:1; stroke-opacity:1; fill:none\" points=\"\n",
       "  38.0857,43.4169 46.2191,43.4169 \n",
       "  \"/>\n",
       "<g clip-path=\"url(#clip00)\">\n",
       "<text style=\"fill:#000000; fill-opacity:1; font-family:Arial,Helvetica Neue,Helvetica,sans-serif; font-size:12; text-anchor:middle;\" transform=\"rotate(0, 38.0857, 373.865)\" x=\"38.0857\" y=\"373.865\">-1</text>\n",
       "</g>\n",
       "<g clip-path=\"url(#clip00)\">\n",
       "<text style=\"fill:#000000; fill-opacity:1; font-family:Arial,Helvetica Neue,Helvetica,sans-serif; font-size:12; text-anchor:middle;\" transform=\"rotate(0, 173.643, 373.865)\" x=\"173.643\" y=\"373.865\">0</text>\n",
       "</g>\n",
       "<g clip-path=\"url(#clip00)\">\n",
       "<text style=\"fill:#000000; fill-opacity:1; font-family:Arial,Helvetica Neue,Helvetica,sans-serif; font-size:12; text-anchor:middle;\" transform=\"rotate(0, 309.2, 373.865)\" x=\"309.2\" y=\"373.865\">1</text>\n",
       "</g>\n",
       "<g clip-path=\"url(#clip00)\">\n",
       "<text style=\"fill:#000000; fill-opacity:1; font-family:Arial,Helvetica Neue,Helvetica,sans-serif; font-size:12; text-anchor:middle;\" transform=\"rotate(0, 444.758, 373.865)\" x=\"444.758\" y=\"373.865\">2</text>\n",
       "</g>\n",
       "<g clip-path=\"url(#clip00)\">\n",
       "<text style=\"fill:#000000; fill-opacity:1; font-family:Arial,Helvetica Neue,Helvetica,sans-serif; font-size:12; text-anchor:middle;\" transform=\"rotate(0, 580.315, 373.865)\" x=\"580.315\" y=\"373.865\">3</text>\n",
       "</g>\n",
       "<g clip-path=\"url(#clip00)\">\n",
       "<text style=\"fill:#000000; fill-opacity:1; font-family:Arial,Helvetica Neue,Helvetica,sans-serif; font-size:12; text-anchor:end;\" transform=\"rotate(0, 32.0857, 345.939)\" x=\"32.0857\" y=\"345.939\">0</text>\n",
       "</g>\n",
       "<g clip-path=\"url(#clip00)\">\n",
       "<text style=\"fill:#000000; fill-opacity:1; font-family:Arial,Helvetica Neue,Helvetica,sans-serif; font-size:12; text-anchor:end;\" transform=\"rotate(0, 32.0857, 271.434)\" x=\"32.0857\" y=\"271.434\">2</text>\n",
       "</g>\n",
       "<g clip-path=\"url(#clip00)\">\n",
       "<text style=\"fill:#000000; fill-opacity:1; font-family:Arial,Helvetica Neue,Helvetica,sans-serif; font-size:12; text-anchor:end;\" transform=\"rotate(0, 32.0857, 196.928)\" x=\"32.0857\" y=\"196.928\">4</text>\n",
       "</g>\n",
       "<g clip-path=\"url(#clip00)\">\n",
       "<text style=\"fill:#000000; fill-opacity:1; font-family:Arial,Helvetica Neue,Helvetica,sans-serif; font-size:12; text-anchor:end;\" transform=\"rotate(0, 32.0857, 122.422)\" x=\"32.0857\" y=\"122.422\">6</text>\n",
       "</g>\n",
       "<g clip-path=\"url(#clip00)\">\n",
       "<text style=\"fill:#000000; fill-opacity:1; font-family:Arial,Helvetica Neue,Helvetica,sans-serif; font-size:12; text-anchor:end;\" transform=\"rotate(0, 32.0857, 47.9169)\" x=\"32.0857\" y=\"47.9169\">8</text>\n",
       "</g>\n",
       "<g clip-path=\"url(#clip00)\">\n",
       "<text style=\"fill:#000000; fill-opacity:1; font-family:Arial,Helvetica Neue,Helvetica,sans-serif; font-size:21; text-anchor:middle;\" transform=\"rotate(0, 309.2, 18)\" x=\"309.2\" y=\"18\">the fn1.(x,0.5) function</text>\n",
       "</g>\n",
       "<g clip-path=\"url(#clip00)\">\n",
       "<text style=\"fill:#000000; fill-opacity:1; font-family:Arial,Helvetica Neue,Helvetica,sans-serif; font-size:16; text-anchor:middle;\" transform=\"rotate(0, 309.2, 397.6)\" x=\"309.2\" y=\"397.6\">x</text>\n",
       "</g>\n",
       "<g clip-path=\"url(#clip00)\">\n",
       "<text style=\"fill:#000000; fill-opacity:1; font-family:Arial,Helvetica Neue,Helvetica,sans-serif; font-size:16; text-anchor:middle;\" transform=\"rotate(-90, 14.4, 195.781)\" x=\"14.4\" y=\"195.781\">y</text>\n",
       "</g>\n",
       "<polyline clip-path=\"url(#clip02)\" style=\"stroke:#ff0000; stroke-width:2; stroke-opacity:1; fill:none\" points=\"\n",
       "  38.0857,31.4961 51.6414,62.0433 65.1972,91.1005 78.7529,118.668 92.3086,144.744 105.864,169.331 119.42,192.428 132.976,214.035 146.532,234.151 160.087,252.777 \n",
       "  173.643,269.914 187.199,285.56 200.754,299.716 214.31,312.382 227.866,323.558 241.422,333.243 254.977,341.439 268.533,348.145 282.089,353.36 295.645,357.085 \n",
       "  309.2,359.32 322.756,360.065 336.312,359.32 349.868,357.085 363.423,353.36 376.979,348.145 390.535,341.439 404.09,333.243 417.646,323.558 431.202,312.382 \n",
       "  444.758,299.716 458.313,285.56 471.869,269.914 485.425,252.777 498.981,234.151 512.536,214.035 526.092,192.428 539.648,169.331 553.203,144.744 566.759,118.668 \n",
       "  580.315,91.1005 \n",
       "  \"/>\n",
       "</svg>\n"
      ]
     },
     "execution_count": 5,
     "metadata": {},
     "output_type": "execute_result"
    }
   ],
   "source": [
    "x = -1:0.1:3\n",
    "\n",
    "plot1 = plot(x,fn1.(x,0.5),color=:red,linewidth=2,legend=nothing)\n",
    "title!(\"the fn1.(x,0.5) function\")\n",
    "xlabel!(\"x\")\n",
    "ylabel!(\"y\")"
   ]
  },
  {
   "cell_type": "markdown",
   "metadata": {},
   "source": [
    "The minimum appears to be around 1.1 and the two roots around 0.6 and 1.6."
   ]
  },
  {
   "cell_type": "markdown",
   "metadata": {},
   "source": [
    "# Solving a Non-Linear Equation\n",
    "\n",
    "The Roots package wants a function with only one input. An easy way to turn ```fn1(a,0.5)``` into such a function is by defining an anonymous function:\n",
    "```\n",
    "x->fn1(x,0.5)\n",
    "```\n",
    "\n",
    "Running \n",
    "```\n",
    "fzero(fn,x₀,x₁)\n",
    "```\n",
    "searches for a root in the [x₀,x₁] interval. Alternatively, you can also do \n",
    "```\n",
    "fzero(fn,x₂)\n",
    "``` \n",
    "where ```x₂``` is a single starting guess.\n",
    "\n",
    "Instead, running\n",
    "```\n",
    "fzeros(fn,x₀,x₁)\n",
    "```\n",
    "searches for all roots between x₀ and x₁.\n",
    "\n",
    "If you want to solve a *system* of non-linear equations, try the NLsolve.jl package."
   ]
  },
  {
   "cell_type": "code",
   "execution_count": 6,
   "metadata": {},
   "outputs": [
    {
     "name": "stdout",
     "output_type": "stream",
     "text": [
      "at which x is fn1(x,0.5) = 0?      0.600\n",
      "at which x is fn1(x,0.5) = 0?      1.600\n",
      "\n",
      "yes, there are several roots. Just look at it (in the plot)\n"
     ]
    }
   ],
   "source": [
    "x1 = fzero(x->fn1(x,0.5),-1,1)            #searches for roots in [-1,1]\n",
    "printlnPs(\"at which x is fn1(x,0.5) = 0? \",x1)\n",
    "\n",
    "x2 = fzero(x->fn1(x,0.5),2)              #searches for roots around 2\n",
    "printlnPs(\"at which x is fn1(x,0.5) = 0? \",x2)\n",
    "\n",
    "println(\"\\nyes, there are several roots. Just look at it (in the plot)\")"
   ]
  },
  {
   "cell_type": "code",
   "execution_count": 7,
   "metadata": {},
   "outputs": [
    {
     "name": "stdout",
     "output_type": "stream",
     "text": [
      "at which x is fn1(x,0.5) = 0?      0.600     1.600\n"
     ]
    }
   ],
   "source": [
    "x1 = fzeros(x->fn1(x,0.5),-1,3)            #fzeros (notice the \"s\")\n",
    "                                                    \n",
    "printlnPs(\"at which x is fn1(x,0.5) = 0? \",x1)       "
   ]
  },
  {
   "cell_type": "markdown",
   "metadata": {},
   "source": [
    "# Optimization"
   ]
  },
  {
   "cell_type": "markdown",
   "metadata": {},
   "source": [
    "## Optimization with One Choice Variable\n",
    "\n",
    "Running \n",
    "```\n",
    "Sol = optimize(x->fn1(x,0.5),x₀,x₁)\n",
    "```\n",
    "finds the ```x``` value (in the interval ```[x₀,x₁]```) which *minimizes* ```fn1(x,0.5)```.\n",
    "\n",
    "The output (```Sol```) contains a lot of information. Print it to see, and extract the optimal ```x``` value as in the cell below.\n",
    "\n",
    "If you optimize over several values (that is, ```x``` is a vector), then run\n",
    "```\n",
    "Sol = optimize(x->fn1(x,0.5),x₀,x₁)\n",
    "```"
   ]
  },
  {
   "cell_type": "code",
   "execution_count": 8,
   "metadata": {},
   "outputs": [
    {
     "name": "stdout",
     "output_type": "stream",
     "text": [
      "argmin fn1(x), optim finds it. Compare with plot\n",
      "The optimal solution is:      1.100\n"
     ]
    }
   ],
   "source": [
    "Sol = optimize(x->fn1(x,0.5),-2.0,3.0)            \n",
    "\n",
    "println(\"argmin fn1(x), optim finds it. Compare with plot\")   \n",
    "printlnPs(\"The optimal solution is: \", Optim.minimizer(Sol))"
   ]
  },
  {
   "cell_type": "code",
   "execution_count": 9,
   "metadata": {},
   "outputs": [
    {
     "name": "stdout",
     "output_type": "stream",
     "text": [
      "Results of Optimization Algorithm\n",
      " * Algorithm: Brent's Method\n",
      " * Search Interval: [-2.000000, 3.000000]\n",
      " * Minimizer: 1.100000e+00\n",
      " * Minimum: -5.000000e-01\n",
      " * Iterations: 5\n",
      " * Convergence: max(|x - x_upper|, |x - x_lower|) <= 2*(1.5e-08*|x|+2.2e-16): true\n",
      " * Objective Function Calls: 6\n"
     ]
    }
   ],
   "source": [
    "println(Sol)"
   ]
  },
  {
   "cell_type": "markdown",
   "metadata": {
    "collapsed": true
   },
   "source": [
    "## Optimization with Several Choice Variables\n",
    "\n",
    "Running \n",
    "```\n",
    "Sol = optimize(x->fn2(x,0.5),x₀)\n",
    "```\n",
    "finds the ```x``` vector which *minimizes* ```fn2(x,0.5)```. Notice that ```x₀``` should be a vector of (Flot64) numbers  with the correct number of elements."
   ]
  },
  {
   "cell_type": "code",
   "execution_count": 10,
   "metadata": {},
   "outputs": [
    {
     "data": {
      "text/plain": [
       "fn2 (generic function with 1 method)"
      ]
     },
     "execution_count": 10,
     "metadata": {},
     "output_type": "execute_result"
    }
   ],
   "source": [
    "function fn2(a,c)                    #notice: a is a vector\n",
    "   L = (a[1]-2)^2 + (4*a[2]+3)^2 - c\n",
    "  return L\n",
    "end  "
   ]
  },
  {
   "cell_type": "code",
   "execution_count": 11,
   "metadata": {},
   "outputs": [
    {
     "name": "stdout",
     "output_type": "stream",
     "text": [
      "The optimal solution is:      2.000    -0.750\n"
     ]
    }
   ],
   "source": [
    "Sol2 = optimize(x->fn2(x,0.5),[1.0;-0.5])            \n",
    "\n",
    "printlnPs(\"The optimal solution is: \", Optim.minimizer(Sol2))"
   ]
  },
  {
   "cell_type": "code",
   "execution_count": null,
   "metadata": {},
   "outputs": [],
   "source": []
  }
 ],
 "metadata": {
  "anaconda-cloud": {},
  "kernelspec": {
   "display_name": "Julia 0.6.2",
   "language": "julia",
   "name": "julia-0.6"
  },
  "language_info": {
   "file_extension": ".jl",
   "mimetype": "application/julia",
   "name": "julia",
   "version": "0.6.2"
  }
 },
 "nbformat": 4,
 "nbformat_minor": 1
}
