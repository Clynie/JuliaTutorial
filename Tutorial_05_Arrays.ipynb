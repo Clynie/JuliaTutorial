{
 "cells": [
  {
   "cell_type": "markdown",
   "metadata": {
    "collapsed": true
   },
   "source": [
    "# Arrays"
   ]
  },
  {
   "cell_type": "markdown",
   "metadata": {},
   "source": [
    "# Load Packages\n",
    "\n",
    "No packages."
   ]
  },
  {
   "cell_type": "code",
   "execution_count": 1,
   "metadata": {},
   "outputs": [
    {
     "data": {
      "text/plain": [
       "printmatDate"
      ]
     },
     "execution_count": 1,
     "metadata": {},
     "output_type": "execute_result"
    }
   ],
   "source": [
    "include(\"printmat.jl\")   #a function for prettier matrix printing"
   ]
  },
  {
   "cell_type": "markdown",
   "metadata": {},
   "source": [
    "# Scalars, Vectors and Multi-dimensional Arrays\n",
    "\n",
    "are different things, even if they happen to \"look\" similar. (Yes, a 1x1 array is not a scalar and a nx1 array is not a vector.) This distinction is discussed in some detail further down. \n",
    "\n",
    "However, we first present some common features of all arrays (vectors or multi-dimensional arrays)."
   ]
  },
  {
   "cell_type": "markdown",
   "metadata": {},
   "source": [
    "# Creating Arrays\n",
    "\n",
    "The typical ways of getting an array are \n",
    "\n",
    "* filling the array by hardcoding the contents\n",
    "* reading in data from a file\n",
    "* as a result from computations on already existing arrays \n",
    "* allocating an array and then filling it with its contents\n",
    "* (often not so smart) grow the array by adding rows(colums,...)\n",
    "* by list comprehension\n",
    "\n",
    "The next few cells give simple examples."
   ]
  },
  {
   "cell_type": "markdown",
   "metadata": {
    "collapsed": true
   },
   "source": [
    "## 1. Filling an Array by Hardcoding or Reading from a File"
   ]
  },
  {
   "cell_type": "code",
   "execution_count": 2,
   "metadata": {},
   "outputs": [
    {
     "name": "stdout",
     "output_type": "stream",
     "text": [
      "A matrix that we typed in:\n",
      "        11        12\n",
      "        21        22\n",
      "\n",
      "first four lines of x from csv file:\n",
      "197901.000     4.180     0.770    10.960\n",
      "197902.000    -3.410     0.730    -2.090\n",
      "197903.000     5.750     0.810    11.710\n",
      "197904.000     0.050     0.800     3.270\n",
      "\n"
     ]
    }
   ],
   "source": [
    "z = [11 12; \n",
    "     21 22]                  #typing in your matrix\n",
    "println(\"A matrix that we typed in:\")\n",
    "printmat(z)\n",
    "\n",
    "x = readdlm(\"Data/MyData.csv\",',',skipstart=1)  #read matrix from file    \n",
    "println(\"first four lines of x from csv file:\") \n",
    "printmat(x[1:4,:])"
   ]
  },
  {
   "cell_type": "markdown",
   "metadata": {},
   "source": [
    "## 2. Allocating an Array and then Filling It\n",
    "\n",
    "You an allocate an array by eg.\n",
    "```\n",
    "A = Array{Int}(10,2)               #Tx2, integers\n",
    "B = zeros(10)                      #vector with 10 elements, floats  \n",
    "C = fill(NaN,(10,2))               #Tx2, floats (since NaN is)\n",
    "D = Array{Any}(4)                  #vector with 4 elements, can be filled with anything\n",
    "```"
   ]
  },
  {
   "cell_type": "code",
   "execution_count": 3,
   "metadata": {},
   "outputs": [
    {
     "name": "stdout",
     "output_type": "stream",
     "text": [
      "so far, x is filled with garbage. For instance, x[1,1] is 0.0\n",
      "\n",
      "x after some computations\n",
      "     1.000     0.500\n",
      "     2.000     1.000\n",
      "     3.000     1.500\n",
      "\n"
     ]
    }
   ],
   "source": [
    "x = Array{Float64}(3,2)                     #allocates a 3x2 matrix that can be filled with floats\n",
    "println(\"so far, x is filled with garbage. For instance, x[1,1] is $(x[1,1])\")\n",
    "\n",
    "for i = 1:size(x,1), j = 1:size(x,2)\n",
    "    x[i,j] = i/j\n",
    "end\n",
    "\n",
    "println(\"\\nx after some computations\")\n",
    "printmat(x)"
   ]
  },
  {
   "cell_type": "code",
   "execution_count": 4,
   "metadata": {},
   "outputs": [
    {
     "name": "stdout",
     "output_type": "stream",
     "text": [
      "[1, 2, 3, 4]\n",
      "Sultans of Swing\n",
      "      1978\n",
      "\n"
     ]
    }
   ],
   "source": [
    "D = Array{Any}(3)            #\"Any\"  arrays can have elements of different types\n",
    "D[1] = [1;2;3;4]             #D[1] contains a vector\n",
    "D[2] = \"Sultans of Swing\"\n",
    "D[3] = 1978\n",
    "\n",
    "printmat(D)"
   ]
  },
  {
   "cell_type": "markdown",
   "metadata": {},
   "source": [
    "## 3. Growing an Array\n",
    "\n",
    "Growing a matrix is slow, so try to avoid it. Instead, pre-allocate the matrix and then fill it (see above). In case you really have to grow a matrix, use ```vcat``` and/or ```hcat```.\n",
    "\n",
    "However, growing a vector is not that slow. It can be done by \n",
    "```\n",
    "push!(old vector,new elements)\n",
    "```"
   ]
  },
  {
   "cell_type": "code",
   "execution_count": 5,
   "metadata": {},
   "outputs": [
    {
     "name": "stdout",
     "output_type": "stream",
     "text": [
      "a vector with 3 elements:\n",
      "    12.000\n",
      "   102.000\n",
      "  1002.000\n",
      "\n"
     ]
    }
   ],
   "source": [
    "B = Float64[]                 #empty vector, to include floats\n",
    "for i = 1:3\n",
    "    x_i = 2.0 + 10^i\n",
    "    push!(B,x_i)              #adding an element at the end\n",
    "end \n",
    "println(\"a vector with 3 elements:\")\n",
    "printmat(B)"
   ]
  },
  {
   "cell_type": "markdown",
   "metadata": {},
   "source": [
    "## 4. List Comprehension (extra)\n",
    "\n",
    "sounds fancy, but is a simple way to create arrays from repeated calculations. Similar to a \"for loop.\""
   ]
  },
  {
   "cell_type": "code",
   "execution_count": 6,
   "metadata": {},
   "outputs": [
    {
     "name": "stdout",
     "output_type": "stream",
     "text": [
      "A[1] is vector with 1 element, A[2] a vector with 2 elements,...\n",
      "       [1]\n",
      "    [1, 2]\n",
      " [1, 2, 3]\n",
      "\n"
     ]
    }
   ],
   "source": [
    "A = [collect(1:i) for i =1:3]\n",
    "\n",
    "println(\"A[1] is vector with 1 element, A[2] a vector with 2 elements,...\")\n",
    "printmat(A)"
   ]
  },
  {
   "cell_type": "markdown",
   "metadata": {},
   "source": [
    "# (Elementwise) Functions of Arrays\n",
    "\n",
    "Let X be an array, and a and b be scalars.\n",
    "y = fn.(X,a,b) will generate an array y where y[i,j] = fn(X[i,j],a,b)"
   ]
  },
  {
   "cell_type": "code",
   "execution_count": 7,
   "metadata": {},
   "outputs": [
    {
     "data": {
      "text/plain": [
       "fn (generic function with 1 method)"
      ]
     },
     "execution_count": 7,
     "metadata": {},
     "output_type": "execute_result"
    }
   ],
   "source": [
    "fn(x,a,b) = a/x + b             #x has to be a scalar for this to work"
   ]
  },
  {
   "cell_type": "code",
   "execution_count": 8,
   "metadata": {},
   "outputs": [
    {
     "name": "stdout",
     "output_type": "stream",
     "text": [
      "    19.091    18.333\n",
      "    10.990    10.980\n",
      "    10.100    10.100\n",
      "\n"
     ]
    }
   ],
   "source": [
    "X = [11 12;\n",
    "     101 102;\n",
    "     1001 1002]\n",
    "\n",
    "printmat(fn.(X,100,10))"
   ]
  },
  {
   "cell_type": "markdown",
   "metadata": {},
   "source": [
    "# Basic Linear Algebra\n",
    "\n",
    "The next few cells demonstrate some simple linear algebra like transposes, adding&multiplying matrices and matrix inverses."
   ]
  },
  {
   "cell_type": "code",
   "execution_count": 9,
   "metadata": {},
   "outputs": [
    {
     "name": "stdout",
     "output_type": "stream",
     "text": [
      "A and B\n",
      "        11        12\n",
      "        21        22\n",
      "\n",
      "         1         2\n",
      "         0        10\n",
      "\n"
     ]
    }
   ],
   "source": [
    "A = [11 12;\n",
    "     21 22]\n",
    "B = [1 2; \n",
    "     0 10]\n",
    "\n",
    "println(\"A and B\")\n",
    "printmat(A)\n",
    "printmat(B)"
   ]
  },
  {
   "cell_type": "markdown",
   "metadata": {},
   "source": [
    "## Transposing"
   ]
  },
  {
   "cell_type": "code",
   "execution_count": 10,
   "metadata": {},
   "outputs": [
    {
     "name": "stdout",
     "output_type": "stream",
     "text": [
      "A:\n",
      "        11        12\n",
      "        21        22\n",
      "\n",
      "\n",
      "the transpose A': \n",
      "        11        21\n",
      "        12        22\n",
      "\n"
     ]
    }
   ],
   "source": [
    "A = [11 12;\n",
    "     21 22]\n",
    "\n",
    "println(\"A:\")\n",
    "printmat(A)\n",
    "\n",
    "println(\"\\n\",\"the transpose A': \")      #transposing by q'\n",
    "printmat(A')"
   ]
  },
  {
   "cell_type": "markdown",
   "metadata": {},
   "source": [
    "## Adding and Multiplying Matrices"
   ]
  },
  {
   "cell_type": "code",
   "execution_count": 11,
   "metadata": {},
   "outputs": [
    {
     "name": "stdout",
     "output_type": "stream",
     "text": [
      "\n",
      "A + B\n",
      "        12        14\n",
      "        21        32\n",
      "\n",
      "\n",
      "A.*B\n",
      "        11        24\n",
      "         0       220\n",
      "\n",
      "\n",
      "A*B\n",
      "        11       142\n",
      "        21       262\n",
      "\n",
      "\n",
      "A'B\n",
      "        11       232\n",
      "        12       244\n",
      "\n"
     ]
    }
   ],
   "source": [
    "B = [1 2; \n",
    "     0 10]\n",
    "\n",
    "println(\"\\n\",\"A + B\")             #matrix addition\n",
    "printmat(A+B)\n",
    "\n",
    "println(\"\\n\",\"A.*B\")              #element-by-element multiplication\n",
    "printmat(A.*B)\n",
    "\n",
    "\n",
    "println(\"\\n\",\"A*B\")              #matrix multiplication\n",
    "printmat(A*B)\n",
    "\n",
    "println(\"\\n\",\"A'B\")              #matrix multiplication, same as A'*B\n",
    "printmat(A'B)"
   ]
  },
  {
   "cell_type": "markdown",
   "metadata": {},
   "source": [
    "## Matrix Inverse"
   ]
  },
  {
   "cell_type": "code",
   "execution_count": 12,
   "metadata": {},
   "outputs": [
    {
     "name": "stdout",
     "output_type": "stream",
     "text": [
      "\n",
      "inv(A)\n",
      "    -2.200     1.200\n",
      "     2.100    -1.100\n",
      "\n",
      "\n",
      "inv(A)*A\n",
      "     1.000     0.000\n",
      "     0.000     1.000\n",
      "\n"
     ]
    }
   ],
   "source": [
    "println(\"\\n\",\"inv(A)\") \n",
    "printmat(inv(A))\n",
    "\n",
    "println(\"\\n\",\"inv(A)*A\") \n",
    "printmat(inv(A)*A)"
   ]
  },
  {
   "cell_type": "markdown",
   "metadata": {},
   "source": [
    "## Matrix .+ Scalar, Matrix * Scalar\n",
    "\n",
    "To add or subtract a scalar from each element in an array, use ```.+``` and ```.-``` as in\n",
    "```\n",
    "A .+ 2 or A .- 2\n",
    "```\n",
    "Notice the dot.\n",
    "\n",
    "To multiply or divide, just do (no dot is needed)\n",
    "```\n",
    "A * 2 or A/2\n",
    "```"
   ]
  },
  {
   "cell_type": "code",
   "execution_count": 13,
   "metadata": {},
   "outputs": [
    {
     "name": "stdout",
     "output_type": "stream",
     "text": [
      "A .+ 2\n",
      "        13        14\n",
      "        23        24\n",
      "\n",
      "A * 2\n",
      "        22        24\n",
      "        42        44\n",
      "\n"
     ]
    }
   ],
   "source": [
    "println(\"A .+ 2\")\n",
    "printmat(A .+ 2)\n",
    "\n",
    "println(\"A * 2\")\n",
    "printmat(A*2)"
   ]
  },
  {
   "cell_type": "markdown",
   "metadata": {},
   "source": [
    "# Reshuffling Matrices\n",
    "\n",
    "The cells below show how to pick out specific rows and columns from a matrix, how to stack matrices, and some other types of reshuffling. "
   ]
  },
  {
   "cell_type": "markdown",
   "metadata": {},
   "source": [
    "## Using Parts of a Matrix\n",
    "\n",
    "The most common way to use parts of an array is by indexing. For instance, to use the second column of A, do\n",
    "```\n",
    "A[:,2]\n",
    "```\n",
    "\n",
    "Notice that \n",
    "```\n",
    "A[1,:]\n",
    "```\n",
    "gives a (column) vector (yes, it does), while\n",
    "```\n",
    "A[1:1,:]\n",
    "```\n",
    "gives a 1xk matrix."
   ]
  },
  {
   "cell_type": "code",
   "execution_count": 14,
   "metadata": {},
   "outputs": [
    {
     "name": "stdout",
     "output_type": "stream",
     "text": [
      "A:\n",
      "        11        12\n",
      "        21        22\n",
      "\n",
      "\n",
      "second column of A:\n",
      "        12\n",
      "        22\n",
      "\n",
      "\n",
      "first row of A (as a vector): \n",
      "        11\n",
      "        12\n",
      "\n",
      "\n",
      "first row of A: \n",
      "        11        12\n",
      "\n"
     ]
    }
   ],
   "source": [
    "A = [11 12;\n",
    "    21 22]\n",
    "println(\"A:\")\n",
    "printmat(A)\n",
    "\n",
    "println(\"\\nsecond column of A:\")\n",
    "printmat(A[:,2])\n",
    "\n",
    "println(\"\\n\",\"first row of A (as a vector): \")\n",
    "printmat(A[1,:])                          #notice 1 makes it a vector\n",
    "\n",
    "\n",
    "println(\"\\n\",\"first row of A: \")\n",
    "printmat(A[1:1,:])                        #use 1:1 to keep it as a 1x2 matrix"
   ]
  },
  {
   "cell_type": "markdown",
   "metadata": {},
   "source": [
    "### Stacking Matrices (Concatenating)"
   ]
  },
  {
   "cell_type": "code",
   "execution_count": 15,
   "metadata": {},
   "outputs": [
    {
     "name": "stdout",
     "output_type": "stream",
     "text": [
      "\n",
      "stacking A and B vertically\n",
      "        11        12\n",
      "        21        22\n",
      "         1         2\n",
      "         0        10\n",
      "\n",
      "\n",
      "stacking A and B horizontally\n",
      "        11        12         1         2\n",
      "        21        22         0        10\n",
      "\n"
     ]
    }
   ],
   "source": [
    "z = [A;B]                #same as vcat(A,B)                    \n",
    "println(\"\\n\",\"stacking A and B vertically\")  \n",
    "printmat(z)\n",
    "\n",
    "z2 = [A B]                 #same as hcat(A,B)\n",
    "println(\"\\n\",\"stacking A and B horizontally\")  \n",
    "printmat(z2) "
   ]
  },
  {
   "cell_type": "markdown",
   "metadata": {},
   "source": [
    "## Splitting up an Array\n",
    "\n",
    "sometimes you want to assign separate names to the columns (or rows) in a matrix"
   ]
  },
  {
   "cell_type": "code",
   "execution_count": 16,
   "metadata": {},
   "outputs": [
    {
     "name": "stdout",
     "output_type": "stream",
     "text": [
      "A simple way...which works well when you want to create a few variables\n",
      "        12\n",
      "        22\n",
      "\n",
      "Another, prettier way\n",
      "        12\n",
      "        22\n",
      "\n"
     ]
    }
   ],
   "source": [
    "println(\"A simple way...which works well when you want to create a few variables\")\n",
    "x1 = A[:,1]                    \n",
    "x2 = A[:,2]\n",
    "printmat(x2)\n",
    "\n",
    "println(\"Another, prettier way\")\n",
    "(z1,z2) = [A[:,i] for i = 1:2]    \n",
    "printmat(z2)"
   ]
  },
  {
   "cell_type": "markdown",
   "metadata": {},
   "source": [
    "## A View into an Array\n",
    "\n",
    "Creating new variables (as in \"Splitting up\") can be slow and a waste of memory. Instead, you may create a *view* into the array and give it a name. \n",
    "\n",
    "Note that this is not an independent array: it just creates a reference to that part of the original array. In particular, if you change an element of this view, then you also change the original array. (Try changing ```y2``` below and see what it does to ```A```.)"
   ]
  },
  {
   "cell_type": "code",
   "execution_count": 17,
   "metadata": {},
   "outputs": [
    {
     "name": "stdout",
     "output_type": "stream",
     "text": [
      "A[:,2] but with a separate name (y2):\n",
      "        12\n",
      "        22\n",
      "\n"
     ]
    }
   ],
   "source": [
    "y2 = view(A,:,2)\n",
    "\n",
    "println(\"A[:,2] but with a separate name (y2):\")\n",
    "printmat(y2)"
   ]
  },
  {
   "cell_type": "markdown",
   "metadata": {},
   "source": [
    "# Arrays vs. Vectors vs. Scalars\n",
    "\n",
    "Matrices, vectors and scalars are different things, even if they contain the same number of elements. In particular,\n",
    "\n",
    "(a) an nx1 matrix is not the same thing as an n vector\n",
    "\n",
    "(b) a 1x1 matrix or a 1 vector are not the same thing as a scalar"
   ]
  },
  {
   "cell_type": "code",
   "execution_count": 18,
   "metadata": {},
   "outputs": [
    {
     "name": "stdout",
     "output_type": "stream",
     "text": [
      "The sizes of matrix A and vector B: (3, 1) (3,)\n",
      "\n",
      "Testing if A==B: false\n",
      "\n",
      "The nx1 matrix A and n-element vector B can often be used together, for instance, as in A+B, whose size is (3, 1)\n",
      "     2.000\n",
      "     2.000\n",
      "     2.000\n",
      "\n"
     ]
    }
   ],
   "source": [
    "A = ones(3,1)         #this is a 3x1 matrix\n",
    "B = ones(3)           #a vector with 3 elements\n",
    "\n",
    "println(\"The sizes of matrix A and vector B: $(size(A)) $(size(B))\")\n",
    "\n",
    "println(\"\\nTesting if A==B: \",isequal(A,B))\n",
    "\n",
    "println(\"\\nThe nx1 matrix A and n-element vector B can often be used together, for instance, as in A+B, whose size is \",size(A+B))\n",
    "printmat(A+B)"
   ]
  },
  {
   "cell_type": "markdown",
   "metadata": {},
   "source": [
    "To convert a 1-element vector or 1x1 matrix ```C``` to a scalar, just extract its first element\n",
    "```\n",
    "myScalar = C[1]\n",
    "```\n",
    "\n",
    "To test if ```C``` is a 1-element vector or matrix and then automatically convert it to a scalar, do \n",
    "\n",
    "```\n",
    "if length(C) == 1 && !isa(C,Number)\n",
    "    C = C[1]\n",
    "end    \n",
    "```"
   ]
  },
  {
   "cell_type": "code",
   "execution_count": 19,
   "metadata": {},
   "outputs": [
    {
     "name": "stdout",
     "output_type": "stream",
     "text": [
      "\n",
      "c/C would give an error since C is a (1x1) matrix\n",
      "\n",
      "Instead, do c/C[1]: 1.0\n",
      "\n",
      "After conversion of C, do c/C: 1.0\n"
     ]
    }
   ],
   "source": [
    "C = ones(1,1)                   #a 1x1 matrix\n",
    "c = 1                           #a scalar\n",
    "\n",
    "println(\"\\nc/C would give an error since C is a (1x1) matrix\")\n",
    "\n",
    "println(\"\\nInstead, do c/C[1]: \",c/C[1])\n",
    "\n",
    "\n",
    "if length(C) == 1 && !isa(C,Number)\n",
    "    C = C[1]\n",
    "end    \n",
    "println(\"\\nAfter conversion of C, do c/C: \",c/C)"
   ]
  },
  {
   "cell_type": "markdown",
   "metadata": {},
   "source": [
    "# Vectors: x'x and x'A*x Create Scalars (if x is a vector)\n",
    "\n",
    "If $x$ is a vector and $A$ a matrix, then $x'x$ and $x'A*x$ are scalars. This is what a linear algebra text book would teach you, so vectors are very useful.\n",
    "\n",
    "This is *not* true if x is an array of size(n,1). In that case the result is a 1x1 array. \n",
    "\n",
    "Recommendation: use vectors (instead if nx1 arrays) when you can."
   ]
  },
  {
   "cell_type": "code",
   "execution_count": 20,
   "metadata": {},
   "outputs": [
    {
     "name": "stdout",
     "output_type": "stream",
     "text": [
      "\n",
      "1st try when x is a 2 element vector: 5 165\n",
      "\n",
      "2nd try when x is a 2x1 array: [5.0] [165.0]\n"
     ]
    }
   ],
   "source": [
    "x = [1;2]                                 #this is a vector\n",
    "A = [11 12;\n",
    "     21 22]\n",
    "println(\"\\n1st try when x is a 2 element vector: \",x'x,\" \",x'A*x)\n",
    "\n",
    "x = Array{Float64}(2,1)                   #this is a 2x1 matrix (array) \n",
    "x[1] = 1\n",
    "x[2] = 2\n",
    "println(\"\\n2nd try when x is a 2x1 array: \",x'x,\" \",x'A*x)"
   ]
  },
  {
   "cell_type": "markdown",
   "metadata": {},
   "source": [
    "# (extra) Arrays are Different...\n",
    "\n",
    "Vectors and matrices (arrays) can take lots of memory space, so **Julia is designed to avoid unnecessary copies of arrays**.\n",
    "\n",
    "Hint: **read the sub-headings below.** If they seem obvious, skip the code. Otherwise, read it all."
   ]
  },
  {
   "cell_type": "markdown",
   "metadata": {},
   "source": [
    "## Issue 1. B = A Creates Two Names of the Same Array\n",
    "\n",
    "If A is an array, then\n",
    "```\n",
    "B = A\n",
    "```\n",
    "creates two names of the *same* matrix. If you later change A, then B is changed automatically. (Similarly, if you change B, then A is changed automatically.)"
   ]
  },
  {
   "cell_type": "code",
   "execution_count": 21,
   "metadata": {},
   "outputs": [
    {
     "name": "stdout",
     "output_type": "stream",
     "text": [
      "\n",
      "old A,B,C: \n",
      "         1         1         1\n",
      "         2         2         2\n",
      "\n",
      "after changing element A[2] to -999\n",
      "         1         1         1\n",
      "      -999      -999         2\n",
      "\n",
      "\u001b[34m\n",
      "Notice that B changed, but C did not\n",
      "\u001b[39m"
     ]
    }
   ],
   "source": [
    "A = [1;2]\n",
    "B = A                                 #A and B are the same\n",
    "C = A .+ 0                            #A and C are not the same\n",
    "println()\n",
    "println(\"old A,B,C: \")\n",
    "printmat([A B C])\n",
    "\n",
    "A[2] = -999\n",
    "println(\"after changing element A[2] to -999\")\n",
    "printmat([A B C])\n",
    "\n",
    "print_with_color(:blue,\"\\nNotice that B changed, but C did not\\n\")"
   ]
  },
  {
   "cell_type": "markdown",
   "metadata": {},
   "source": [
    "## Issue 2. A Reshaped Array still Refers to the Original Array\n",
    "\n",
    "If you create a reshaped array by either \n",
    "```\n",
    "B = reshape(A,n,m)\n",
    "C = vec(A)\n",
    "```\n",
    "then A, B, and C contain the same values. Changing one changes the others automatically."
   ]
  },
  {
   "cell_type": "code",
   "execution_count": 22,
   "metadata": {},
   "outputs": [
    {
     "name": "stdout",
     "output_type": "stream",
     "text": [
      "original A: \n",
      "         1         2\n",
      "\n",
      "old B,C: \n",
      "         1         1\n",
      "         2         2\n",
      "\n",
      "after changing element A[2] to -999\n",
      "         1         1\n",
      "      -999      -999\n",
      "\n",
      "\u001b[34m\n",
      "Notice that B and C also changed\n",
      "\u001b[39m"
     ]
    }
   ],
   "source": [
    "A = [1 2]\n",
    "println(\"original A: \")\n",
    "printmat(A)\n",
    "\n",
    "B = reshape(A,2,1)\n",
    "C = vec(A)\n",
    "\n",
    "println(\"old B,C: \")\n",
    "printmat([B C])\n",
    "\n",
    "A[2] = -999\n",
    "println(\"after changing element A[2] to -999\")\n",
    "printmat([B C])\n",
    "\n",
    "print_with_color(:blue,\"\\nNotice that B and C also changed\\n\")"
   ]
  },
  {
   "cell_type": "markdown",
   "metadata": {
    "collapsed": true
   },
   "source": [
    "## Issue 3. Changing an Array Inside a Function Can Have Effects *Outside* the Function"
   ]
  },
  {
   "cell_type": "markdown",
   "metadata": {},
   "source": [
    "When you use an array as a function argument, then that is passed as a reference to the function. \n",
    "\n",
    "This means that if you change some elements of the array (A[1] = A[1]/2, say) inside the function, then it will also affect the array outside the function (even if they have different names). \n",
    "\n",
    "In contrast, if you change the entire array (A/2, say) inside the function, then that does not affect the array outside the function.\n",
    "\n",
    "This applies to arrays, but not to scalars or strings.\n",
    "\n",
    "If you really need an independent copy of an array, create it by \n",
    "```\n",
    "B = copy(A)\n",
    "```"
   ]
  },
  {
   "cell_type": "code",
   "execution_count": 23,
   "metadata": {},
   "outputs": [
    {
     "name": "stdout",
     "output_type": "stream",
     "text": [
      "original x:      1.000     2.000\n",
      "x (outside function) after calling f1(x):      0.500     2.000\n",
      "\n",
      "original x:      1.000     2.000\n",
      "x (outside function) after calling f2(x):      1.000     2.000\n",
      "\u001b[34m\n",
      "Notice that f1() changed x also outside the function, but f2() did not\n",
      "\u001b[39m"
     ]
    }
   ],
   "source": [
    "function f1(A)\n",
    "    A[1] = A[1]/2          #changes ELEMENTS of A, affects outside value\n",
    "  return A\n",
    "end\n",
    "function f2(A)\n",
    "    A = A/2                #changes all of A, does not affect outside value\n",
    "  return A\n",
    "end\n",
    "\n",
    "x  = [1.0 2.0]\n",
    "printlnPs(\"original x: \",x)\n",
    "\n",
    "y1 = f1(x)\n",
    "printlnPs(\"x (outside function) after calling f1(x): \",x)\n",
    "\n",
    "x  = [1.0 2.0]\n",
    "printlnPs(\"\\noriginal x: \",x)\n",
    "\n",
    "y2 = f2(x)\n",
    "printlnPs(\"x (outside function) after calling f2(x): \",x)\n",
    "\n",
    "print_with_color(:blue,\"\\nNotice that f1() changed x also outside the function, but f2() did not\\n\")"
   ]
  },
  {
   "cell_type": "code",
   "execution_count": 24,
   "metadata": {},
   "outputs": [
    {
     "name": "stdout",
     "output_type": "stream",
     "text": [
      "original x:      1.000     2.000\n",
      "x (outside function) after calling f3(x):      1.000     2.000\n",
      "\u001b[34m\n",
      "Notice that f3() did not change x outside the function\n",
      "\u001b[39m"
     ]
    }
   ],
   "source": [
    "function f3(A)\n",
    "    B    = copy(A)                #B is an independent copy\n",
    "    B[1] = B[1]/2          \n",
    "  return B\n",
    "end\n",
    "\n",
    "x  = [1.0 2.0]\n",
    "printlnPs(\"original x: \",x)\n",
    "\n",
    "y1 = f3(x)\n",
    "printlnPs(\"x (outside function) after calling f3(x): \",x)\n",
    "\n",
    "print_with_color(:blue,\"\\nNotice that f3() did not change x outside the function\\n\")"
   ]
  },
  {
   "cell_type": "code",
   "execution_count": null,
   "metadata": {},
   "outputs": [],
   "source": []
  }
 ],
 "metadata": {
  "anaconda-cloud": {},
  "kernelspec": {
   "display_name": "Julia 0.6.1",
   "language": "julia",
   "name": "julia-0.6"
  },
  "language_info": {
   "file_extension": ".jl",
   "mimetype": "application/julia",
   "name": "julia",
   "version": "0.6.1"
  }
 },
 "nbformat": 4,
 "nbformat_minor": 1
}
