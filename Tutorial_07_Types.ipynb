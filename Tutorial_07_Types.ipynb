{
 "cells": [
  {
   "cell_type": "markdown",
   "metadata": {},
   "source": [
    "# Load Packages"
   ]
  },
  {
   "cell_type": "code",
   "execution_count": 1,
   "metadata": {},
   "outputs": [
    {
     "data": {
      "text/plain": [
       "printyellow (generic function with 1 method)"
      ]
     },
     "execution_count": 1,
     "metadata": {},
     "output_type": "execute_result"
    }
   ],
   "source": [
    "using Dates\n",
    "\n",
    "include(\"printmat.jl\")"
   ]
  },
  {
   "cell_type": "markdown",
   "metadata": {},
   "source": [
    "# Some Important Types\n",
    "\n",
    "Julia has many different types of variables: signed integers (like 2 or -5), floating point numbers (2.0 and -5.1), bools (false/true), bitarrays (similar to bools, but with more efficient use of memory), strings (\"hello\"), Dates (2017-04-23) and many more. \n",
    "\n",
    "The numerical types also comes with subtypes for different precisions, for instance, Float16, Float32 and Float64. Unless you specify otherwise, code like\n",
    "```\n",
    "a = 2\n",
    "b = 2.0\n",
    "```\n",
    "gives an Int64 and a Float64 respectively (at least on the 64 bit version of Julia)."
   ]
  },
  {
   "cell_type": "markdown",
   "metadata": {},
   "source": [
    "## Integers and Floats"
   ]
  },
  {
   "cell_type": "code",
   "execution_count": 2,
   "metadata": {},
   "outputs": [
    {
     "name": "stdout",
     "output_type": "stream",
     "text": [
      "a: Int64\n",
      "2\n",
      "\n",
      "b: Float64\n",
      "2.0\n",
      "\n",
      "A: Array{Int64,1}\n",
      "         1\n",
      "         2\n",
      "\n",
      "B: Array{Float64,1}\n",
      "     1.000\n",
      "     2.000\n",
      "\n"
     ]
    }
   ],
   "source": [
    "a = 2                   #integer, Int (Int64 on most machines)\n",
    "b = 2.0                 #floating point, (Float64 on most machines)\n",
    "A = [1;2]\n",
    "B = [1.0;2.0]\n",
    "\n",
    "println(\"a: \",typeof(a))\n",
    "println(a)\n",
    "\n",
    "println(\"\\nb: \",typeof(b))\n",
    "println(b)\n",
    "\n",
    "println(\"\\nA: \",typeof(A))\n",
    "printmat(A)\n",
    "\n",
    "println(\"B: \",typeof(B))\n",
    "printmat(B)"
   ]
  },
  {
   "cell_type": "markdown",
   "metadata": {},
   "source": [
    "## Why Use Int When There Are Floats? \n",
    "\n",
    "That is, why bother with sometimes using 3 when you could use 3.0 everywhere? Mostly because you cannot use 3.0 everywhere... \n",
    "\n",
    "For instance, you cannot pick out element `x[3.0]` from a vector. It has to be `x[3]`."
   ]
  },
  {
   "cell_type": "code",
   "execution_count": 3,
   "metadata": {},
   "outputs": [
    {
     "name": "stdout",
     "output_type": "stream",
     "text": [
      "100\n"
     ]
    }
   ],
   "source": [
    "x = [1,10,100,1000]\n",
    "\n",
    "#println(x[3.0])    #uncomment and run. Will give an error\n",
    "\n",
    "println(x[3])"
   ]
  },
  {
   "cell_type": "markdown",
   "metadata": {},
   "source": [
    "## Bools and BitArrays"
   ]
  },
  {
   "cell_type": "code",
   "execution_count": 4,
   "metadata": {},
   "outputs": [
    {
     "name": "stdout",
     "output_type": "stream",
     "text": [
      "c: Bool\n",
      "true\n",
      "\n",
      "C: BitArray{1}\n",
      "         0\n",
      "         1\n",
      "\n",
      "A BitArray is a more economical array version of Bool, but prints as 0/1 by printmat.\n",
      "Notice that typeof(C[1]) gives: Bool\n"
     ]
    }
   ],
   "source": [
    "c = 2 > 1.1\n",
    "println(\"c: \",typeof(c))\n",
    "println(c)\n",
    "\n",
    "C = A .> 1.5\n",
    "println(\"\\nC: \",typeof(C))\n",
    "printmat(C)\n",
    "\n",
    "println(\"A BitArray is a more economical array version of Bool, but prints as 0/1 by printmat.\\n\", \n",
    "        \"Notice that typeof(C[1]) gives: \",typeof(C[1]))"
   ]
  },
  {
   "cell_type": "markdown",
   "metadata": {},
   "source": [
    "## Char and Strings"
   ]
  },
  {
   "cell_type": "code",
   "execution_count": 5,
   "metadata": {},
   "outputs": [
    {
     "name": "stdout",
     "output_type": "stream",
     "text": [
      "Char\n",
      "String\n"
     ]
    }
   ],
   "source": [
    "t = 'a'                                    #Char, just one letter\n",
    "println(typeof(t))\n",
    "\n",
    "txt = \"Dogs are nicer than cats.\"          #String, could be a long novel \n",
    "println(typeof(txt))"
   ]
  },
  {
   "cell_type": "markdown",
   "metadata": {},
   "source": [
    "# Calculations with Mixed Types and Converting Types\n",
    "\n",
    "A calculation like \"integer\" + \"float\" works and the type of the result is a float (the more flexible type). Similarly, \"bool\" + \"integer\" will give an integer. \n",
    "\n",
    "These promotion rules make it easy to have mixed types in calculations, and also provide a simple way of converting a variable from one type to another. There are also an explicit `convert()` function that might be quicker."
   ]
  },
  {
   "cell_type": "markdown",
   "metadata": {},
   "source": [
    "## Some Calculations with Mixed Types (\"promotion\")"
   ]
  },
  {
   "cell_type": "code",
   "execution_count": 6,
   "metadata": {},
   "outputs": [
    {
     "name": "stdout",
     "output_type": "stream",
     "text": [
      "integer + float: 3.0\n",
      "bool + integer: 3\n"
     ]
    }
   ],
   "source": [
    "println(\"integer + float: \",1+2.0)                #integer + float\n",
    "println(\"bool + integer: \",(1 .> 0) + 2)          #bool + integer"
   ]
  },
  {
   "cell_type": "markdown",
   "metadata": {},
   "source": [
    "## Converting from Int to Float and Vice Versa"
   ]
  },
  {
   "cell_type": "code",
   "execution_count": 7,
   "metadata": {},
   "outputs": [
    {
     "name": "stdout",
     "output_type": "stream",
     "text": [
      "x: Array{Float64,1}\n",
      "     1.100\n",
      "    10.100\n",
      "   100.100\n",
      "\n",
      "rounding x to Int: Array{Int64,1}\n",
      "         1\n",
      "        10\n",
      "       100\n",
      "\n",
      "A: Array{Int64,1}\n",
      "         1\n",
      "         2\n",
      "\n",
      "after converting A to Float64: Array{Float64,1}\n",
      "     1.000\n",
      "     2.000\n",
      "\n"
     ]
    }
   ],
   "source": [
    "x = [1.1;10.1;100.1]\n",
    "println(\"x: \",typeof(x))\n",
    "printmat(x)\n",
    "\n",
    "B_to_int = round.(Int,x)                     #float -> integer by rounding\n",
    "println(\"rounding x to Int: \",typeof(B_to_int))\n",
    "printmat(B_to_int)\n",
    "\n",
    "println(\"A: \",typeof(A))\n",
    "printmat(A)\n",
    "\n",
    "A_to_float = A .+ 0.0                       #int -> float by adding 0.0\n",
    "println(\"after converting A to Float64: \",typeof(A_to_float))   \n",
    "printmat(A_to_float)                        #convert.(Float64,A) also works"
   ]
  },
  {
   "cell_type": "markdown",
   "metadata": {},
   "source": [
    "## Converting from Bools and BitArrays to Int and Vice Versa"
   ]
  },
  {
   "cell_type": "code",
   "execution_count": 8,
   "metadata": {},
   "outputs": [
    {
     "name": "stdout",
     "output_type": "stream",
     "text": [
      "Array{Int64,1}\n",
      "         0\n",
      "         1\n",
      "\n",
      "BitArray{1}\n",
      "         1\n",
      "         0\n",
      "         1\n",
      "\n"
     ]
    }
   ],
   "source": [
    "C_to_int = C .+ 0                        #BitArray -> int by adding 0\n",
    "println(typeof(C_to_int))                #convert.(Int,C) also works\n",
    "printmat(C_to_int)\n",
    "\n",
    "D = [1;0;1]\n",
    "D_to_bit = D .> 0                        #int -> BitArray by comparing\n",
    "println(typeof(D_to_bit))                #convert(BitArray,D) also works \n",
    "printmat(D_to_bit)"
   ]
  },
  {
   "cell_type": "markdown",
   "metadata": {},
   "source": [
    "## From Bools and BitArrays to Int: A Tricky Case (extra)\n",
    "\n",
    "`false` is a \"strong zero\" in the sense that \n",
    "`false*NaN == 0` and `false*Inf == 0`. \n",
    "\n",
    "If you do not want that behaviour in your code, transform `false` to 0 and then multiply."
   ]
  },
  {
   "cell_type": "code",
   "execution_count": 9,
   "metadata": {},
   "outputs": [
    {
     "name": "stdout",
     "output_type": "stream",
     "text": [
      "0.0\n",
      "0.0\n",
      "NaN\n",
      "NaN\n"
     ]
    }
   ],
   "source": [
    "println(false*NaN)\n",
    "println(false*Inf)\n",
    "\n",
    "println(convert(Int,false)*NaN)\n",
    "println(convert(Int,false)*Inf)"
   ]
  },
  {
   "cell_type": "markdown",
   "metadata": {},
   "source": [
    "# Testing the Type\n",
    "\n",
    "The perhaps easiest way to test the type is by using the `isa(variable,Type)` function.\n",
    "\n",
    "Notice that an array has the type `Array` and more specifically, `Array{Float64}` if it is an array with Float64 numbers."
   ]
  },
  {
   "cell_type": "code",
   "execution_count": 10,
   "metadata": {},
   "outputs": [
    {
     "name": "stdout",
     "output_type": "stream",
     "text": [
      "1.2 is a Number: true\n",
      "1.2 is an Int: false\n",
      "1.2 is an Int or a Float64: true\n",
      "[1.2, 1.3] is a Float64: false\n",
      "[1.2, 1.3] is an Array: true\n"
     ]
    }
   ],
   "source": [
    "x = 1.2\n",
    "z = [1.2,1.3]\n",
    "\n",
    "println(\"$x is a Number: \",isa(x,Number))\n",
    "println(\"$x is an Int: \",isa(x,Int))\n",
    "println(\"$x is an Int or a Float64: \",isa(x,Union{Int,Float64}))\n",
    "\n",
    "println(\"$z is a Float64: \",isa(z,Float64))\n",
    "println(\"$z is an Array: \",isa(z,Array))"
   ]
  },
  {
   "cell_type": "markdown",
   "metadata": {
    "collapsed": true
   },
   "source": [
    "# Type Instability\n",
    "\n",
    "Your code will run faster if your variables do not change type in the computations. The next cells illustrate that."
   ]
  },
  {
   "cell_type": "code",
   "execution_count": 11,
   "metadata": {},
   "outputs": [
    {
     "data": {
      "text/plain": [
       "fn2 (generic function with 1 method)"
      ]
     },
     "execution_count": 11,
     "metadata": {},
     "output_type": "execute_result"
    }
   ],
   "source": [
    "function fn1(n)\n",
    "    x = 0                    #x starts out as an Int\n",
    "    for i = 1:n\n",
    "        x = x + 0.1          #x is changed from Int to a Float when you add 0.1\n",
    "    end\n",
    "    return x\n",
    "end\n",
    "\n",
    "function fn2(n)\n",
    "    x = 0.0                  #x starts out as a Float\n",
    "    for i = 1:n\n",
    "        x = x + 0.1          #x remains a float\n",
    "    end\n",
    "    return x\n",
    "end"
   ]
  },
  {
   "cell_type": "code",
   "execution_count": 12,
   "metadata": {},
   "outputs": [
    {
     "name": "stdout",
     "output_type": "stream",
     "text": [
      "  0.090474 seconds (305.01 k allocations: 15.666 MiB)\n",
      "  0.007907 seconds (17.16 k allocations: 901.522 KiB)\n",
      "\n",
      "fn2() is much faster and uses much less memory (even a more serious timing would show that...)\n"
     ]
    }
   ],
   "source": [
    "x = fn1(10)                #a \"dry\" run makes the subsequent timing results more accurate\n",
    "x = fn2(10)\n",
    "\n",
    "@time fn1(1e+6)\n",
    "@time fn2(1e+6)\n",
    "\n",
    "println(\"\\nfn2() is much faster and uses much less memory (even a more serious timing would show that...)\")"
   ]
  },
  {
   "cell_type": "code",
   "execution_count": 13,
   "metadata": {},
   "outputs": [
    {
     "name": "stdout",
     "output_type": "stream",
     "text": [
      "Variables\n",
      "  #self#\u001b[36m::Core.Compiler.Const(fn1, false)\u001b[39m\n",
      "  n\u001b[36m::Float64\u001b[39m\n",
      "  x\u001b[91m\u001b[1m::Union{Float64, Int64}\u001b[22m\u001b[39m\n",
      "  @_4\u001b[33m\u001b[1m::Union{Nothing, Tuple{Float64,Int64}}\u001b[22m\u001b[39m\n",
      "  i\u001b[36m::Float64\u001b[39m\n",
      "\n",
      "Body\u001b[91m\u001b[1m::Union{Float64, Int64}\u001b[22m\u001b[39m\n",
      "\u001b[90m1 ─\u001b[39m       (x = 0)\n",
      "\u001b[90m│  \u001b[39m %2  = (1:n)\u001b[36m::StepRangeLen{Float64,Base.TwicePrecision{Float64},Base.TwicePrecision{Float64}}\u001b[39m\n",
      "\u001b[90m│  \u001b[39m       (@_4 = Base.iterate(%2))\n",
      "\u001b[90m│  \u001b[39m %4  = (@_4 === nothing)\u001b[36m::Bool\u001b[39m\n",
      "\u001b[90m│  \u001b[39m %5  = Base.not_int(%4)\u001b[36m::Bool\u001b[39m\n",
      "\u001b[90m└──\u001b[39m       goto #4 if not %5\n",
      "\u001b[90m2 ┄\u001b[39m %7  = @_4::Tuple{Float64,Int64}\u001b[36m::Tuple{Float64,Int64}\u001b[39m\n",
      "\u001b[90m│  \u001b[39m       (i = Core.getfield(%7, 1))\n",
      "\u001b[90m│  \u001b[39m %9  = Core.getfield(%7, 2)\u001b[36m::Int64\u001b[39m\n",
      "\u001b[90m│  \u001b[39m       (x = x + 0.1)\n",
      "\u001b[90m│  \u001b[39m       (@_4 = Base.iterate(%2, %9))\n",
      "\u001b[90m│  \u001b[39m %12 = (@_4 === nothing)\u001b[36m::Bool\u001b[39m\n",
      "\u001b[90m│  \u001b[39m %13 = Base.not_int(%12)\u001b[36m::Bool\u001b[39m\n",
      "\u001b[90m└──\u001b[39m       goto #4 if not %13\n",
      "\u001b[90m3 ─\u001b[39m       goto #2\n",
      "\u001b[90m4 ┄\u001b[39m       return x\n"
     ]
    }
   ],
   "source": [
    "@code_warntype fn1(1e+6)   #to spot type instability, run this. Notice the red warnings.\n",
    "\n",
    "#@code_warntype fn2(1e+6)  #compare with this"
   ]
  },
  {
   "cell_type": "code",
   "execution_count": null,
   "metadata": {},
   "outputs": [],
   "source": []
  }
 ],
 "metadata": {
  "@webio": {
   "lastCommId": null,
   "lastKernelId": null
  },
  "kernelspec": {
   "display_name": "Julia 1.3.0",
   "language": "julia",
   "name": "julia-1.3"
  },
  "language_info": {
   "file_extension": ".jl",
   "mimetype": "application/julia",
   "name": "julia",
   "version": "1.3.0"
  }
 },
 "nbformat": 4,
 "nbformat_minor": 2
}
