{
 "cells": [
  {
   "cell_type": "markdown",
   "metadata": {},
   "source": [
    "# Load Packages\n"
   ]
  },
  {
   "cell_type": "code",
   "execution_count": 6,
   "metadata": {},
   "outputs": [
    {
     "data": {
      "text/plain": [
       "printmatDate"
      ]
     },
     "execution_count": 6,
     "metadata": {},
     "output_type": "execute_result"
    }
   ],
   "source": [
    "#using Dates                #Julia 0.7, needed for printmat.jl\n",
    "include(\"printmat.jl\")"
   ]
  },
  {
   "cell_type": "markdown",
   "metadata": {},
   "source": [
    "# Some Important Types\n",
    "\n",
    "Julia has many different types of variables: signed integers (like 2 or -5), floating point numbers (2.0 and -5.1), bools (false/true), bitarrays (similar to bools, but with more efficient use of memory), strings (\"hello\"), Dates (2017-04-23) and many more types. \n",
    "\n",
    "The numerical types also comes with subtypes for different precisions, for instance, Float16, Float32 and Float64. Unless you specify otherwise, code like\n",
    "```\n",
    "a = 2\n",
    "b = 2.0\n",
    "```\n",
    "gives an Int64 and a Float64 respectively (at least on Windows 7, 64 bit)."
   ]
  },
  {
   "cell_type": "markdown",
   "metadata": {},
   "source": [
    "## Integers and Floats"
   ]
  },
  {
   "cell_type": "code",
   "execution_count": 7,
   "metadata": {},
   "outputs": [
    {
     "name": "stdout",
     "output_type": "stream",
     "text": [
      "a: Int64\n",
      "         2\n",
      "\n",
      "b: Float64\n",
      "     2.000\n",
      "\n",
      "A: Array{Int64,1}\n",
      "         1\n",
      "         2\n",
      "\n",
      "B: Array{Float64,1}\n",
      "     1.000\n",
      "     2.000\n",
      "\n"
     ]
    }
   ],
   "source": [
    "a = 2                   #integer, Int (Int64 on most machines)\n",
    "b = 2.0                 #floating point, (Float64 on most machines)\n",
    "A = [1;2]\n",
    "B = [1.0;2.0]\n",
    "\n",
    "println(\"a: \",typeof(a))\n",
    "printmat(a)\n",
    "\n",
    "println(\"b: \",typeof(b))\n",
    "printmat(b)\n",
    "\n",
    "println(\"A: \",typeof(A))\n",
    "printmat(A)\n",
    "\n",
    "println(\"B: \",typeof(B))\n",
    "printmat(B)"
   ]
  },
  {
   "cell_type": "markdown",
   "metadata": {},
   "source": [
    "# Why Use Int When There Are Floats? \n",
    "\n",
    "That is, why bother with sometimes using 3 when you could use 3.0 everywhere? Mostly because you cannot use 3.0 everywhere... For instance, you cannot pick out element x[3.0] from a vector. It has to be x[3]."
   ]
  },
  {
   "cell_type": "code",
   "execution_count": 8,
   "metadata": {},
   "outputs": [
    {
     "name": "stdout",
     "output_type": "stream",
     "text": [
      "no, x[3.0] does not work\n"
     ]
    }
   ],
   "source": [
    "x = [1;10;100;1000]\n",
    "try \n",
    "   y = x[3.0]   \n",
    "catch    \n",
    "  println(\"no, x[3.0] does not work\")    \n",
    "end"
   ]
  },
  {
   "cell_type": "markdown",
   "metadata": {},
   "source": [
    "## Bools and BitArrays"
   ]
  },
  {
   "cell_type": "code",
   "execution_count": 9,
   "metadata": {},
   "outputs": [
    {
     "name": "stdout",
     "output_type": "stream",
     "text": [
      "c: Bool\n",
      "      true\n",
      "\n",
      "\n",
      "C: BitArray{1}\n",
      "     false\n",
      "      true\n",
      "\n",
      "A BitArray is a more economical array version of Bool. Notice that typeof(C[1]) gives: Bool\n"
     ]
    }
   ],
   "source": [
    "c = 2 > 1.1\n",
    "println(\"c: \",typeof(c))\n",
    "printmat(c)\n",
    "\n",
    "C = A .> 1.5\n",
    "println(\"\\nC: \",typeof(C))\n",
    "printmat(C)\n",
    "\n",
    "println(\"A BitArray is a more economical array version of Bool. Notice that typeof(C[1]) gives: \",typeof(C[1]))"
   ]
  },
  {
   "cell_type": "markdown",
   "metadata": {},
   "source": [
    "## Char and Strings"
   ]
  },
  {
   "cell_type": "code",
   "execution_count": 10,
   "metadata": {},
   "outputs": [
    {
     "name": "stdout",
     "output_type": "stream",
     "text": [
      "Char\n",
      "String\n"
     ]
    }
   ],
   "source": [
    "t = 'a'                                    #Char, just one letter\n",
    "println(typeof(t))\n",
    "\n",
    "txt = \"Dogs are nicer than cats.\"          #String, could be a long novel \n",
    "println(typeof(txt))"
   ]
  },
  {
   "cell_type": "markdown",
   "metadata": {},
   "source": [
    "# Calulations with Mixed Types and Converting Types\n",
    "\n",
    "A calculation like \"integer\" + \"float\" works and the type of the result will be a float (the more flexible type). Similarly, \"bool\" + \"integer\" will give an integer. These promotion rules make it easy to have mixed types in calculations, and also provide a simple way of converting a variable from one type to another. (There are also an explicit convert() function that might be quicker.)"
   ]
  },
  {
   "cell_type": "markdown",
   "metadata": {},
   "source": [
    "## Some Calculations with Mixed Types (\"promotion\")"
   ]
  },
  {
   "cell_type": "code",
   "execution_count": 11,
   "metadata": {},
   "outputs": [
    {
     "name": "stdout",
     "output_type": "stream",
     "text": [
      "integer + float: 3.0\n",
      "bool + integer: 3\n"
     ]
    }
   ],
   "source": [
    "println(\"integer + float: \",1+2.0)                #integer + float\n",
    "println(\"bool + integer: \",(1.>0) + 2)            #bool + integer"
   ]
  },
  {
   "cell_type": "markdown",
   "metadata": {},
   "source": [
    "## Converting from Int to Float and vice versa"
   ]
  },
  {
   "cell_type": "code",
   "execution_count": 12,
   "metadata": {},
   "outputs": [
    {
     "name": "stdout",
     "output_type": "stream",
     "text": [
      "x: Array{Float64,1}\n",
      "     1.100\n",
      "    10.100\n",
      "   100.100\n",
      "\n",
      "rounding x to int: Array{Int64,1}\n",
      "         1\n",
      "        10\n",
      "       100\n",
      "\n",
      "A: Array{Int64,1}\n",
      "         1\n",
      "         2\n",
      "\n",
      "after converting A to float: Array{Float64,1}\n",
      "     1.000\n",
      "     2.000\n",
      "\n"
     ]
    }
   ],
   "source": [
    "x = [1.1;10.1;100.1]\n",
    "println(\"x: \",typeof(x))\n",
    "printmat(x)\n",
    "\n",
    "B_to_int = round.(Int,x)                     #float -> integer by rounding\n",
    "println(\"rounding x to int: \",typeof(B_to_int))\n",
    "printmat(B_to_int)\n",
    "\n",
    "println(\"A: \",typeof(A))\n",
    "printmat(A)\n",
    "\n",
    "A_to_float = A .+ 0.0                       #int -> float by adding 0.0\n",
    "println(\"after converting A to float: \",typeof(A_to_float))   \n",
    "printmat(A_to_float)                        #convert(Array{Float64},A) also works"
   ]
  },
  {
   "cell_type": "markdown",
   "metadata": {},
   "source": [
    "## Converting from Bools and BitArrays to Int and vice versa"
   ]
  },
  {
   "cell_type": "code",
   "execution_count": 13,
   "metadata": {},
   "outputs": [
    {
     "name": "stdout",
     "output_type": "stream",
     "text": [
      "Array{Int64,1}\n",
      "         0\n",
      "         1\n",
      "\n",
      "BitArray{1}\n",
      "      true\n",
      "     false\n",
      "      true\n",
      "\n"
     ]
    }
   ],
   "source": [
    "C_to_int = C .+ 0                        #BitArray -> int by adding 0\n",
    "println(typeof(C_to_int))                #convert.(Int,C) also works\n",
    "printmat(C_to_int)\n",
    "\n",
    "D = [1;0;1]                              \n",
    "D_to_bit = D .> 0                        #int -> BitArray by comparing\n",
    "println(typeof(D_to_bit))                #convert(BitArray,D) also works \n",
    "printmat(D_to_bit)"
   ]
  },
  {
   "cell_type": "markdown",
   "metadata": {},
   "source": [
    "## From Bools and BitArrays to Int: A Tricky Case\n",
    "\n",
    "```false``` is a \"strong zero\" in the sense that \n",
    "```false*NaN == 0``` and ```false*Inf == 0```\n",
    "\n",
    "If you do not want that behaviour in your code, transform ```false``` to 0 and then multiply."
   ]
  },
  {
   "cell_type": "code",
   "execution_count": 5,
   "metadata": {},
   "outputs": [
    {
     "name": "stdout",
     "output_type": "stream",
     "text": [
      "0.0\n",
      "0.0\n",
      "NaN\n",
      "NaN\n"
     ]
    }
   ],
   "source": [
    "println(false*NaN)\n",
    "println(false*Inf)\n",
    "\n",
    "println(convert(Int,false)*NaN)\n",
    "println(convert(Int,false)*Inf)"
   ]
  },
  {
   "cell_type": "markdown",
   "metadata": {
    "collapsed": true
   },
   "source": [
    "# Type Instability\n",
    "\n",
    "Your code will run faster if your variables do not change type in the computations. The next cells illustrate that."
   ]
  },
  {
   "cell_type": "code",
   "execution_count": 14,
   "metadata": {},
   "outputs": [
    {
     "data": {
      "text/plain": [
       "fn2 (generic function with 1 method)"
      ]
     },
     "execution_count": 14,
     "metadata": {},
     "output_type": "execute_result"
    }
   ],
   "source": [
    "function fn1(n)\n",
    "    x = 0                    #x starts out as an Int\n",
    "    for i = 1:n\n",
    "        x = x + 0.1          #x is changed from Int to a Float when you add 0.1\n",
    "    end\n",
    "    return x\n",
    "end    \n",
    "\n",
    "function fn2(n)\n",
    "    x = 0.0                  #x starts out as a Float\n",
    "    for i = 1:n\n",
    "        x = x + 0.1          #x remains a float\n",
    "    end\n",
    "    return x\n",
    "end"
   ]
  },
  {
   "cell_type": "code",
   "execution_count": 15,
   "metadata": {},
   "outputs": [
    {
     "name": "stdout",
     "output_type": "stream",
     "text": [
      "  0.029701 seconds (2.00 M allocations: 30.592 MiB, 12.85% gc time)\n",
      "  0.005716 seconds (1.33 k allocations: 66.544 KiB)\n",
      "\n",
      "fn2() is much faster and uses much less memory (even a more serious timing would show that...)\n"
     ]
    }
   ],
   "source": [
    "x = fn1(10)                #a \"dry\" run makes the subsequent timing results more accurate\n",
    "x = fn2(10)\n",
    "\n",
    "@time fn1(1e+6)\n",
    "@time fn2(1e+6)\n",
    "\n",
    "println(\"\\nfn2() is much faster and uses much less memory (even a more serious timing would show that...)\")"
   ]
  },
  {
   "cell_type": "code",
   "execution_count": 16,
   "metadata": {},
   "outputs": [
    {
     "name": "stdout",
     "output_type": "stream",
     "text": [
      "Variables:\n",
      "  #self# <optimized out>\n",
      "  n::Float64\n",
      "  i <optimized out>\n",
      "  #temp#@_4::Int64\n",
      "  x\u001b[1m\u001b[91m::Union{Float64, Int64}\u001b[39m\u001b[22m\n",
      "  u@_6::Int64\n",
      "  shift_hi <optimized out>\n",
      "  shift_lo <optimized out>\n",
      "  x_hi <optimized out>\n",
      "  x_lo <optimized out>\n",
      "  #temp#@_11 <optimized out>\n",
      "  #temp#@_12 <optimized out>\n",
      "  w::Float64\n",
      "  u@_14::Float64\n",
      "  v::Float64\n",
      "  #temp#@_16::Core.MethodInstance\n",
      "  #temp#@_17::Float64\n",
      "\n",
      "Body:\n",
      "  begin \n",
      "      x\u001b[1m\u001b[91m::Union{Float64, Int64}\u001b[39m\u001b[22m = 0 # line 3:\n",
      "      SSAValue(0) = $(Expr(:invoke, MethodInstance for colon(::Float64, ::Float64, ::Float64), :(Base.colon), :((Base.sitofp)(Float64, 1)::Float64), :((Base.sitofp)(Float64, 1)::Float64), :(n)))\n",
      "      #temp#@_4::Int64 = 1\n",
      "      5: \n",
      "      unless (Base.not_int)((Base.slt_int)((Core.getfield)(SSAValue(0), :len)::Int64, #temp#@_4::Int64)::Bool)::Bool goto 52\n",
      "      $(Expr(:inbounds, false))\n",
      "      # meta: location twiceprecision.jl next 187\n",
      "      # meta: location twiceprecision.jl unsafe_getindex 194\n",
      "      u@_6::Int64 = (Base.sub_int)(#temp#@_4::Int64, (Core.getfield)(SSAValue(0), :offset)::Int64)::Int64 # line 195:\n",
      "      SSAValue(2) = (Base.mul_float)((Base.sitofp)(Float64, u@_6::Int64)::Float64, (Core.getfield)((Core.getfield)(SSAValue(0), :step)::Base.TwicePrecision{Float64}, :hi)::Float64)::Float64\n",
      "      SSAValue(3) = (Base.mul_float)((Base.sitofp)(Float64, u@_6::Int64)::Float64, (Core.getfield)((Core.getfield)(SSAValue(0), :step)::Base.TwicePrecision{Float64}, :lo)::Float64)::Float64 # line 196:\n",
      "      # meta: location twiceprecision.jl add2 445\n",
      "      u@_14::Float64 = (Core.getfield)((Core.getfield)(SSAValue(0), :ref)::Base.TwicePrecision{Float64}, :hi)::Float64\n",
      "      v::Float64 = SSAValue(2)\n",
      "      SSAValue(7) = (Base.select_value)((Base.lt_float)((Base.abs_float)(u@_14::Float64)::Float64, (Base.abs_float)(v::Float64)::Float64)::Bool, (Core.tuple)(v::Float64, u@_14::Float64)::Tuple{Float64,Float64}, (Core.tuple)(u@_14::Float64, v::Float64)::Tuple{Float64,Float64})::Tuple{Float64,Float64}\n",
      "      SSAValue(10) = (Base.getfield)(SSAValue(7), 1)::Float64\n",
      "      u@_14::Float64 = SSAValue(10)\n",
      "      SSAValue(12) = (Base.getfield)(SSAValue(7), 2)::Float64\n",
      "      v::Float64 = SSAValue(12) # line 446:\n",
      "      w::Float64 = (Base.add_float)(u@_14::Float64, v::Float64)::Float64\n",
      "      # meta: pop location\n",
      "      SSAValue(15) = (Base.add_float)((Base.sub_float)(u@_14::Float64, w::Float64)::Float64, v::Float64)::Float64\n",
      "      # meta: pop location\n",
      "      # meta: pop location\n",
      "      $(Expr(:inbounds, :pop))\n",
      "      SSAValue(18) = (Base.add_float)(w::Float64, (Base.add_float)(SSAValue(15), (Base.add_float)(SSAValue(3), (Core.getfield)((Core.getfield)(SSAValue(0), :ref)::Base.TwicePrecision{Float64}, :lo)::Float64)::Float64)::Float64)::Float64\n",
      "      SSAValue(19) = (Base.add_int)(#temp#@_4::Int64, 1)::Int64\n",
      "      #temp#@_4::Int64 = SSAValue(19) # line 4:\n",
      "      unless (x\u001b[1m\u001b[91m::Union{Float64, Int64}\u001b[39m\u001b[22m isa Int64)::Bool goto 37\n",
      "      #temp#@_16::Core.MethodInstance = MethodInstance for +(::Int64, ::Float64)\n",
      "      goto 46\n",
      "      37: \n",
      "      unless (x\u001b[1m\u001b[91m::Union{Float64, Int64}\u001b[39m\u001b[22m isa Float64)::Bool goto 41\n",
      "      #temp#@_16::Core.MethodInstance = MethodInstance for +(::Float64, ::Float64)\n",
      "      goto 46\n",
      "      41: \n",
      "      goto 43\n",
      "      43: \n",
      "      #temp#@_17::Float64 = (x\u001b[1m\u001b[91m::Union{Float64, Int64}\u001b[39m\u001b[22m + 0.1)::Float64\n",
      "      goto 48\n",
      "      46: \n",
      "      #temp#@_17::Float64 = $(Expr(:invoke, :(#temp#@_16), :(Main.+), :(x), 0.1))\n",
      "      48: \n",
      "      x\u001b[1m\u001b[91m::Union{Float64, Int64}\u001b[39m\u001b[22m = #temp#@_17::Float64\n",
      "      50: \n",
      "      goto 5\n",
      "      52:  # line 6:\n",
      "      return x\u001b[1m\u001b[91m::Union{Float64, Int64}\u001b[39m\u001b[22m\n",
      "  end\u001b[1m\u001b[91m::Union{Float64, Int64}\u001b[39m\u001b[22m\n"
     ]
    }
   ],
   "source": [
    "@code_warntype fn1(1e+6)   #to spot type instability, run this. Notice the red warnings.\n",
    "\n",
    "#@code_warntype fn2(1e+6)  #compare with this"
   ]
  },
  {
   "cell_type": "code",
   "execution_count": null,
   "metadata": {},
   "outputs": [],
   "source": []
  }
 ],
 "metadata": {
  "kernelspec": {
   "display_name": "Julia 0.6.2",
   "language": "julia",
   "name": "julia-0.6"
  },
  "language_info": {
   "file_extension": ".jl",
   "mimetype": "application/julia",
   "name": "julia",
   "version": "0.6.2"
  }
 },
 "nbformat": 4,
 "nbformat_minor": 2
}
