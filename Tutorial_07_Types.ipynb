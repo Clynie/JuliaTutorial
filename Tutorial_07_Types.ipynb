{
 "cells": [
  {
   "cell_type": "markdown",
   "metadata": {},
   "source": [
    "# Load Packages\n",
    "\n",
    "No need for any packages. "
   ]
  },
  {
   "cell_type": "code",
   "execution_count": 1,
   "metadata": {},
   "outputs": [
    {
     "data": {
      "text/plain": [
       "printmatDate"
      ]
     },
     "execution_count": 1,
     "metadata": {},
     "output_type": "execute_result"
    }
   ],
   "source": [
    "include(\"printmat.jl\")"
   ]
  },
  {
   "cell_type": "markdown",
   "metadata": {},
   "source": [
    "# Some Important Types\n",
    "\n",
    "Julia has many different types of variables: signed integers (like 2 or -5), floating point numbers (2.0 and -5.1), bools (false/true), bitarrays (similar to bools, but with more efficient use of memory), strings (\"hello\"), Dates (2017-04-23) and many more types. \n",
    "\n",
    "The numerical types also comes with subtypes for different precisions, for instance, Float16, Float32 and Float64. Unless you specify otherwise, code like\n",
    "```\n",
    "a = 2\n",
    "b = 2.0\n",
    "```\n",
    "gives an Int64 and a Float64 respectively (at least on Windows 7, 64 bit)."
   ]
  },
  {
   "cell_type": "markdown",
   "metadata": {},
   "source": [
    "## Integers and Floats"
   ]
  },
  {
   "cell_type": "code",
   "execution_count": 2,
   "metadata": {},
   "outputs": [
    {
     "name": "stdout",
     "output_type": "stream",
     "text": [
      "a: Int64\n",
      "         2\n",
      "\n",
      "b: Float64\n",
      "     2.000\n",
      "\n",
      "A: Array{Int64,1}\n",
      "         1\n",
      "         2\n",
      "\n",
      "B: Array{Float64,1}\n",
      "     1.000\n",
      "     2.000\n",
      "\n"
     ]
    }
   ],
   "source": [
    "a = 2                   #integer, Int (Int64 on most machines)\n",
    "b = 2.0                 #floating point, (Float64 on most machines)\n",
    "A = [1;2]\n",
    "B = [1.0;2.0]\n",
    "\n",
    "println(\"a: \",typeof(a))\n",
    "printmat(a)\n",
    "\n",
    "println(\"b: \",typeof(b))\n",
    "printmat(b)\n",
    "\n",
    "println(\"A: \",typeof(A))\n",
    "printmat(A)\n",
    "\n",
    "println(\"B: \",typeof(B))\n",
    "printmat(B)"
   ]
  },
  {
   "cell_type": "markdown",
   "metadata": {},
   "source": [
    "# Why Use Int When There Are Floats? \n",
    "\n",
    "That is, why bother with sometimes using 3 when you could use 3.0 everywhere? Mostly because you cannot use 3.0 everywhere... For instance, you cannot pick out element x[3.0] from a vector. It has to be x[3]."
   ]
  },
  {
   "cell_type": "code",
   "execution_count": 3,
   "metadata": {},
   "outputs": [
    {
     "name": "stdout",
     "output_type": "stream",
     "text": [
      "no, x[3.0] does not work\n"
     ]
    }
   ],
   "source": [
    "x = [1;10;100;1000]\n",
    "try \n",
    "   y = x[3.0]   \n",
    "catch    \n",
    "  println(\"no, x[3.0] does not work\")    \n",
    "end"
   ]
  },
  {
   "cell_type": "markdown",
   "metadata": {},
   "source": [
    "## Bools and BitArrays"
   ]
  },
  {
   "cell_type": "code",
   "execution_count": 4,
   "metadata": {},
   "outputs": [
    {
     "name": "stdout",
     "output_type": "stream",
     "text": [
      "c: Bool\n",
      "      true\n",
      "\n",
      "\n",
      "C: BitArray{1}\n",
      "     false\n",
      "      true\n",
      "\n",
      "A BitArray is a more economical array version of Bool. Notice that typeof(C[1]) gives: Bool\n"
     ]
    }
   ],
   "source": [
    "c = 2 > 1.1\n",
    "println(\"c: \",typeof(c))\n",
    "printmat(c)\n",
    "\n",
    "C = A .> 1.5\n",
    "println(\"\\nC: \",typeof(C))\n",
    "printmat(C)\n",
    "\n",
    "println(\"A BitArray is a more economical array version of Bool. Notice that typeof(C[1]) gives: \",typeof(C[1]))"
   ]
  },
  {
   "cell_type": "markdown",
   "metadata": {},
   "source": [
    "## Char and Strings"
   ]
  },
  {
   "cell_type": "code",
   "execution_count": 5,
   "metadata": {},
   "outputs": [
    {
     "name": "stdout",
     "output_type": "stream",
     "text": [
      "Char\n",
      "String\n"
     ]
    }
   ],
   "source": [
    "t = 'a'                                    #Char, just one letter\n",
    "println(typeof(t))\n",
    "\n",
    "txt = \"Dogs are nicer than cats.\"          #String, could be a long novel \n",
    "println(typeof(txt))"
   ]
  },
  {
   "cell_type": "markdown",
   "metadata": {},
   "source": [
    "# Calulations with Mixed Types and Converting Types\n",
    "\n",
    "A calculation like \"integer\" + \"float\" works and the type of the result will be a float (the more flexible type). Similarly, \"bool\" + \"integer\" will give an integer. These promotion rules make it easy to have mixed types in calculations, and also provide a simple way of converting a variable from one type to another. (There are also an explicit convert() function that might be quicker.)"
   ]
  },
  {
   "cell_type": "markdown",
   "metadata": {},
   "source": [
    "## Some Calculations with Mixed Types (\"promotion\")"
   ]
  },
  {
   "cell_type": "code",
   "execution_count": 6,
   "metadata": {},
   "outputs": [
    {
     "name": "stdout",
     "output_type": "stream",
     "text": [
      "integer + float: 3.0\n",
      "bool + integer: 3\n"
     ]
    }
   ],
   "source": [
    "println(\"integer + float: \",1+2.0)                #integer + float\n",
    "println(\"bool + integer: \",(1.>0) + 2)            #bool + integer"
   ]
  },
  {
   "cell_type": "markdown",
   "metadata": {},
   "source": [
    "## Converting from Int to Float and vice versa"
   ]
  },
  {
   "cell_type": "code",
   "execution_count": 8,
   "metadata": {},
   "outputs": [
    {
     "name": "stdout",
     "output_type": "stream",
     "text": [
      "x: Array{Float64,1}\n",
      "     1.100\n",
      "    10.100\n",
      "   100.100\n",
      "\n",
      "rounding x to int: Array{Int64,1}\n",
      "         1\n",
      "        10\n",
      "       100\n",
      "\n",
      "A: Array{Int64,1}\n",
      "         1\n",
      "         2\n",
      "\n",
      "after converting A to float: Array{Float64,1}\n",
      "     1.000\n",
      "     2.000\n",
      "\n"
     ]
    }
   ],
   "source": [
    "x = [1.1;10.1;100.1]\n",
    "println(\"x: \",typeof(x))\n",
    "printmat(x)\n",
    "\n",
    "B_to_int = round.(Int,x)                     #float -> integer by rounding\n",
    "println(\"rounding x to int: \",typeof(B_to_int))\n",
    "printmat(B_to_int)\n",
    "\n",
    "println(\"A: \",typeof(A))\n",
    "printmat(A)\n",
    "\n",
    "A_to_float = A .+ 0.0                       #int -> float by adding 0.0\n",
    "println(\"after converting A to float: \",typeof(A_to_float))   \n",
    "printmat(A_to_float)                        #convert(Array{Float64},A) also works"
   ]
  },
  {
   "cell_type": "markdown",
   "metadata": {},
   "source": [
    "## Converting from Bools and BitArrays to Int and vice versa"
   ]
  },
  {
   "cell_type": "code",
   "execution_count": 9,
   "metadata": {},
   "outputs": [
    {
     "name": "stdout",
     "output_type": "stream",
     "text": [
      "Array{Int64,1}\n",
      "         0\n",
      "         1\n",
      "\n",
      "BitArray{1}\n",
      "      true\n",
      "     false\n",
      "      true\n",
      "\n"
     ]
    }
   ],
   "source": [
    "C_to_int = C .+ 0                        #BitArray -> int by adding 0\n",
    "println(typeof(C_to_int))                #convert.(Int,C) also works\n",
    "printmat(C_to_int)\n",
    "\n",
    "D = [1;0;1]                              \n",
    "D_to_bit = D .> 0                        #int -> BitArray by comparing\n",
    "println(typeof(D_to_bit))                #convert(BitArray,D) also works \n",
    "printmat(D_to_bit)"
   ]
  },
  {
   "cell_type": "markdown",
   "metadata": {
    "collapsed": true
   },
   "source": [
    "# Type Instability\n",
    "\n",
    "Your code will run faster if your variables do not change type in the computations. The next cells illustrate that."
   ]
  },
  {
   "cell_type": "code",
   "execution_count": 10,
   "metadata": {},
   "outputs": [
    {
     "data": {
      "text/plain": [
       "fn2 (generic function with 1 method)"
      ]
     },
     "execution_count": 10,
     "metadata": {},
     "output_type": "execute_result"
    }
   ],
   "source": [
    "function fn1(n)\n",
    "    x = 0                    #x starts out as an Int\n",
    "    for i = 1:n\n",
    "        x = x + 0.1          #x is changed from Int to a Float when you add 0.1\n",
    "    end\n",
    "    return x\n",
    "end    \n",
    "\n",
    "function fn2(n)\n",
    "    x = 0.0                  #x starts out as a Float\n",
    "    for i = 1:n\n",
    "        x = x + 0.1          #x remains a float\n",
    "    end\n",
    "    return x\n",
    "end"
   ]
  },
  {
   "cell_type": "code",
   "execution_count": 11,
   "metadata": {},
   "outputs": [
    {
     "name": "stdout",
     "output_type": "stream",
     "text": [
      "  0.138630 seconds (2.05 M allocations: 33.117 MiB, 6.91% gc time)\n",
      "  0.005809 seconds (1.33 k allocations: 66.794 KiB)\n",
      "\n",
      "fn2() is much faster and uses much less memory (even a more serious timing would show that...)\n"
     ]
    }
   ],
   "source": [
    "x = fn1(10)                #a \"dry\" run makes the subsequent timing results more accurate\n",
    "x = fn2(10)\n",
    "\n",
    "@time fn1(1e+6)\n",
    "@time fn2(1e+6)\n",
    "\n",
    "println(\"\\nfn2() is much faster and uses much less memory (even a more serious timing would show that...)\")"
   ]
  },
  {
   "cell_type": "code",
   "execution_count": null,
   "metadata": {
    "collapsed": true
   },
   "outputs": [],
   "source": []
  }
 ],
 "metadata": {
  "kernelspec": {
   "display_name": "Julia 0.6.1",
   "language": "julia",
   "name": "julia-0.6"
  },
  "language_info": {
   "file_extension": ".jl",
   "mimetype": "application/julia",
   "name": "julia",
   "version": "0.6.1"
  }
 },
 "nbformat": 4,
 "nbformat_minor": 2
}
