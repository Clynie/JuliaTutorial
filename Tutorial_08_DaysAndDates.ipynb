{
 "cells": [
  {
   "cell_type": "markdown",
   "metadata": {
    "deletable": true,
    "editable": true
   },
   "source": [
    "# Some Simple Commands for Handling Dates"
   ]
  },
  {
   "cell_type": "markdown",
   "metadata": {
    "deletable": true,
    "editable": true
   },
   "source": [
    "## Load Packages\n",
    "\n",
    "no packages"
   ]
  },
  {
   "cell_type": "code",
   "execution_count": 1,
   "metadata": {
    "collapsed": false,
    "deletable": true,
    "editable": true
   },
   "outputs": [
    {
     "data": {
      "text/plain": [
       "println4Ps (generic function with 1 method)"
      ]
     },
     "execution_count": 1,
     "metadata": {},
     "output_type": "execute_result"
    }
   ],
   "source": [
    "include(\"printmat.jl\")"
   ]
  },
  {
   "cell_type": "markdown",
   "metadata": {
    "deletable": true,
    "editable": true
   },
   "source": [
    "## Building a Calendar"
   ]
  },
  {
   "cell_type": "code",
   "execution_count": 4,
   "metadata": {
    "collapsed": false,
    "deletable": true,
    "editable": true
   },
   "outputs": [
    {
     "name": "stdout",
     "output_type": "stream",
     "text": [
      "Dates and day of the week\n",
      "2014-01-01         3\n",
      "2014-02-01         6\n",
      "2014-03-01         6\n",
      "2014-04-01         2\n",
      "2014-05-01         4\n",
      "2014-06-01         7\n",
      "2014-07-01         2\n",
      "2014-08-01         5\n",
      "2014-09-01         1\n",
      "2014-10-01         3\n",
      "2014-11-01         6\n",
      "2014-12-01         1\n",
      "\n"
     ]
    }
   ],
   "source": [
    "dNb = collect(Date(2014,1,1):Dates.Month(1):Date(2014,12,1))    #build a monthly calendar\n",
    "\n",
    "println(\"Dates and day of the week\")\n",
    "printmat([dNb Dates.dayofweek.(dNb)])"
   ]
  },
  {
   "cell_type": "markdown",
   "metadata": {
    "deletable": true,
    "editable": true
   },
   "source": [
    "# Converting from Other Date Formats\n",
    "\n",
    "Notice: version 0.6 of Julia includes some improvements in handling vectors of dates."
   ]
  },
  {
   "cell_type": "markdown",
   "metadata": {
    "deletable": true,
    "editable": true
   },
   "source": [
    "## Convert from yyyymmdd\n",
    "\n",
    "Background: financial data is often downloaded as CSV files (eg. from finance.yahoo), where the date may look like 20160331. The next cell shows a simple way to create a Julia Date."
   ]
  },
  {
   "cell_type": "code",
   "execution_count": 5,
   "metadata": {
    "collapsed": false,
    "deletable": true,
    "editable": true
   },
   "outputs": [
    {
     "name": "stdout",
     "output_type": "stream",
     "text": [
      "2016-03-31\n",
      "2016-04-01\n",
      "\n"
     ]
    }
   ],
   "source": [
    "csvDate = [20160331;20160401]          #two dates\n",
    "\n",
    "df = Dates.DateFormat(\"yyyymmdd\")      #precompile the date format (speeds up)\n",
    "\n",
    "jlDate = Date.(string.(csvDate),df)    #convert to string and then Julia Date, 0.6\n",
    "\n",
    "#jlDate = map(d->Date(string.(d),df),csvDate)    #Julia v 0.5\n",
    "\n",
    "printmat(jlDate)"
   ]
  },
  {
   "cell_type": "markdown",
   "metadata": {
    "deletable": true,
    "editable": true
   },
   "source": [
    "## Convert from DateTime (Excel) to Date\n",
    "\n",
    "Background: importing xls sheets with ExcelReaders gives DateTime, even if the sheets only contain dates (daily data, say)"
   ]
  },
  {
   "cell_type": "code",
   "execution_count": 6,
   "metadata": {
    "collapsed": false,
    "deletable": true,
    "editable": true
   },
   "outputs": [
    {
     "name": "stdout",
     "output_type": "stream",
     "text": [
      "\n",
      "DateTime from from xls and converted to Date:\n",
      "2016-03-31T00:00:00\n",
      "2016-04-01T00:00:00\n",
      "\n",
      "2016-03-31\n",
      "2016-04-01\n",
      "\n"
     ]
    }
   ],
   "source": [
    "xlsDate = [DateTime(2016,3,31);DateTime(2016,4,1)]     #to be converted\n",
    "\n",
    "jlDate  = Date.(xlsDate)                    #0.6\n",
    "#jlDate  = map(d->Date(d),xlsDate)            #0.5\n",
    "\n",
    "println(\"\\nDateTime from from xls and converted to Date:\")\n",
    "printmat(xlsDate)\n",
    "printmat(jlDate)"
   ]
  },
  {
   "cell_type": "markdown",
   "metadata": {
    "deletable": true,
    "editable": true
   },
   "source": [
    "## Convert from Matlab's datenum to Date\n",
    "\n",
    "Background: in matlab datenum(2016,3,31) gives 736420.0"
   ]
  },
  {
   "cell_type": "code",
   "execution_count": 8,
   "metadata": {
    "collapsed": false,
    "deletable": true,
    "editable": true
   },
   "outputs": [
    {
     "name": "stdout",
     "output_type": "stream",
     "text": [
      "\n",
      "matlab datenum and Julia Date:\n",
      "736420.000\n",
      "736421.000\n",
      "\n",
      "2016-03-31\n",
      "2016-04-01\n",
      "\n"
     ]
    }
   ],
   "source": [
    "dNml = [736420.0;736421.0]            #to be converted, 2016-03-31;2016-04-01\n",
    "\n",
    "#jlDate = round(Int,dNml) - 366              #0.5, convert to integer, subtract 366\n",
    "#jlDate = Date(Dates.rata2datetime(jlDate)) \n",
    "\n",
    "jlDate = round.(Int,dNml) - 366              #0.6\n",
    "jlDate = Date.(Dates.rata2datetime.(jlDate)) \n",
    "\n",
    "println(\"\\nmatlab datenum and Julia Date:\")\n",
    "printmat(dNml)\n",
    "printmat(jlDate)"
   ]
  },
  {
   "cell_type": "markdown",
   "metadata": {
    "collapsed": true,
    "deletable": true,
    "editable": true
   },
   "source": [
    "# Time Arithmetics"
   ]
  },
  {
   "cell_type": "code",
   "execution_count": 9,
   "metadata": {
    "collapsed": false,
    "deletable": true,
    "editable": true
   },
   "outputs": [
    {
     "name": "stdout",
     "output_type": "stream",
     "text": [
      "diffence between two dates: 30 days\n",
      "as a fraction of the year: 0.08197\n"
     ]
    }
   ],
   "source": [
    "d1 = Date(2016,3,31)\n",
    "d2 = Date(2016,4,30)\n",
    "\n",
    "dif    = d2 - d1\n",
    "difRel = Dates.value(dif)/Dates.daysinyear(d1)\n",
    "\n",
    "println(\"diffence between two dates: \",dif)\n",
    "println(\"as a fraction of the year: \",round(difRel,5))"
   ]
  },
  {
   "cell_type": "markdown",
   "metadata": {
    "deletable": true,
    "editable": true
   },
   "source": [
    "# Looking up Day of the Week and More"
   ]
  },
  {
   "cell_type": "code",
   "execution_count": 10,
   "metadata": {
    "collapsed": false,
    "deletable": true,
    "editable": true
   },
   "outputs": [
    {
     "name": "stdout",
     "output_type": "stream",
     "text": [
      "day of the week (Monday = 1): 4\n",
      "day of the year: 91\n"
     ]
    },
    {
     "data": {
      "text/plain": [
       "(2016, 3, 31)"
      ]
     },
     "execution_count": 10,
     "metadata": {},
     "output_type": "execute_result"
    }
   ],
   "source": [
    "println(\"day of the week (Monday = 1): \",Dates.dayofweek(d1))\n",
    "println(\"day of the year: \",Dates.dayofyear(d1))\n",
    "\n",
    "\n",
    "(y,m,d)= Dates.yearmonthday(d1)            #splitting up a date"
   ]
  },
  {
   "cell_type": "markdown",
   "metadata": {
    "deletable": true,
    "editable": true
   },
   "source": [
    "# Printing a Date\n",
    "\n",
    "with your own formatting:"
   ]
  },
  {
   "cell_type": "code",
   "execution_count": 11,
   "metadata": {
    "collapsed": false,
    "deletable": true,
    "editable": true
   },
   "outputs": [
    {
     "data": {
      "text/plain": [
       "\"31 Mar 2016\""
      ]
     },
     "execution_count": 11,
     "metadata": {},
     "output_type": "execute_result"
    }
   ],
   "source": [
    "Dates.format(d1,\"d u yyyy\")"
   ]
  },
  {
   "cell_type": "code",
   "execution_count": null,
   "metadata": {
    "collapsed": true,
    "deletable": true,
    "editable": true
   },
   "outputs": [],
   "source": []
  }
 ],
 "metadata": {
  "anaconda-cloud": {},
  "kernelspec": {
   "display_name": "Julia 0.6.0",
   "language": "julia",
   "name": "julia-0.6"
  },
  "language_info": {
   "file_extension": ".jl",
   "mimetype": "application/julia",
   "name": "julia",
   "version": "0.6.0"
  }
 },
 "nbformat": 4,
 "nbformat_minor": 1
}
