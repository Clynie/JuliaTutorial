{
 "cells": [
  {
   "cell_type": "markdown",
   "metadata": {},
   "source": [
    "# Loading and Saving Data\n",
    "\n",
    "to/from csv, jld, mat and xls files."
   ]
  },
  {
   "cell_type": "markdown",
   "metadata": {},
   "source": [
    "# Load Packages\n",
    "\n",
    "none here. Instead, the packages are loaded in the respective cells below. This allows you to run parts of this notebook without having to install all packages.\n",
    "\n",
    "All files are written to and loaded from the subfolder \"Results\"."
   ]
  },
  {
   "cell_type": "code",
   "execution_count": 1,
   "metadata": {},
   "outputs": [],
   "source": [
    "include(\"printmat.jl\")            #a function for prettier matrix printing\n",
    "\n",
    "if !isdir(\"Results\")\n",
    "    error(\"create the subfolder Results before running this program\")\n",
    "end"
   ]
  },
  {
   "cell_type": "markdown",
   "metadata": {},
   "source": [
    "# Saving and Loading a csv File\n",
    "\n",
    "This functionality is built in to Julia. No package needed.\n",
    "\n",
    "The simplest commands are\n",
    "```\n",
    "writedlm(FileName,matrix)\n",
    "x = readdlm(FileName)\n",
    "```\n",
    "\n",
    "Extra arguments control which delimiters (',' perhaps) in the file, the type of data (Float, Int, etc), and whether the file starts with a header line with variable names. \n",
    "\n",
    "For instance, if you want to specify that the delimter is comma and also disregard the first 3 lines (perhaps because the contain variables names etc), then use\n",
    "\n",
    "```\n",
    "x = readdlm(FileName,',',skipstart=3)\n",
    "```"
   ]
  },
  {
   "cell_type": "code",
   "execution_count": 2,
   "metadata": {},
   "outputs": [
    {
     "name": "stdout",
     "output_type": "stream",
     "text": [
      "NewCsvFile.csv has been created in the subfolder Results. Check it out.\n"
     ]
    }
   ],
   "source": [
    "A = copy(reshape(1:20,5,4))     #to be on the safe side: only try to save\n",
    "                                #\"independent\" arrays, not reshapes or views \n",
    "\n",
    "writedlm(\"Results/NewCsvFile.csv\",A,',')  \n",
    "println(\"NewCsvFile.csv has been created in the subfolder Results. Check it out.\")"
   ]
  },
  {
   "cell_type": "code",
   "execution_count": 3,
   "metadata": {},
   "outputs": [
    {
     "name": "stdout",
     "output_type": "stream",
     "text": [
      "\n",
      "A (in memory):\n",
      "         1         6        11        16\n",
      "         2         7        12        17\n",
      "         3         8        13        18\n",
      "         4         9        14        19\n",
      "         5        10        15        20\n",
      "\n",
      "\n",
      "A2 (loaded from csv file which we just created and then reloaded):\n",
      "         1         6        11        16\n",
      "         2         7        12        17\n",
      "         3         8        13        18\n",
      "         4         9        14        19\n",
      "         5        10        15        20\n",
      "\n"
     ]
    }
   ],
   "source": [
    "A2 = readdlm(\"Results/NewCsvFile.csv\",',',Int)  #try Float64 instead of Int\n",
    "\n",
    "println(\"\\nA (in memory):\")\n",
    "printmat(A)\n",
    "println(\"\\nA2 (loaded from csv file which we just created and then reloaded):\")\n",
    "printmat(A2)"
   ]
  },
  {
   "cell_type": "markdown",
   "metadata": {},
   "source": [
    "# Saving and Loading a jld File\n",
    "\n",
    "jld files can store very different types of data: integers, floats, strings, dictionaries, etc. They are also quick to load (you'll notice the difference to csv files once you have a few thousand data points).\n",
    "\n",
    "The basic syntax is \n",
    "```\n",
    "save(FileName,\"MatrixName\",matrix)\n",
    "x = load(FileName,\"MatrixName\")  \n",
    "```\n",
    "\n",
    "The package JLD is at https://github.com/JuliaLang/JLD.jl. \n",
    "\n",
    "There is also a new package with similar functionality (with the advantage that is does not depend on external libraries), see https://github.com/simonster/JLD2.jl."
   ]
  },
  {
   "cell_type": "code",
   "execution_count": 4,
   "metadata": {},
   "outputs": [
    {
     "name": "stdout",
     "output_type": "stream",
     "text": [
      "NewJldFile.jld has been created in the subfolder Results\n"
     ]
    }
   ],
   "source": [
    "using JLD       \n",
    "\n",
    "B   = copy(reshape(1:20,5,4))\n",
    "B27 = 1\n",
    "\n",
    "save(\"Results/NewJldFile.jld\",\"B\",B,\"B27\",B27)\n",
    "println(\"NewJldFile.jld has been created in the subfolder Results\")"
   ]
  },
  {
   "cell_type": "code",
   "execution_count": 5,
   "metadata": {},
   "outputs": [
    {
     "name": "stdout",
     "output_type": "stream",
     "text": [
      "\n",
      "B from jld file is\n",
      "         1         6        11        16\n",
      "         2         7        12        17\n",
      "         3         8        13        18\n",
      "         4         9        14        19\n",
      "         5        10        15        20\n",
      "\n",
      "\n",
      "All variables in the JLD file: String[\"B\", \"B27\"]\n",
      "\n",
      "B from jld file is (2nd way of loading)\n",
      "         1         6        11        16\n",
      "         2         7        12        17\n",
      "         3         8        13        18\n",
      "         4         9        14        19\n",
      "         5        10        15        20\n",
      "\n"
     ]
    }
   ],
   "source": [
    "B2 = load(\"Results/NewJldFile.jld\",\"B\")          #reload the data from the jld file\n",
    "println(\"\\nB from jld file is\")\n",
    "printmat(B2)\n",
    "                                                 #alternative approach\n",
    "xx = load(\"Results/NewJldFile.jld\")                      #load all variables into dictionary\n",
    "println(\"\\nAll variables in the JLD file: \",keys(xx))\n",
    "B3 = xx[\"B\"]\n",
    "println(\"\\nB from jld file is (2nd way of loading)\")\n",
    "printmat(B3)"
   ]
  },
  {
   "cell_type": "markdown",
   "metadata": {},
   "source": [
    "# (extra) Saving and Loading a Matlab mat File\n",
    "\n",
    "The MAT package allows you to load/save (Matlab) mat files. See https://github.com/simonster/MAT.jl."
   ]
  },
  {
   "cell_type": "code",
   "execution_count": 6,
   "metadata": {},
   "outputs": [
    {
     "name": "stdout",
     "output_type": "stream",
     "text": [
      "\n",
      "NewMatFile.mat has been created in the subfolder Results\n"
     ]
    }
   ],
   "source": [
    "using MAT     \n",
    "\n",
    "C   = copy(reshape(1:20,5,4))\n",
    "C27 = 1\n",
    "\n",
    "fh = matopen(\"Results/NewMatFile.mat\",\"w\")               #create a mat file\n",
    "write(fh,\"C\",C)\n",
    "write(fh,\"C27\",C27)\n",
    "close(fh)\n",
    "\n",
    "println(\"\\nNewMatFile.mat has been created in the subfolder Results\")"
   ]
  },
  {
   "cell_type": "code",
   "execution_count": 7,
   "metadata": {},
   "outputs": [
    {
     "name": "stdout",
     "output_type": "stream",
     "text": [
      "\n",
      "Variables in mat file: String[\"C\", \"C27\"]\n",
      "\n",
      "C from mat file is \n",
      "         1         6        11        16\n",
      "         2         7        12        17\n",
      "         3         8        13        18\n",
      "         4         9        14        19\n",
      "         5        10        15        20\n",
      "\n",
      "\n",
      "C from mat file is (2nd way of loading) \n",
      "         1         6        11        16\n",
      "         2         7        12        17\n",
      "         3         8        13        18\n",
      "         4         9        14        19\n",
      "         5        10        15        20\n",
      "\n"
     ]
    }
   ],
   "source": [
    "fh = matopen(\"Results/NewMatFile.mat\")           #open the mat file\n",
    "println(\"\\nVariables in mat file: \",names(fh))\n",
    "C2 = read(fh,\"C\")                                #read variable C\n",
    "close(fh)                                        #close the mat file\n",
    "println(\"\\nC from mat file is \")\n",
    "printmat(C2)\n",
    "                                                 #alternative approach\n",
    "xx = matread(\"Results/NewMatFile.mat\")                   #read whole mat file into Dict xx\n",
    "C3 = xx[\"C\"]\n",
    "println(\"\\nC from mat file is (2nd way of loading) \")\n",
    "printmat(C3)"
   ]
  },
  {
   "cell_type": "markdown",
   "metadata": {},
   "source": [
    "# (extra) Loading csv and Fixing Missing Values"
   ]
  },
  {
   "cell_type": "code",
   "execution_count": 8,
   "metadata": {},
   "outputs": [
    {
     "name": "stdout",
     "output_type": "stream",
     "text": [
      "\n",
      "x\n",
      "      1861    10.094     9.998          \n",
      "      1862    10.128     9.994     0.037\n",
      "      1863    10.156    10.044     0.092\n",
      "      1864              10.061     0.098\n",
      "      1865    10.197    10.076     0.078\n",
      "      1866    10.234    10.064     0.061\n",
      "      1867    10.242     10.06     0.025\n",
      "      1868    10.186    10.057    -0.002\n",
      "      1869    10.235    10.068     0.107\n",
      "      1870    10.343     10.16     0.071\n",
      "      1871    10.379    10.188     0.022\n",
      "      1872    10.438    10.256    -0.022\n",
      "      1873    10.494    10.315     -0.06\n",
      "      1874    10.505    10.337     0.005\n",
      "      1875    10.485    10.305     0.074\n",
      "\n"
     ]
    }
   ],
   "source": [
    "x = readdlm(\"Data/loadCsvTsT_Data.csv\",',',skipstart=1)   #load the data\n",
    "\n",
    "println(\"\\nx\")\n",
    "printmat(x)"
   ]
  },
  {
   "cell_type": "code",
   "execution_count": 9,
   "metadata": {},
   "outputs": [
    {
     "name": "stdout",
     "output_type": "stream",
     "text": [
      "\n",
      "after fix\n",
      "  1861.000    10.094     9.998       NaN\n",
      "  1862.000    10.128     9.994     0.037\n",
      "  1863.000    10.156    10.044     0.092\n",
      "  1864.000       NaN    10.061     0.098\n",
      "  1865.000    10.197    10.076     0.078\n",
      "  1866.000    10.234    10.064     0.061\n",
      "  1867.000    10.242    10.060     0.025\n",
      "  1868.000    10.186    10.057    -0.002\n",
      "  1869.000    10.235    10.068     0.107\n",
      "  1870.000    10.343    10.160     0.071\n",
      "  1871.000    10.379    10.188     0.022\n",
      "  1872.000    10.438    10.256    -0.022\n",
      "  1873.000    10.494    10.315    -0.060\n",
      "  1874.000    10.505    10.337     0.005\n",
      "  1875.000    10.485    10.305     0.074\n",
      "\n"
     ]
    }
   ],
   "source": [
    "include(\"readdlmFixPs.jl\")                       #function for fixing missing values, a real hack\n",
    "x2 = readdlmFixPs(x)                             #replace all missing values with NaN\n",
    "                                                 #convert to Float matrix\n",
    "println(\"\\nafter fix\")\n",
    "printmat(x2)"
   ]
  },
  {
   "cell_type": "markdown",
   "metadata": {},
   "source": [
    "# (extra) Loading xlsfile\n",
    "\n",
    "\n",
    "You need python and python's xlrd libarary for this to work. \n",
    "\n",
    "See https://github.com/davidanthoff/ExcelReaders.jl"
   ]
  },
  {
   "cell_type": "code",
   "execution_count": 10,
   "metadata": {},
   "outputs": [
    {
     "name": "stdout",
     "output_type": "stream",
     "text": [
      "\n",
      "------------Approach 1: readxl-------------------\n",
      "\n",
      "Numeric part after conversion:\n",
      "    16.660  -999.990\n",
      "    16.850  -999.990\n",
      "    16.930  -999.990\n",
      "    16.980  -999.990\n",
      "    17.080  -999.990\n",
      "    17.030     7.000\n",
      "    17.090     8.000\n",
      "    16.760  -999.990\n",
      "    16.670  -999.990\n",
      "    16.720  -999.990\n",
      "\n"
     ]
    }
   ],
   "source": [
    "using ExcelReaders\n",
    "\n",
    "\n",
    "println(\"\\n------------Approach 1: readxl-------------------\")\n",
    "\n",
    "data1 = readxl(\"Data/readXlsTsT_Data.xlsx\",\"Data!B2:C11\")       #reading using range\n",
    "x1    = convert(Array{Float64},data1)            #convert from DataArray to traditional matrix\n",
    "println(\"\\nNumeric part after conversion:\")\n",
    "printmat(x1)"
   ]
  },
  {
   "cell_type": "code",
   "execution_count": 11,
   "metadata": {},
   "outputs": [
    {
     "name": "stdout",
     "output_type": "stream",
     "text": [
      "\n",
      "------------Approach 2: readxlsheet--------------\n",
      "\n",
      "Numeric part after conversion: \n",
      "    16.660  -999.990\n",
      "    16.850  -999.990\n",
      "    16.930  -999.990\n",
      "    16.980  -999.990\n",
      "    17.080  -999.990\n",
      "    17.030     7.000\n",
      "    17.090     8.000\n",
      "    16.760  -999.990\n",
      "    16.670  -999.990\n",
      "    16.720  -999.990\n",
      "\n",
      "\n",
      "Numeric part after changing -999.99 to NaN:\n",
      "    16.660       NaN\n",
      "    16.850       NaN\n",
      "    16.930       NaN\n",
      "    16.980       NaN\n",
      "    17.080       NaN\n",
      "    17.030     7.000\n",
      "    17.090     8.000\n",
      "    16.760       NaN\n",
      "    16.670       NaN\n",
      "    16.720       NaN\n",
      "\n"
     ]
    }
   ],
   "source": [
    "println(\"\\n------------Approach 2: readxlsheet--------------\")\n",
    "\n",
    "data2 = readxlsheet(\"Data/readXlsTsT_Data.xlsx\",\"Data\",skipstartrows=1)  #reading all columns\n",
    "x2    = convert(Array{Float64},data2[:,2:end])\n",
    "println(\"\\nNumeric part after conversion: \")\n",
    "printmat(x2)\n",
    "\n",
    "x2[x2 .== -999.99] = NaN                     #convert -999.99 to NaNs\n",
    "println(\"\\nNumeric part after changing -999.99 to NaN:\")\n",
    "printmat(x2)"
   ]
  },
  {
   "cell_type": "code",
   "execution_count": null,
   "metadata": {
    "collapsed": true
   },
   "outputs": [],
   "source": []
  }
 ],
 "metadata": {
  "anaconda-cloud": {},
  "kernelspec": {
   "display_name": "Julia 0.6.1",
   "language": "julia",
   "name": "julia-0.6"
  },
  "language_info": {
   "file_extension": ".jl",
   "mimetype": "application/julia",
   "name": "julia",
   "version": "0.6.1"
  }
 },
 "nbformat": 4,
 "nbformat_minor": 1
}
