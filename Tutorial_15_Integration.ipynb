{
 "cells": [
  {
   "cell_type": "markdown",
   "metadata": {
    "deletable": true,
    "editable": true
   },
   "source": [
    "# Numerical Integration and Differentiation"
   ]
  },
  {
   "cell_type": "markdown",
   "metadata": {
    "deletable": true,
    "editable": true
   },
   "source": [
    "## Load Packages"
   ]
  },
  {
   "cell_type": "code",
   "execution_count": 1,
   "metadata": {
    "collapsed": false,
    "deletable": true,
    "editable": true
   },
   "outputs": [
    {
     "data": {
      "text/plain": [
       "printlnPs (generic function with 1 method)"
      ]
     },
     "execution_count": 1,
     "metadata": {},
     "output_type": "execute_result"
    }
   ],
   "source": [
    "using QuadGK, ForwardDiff\n",
    "\n",
    "include(\"printmat.jl\")"
   ]
  },
  {
   "cell_type": "code",
   "execution_count": 2,
   "metadata": {
    "collapsed": true,
    "deletable": true,
    "editable": true
   },
   "outputs": [],
   "source": [
    "using Plots\n",
    "\n",
    "backend = \"gr\"              #\"gr\" (default), \"pyplot\" \n",
    "\n",
    "if backend == \"pyplot\"\n",
    "    pyplot(size=(600,400))\n",
    "    default(show=false)               #for pyplot: avoids pop-ups\n",
    "else    \n",
    "    gr(size=(600,400))\n",
    "    default(show=true)\n",
    "end"
   ]
  },
  {
   "cell_type": "markdown",
   "metadata": {
    "deletable": true,
    "editable": true
   },
   "source": [
    "# Numerical Integration"
   ]
  },
  {
   "cell_type": "markdown",
   "metadata": {
    "deletable": true,
    "editable": true
   },
   "source": [
    "## The Pdf of the N(μ,σ²) Distribution "
   ]
  },
  {
   "cell_type": "code",
   "execution_count": 3,
   "metadata": {
    "collapsed": false,
    "deletable": true,
    "editable": true
   },
   "outputs": [
    {
     "data": {
      "text/plain": [
       "normalpdf (generic function with 3 methods)"
      ]
     },
     "execution_count": 3,
     "metadata": {},
     "output_type": "execute_result"
    }
   ],
   "source": [
    "function normalpdf(x,μ=0,σ²=1)\n",
    "    σ = sqrt(σ²)\n",
    "    z = (x - μ)/σ\n",
    "    pdf = exp.(-0.5*z.^2)./(sqrt(2*pi)*σ)    \n",
    "    return pdf\n",
    "end"
   ]
  },
  {
   "cell_type": "code",
   "execution_count": 4,
   "metadata": {
    "collapsed": false,
    "deletable": true,
    "editable": true
   },
   "outputs": [
    {
     "data": {
      "text/html": [
       "<?xml version=\"1.0\" encoding=\"utf-8\"?>\n",
       "<svg xmlns=\"http://www.w3.org/2000/svg\" xmlns:xlink=\"http://www.w3.org/1999/xlink\" width=\"600\" height=\"400\" viewBox=\"0 0 600 400\">\n",
       "<defs>\n",
       "  <clipPath id=\"clip00\">\n",
       "    <rect x=\"0\" y=\"0\" width=\"600\" height=\"400\"/>\n",
       "  </clipPath>\n",
       "</defs>\n",
       "<polygon clip-path=\"url(#clip00)\" points=\"\n",
       "0,400 600,400 600,0 0,0 \n",
       "  \" fill=\"#ffffff\" fill-opacity=\"1\"/>\n",
       "<defs>\n",
       "  <clipPath id=\"clip01\">\n",
       "    <rect x=\"120\" y=\"0\" width=\"421\" height=\"400\"/>\n",
       "  </clipPath>\n",
       "</defs>\n",
       "<polygon clip-path=\"url(#clip00)\" points=\"\n",
       "30.6037,369.674 596.063,369.674 596.063,23.3815 30.6037,23.3815 \n",
       "  \" fill=\"#ffffff\" fill-opacity=\"1\"/>\n",
       "<defs>\n",
       "  <clipPath id=\"clip02\">\n",
       "    <rect x=\"30\" y=\"23\" width=\"566\" height=\"347\"/>\n",
       "  </clipPath>\n",
       "</defs>\n",
       "<polyline clip-path=\"url(#clip02)\" style=\"stroke:#00002d; stroke-width:0.8; stroke-opacity:0.5; fill:none\" stroke-dasharray=\"1, 2\" points=\"\n",
       "  30.6037,364.48 30.6037,28.5758 \n",
       "  \"/>\n",
       "<polyline clip-path=\"url(#clip02)\" style=\"stroke:#00002d; stroke-width:0.8; stroke-opacity:0.5; fill:none\" stroke-dasharray=\"1, 2\" points=\"\n",
       "  124.847,364.48 124.847,28.5758 \n",
       "  \"/>\n",
       "<polyline clip-path=\"url(#clip02)\" style=\"stroke:#00002d; stroke-width:0.8; stroke-opacity:0.5; fill:none\" stroke-dasharray=\"1, 2\" points=\"\n",
       "  219.09,364.48 219.09,28.5758 \n",
       "  \"/>\n",
       "<polyline clip-path=\"url(#clip02)\" style=\"stroke:#00002d; stroke-width:0.8; stroke-opacity:0.5; fill:none\" stroke-dasharray=\"1, 2\" points=\"\n",
       "  313.333,364.48 313.333,28.5758 \n",
       "  \"/>\n",
       "<polyline clip-path=\"url(#clip02)\" style=\"stroke:#00002d; stroke-width:0.8; stroke-opacity:0.5; fill:none\" stroke-dasharray=\"1, 2\" points=\"\n",
       "  407.577,364.48 407.577,28.5758 \n",
       "  \"/>\n",
       "<polyline clip-path=\"url(#clip02)\" style=\"stroke:#00002d; stroke-width:0.8; stroke-opacity:0.5; fill:none\" stroke-dasharray=\"1, 2\" points=\"\n",
       "  501.82,364.48 501.82,28.5758 \n",
       "  \"/>\n",
       "<polyline clip-path=\"url(#clip02)\" style=\"stroke:#00002d; stroke-width:0.8; stroke-opacity:0.5; fill:none\" stroke-dasharray=\"1, 2\" points=\"\n",
       "  596.063,364.48 596.063,28.5758 \n",
       "  \"/>\n",
       "<polyline clip-path=\"url(#clip02)\" style=\"stroke:#00002d; stroke-width:0.8; stroke-opacity:0.5; fill:none\" stroke-dasharray=\"1, 2\" points=\"\n",
       "  39.0856,369.674 587.581,369.674 \n",
       "  \"/>\n",
       "<polyline clip-path=\"url(#clip02)\" style=\"stroke:#00002d; stroke-width:0.8; stroke-opacity:0.5; fill:none\" stroke-dasharray=\"1, 2\" points=\"\n",
       "  39.0856,282.871 587.581,282.871 \n",
       "  \"/>\n",
       "<polyline clip-path=\"url(#clip02)\" style=\"stroke:#00002d; stroke-width:0.8; stroke-opacity:0.5; fill:none\" stroke-dasharray=\"1, 2\" points=\"\n",
       "  39.0856,196.069 587.581,196.069 \n",
       "  \"/>\n",
       "<polyline clip-path=\"url(#clip02)\" style=\"stroke:#00002d; stroke-width:0.8; stroke-opacity:0.5; fill:none\" stroke-dasharray=\"1, 2\" points=\"\n",
       "  39.0856,109.266 587.581,109.266 \n",
       "  \"/>\n",
       "<polyline clip-path=\"url(#clip02)\" style=\"stroke:#00002d; stroke-width:0.8; stroke-opacity:1; fill:none\" points=\"\n",
       "  30.6037,369.674 596.063,369.674 \n",
       "  \"/>\n",
       "<polyline clip-path=\"url(#clip02)\" style=\"stroke:#00002d; stroke-width:0.8; stroke-opacity:1; fill:none\" points=\"\n",
       "  30.6037,369.674 30.6037,364.48 \n",
       "  \"/>\n",
       "<polyline clip-path=\"url(#clip02)\" style=\"stroke:#00002d; stroke-width:0.8; stroke-opacity:1; fill:none\" points=\"\n",
       "  124.847,369.674 124.847,364.48 \n",
       "  \"/>\n",
       "<polyline clip-path=\"url(#clip02)\" style=\"stroke:#00002d; stroke-width:0.8; stroke-opacity:1; fill:none\" points=\"\n",
       "  219.09,369.674 219.09,364.48 \n",
       "  \"/>\n",
       "<polyline clip-path=\"url(#clip02)\" style=\"stroke:#00002d; stroke-width:0.8; stroke-opacity:1; fill:none\" points=\"\n",
       "  313.333,369.674 313.333,364.48 \n",
       "  \"/>\n",
       "<polyline clip-path=\"url(#clip02)\" style=\"stroke:#00002d; stroke-width:0.8; stroke-opacity:1; fill:none\" points=\"\n",
       "  407.577,369.674 407.577,364.48 \n",
       "  \"/>\n",
       "<polyline clip-path=\"url(#clip02)\" style=\"stroke:#00002d; stroke-width:0.8; stroke-opacity:1; fill:none\" points=\"\n",
       "  501.82,369.674 501.82,364.48 \n",
       "  \"/>\n",
       "<polyline clip-path=\"url(#clip02)\" style=\"stroke:#00002d; stroke-width:0.8; stroke-opacity:1; fill:none\" points=\"\n",
       "  596.063,369.674 596.063,364.48 \n",
       "  \"/>\n",
       "<polyline clip-path=\"url(#clip02)\" style=\"stroke:#00002d; stroke-width:0.8; stroke-opacity:1; fill:none\" points=\"\n",
       "  30.6037,369.674 30.6037,23.3815 \n",
       "  \"/>\n",
       "<polyline clip-path=\"url(#clip02)\" style=\"stroke:#00002d; stroke-width:0.8; stroke-opacity:1; fill:none\" points=\"\n",
       "  30.6037,369.674 39.0856,369.674 \n",
       "  \"/>\n",
       "<polyline clip-path=\"url(#clip02)\" style=\"stroke:#00002d; stroke-width:0.8; stroke-opacity:1; fill:none\" points=\"\n",
       "  30.6037,282.871 39.0856,282.871 \n",
       "  \"/>\n",
       "<polyline clip-path=\"url(#clip02)\" style=\"stroke:#00002d; stroke-width:0.8; stroke-opacity:1; fill:none\" points=\"\n",
       "  30.6037,196.069 39.0856,196.069 \n",
       "  \"/>\n",
       "<polyline clip-path=\"url(#clip02)\" style=\"stroke:#00002d; stroke-width:0.8; stroke-opacity:1; fill:none\" points=\"\n",
       "  30.6037,109.266 39.0856,109.266 \n",
       "  \"/>\n",
       "<g clip-path=\"url(#clip00)\">\n",
       "<text style=\"fill:#00002d; fill-opacity:1; font-family:Arial,Helvetica Neue,Helvetica,sans-serif; font-size:12; text-anchor:middle;\" transform=\"rotate(0, 30.6037, 381.674)\" x=\"30.6037\" y=\"381.674\">-3</text>\n",
       "</g>\n",
       "<g clip-path=\"url(#clip00)\">\n",
       "<text style=\"fill:#00002d; fill-opacity:1; font-family:Arial,Helvetica Neue,Helvetica,sans-serif; font-size:12; text-anchor:middle;\" transform=\"rotate(0, 124.847, 381.674)\" x=\"124.847\" y=\"381.674\">-2</text>\n",
       "</g>\n",
       "<g clip-path=\"url(#clip00)\">\n",
       "<text style=\"fill:#00002d; fill-opacity:1; font-family:Arial,Helvetica Neue,Helvetica,sans-serif; font-size:12; text-anchor:middle;\" transform=\"rotate(0, 219.09, 381.674)\" x=\"219.09\" y=\"381.674\">-1</text>\n",
       "</g>\n",
       "<g clip-path=\"url(#clip00)\">\n",
       "<text style=\"fill:#00002d; fill-opacity:1; font-family:Arial,Helvetica Neue,Helvetica,sans-serif; font-size:12; text-anchor:middle;\" transform=\"rotate(0, 313.333, 381.674)\" x=\"313.333\" y=\"381.674\">0</text>\n",
       "</g>\n",
       "<g clip-path=\"url(#clip00)\">\n",
       "<text style=\"fill:#00002d; fill-opacity:1; font-family:Arial,Helvetica Neue,Helvetica,sans-serif; font-size:12; text-anchor:middle;\" transform=\"rotate(0, 407.577, 381.674)\" x=\"407.577\" y=\"381.674\">1</text>\n",
       "</g>\n",
       "<g clip-path=\"url(#clip00)\">\n",
       "<text style=\"fill:#00002d; fill-opacity:1; font-family:Arial,Helvetica Neue,Helvetica,sans-serif; font-size:12; text-anchor:middle;\" transform=\"rotate(0, 501.82, 381.674)\" x=\"501.82\" y=\"381.674\">2</text>\n",
       "</g>\n",
       "<g clip-path=\"url(#clip00)\">\n",
       "<text style=\"fill:#00002d; fill-opacity:1; font-family:Arial,Helvetica Neue,Helvetica,sans-serif; font-size:12; text-anchor:middle;\" transform=\"rotate(0, 596.063, 381.674)\" x=\"596.063\" y=\"381.674\">3</text>\n",
       "</g>\n",
       "<g clip-path=\"url(#clip00)\">\n",
       "<text style=\"fill:#00002d; fill-opacity:1; font-family:Arial,Helvetica Neue,Helvetica,sans-serif; font-size:12; text-anchor:end;\" transform=\"rotate(0, 29.4037, 374.174)\" x=\"29.4037\" y=\"374.174\">0.0</text>\n",
       "</g>\n",
       "<g clip-path=\"url(#clip00)\">\n",
       "<text style=\"fill:#00002d; fill-opacity:1; font-family:Arial,Helvetica Neue,Helvetica,sans-serif; font-size:12; text-anchor:end;\" transform=\"rotate(0, 29.4037, 287.371)\" x=\"29.4037\" y=\"287.371\">0.1</text>\n",
       "</g>\n",
       "<g clip-path=\"url(#clip00)\">\n",
       "<text style=\"fill:#00002d; fill-opacity:1; font-family:Arial,Helvetica Neue,Helvetica,sans-serif; font-size:12; text-anchor:end;\" transform=\"rotate(0, 29.4037, 200.569)\" x=\"29.4037\" y=\"200.569\">0.2</text>\n",
       "</g>\n",
       "<g clip-path=\"url(#clip00)\">\n",
       "<text style=\"fill:#00002d; fill-opacity:1; font-family:Arial,Helvetica Neue,Helvetica,sans-serif; font-size:12; text-anchor:end;\" transform=\"rotate(0, 29.4037, 113.766)\" x=\"29.4037\" y=\"113.766\">0.3</text>\n",
       "</g>\n",
       "<g clip-path=\"url(#clip00)\">\n",
       "<text style=\"fill:#00002d; fill-opacity:1; font-family:Arial,Helvetica Neue,Helvetica,sans-serif; font-size:21; text-anchor:middle;\" transform=\"rotate(0, 313.333, 18)\" x=\"313.333\" y=\"18\">pdf of N(0,1)</text>\n",
       "</g>\n",
       "<g clip-path=\"url(#clip00)\">\n",
       "<text style=\"fill:#00002d; fill-opacity:1; font-family:Arial,Helvetica Neue,Helvetica,sans-serif; font-size:16; text-anchor:middle;\" transform=\"rotate(0, 313.333, 397.6)\" x=\"313.333\" y=\"397.6\">x</text>\n",
       "</g>\n",
       "<polyline clip-path=\"url(#clip02)\" style=\"stroke:#ff0000; stroke-width:1.6; stroke-opacity:1; fill:none\" points=\"\n",
       "  30.6037,365.827 40.028,364.507 49.4523,362.803 58.8766,360.628 68.301,357.884 77.7253,354.459 87.1496,350.235 96.5739,345.085 105.998,338.881 115.423,331.495 \n",
       "  124.847,322.808 134.271,312.718 143.696,301.143 153.12,288.037 162.544,273.392 171.969,257.249 181.393,239.707 190.817,220.922 200.241,201.115 209.666,180.573 \n",
       "  219.09,159.637 228.514,138.705 237.939,118.214 247.363,98.6293 256.787,80.4262 266.212,64.0719 275.636,50.0057 285.06,38.6192 294.485,30.2385 303.909,25.1086 \n",
       "  313.333,23.3815 322.758,25.1086 332.182,30.2385 341.606,38.6192 351.031,50.0057 360.455,64.0719 369.879,80.4262 379.304,98.6293 388.728,118.214 398.152,138.705 \n",
       "  407.577,159.637 417.001,180.573 426.425,201.115 435.85,220.922 445.274,239.707 454.698,257.249 464.122,273.392 473.547,288.037 482.971,301.143 492.395,312.718 \n",
       "  501.82,322.808 511.244,331.495 520.668,338.881 530.093,345.085 539.517,350.235 548.941,354.459 558.366,357.884 567.79,360.628 577.214,362.803 586.639,364.507 \n",
       "  596.063,365.827 \n",
       "  \"/>\n",
       "<polygon clip-path=\"url(#clip02)\" points=\"\n",
       "30.6037,365.827 40.028,364.507 49.4523,362.803 58.8766,360.628 68.301,357.884 77.7253,354.459 87.1496,350.235 96.5739,345.085 105.998,338.881 115.423,331.495 \n",
       "  124.847,322.808 134.271,312.718 143.696,301.143 153.12,288.037 162.544,273.392 171.969,257.249 181.393,239.707 190.817,220.922 200.241,201.115 209.666,180.573 \n",
       "  219.09,159.637 228.514,138.705 237.939,118.214 247.363,98.6293 256.787,80.4262 266.212,64.0719 275.636,50.0057 285.06,38.6192 294.485,30.2385 303.909,25.1086 \n",
       "  313.333,23.3815 322.758,25.1086 332.182,30.2385 341.606,38.6192 351.031,50.0057 360.455,64.0719 369.879,80.4262 379.304,98.6293 388.728,118.214 398.152,138.705 \n",
       "  407.577,159.637 417.001,180.573 426.425,201.115 435.85,220.922 445.274,239.707 454.698,257.249 464.122,273.392 464.122,369.674 454.698,369.674 445.274,369.674 \n",
       "  435.85,369.674 426.425,369.674 417.001,369.674 407.577,369.674 398.152,369.674 388.728,369.674 379.304,369.674 369.879,369.674 360.455,369.674 351.031,369.674 \n",
       "  341.606,369.674 332.182,369.674 322.758,369.674 313.333,369.674 303.909,369.674 294.485,369.674 285.06,369.674 275.636,369.674 266.212,369.674 256.787,369.674 \n",
       "  247.363,369.674 237.939,369.674 228.514,369.674 219.09,369.674 209.666,369.674 200.241,369.674 190.817,369.674 181.393,369.674 171.969,369.674 162.544,369.674 \n",
       "  153.12,369.674 143.696,369.674 134.271,369.674 124.847,369.674 115.423,369.674 105.998,369.674 96.5739,369.674 87.1496,369.674 77.7253,369.674 68.301,369.674 \n",
       "  58.8766,369.674 49.4523,369.674 40.028,369.674 30.6037,369.674 \n",
       "  \" fill=\"#ff0000\" fill-opacity=\"1\"/>\n",
       "<polyline clip-path=\"url(#clip02)\" style=\"stroke:#ff0000; stroke-width:1.6; stroke-opacity:1; fill:none\" points=\"\n",
       "  30.6037,365.827 40.028,364.507 49.4523,362.803 58.8766,360.628 68.301,357.884 77.7253,354.459 87.1496,350.235 96.5739,345.085 105.998,338.881 115.423,331.495 \n",
       "  124.847,322.808 134.271,312.718 143.696,301.143 153.12,288.037 162.544,273.392 171.969,257.249 181.393,239.707 190.817,220.922 200.241,201.115 209.666,180.573 \n",
       "  219.09,159.637 228.514,138.705 237.939,118.214 247.363,98.6293 256.787,80.4262 266.212,64.0719 275.636,50.0057 285.06,38.6192 294.485,30.2385 303.909,25.1086 \n",
       "  313.333,23.3815 322.758,25.1086 332.182,30.2385 341.606,38.6192 351.031,50.0057 360.455,64.0719 369.879,80.4262 379.304,98.6293 388.728,118.214 398.152,138.705 \n",
       "  407.577,159.637 417.001,180.573 426.425,201.115 435.85,220.922 445.274,239.707 454.698,257.249 464.122,273.392 \n",
       "  \"/>\n",
       "<g clip-path=\"url(#clip00)\">\n",
       "<text style=\"fill:#00002d; fill-opacity:1; font-family:Arial,Helvetica Neue,Helvetica,sans-serif; font-size:21; text-anchor:middle;\" transform=\"rotate(0, 478.259, 148.827)\" x=\"478.259\" y=\"148.827\">the area covers</text>\n",
       "</g>\n",
       "<g clip-path=\"url(#clip00)\">\n",
       "<text style=\"fill:#00002d; fill-opacity:1; font-family:Arial,Helvetica Neue,Helvetica,sans-serif; font-size:21; text-anchor:middle;\" transform=\"rotate(0, 478.259, 171.507)\" x=\"478.259\" y=\"171.507\"> up to x=1.64</text>\n",
       "</g>\n",
       "</svg>\n"
      ]
     },
     "execution_count": 4,
     "metadata": {},
     "output_type": "execute_result"
    }
   ],
   "source": [
    "x  = -3:0.1:3\n",
    "xb = x[x.<=1.64]\n",
    "\n",
    "plot1 = plot(x,normalpdf(x),color=:red,linewidth=2,legend=nothing)\n",
    "plot!(xb,normalpdf(xb),color=:red,linewidth=2,legend=nothing,fill=(0,:red))\n",
    "title!(\"pdf of N(0,1)\")\n",
    "xlabel!(\"x\")\n",
    "ylabel!(\"\")\n",
    "annotate!(1.75,0.25,\"the area covers\\n up to x=1.64\")"
   ]
  },
  {
   "cell_type": "markdown",
   "metadata": {
    "deletable": true,
    "editable": true
   },
   "source": [
    "## Calculating Prob(x<=1.64)"
   ]
  },
  {
   "cell_type": "code",
   "execution_count": 5,
   "metadata": {
    "collapsed": false,
    "deletable": true,
    "editable": true
   },
   "outputs": [
    {
     "name": "stdout",
     "output_type": "stream",
     "text": [
      "\n",
      "Pr(x<=1.64) according to N(0,1): 0.949\n",
      "\n",
      "...yes, there is a smarter way to do this calculations, but it's still a good illustration\n"
     ]
    }
   ],
   "source": [
    "cdf164, = QuadGK.quadgk(x->normalpdf(x),-Inf,1.64)\n",
    "printlnPs(\"\\nPr(x<=1.64) according to N(0,1): $(round(cdf164,3))\")\n",
    "\n",
    "printlnPs(\"\\n...yes, there is a smarter way to do this calculations, but it's still a good illustration\")"
   ]
  },
  {
   "cell_type": "markdown",
   "metadata": {
    "collapsed": true,
    "deletable": true,
    "editable": true
   },
   "source": [
    "# Numerical Derivatives\n",
    "\n",
    "Numerical derivatives can be calculated by a crude finite difference (see NumDer() below) or the much more sophisticated routines in the ForwardDiff.jl package. \n",
    "\n",
    "The function you want to differentiate must typically have only one argument (even if it is a vector). To turn a multi-argument function fn1(x,a) into a one-argument function transform it to an anonymous function by\n",
    "\n",
    "```\n",
    "x->fn1(x,a),\n",
    "```\n",
    "assuming that ```a``` has a value already. We can now differentiate wrt. ```x```."
   ]
  },
  {
   "cell_type": "code",
   "execution_count": 6,
   "metadata": {
    "collapsed": false,
    "deletable": true,
    "editable": true
   },
   "outputs": [
    {
     "data": {
      "text/plain": [
       "NumDer (generic function with 1 method)"
      ]
     },
     "execution_count": 6,
     "metadata": {},
     "output_type": "execute_result"
    }
   ],
   "source": [
    "function NumDer(fun,b0,h)           #crude function for a centered numerical derivative\n",
    "    bminus = b0 - h\n",
    "    bplus  = b0 + h\n",
    "    hh     = bplus - bminus\n",
    "    fplus  = fun(bplus)\n",
    "    fminus = fun(bminus)\n",
    "    D      = (fplus-fminus)/hh\n",
    "    return D\n",
    "end"
   ]
  },
  {
   "cell_type": "code",
   "execution_count": 7,
   "metadata": {
    "collapsed": false,
    "deletable": true,
    "editable": true
   },
   "outputs": [
    {
     "data": {
      "text/plain": [
       "fn1 (generic function with 1 method)"
      ]
     },
     "execution_count": 7,
     "metadata": {},
     "output_type": "execute_result"
    }
   ],
   "source": [
    "function fn1(x,a)                 #a simple function, to be differentiated\n",
    "   return (x-1.1)^2 - a                \n",
    "end"
   ]
  },
  {
   "cell_type": "code",
   "execution_count": 8,
   "metadata": {
    "collapsed": false,
    "deletable": true,
    "editable": true
   },
   "outputs": [
    {
     "name": "stdout",
     "output_type": "stream",
     "text": [
      "The derivative at x=2 is (from two different methods): \n",
      "     1.800     1.800\n",
      "\n"
     ]
    }
   ],
   "source": [
    "x0 = 2\n",
    "\n",
    "dydx_A = NumDer(x->fn1(x,0.5),x0,0.01)           #differentiate fn1(x,0.5) at x = x0\n",
    "dydx_B = ForwardDiff.derivative(x->fn1(x,0.5),x0)\n",
    "\n",
    "println(\"The derivative at x=$x0 is (from two different methods): \")\n",
    "printmat([dydx_A dydx_B])"
   ]
  },
  {
   "cell_type": "code",
   "execution_count": 9,
   "metadata": {
    "collapsed": false,
    "deletable": true,
    "editable": true
   },
   "outputs": [
    {
     "name": "stdout",
     "output_type": "stream",
     "text": [
      "now lets plot this\n"
     ]
    }
   ],
   "source": [
    "x = collect(-3:6/99:6)          #calculate the derivative at many points\n",
    "\n",
    "dydx_A = [NumDer(x->fn1(x,0.5),x[i],0.01) for i=1:length(x)]        \n",
    "\n",
    "dydx_B = [ForwardDiff.derivative(x->fn1(x,0.5),x[i]) for i=1:length(x)]\n",
    "\n",
    "println(\"now lets plot this\")"
   ]
  },
  {
   "cell_type": "code",
   "execution_count": 10,
   "metadata": {
    "collapsed": false,
    "deletable": true,
    "editable": true
   },
   "outputs": [
    {
     "data": {
      "text/html": [
       "<?xml version=\"1.0\" encoding=\"utf-8\"?>\n",
       "<svg xmlns=\"http://www.w3.org/2000/svg\" xmlns:xlink=\"http://www.w3.org/1999/xlink\" width=\"600\" height=\"400\" viewBox=\"0 0 600 400\">\n",
       "<defs>\n",
       "  <clipPath id=\"clip00\">\n",
       "    <rect x=\"0\" y=\"0\" width=\"600\" height=\"400\"/>\n",
       "  </clipPath>\n",
       "</defs>\n",
       "<polygon clip-path=\"url(#clip00)\" points=\"\n",
       "0,400 600,400 600,0 0,0 \n",
       "  \" fill=\"#ffffff\" fill-opacity=\"1\"/>\n",
       "<defs>\n",
       "  <clipPath id=\"clip01\">\n",
       "    <rect x=\"120\" y=\"0\" width=\"421\" height=\"400\"/>\n",
       "  </clipPath>\n",
       "</defs>\n",
       "<polygon clip-path=\"url(#clip00)\" points=\"\n",
       "21.7148,369.674 596.063,369.674 596.063,23.3815 21.7148,23.3815 \n",
       "  \" fill=\"#ffffff\" fill-opacity=\"1\"/>\n",
       "<defs>\n",
       "  <clipPath id=\"clip02\">\n",
       "    <rect x=\"21\" y=\"23\" width=\"575\" height=\"347\"/>\n",
       "  </clipPath>\n",
       "</defs>\n",
       "<polyline clip-path=\"url(#clip02)\" style=\"stroke:#00002d; stroke-width:0.8; stroke-opacity:0.5; fill:none\" stroke-dasharray=\"1, 2\" points=\"\n",
       "  85.7468,364.48 85.7468,28.5758 \n",
       "  \"/>\n",
       "<polyline clip-path=\"url(#clip02)\" style=\"stroke:#00002d; stroke-width:0.8; stroke-opacity:0.5; fill:none\" stroke-dasharray=\"1, 2\" points=\"\n",
       "  213.811,364.48 213.811,28.5758 \n",
       "  \"/>\n",
       "<polyline clip-path=\"url(#clip02)\" style=\"stroke:#00002d; stroke-width:0.8; stroke-opacity:0.5; fill:none\" stroke-dasharray=\"1, 2\" points=\"\n",
       "  341.875,364.48 341.875,28.5758 \n",
       "  \"/>\n",
       "<polyline clip-path=\"url(#clip02)\" style=\"stroke:#00002d; stroke-width:0.8; stroke-opacity:0.5; fill:none\" stroke-dasharray=\"1, 2\" points=\"\n",
       "  469.939,364.48 469.939,28.5758 \n",
       "  \"/>\n",
       "<polyline clip-path=\"url(#clip02)\" style=\"stroke:#00002d; stroke-width:0.8; stroke-opacity:0.5; fill:none\" stroke-dasharray=\"1, 2\" points=\"\n",
       "  30.33,279.281 587.448,279.281 \n",
       "  \"/>\n",
       "<polyline clip-path=\"url(#clip02)\" style=\"stroke:#00002d; stroke-width:0.8; stroke-opacity:0.5; fill:none\" stroke-dasharray=\"1, 2\" points=\"\n",
       "  30.33,169.046 587.448,169.046 \n",
       "  \"/>\n",
       "<polyline clip-path=\"url(#clip02)\" style=\"stroke:#00002d; stroke-width:0.8; stroke-opacity:0.5; fill:none\" stroke-dasharray=\"1, 2\" points=\"\n",
       "  30.33,58.8105 587.448,58.8105 \n",
       "  \"/>\n",
       "<polyline clip-path=\"url(#clip02)\" style=\"stroke:#00002d; stroke-width:0.8; stroke-opacity:1; fill:none\" points=\"\n",
       "  21.7148,369.674 596.063,369.674 \n",
       "  \"/>\n",
       "<polyline clip-path=\"url(#clip02)\" style=\"stroke:#00002d; stroke-width:0.8; stroke-opacity:1; fill:none\" points=\"\n",
       "  85.7468,369.674 85.7468,364.48 \n",
       "  \"/>\n",
       "<polyline clip-path=\"url(#clip02)\" style=\"stroke:#00002d; stroke-width:0.8; stroke-opacity:1; fill:none\" points=\"\n",
       "  213.811,369.674 213.811,364.48 \n",
       "  \"/>\n",
       "<polyline clip-path=\"url(#clip02)\" style=\"stroke:#00002d; stroke-width:0.8; stroke-opacity:1; fill:none\" points=\"\n",
       "  341.875,369.674 341.875,364.48 \n",
       "  \"/>\n",
       "<polyline clip-path=\"url(#clip02)\" style=\"stroke:#00002d; stroke-width:0.8; stroke-opacity:1; fill:none\" points=\"\n",
       "  469.939,369.674 469.939,364.48 \n",
       "  \"/>\n",
       "<polyline clip-path=\"url(#clip02)\" style=\"stroke:#00002d; stroke-width:0.8; stroke-opacity:1; fill:none\" points=\"\n",
       "  21.7148,369.674 21.7148,23.3815 \n",
       "  \"/>\n",
       "<polyline clip-path=\"url(#clip02)\" style=\"stroke:#00002d; stroke-width:0.8; stroke-opacity:1; fill:none\" points=\"\n",
       "  21.7148,279.281 30.33,279.281 \n",
       "  \"/>\n",
       "<polyline clip-path=\"url(#clip02)\" style=\"stroke:#00002d; stroke-width:0.8; stroke-opacity:1; fill:none\" points=\"\n",
       "  21.7148,169.046 30.33,169.046 \n",
       "  \"/>\n",
       "<polyline clip-path=\"url(#clip02)\" style=\"stroke:#00002d; stroke-width:0.8; stroke-opacity:1; fill:none\" points=\"\n",
       "  21.7148,58.8105 30.33,58.8105 \n",
       "  \"/>\n",
       "<g clip-path=\"url(#clip00)\">\n",
       "<text style=\"fill:#00002d; fill-opacity:1; font-family:Arial,Helvetica Neue,Helvetica,sans-serif; font-size:12; text-anchor:middle;\" transform=\"rotate(0, 85.7468, 381.674)\" x=\"85.7468\" y=\"381.674\">-2</text>\n",
       "</g>\n",
       "<g clip-path=\"url(#clip00)\">\n",
       "<text style=\"fill:#00002d; fill-opacity:1; font-family:Arial,Helvetica Neue,Helvetica,sans-serif; font-size:12; text-anchor:middle;\" transform=\"rotate(0, 213.811, 381.674)\" x=\"213.811\" y=\"381.674\">0</text>\n",
       "</g>\n",
       "<g clip-path=\"url(#clip00)\">\n",
       "<text style=\"fill:#00002d; fill-opacity:1; font-family:Arial,Helvetica Neue,Helvetica,sans-serif; font-size:12; text-anchor:middle;\" transform=\"rotate(0, 341.875, 381.674)\" x=\"341.875\" y=\"381.674\">2</text>\n",
       "</g>\n",
       "<g clip-path=\"url(#clip00)\">\n",
       "<text style=\"fill:#00002d; fill-opacity:1; font-family:Arial,Helvetica Neue,Helvetica,sans-serif; font-size:12; text-anchor:middle;\" transform=\"rotate(0, 469.939, 381.674)\" x=\"469.939\" y=\"381.674\">4</text>\n",
       "</g>\n",
       "<g clip-path=\"url(#clip00)\">\n",
       "<text style=\"fill:#00002d; fill-opacity:1; font-family:Arial,Helvetica Neue,Helvetica,sans-serif; font-size:12; text-anchor:end;\" transform=\"rotate(0, 20.5148, 283.781)\" x=\"20.5148\" y=\"283.781\">0</text>\n",
       "</g>\n",
       "<g clip-path=\"url(#clip00)\">\n",
       "<text style=\"fill:#00002d; fill-opacity:1; font-family:Arial,Helvetica Neue,Helvetica,sans-serif; font-size:12; text-anchor:end;\" transform=\"rotate(0, 20.5148, 173.546)\" x=\"20.5148\" y=\"173.546\">10</text>\n",
       "</g>\n",
       "<g clip-path=\"url(#clip00)\">\n",
       "<text style=\"fill:#00002d; fill-opacity:1; font-family:Arial,Helvetica Neue,Helvetica,sans-serif; font-size:12; text-anchor:end;\" transform=\"rotate(0, 20.5148, 63.3105)\" x=\"20.5148\" y=\"63.3105\">20</text>\n",
       "</g>\n",
       "<g clip-path=\"url(#clip00)\">\n",
       "<text style=\"fill:#00002d; fill-opacity:1; font-family:Arial,Helvetica Neue,Helvetica,sans-serif; font-size:21; text-anchor:middle;\" transform=\"rotate(0, 308.889, 18)\" x=\"308.889\" y=\"18\">fn1() and its derivative</text>\n",
       "</g>\n",
       "<g clip-path=\"url(#clip00)\">\n",
       "<text style=\"fill:#00002d; fill-opacity:1; font-family:Arial,Helvetica Neue,Helvetica,sans-serif; font-size:16; text-anchor:middle;\" transform=\"rotate(0, 308.889, 397.6)\" x=\"308.889\" y=\"397.6\">x</text>\n",
       "</g>\n",
       "<polyline clip-path=\"url(#clip02)\" style=\"stroke:#00002d; stroke-width:0.8; stroke-opacity:1; fill:none\" points=\"\n",
       "  21.7148,99.4873 25.5955,104.925 29.4762,110.282 33.357,115.558 37.2377,120.753 41.1184,125.867 44.9992,130.9 48.8799,135.852 52.7606,140.723 56.6414,145.513 \n",
       "  60.5221,150.222 64.4028,154.85 68.2836,159.397 72.1643,163.863 76.045,168.248 79.9258,172.552 83.8065,176.776 87.6872,180.918 91.5679,184.979 95.4487,188.959 \n",
       "  99.3294,192.858 103.21,196.677 107.091,200.414 110.972,204.07 114.852,207.646 118.733,211.14 122.614,214.553 126.495,217.886 130.375,221.137 134.256,224.307 \n",
       "  138.137,227.397 142.017,230.405 145.898,233.333 149.779,236.179 153.66,238.945 157.54,241.629 161.421,244.233 165.302,246.755 169.183,249.197 173.063,251.557 \n",
       "  176.944,253.837 180.825,256.036 184.705,258.153 188.586,260.19 192.467,262.146 196.348,264.02 200.228,265.814 204.109,267.527 207.99,269.159 211.871,270.709 \n",
       "  215.751,272.179 219.632,273.568 223.513,274.876 227.394,276.103 231.274,277.249 235.155,278.314 239.036,279.297 242.916,280.2 246.797,281.022 250.678,281.763 \n",
       "  254.559,282.423 258.439,283.002 262.32,283.5 266.201,283.917 270.082,284.253 273.962,284.509 277.843,284.683 281.724,284.776 285.605,284.788 289.485,284.719 \n",
       "  293.366,284.569 297.247,284.339 301.127,284.027 305.008,283.634 308.889,283.16 312.77,282.606 316.65,281.97 320.531,281.253 324.412,280.455 328.293,279.577 \n",
       "  332.173,278.617 336.054,277.577 339.935,276.455 343.815,275.252 347.696,273.969 351.577,272.604 355.458,271.159 359.338,269.632 363.219,268.025 367.1,266.336 \n",
       "  370.981,264.567 374.861,262.717 378.742,260.785 382.623,258.773 386.504,256.679 390.384,254.505 394.265,252.25 398.146,249.914 402.026,247.496 405.907,244.998 \n",
       "  409.788,242.419 413.669,239.758 417.549,237.017 421.43,234.195 425.311,231.292 429.192,228.308 433.072,225.243 436.953,222.097 440.834,218.869 444.714,215.561 \n",
       "  448.595,212.172 452.476,208.702 456.357,205.151 460.237,201.519 464.118,197.806 467.999,194.012 471.88,190.137 475.76,186.182 479.641,182.145 483.522,178.027 \n",
       "  487.403,173.828 491.283,169.548 495.164,165.187 499.045,160.745 502.925,156.223 506.806,151.619 510.687,146.934 514.568,142.168 518.448,137.322 522.329,132.394 \n",
       "  526.21,127.385 530.091,122.296 533.971,117.125 537.852,111.873 541.733,106.541 545.613,101.127 549.494,95.6327 553.375,90.0571 557.256,84.4006 561.136,78.6631 \n",
       "  565.017,72.8446 568.898,66.9452 572.779,60.9647 576.659,54.9033 580.54,48.7609 584.421,42.5375 588.302,36.2331 592.182,29.8478 596.063,23.3815 \n",
       "  \"/>\n",
       "<polyline clip-path=\"url(#clip02)\" style=\"stroke:#ff0000; stroke-width:3.2; stroke-opacity:1; fill:none\" stroke-dasharray=\"2, 3\" points=\"\n",
       "  21.7148,369.674 25.5955,368.338 29.4762,367.002 33.357,365.666 37.2377,364.329 41.1184,362.993 44.9992,361.657 48.8799,360.321 52.7606,358.985 56.6414,357.648 \n",
       "  60.5221,356.312 64.4028,354.976 68.2836,353.64 72.1643,352.304 76.045,350.968 79.9258,349.631 83.8065,348.295 87.6872,346.959 91.5679,345.623 95.4487,344.287 \n",
       "  99.3294,342.95 103.21,341.614 107.091,340.278 110.972,338.942 114.852,337.606 118.733,336.269 122.614,334.933 126.495,333.597 130.375,332.261 134.256,330.925 \n",
       "  138.137,329.589 142.017,328.252 145.898,326.916 149.779,325.58 153.66,324.244 157.54,322.908 161.421,321.571 165.302,320.235 169.183,318.899 173.063,317.563 \n",
       "  176.944,316.227 180.825,314.89 184.705,313.554 188.586,312.218 192.467,310.882 196.348,309.546 200.228,308.21 204.109,306.873 207.99,305.537 211.871,304.201 \n",
       "  215.751,302.865 219.632,301.529 223.513,300.192 227.394,298.856 231.274,297.52 235.155,296.184 239.036,294.848 242.916,293.512 246.797,292.175 250.678,290.839 \n",
       "  254.559,289.503 258.439,288.167 262.32,286.831 266.201,285.494 270.082,284.158 273.962,282.822 277.843,281.486 281.724,280.15 285.605,278.813 289.485,277.477 \n",
       "  293.366,276.141 297.247,274.805 301.127,273.469 305.008,272.133 308.889,270.796 312.77,269.46 316.65,268.124 320.531,266.788 324.412,265.452 328.293,264.115 \n",
       "  332.173,262.779 336.054,261.443 339.935,260.107 343.815,258.771 347.696,257.435 351.577,256.098 355.458,254.762 359.338,253.426 363.219,252.09 367.1,250.754 \n",
       "  370.981,249.417 374.861,248.081 378.742,246.745 382.623,245.409 386.504,244.073 390.384,242.736 394.265,241.4 398.146,240.064 402.026,238.728 405.907,237.392 \n",
       "  409.788,236.056 413.669,234.719 417.549,233.383 421.43,232.047 425.311,230.711 429.192,229.375 433.072,228.038 436.953,226.702 440.834,225.366 444.714,224.03 \n",
       "  448.595,222.694 452.476,221.357 456.357,220.021 460.237,218.685 464.118,217.349 467.999,216.013 471.88,214.677 475.76,213.34 479.641,212.004 483.522,210.668 \n",
       "  487.403,209.332 491.283,207.996 495.164,206.659 499.045,205.323 502.925,203.987 506.806,202.651 510.687,201.315 514.568,199.979 518.448,198.642 522.329,197.306 \n",
       "  526.21,195.97 530.091,194.634 533.971,193.298 537.852,191.961 541.733,190.625 545.613,189.289 549.494,187.953 553.375,186.617 557.256,185.28 561.136,183.944 \n",
       "  565.017,182.608 568.898,181.272 572.779,179.936 576.659,178.6 580.54,177.263 584.421,175.927 588.302,174.591 592.182,173.255 596.063,171.919 \n",
       "  \"/>\n",
       "<polyline clip-path=\"url(#clip02)\" style=\"stroke:#0000ff; stroke-width:1.6; stroke-opacity:1; fill:none\" stroke-dasharray=\"8, 5\" points=\"\n",
       "  21.7148,369.674 25.5955,368.338 29.4762,367.002 33.357,365.666 37.2377,364.329 41.1184,362.993 44.9992,361.657 48.8799,360.321 52.7606,358.985 56.6414,357.648 \n",
       "  60.5221,356.312 64.4028,354.976 68.2836,353.64 72.1643,352.304 76.045,350.968 79.9258,349.631 83.8065,348.295 87.6872,346.959 91.5679,345.623 95.4487,344.287 \n",
       "  99.3294,342.95 103.21,341.614 107.091,340.278 110.972,338.942 114.852,337.606 118.733,336.269 122.614,334.933 126.495,333.597 130.375,332.261 134.256,330.925 \n",
       "  138.137,329.589 142.017,328.252 145.898,326.916 149.779,325.58 153.66,324.244 157.54,322.908 161.421,321.571 165.302,320.235 169.183,318.899 173.063,317.563 \n",
       "  176.944,316.227 180.825,314.89 184.705,313.554 188.586,312.218 192.467,310.882 196.348,309.546 200.228,308.21 204.109,306.873 207.99,305.537 211.871,304.201 \n",
       "  215.751,302.865 219.632,301.529 223.513,300.192 227.394,298.856 231.274,297.52 235.155,296.184 239.036,294.848 242.916,293.512 246.797,292.175 250.678,290.839 \n",
       "  254.559,289.503 258.439,288.167 262.32,286.831 266.201,285.494 270.082,284.158 273.962,282.822 277.843,281.486 281.724,280.15 285.605,278.813 289.485,277.477 \n",
       "  293.366,276.141 297.247,274.805 301.127,273.469 305.008,272.133 308.889,270.796 312.77,269.46 316.65,268.124 320.531,266.788 324.412,265.452 328.293,264.115 \n",
       "  332.173,262.779 336.054,261.443 339.935,260.107 343.815,258.771 347.696,257.435 351.577,256.098 355.458,254.762 359.338,253.426 363.219,252.09 367.1,250.754 \n",
       "  370.981,249.417 374.861,248.081 378.742,246.745 382.623,245.409 386.504,244.073 390.384,242.736 394.265,241.4 398.146,240.064 402.026,238.728 405.907,237.392 \n",
       "  409.788,236.056 413.669,234.719 417.549,233.383 421.43,232.047 425.311,230.711 429.192,229.375 433.072,228.038 436.953,226.702 440.834,225.366 444.714,224.03 \n",
       "  448.595,222.694 452.476,221.357 456.357,220.021 460.237,218.685 464.118,217.349 467.999,216.013 471.88,214.677 475.76,213.34 479.641,212.004 483.522,210.668 \n",
       "  487.403,209.332 491.283,207.996 495.164,206.659 499.045,205.323 502.925,203.987 506.806,202.651 510.687,201.315 514.568,199.979 518.448,198.642 522.329,197.306 \n",
       "  526.21,195.97 530.091,194.634 533.971,193.298 537.852,191.961 541.733,190.625 545.613,189.289 549.494,187.953 553.375,186.617 557.256,185.28 561.136,183.944 \n",
       "  565.017,182.608 568.898,181.272 572.779,179.936 576.659,178.6 580.54,177.263 584.421,175.927 588.302,174.591 592.182,173.255 596.063,171.919 \n",
       "  \"/>\n",
       "<polygon clip-path=\"url(#clip00)\" points=\"\n",
       "431.13,104.741 578.063,104.741 578.063,44.2615 431.13,44.2615 \n",
       "  \" fill=\"#ffffff\" fill-opacity=\"1\"/>\n",
       "<polyline clip-path=\"url(#clip00)\" style=\"stroke:#00002d; stroke-width:0.8; stroke-opacity:1; fill:none\" points=\"\n",
       "  431.13,104.741 578.063,104.741 578.063,44.2615 431.13,44.2615 431.13,104.741 \n",
       "  \"/>\n",
       "<polyline clip-path=\"url(#clip00)\" style=\"stroke:#00002d; stroke-width:0.8; stroke-opacity:1; fill:none\" points=\"\n",
       "  437.13,59.3815 473.13,59.3815 \n",
       "  \"/>\n",
       "<g clip-path=\"url(#clip00)\">\n",
       "<text style=\"fill:#00002d; fill-opacity:1; font-family:Arial,Helvetica Neue,Helvetica,sans-serif; font-size:12; text-anchor:start;\" transform=\"rotate(0, 479.13, 63.8815)\" x=\"479.13\" y=\"63.8815\">fn1()</text>\n",
       "</g>\n",
       "<polyline clip-path=\"url(#clip00)\" style=\"stroke:#ff0000; stroke-width:3.2; stroke-opacity:1; fill:none\" stroke-dasharray=\"2, 3\" points=\"\n",
       "  437.13,74.5015 473.13,74.5015 \n",
       "  \"/>\n",
       "<g clip-path=\"url(#clip00)\">\n",
       "<text style=\"fill:#00002d; fill-opacity:1; font-family:Arial,Helvetica Neue,Helvetica,sans-serif; font-size:12; text-anchor:start;\" transform=\"rotate(0, 479.13, 79.0015)\" x=\"479.13\" y=\"79.0015\">crude derivative</text>\n",
       "</g>\n",
       "<polyline clip-path=\"url(#clip00)\" style=\"stroke:#0000ff; stroke-width:1.6; stroke-opacity:1; fill:none\" stroke-dasharray=\"8, 5\" points=\"\n",
       "  437.13,89.6215 473.13,89.6215 \n",
       "  \"/>\n",
       "<g clip-path=\"url(#clip00)\">\n",
       "<text style=\"fill:#00002d; fill-opacity:1; font-family:Arial,Helvetica Neue,Helvetica,sans-serif; font-size:12; text-anchor:start;\" transform=\"rotate(0, 479.13, 94.1215)\" x=\"479.13\" y=\"94.1215\">ForwardDiff pkg </text>\n",
       "</g>\n",
       "</svg>\n"
      ]
     },
     "execution_count": 10,
     "metadata": {},
     "output_type": "execute_result"
    }
   ],
   "source": [
    "plot(x,fn1.(x,0.5),color=:black,label=\"fn1()\")\n",
    "plot!(x,dydx_A,color=:red,line=(:dot,4),label=\"crude derivative\")\n",
    "plot!(x,dydx_B,color=:blue,line=(:dash,2),label=\"ForwardDiff pkg \")\n",
    "title!(\"fn1() and its derivative\")\n",
    "xlabel!(\"x\")\n",
    "ylabel!(\"\")"
   ]
  },
  {
   "cell_type": "markdown",
   "metadata": {
    "collapsed": true,
    "deletable": true,
    "editable": true
   },
   "source": [
    "## Comments on Using the ForwardDiff Package (extra)\n",
    "\n",
    "The ForwardDiff package applies an interesting approach to calculate derivatives, using a special number type (\"dual numbers\"). This means that your code must be able to handle such numbers. In most cases, that is not a problem, but you may have to watch out if you create arrays to store (intermediate?) results inside the function. See the examples below"
   ]
  },
  {
   "cell_type": "code",
   "execution_count": 11,
   "metadata": {
    "collapsed": false,
    "deletable": true,
    "editable": true
   },
   "outputs": [
    {
     "data": {
      "text/plain": [
       "fnDoesWork (generic function with 1 method)"
      ]
     },
     "execution_count": 11,
     "metadata": {},
     "output_type": "execute_result"
    }
   ],
   "source": [
    "function fnDoesNotWork(b,a)\n",
    "    z = zeros(length(b))              #will not work with ForwardDiff, since\n",
    "    for i = 1:length(z)               #z cannot store dual numbers\n",
    "        z[i] = b[i]*i\n",
    "    end    \n",
    "    return sum(z) + a\n",
    "end    \n",
    "\n",
    "function fnDoesWork(b,a)\n",
    "    z = zeros(eltype(b),length(b))   #will work with ForwardDiff, since\n",
    "    for i = 1:length(z)              #when b is a dual number, so is z \n",
    "        z[i] = b[i]*i\n",
    "    end    \n",
    "    return sum(z) + a\n",
    "end"
   ]
  },
  {
   "cell_type": "code",
   "execution_count": 13,
   "metadata": {
    "collapsed": false,
    "deletable": true,
    "editable": true
   },
   "outputs": [
    {
     "name": "stdout",
     "output_type": "stream",
     "text": [
      "using fnDoesWork(): [1.0,2.0]\n"
     ]
    }
   ],
   "source": [
    "b0 = [1.5;2]\n",
    "\n",
    "try\n",
    "    ForwardDiff.gradient(b->fnDoesNotWork(b,1),b0)\n",
    "    println(\"using fnDoesNotWork(): \",dydx)\n",
    "catch    \n",
    "    dydx = ForwardDiff.gradient(b->fnDoesWork(b,1),b0)\n",
    "    println(\"using fnDoesWork(): \",dydx)    \n",
    "end"
   ]
  },
  {
   "cell_type": "code",
   "execution_count": null,
   "metadata": {
    "collapsed": true,
    "deletable": true,
    "editable": true
   },
   "outputs": [],
   "source": []
  }
 ],
 "metadata": {
  "anaconda-cloud": {},
  "kernelspec": {
   "display_name": "Julia 0.5.2",
   "language": "julia",
   "name": "julia-0.5"
  },
  "language_info": {
   "file_extension": ".jl",
   "mimetype": "application/julia",
   "name": "julia",
   "version": "0.5.2"
  }
 },
 "nbformat": 4,
 "nbformat_minor": 0
}
