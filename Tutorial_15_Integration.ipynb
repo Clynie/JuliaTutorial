{
 "cells": [
  {
   "cell_type": "markdown",
   "metadata": {},
   "source": [
    "# Numerical Integration and Differentiation\n",
    "\n",
    "This notebook illustrates how to perform numerical integration and differentiation. \n",
    "\n",
    "There are several packages for doing this. Here, the focus is on QuadGK (https://github.com/JuliaMath/QuadGK.jl) and ForwardDiff (https://github.com/JuliaDiff/ForwardDiff.jl).\n",
    "\n",
    "While QuadGK relies on well established (\"standard\") ways of numerical integration, ForwardDiff uses a more novel approach. (Calculus.jl provides similar functionality, applying a more traditional methods.)"
   ]
  },
  {
   "cell_type": "markdown",
   "metadata": {},
   "source": [
    "## Load Packages"
   ]
  },
  {
   "cell_type": "code",
   "execution_count": 1,
   "metadata": {},
   "outputs": [
    {
     "data": {
      "text/plain": [
       "printmatDate"
      ]
     },
     "execution_count": 1,
     "metadata": {},
     "output_type": "execute_result"
    }
   ],
   "source": [
    "using QuadGK, ForwardDiff\n",
    "\n",
    "include(\"printmat.jl\")"
   ]
  },
  {
   "cell_type": "code",
   "execution_count": 2,
   "metadata": {},
   "outputs": [
    {
     "data": {
      "text/plain": [
       "Plots.GRBackend()"
      ]
     },
     "execution_count": 2,
     "metadata": {},
     "output_type": "execute_result"
    }
   ],
   "source": [
    "using Plots\n",
    "\n",
    "backend = \"gr\"              #\"gr\" (default), \"pyplot\" \n",
    "\n",
    "if backend == \"pyplot\"\n",
    "    pyplot(size=(600,400))\n",
    "else    \n",
    "    gr(size=(600,400))\n",
    "end"
   ]
  },
  {
   "cell_type": "markdown",
   "metadata": {},
   "source": [
    "# Numerical Integration"
   ]
  },
  {
   "cell_type": "markdown",
   "metadata": {},
   "source": [
    "## The Pdf of the N(μ,σ²) Distribution "
   ]
  },
  {
   "cell_type": "code",
   "execution_count": 3,
   "metadata": {},
   "outputs": [
    {
     "data": {
      "text/plain": [
       "ϕNS (generic function with 3 methods)"
      ]
     },
     "execution_count": 3,
     "metadata": {},
     "output_type": "execute_result"
    }
   ],
   "source": [
    "function ϕNS(x,μ=0,σ²=1)       #pdf of N(μ,σ²), NS for non-standard\n",
    "    σ = sqrt(σ²)\n",
    "    z = (x - μ)/σ\n",
    "    pdf = exp(-0.5*z^2)/(sqrt(2*pi)*σ)    \n",
    "    return pdf\n",
    "end"
   ]
  },
  {
   "cell_type": "code",
   "execution_count": 4,
   "metadata": {},
   "outputs": [
    {
     "data": {
      "text/html": [
       "<?xml version=\"1.0\" encoding=\"utf-8\"?>\n",
       "<svg xmlns=\"http://www.w3.org/2000/svg\" xmlns:xlink=\"http://www.w3.org/1999/xlink\" width=\"600\" height=\"400\" viewBox=\"0 0 600 400\">\n",
       "<defs>\n",
       "  <clipPath id=\"clip00\">\n",
       "    <rect x=\"0\" y=\"0\" width=\"600\" height=\"400\"/>\n",
       "  </clipPath>\n",
       "</defs>\n",
       "<polygon clip-path=\"url(#clip00)\" points=\"\n",
       "0,400 600,400 600,0 0,0 \n",
       "  \" fill=\"#ffffff\" fill-opacity=\"1\"/>\n",
       "<defs>\n",
       "  <clipPath id=\"clip01\">\n",
       "    <rect x=\"120\" y=\"0\" width=\"421\" height=\"400\"/>\n",
       "  </clipPath>\n",
       "</defs>\n",
       "<polygon clip-path=\"url(#clip00)\" points=\"\n",
       "32.2221,360.065 580.315,360.065 580.315,31.4961 32.2221,31.4961 \n",
       "  \" fill=\"#ffffff\" fill-opacity=\"1\"/>\n",
       "<defs>\n",
       "  <clipPath id=\"clip02\">\n",
       "    <rect x=\"32\" y=\"31\" width=\"549\" height=\"330\"/>\n",
       "  </clipPath>\n",
       "</defs>\n",
       "<polyline clip-path=\"url(#clip02)\" style=\"stroke:#000000; stroke-width:0.5; stroke-opacity:0.1; fill:none\" points=\"\n",
       "  32.2221,360.065 32.2221,31.4961 \n",
       "  \"/>\n",
       "<polyline clip-path=\"url(#clip02)\" style=\"stroke:#000000; stroke-width:0.5; stroke-opacity:0.1; fill:none\" points=\"\n",
       "  123.571,360.065 123.571,31.4961 \n",
       "  \"/>\n",
       "<polyline clip-path=\"url(#clip02)\" style=\"stroke:#000000; stroke-width:0.5; stroke-opacity:0.1; fill:none\" points=\"\n",
       "  214.92,360.065 214.92,31.4961 \n",
       "  \"/>\n",
       "<polyline clip-path=\"url(#clip02)\" style=\"stroke:#000000; stroke-width:0.5; stroke-opacity:0.1; fill:none\" points=\"\n",
       "  306.269,360.065 306.269,31.4961 \n",
       "  \"/>\n",
       "<polyline clip-path=\"url(#clip02)\" style=\"stroke:#000000; stroke-width:0.5; stroke-opacity:0.1; fill:none\" points=\"\n",
       "  397.617,360.065 397.617,31.4961 \n",
       "  \"/>\n",
       "<polyline clip-path=\"url(#clip02)\" style=\"stroke:#000000; stroke-width:0.5; stroke-opacity:0.1; fill:none\" points=\"\n",
       "  488.966,360.065 488.966,31.4961 \n",
       "  \"/>\n",
       "<polyline clip-path=\"url(#clip02)\" style=\"stroke:#000000; stroke-width:0.5; stroke-opacity:0.1; fill:none\" points=\"\n",
       "  580.315,360.065 580.315,31.4961 \n",
       "  \"/>\n",
       "<polyline clip-path=\"url(#clip02)\" style=\"stroke:#000000; stroke-width:0.5; stroke-opacity:0.1; fill:none\" points=\"\n",
       "  32.2221,360.065 580.315,360.065 \n",
       "  \"/>\n",
       "<polyline clip-path=\"url(#clip02)\" style=\"stroke:#000000; stroke-width:0.5; stroke-opacity:0.1; fill:none\" points=\"\n",
       "  32.2221,277.705 580.315,277.705 \n",
       "  \"/>\n",
       "<polyline clip-path=\"url(#clip02)\" style=\"stroke:#000000; stroke-width:0.5; stroke-opacity:0.1; fill:none\" points=\"\n",
       "  32.2221,195.345 580.315,195.345 \n",
       "  \"/>\n",
       "<polyline clip-path=\"url(#clip02)\" style=\"stroke:#000000; stroke-width:0.5; stroke-opacity:0.1; fill:none\" points=\"\n",
       "  32.2221,112.985 580.315,112.985 \n",
       "  \"/>\n",
       "<polyline clip-path=\"url(#clip00)\" style=\"stroke:#000000; stroke-width:1; stroke-opacity:1; fill:none\" points=\"\n",
       "  32.2221,360.065 580.315,360.065 \n",
       "  \"/>\n",
       "<polyline clip-path=\"url(#clip00)\" style=\"stroke:#000000; stroke-width:1; stroke-opacity:1; fill:none\" points=\"\n",
       "  32.2221,360.065 32.2221,31.4961 \n",
       "  \"/>\n",
       "<polyline clip-path=\"url(#clip00)\" style=\"stroke:#000000; stroke-width:1; stroke-opacity:1; fill:none\" points=\"\n",
       "  32.2221,360.065 32.2221,355.137 \n",
       "  \"/>\n",
       "<polyline clip-path=\"url(#clip00)\" style=\"stroke:#000000; stroke-width:1; stroke-opacity:1; fill:none\" points=\"\n",
       "  123.571,360.065 123.571,355.137 \n",
       "  \"/>\n",
       "<polyline clip-path=\"url(#clip00)\" style=\"stroke:#000000; stroke-width:1; stroke-opacity:1; fill:none\" points=\"\n",
       "  214.92,360.065 214.92,355.137 \n",
       "  \"/>\n",
       "<polyline clip-path=\"url(#clip00)\" style=\"stroke:#000000; stroke-width:1; stroke-opacity:1; fill:none\" points=\"\n",
       "  306.269,360.065 306.269,355.137 \n",
       "  \"/>\n",
       "<polyline clip-path=\"url(#clip00)\" style=\"stroke:#000000; stroke-width:1; stroke-opacity:1; fill:none\" points=\"\n",
       "  397.617,360.065 397.617,355.137 \n",
       "  \"/>\n",
       "<polyline clip-path=\"url(#clip00)\" style=\"stroke:#000000; stroke-width:1; stroke-opacity:1; fill:none\" points=\"\n",
       "  488.966,360.065 488.966,355.137 \n",
       "  \"/>\n",
       "<polyline clip-path=\"url(#clip00)\" style=\"stroke:#000000; stroke-width:1; stroke-opacity:1; fill:none\" points=\"\n",
       "  580.315,360.065 580.315,355.137 \n",
       "  \"/>\n",
       "<polyline clip-path=\"url(#clip00)\" style=\"stroke:#000000; stroke-width:1; stroke-opacity:1; fill:none\" points=\"\n",
       "  32.2221,360.065 40.4435,360.065 \n",
       "  \"/>\n",
       "<polyline clip-path=\"url(#clip00)\" style=\"stroke:#000000; stroke-width:1; stroke-opacity:1; fill:none\" points=\"\n",
       "  32.2221,277.705 40.4435,277.705 \n",
       "  \"/>\n",
       "<polyline clip-path=\"url(#clip00)\" style=\"stroke:#000000; stroke-width:1; stroke-opacity:1; fill:none\" points=\"\n",
       "  32.2221,195.345 40.4435,195.345 \n",
       "  \"/>\n",
       "<polyline clip-path=\"url(#clip00)\" style=\"stroke:#000000; stroke-width:1; stroke-opacity:1; fill:none\" points=\"\n",
       "  32.2221,112.985 40.4435,112.985 \n",
       "  \"/>\n",
       "<g clip-path=\"url(#clip00)\">\n",
       "<text style=\"fill:#000000; fill-opacity:1; font-family:Arial,Helvetica Neue,Helvetica,sans-serif; font-size:12; text-anchor:middle;\" transform=\"rotate(0, 32.2221, 373.865)\" x=\"32.2221\" y=\"373.865\">-3</text>\n",
       "</g>\n",
       "<g clip-path=\"url(#clip00)\">\n",
       "<text style=\"fill:#000000; fill-opacity:1; font-family:Arial,Helvetica Neue,Helvetica,sans-serif; font-size:12; text-anchor:middle;\" transform=\"rotate(0, 123.571, 373.865)\" x=\"123.571\" y=\"373.865\">-2</text>\n",
       "</g>\n",
       "<g clip-path=\"url(#clip00)\">\n",
       "<text style=\"fill:#000000; fill-opacity:1; font-family:Arial,Helvetica Neue,Helvetica,sans-serif; font-size:12; text-anchor:middle;\" transform=\"rotate(0, 214.92, 373.865)\" x=\"214.92\" y=\"373.865\">-1</text>\n",
       "</g>\n",
       "<g clip-path=\"url(#clip00)\">\n",
       "<text style=\"fill:#000000; fill-opacity:1; font-family:Arial,Helvetica Neue,Helvetica,sans-serif; font-size:12; text-anchor:middle;\" transform=\"rotate(0, 306.269, 373.865)\" x=\"306.269\" y=\"373.865\">0</text>\n",
       "</g>\n",
       "<g clip-path=\"url(#clip00)\">\n",
       "<text style=\"fill:#000000; fill-opacity:1; font-family:Arial,Helvetica Neue,Helvetica,sans-serif; font-size:12; text-anchor:middle;\" transform=\"rotate(0, 397.617, 373.865)\" x=\"397.617\" y=\"373.865\">1</text>\n",
       "</g>\n",
       "<g clip-path=\"url(#clip00)\">\n",
       "<text style=\"fill:#000000; fill-opacity:1; font-family:Arial,Helvetica Neue,Helvetica,sans-serif; font-size:12; text-anchor:middle;\" transform=\"rotate(0, 488.966, 373.865)\" x=\"488.966\" y=\"373.865\">2</text>\n",
       "</g>\n",
       "<g clip-path=\"url(#clip00)\">\n",
       "<text style=\"fill:#000000; fill-opacity:1; font-family:Arial,Helvetica Neue,Helvetica,sans-serif; font-size:12; text-anchor:middle;\" transform=\"rotate(0, 580.315, 373.865)\" x=\"580.315\" y=\"373.865\">3</text>\n",
       "</g>\n",
       "<g clip-path=\"url(#clip00)\">\n",
       "<text style=\"fill:#000000; fill-opacity:1; font-family:Arial,Helvetica Neue,Helvetica,sans-serif; font-size:12; text-anchor:end;\" transform=\"rotate(0, 26.2221, 364.565)\" x=\"26.2221\" y=\"364.565\">0.0</text>\n",
       "</g>\n",
       "<g clip-path=\"url(#clip00)\">\n",
       "<text style=\"fill:#000000; fill-opacity:1; font-family:Arial,Helvetica Neue,Helvetica,sans-serif; font-size:12; text-anchor:end;\" transform=\"rotate(0, 26.2221, 282.205)\" x=\"26.2221\" y=\"282.205\">0.1</text>\n",
       "</g>\n",
       "<g clip-path=\"url(#clip00)\">\n",
       "<text style=\"fill:#000000; fill-opacity:1; font-family:Arial,Helvetica Neue,Helvetica,sans-serif; font-size:12; text-anchor:end;\" transform=\"rotate(0, 26.2221, 199.845)\" x=\"26.2221\" y=\"199.845\">0.2</text>\n",
       "</g>\n",
       "<g clip-path=\"url(#clip00)\">\n",
       "<text style=\"fill:#000000; fill-opacity:1; font-family:Arial,Helvetica Neue,Helvetica,sans-serif; font-size:12; text-anchor:end;\" transform=\"rotate(0, 26.2221, 117.485)\" x=\"26.2221\" y=\"117.485\">0.3</text>\n",
       "</g>\n",
       "<g clip-path=\"url(#clip00)\">\n",
       "<text style=\"fill:#000000; fill-opacity:1; font-family:Arial,Helvetica Neue,Helvetica,sans-serif; font-size:21; text-anchor:middle;\" transform=\"rotate(0, 306.269, 18)\" x=\"306.269\" y=\"18\">pdf of N(0,1)</text>\n",
       "</g>\n",
       "<g clip-path=\"url(#clip00)\">\n",
       "<text style=\"fill:#000000; fill-opacity:1; font-family:Arial,Helvetica Neue,Helvetica,sans-serif; font-size:16; text-anchor:middle;\" transform=\"rotate(0, 306.269, 397.6)\" x=\"306.269\" y=\"397.6\">x</text>\n",
       "</g>\n",
       "<polyline clip-path=\"url(#clip02)\" style=\"stroke:#ff0000; stroke-width:2; stroke-opacity:1; fill:none\" points=\"\n",
       "  32.2221,356.415 41.357,355.163 50.4919,353.546 59.6267,351.483 68.7616,348.878 77.8965,345.629 87.0314,341.621 96.1663,336.735 105.301,330.848 114.436,323.84 \n",
       "  123.571,315.598 132.706,306.024 141.841,295.042 150.976,282.606 160.11,268.711 169.245,253.395 178.38,236.75 187.515,218.926 196.65,200.134 205.785,180.642 \n",
       "  214.92,160.778 224.055,140.917 233.189,121.475 242.324,102.893 251.459,85.6212 260.594,70.104 269.729,56.7577 278.864,45.9539 287.999,38.0022 297.134,33.1348 \n",
       "  306.269,31.4961 315.403,33.1348 324.538,38.0022 333.673,45.9539 342.808,56.7577 351.943,70.104 361.078,85.6212 370.213,102.893 379.348,121.475 388.482,140.917 \n",
       "  397.617,160.778 406.752,180.642 415.887,200.134 425.022,218.926 434.157,236.75 443.292,253.395 452.427,268.711 461.562,282.606 470.696,295.042 479.831,306.024 \n",
       "  488.966,315.598 498.101,323.84 507.236,330.848 516.371,336.735 525.506,341.621 534.641,345.629 543.775,348.878 552.91,351.483 562.045,353.546 571.18,355.163 \n",
       "  580.315,356.415 \n",
       "  \"/>\n",
       "<polygon clip-path=\"url(#clip02)\" points=\"\n",
       "32.2221,356.415 41.357,355.163 50.4919,353.546 59.6267,351.483 68.7616,348.878 77.8965,345.629 87.0314,341.621 96.1663,336.735 105.301,330.848 114.436,323.84 \n",
       "  123.571,315.598 132.706,306.024 141.841,295.042 150.976,282.606 160.11,268.711 169.245,253.395 178.38,236.75 187.515,218.926 196.65,200.134 205.785,180.642 \n",
       "  214.92,160.778 224.055,140.917 233.189,121.475 242.324,102.893 251.459,85.6212 260.594,70.104 269.729,56.7577 278.864,45.9539 287.999,38.0022 297.134,33.1348 \n",
       "  306.269,31.4961 315.403,33.1348 324.538,38.0022 333.673,45.9539 342.808,56.7577 351.943,70.104 361.078,85.6212 370.213,102.893 379.348,121.475 388.482,140.917 \n",
       "  397.617,160.778 406.752,180.642 415.887,200.134 425.022,218.926 434.157,236.75 443.292,253.395 452.427,268.711 452.427,360.065 443.292,360.065 434.157,360.065 \n",
       "  425.022,360.065 415.887,360.065 406.752,360.065 397.617,360.065 388.482,360.065 379.348,360.065 370.213,360.065 361.078,360.065 351.943,360.065 342.808,360.065 \n",
       "  333.673,360.065 324.538,360.065 315.403,360.065 306.269,360.065 297.134,360.065 287.999,360.065 278.864,360.065 269.729,360.065 260.594,360.065 251.459,360.065 \n",
       "  242.324,360.065 233.189,360.065 224.055,360.065 214.92,360.065 205.785,360.065 196.65,360.065 187.515,360.065 178.38,360.065 169.245,360.065 160.11,360.065 \n",
       "  150.976,360.065 141.841,360.065 132.706,360.065 123.571,360.065 114.436,360.065 105.301,360.065 96.1663,360.065 87.0314,360.065 77.8965,360.065 68.7616,360.065 \n",
       "  59.6267,360.065 50.4919,360.065 41.357,360.065 32.2221,360.065 \n",
       "  \" fill=\"#ff0000\" fill-opacity=\"1\"/>\n",
       "<polyline clip-path=\"url(#clip02)\" style=\"stroke:#ff0000; stroke-width:2; stroke-opacity:1; fill:none\" points=\"\n",
       "  32.2221,356.415 41.357,355.163 50.4919,353.546 59.6267,351.483 68.7616,348.878 77.8965,345.629 87.0314,341.621 96.1663,336.735 105.301,330.848 114.436,323.84 \n",
       "  123.571,315.598 132.706,306.024 141.841,295.042 150.976,282.606 160.11,268.711 169.245,253.395 178.38,236.75 187.515,218.926 196.65,200.134 205.785,180.642 \n",
       "  214.92,160.778 224.055,140.917 233.189,121.475 242.324,102.893 251.459,85.6212 260.594,70.104 269.729,56.7577 278.864,45.9539 287.999,38.0022 297.134,33.1348 \n",
       "  306.269,31.4961 315.403,33.1348 324.538,38.0022 333.673,45.9539 342.808,56.7577 351.943,70.104 361.078,85.6212 370.213,102.893 379.348,121.475 388.482,140.917 \n",
       "  397.617,160.778 406.752,180.642 415.887,200.134 425.022,218.926 434.157,236.75 443.292,253.395 452.427,268.711 \n",
       "  \"/>\n",
       "<g clip-path=\"url(#clip00)\">\n",
       "<text style=\"fill:#000000; fill-opacity:1; font-family:Arial,Helvetica Neue,Helvetica,sans-serif; font-size:21; text-anchor:middle;\" transform=\"rotate(0, 466.129, 150.325)\" x=\"466.129\" y=\"150.325\">the area covers</text>\n",
       "</g>\n",
       "<g clip-path=\"url(#clip00)\">\n",
       "<text style=\"fill:#000000; fill-opacity:1; font-family:Arial,Helvetica Neue,Helvetica,sans-serif; font-size:21; text-anchor:middle;\" transform=\"rotate(0, 466.129, 173.005)\" x=\"466.129\" y=\"173.005\"> up to x=1.645</text>\n",
       "</g>\n",
       "</svg>\n"
      ]
     },
     "execution_count": 4,
     "metadata": {},
     "output_type": "execute_result"
    }
   ],
   "source": [
    "x  = -3:0.1:3\n",
    "xb = x[x.<=1.645]\n",
    "\n",
    "plot1 = plot(x,ϕNS.(x),color=:red,linewidth=2,legend=nothing)\n",
    "plot!(xb,ϕNS.(xb),color=:red,linewidth=2,legend=nothing,fill=(0,:red))\n",
    "title!(\"pdf of N(0,1)\")\n",
    "xlabel!(\"x\")\n",
    "ylabel!(\"\")\n",
    "annotate!(1.75,0.25,\"the area covers\\n up to x=1.645\")"
   ]
  },
  {
   "cell_type": "markdown",
   "metadata": {},
   "source": [
    "## Calculating Prob(x<=1.645)"
   ]
  },
  {
   "cell_type": "code",
   "execution_count": 5,
   "metadata": {},
   "outputs": [
    {
     "name": "stdout",
     "output_type": "stream",
     "text": [
      "\n",
      "Pr(x<=1.64) according to N(0,1): 0.95\n",
      "\n",
      "...yes, there is a smarter way to do this calculations, but it's still a good illustration\n"
     ]
    }
   ],
   "source": [
    "cdf164, = QuadGK.quadgk(x->ϕNS(x),-Inf,1.645)\n",
    "printlnPs(\"\\nPr(x<=1.64) according to N(0,1): $(round(cdf164,3))\")\n",
    "\n",
    "printlnPs(\"\\n...yes, there is a smarter way to do this calculations, but it's still a good illustration\")"
   ]
  },
  {
   "cell_type": "markdown",
   "metadata": {
    "collapsed": true
   },
   "source": [
    "# Numerical Derivatives\n",
    "\n",
    "Numerical derivatives can be calculated by a crude finite difference (see NumDer() below) or the much more sophisticated routines in the ForwardDiff.jl package. \n",
    "\n",
    "The function you want to differentiate must typically have only one argument (even if it is a vector). To turn a multi-argument function fn1(x,a) into a one-argument function transform it to an anonymous function by\n",
    "\n",
    "```\n",
    "x->fn1(x,a),\n",
    "```\n",
    "assuming that ```a``` has a value already. We can now differentiate wrt. ```x```."
   ]
  },
  {
   "cell_type": "code",
   "execution_count": 6,
   "metadata": {},
   "outputs": [
    {
     "data": {
      "text/plain": [
       "NumDer (generic function with 1 method)"
      ]
     },
     "execution_count": 6,
     "metadata": {},
     "output_type": "execute_result"
    }
   ],
   "source": [
    "function NumDer(fun,b0,h)           #crude function for a centered numerical derivative\n",
    "    bminus = b0 .- h\n",
    "    bplus  = b0 .+ h\n",
    "    hh     = bplus - bminus\n",
    "    fplus  = fun(bplus)\n",
    "    fminus = fun(bminus)\n",
    "    D      = (fplus-fminus)/hh\n",
    "    return D\n",
    "end"
   ]
  },
  {
   "cell_type": "code",
   "execution_count": 7,
   "metadata": {},
   "outputs": [
    {
     "data": {
      "text/plain": [
       "fn1 (generic function with 1 method)"
      ]
     },
     "execution_count": 7,
     "metadata": {},
     "output_type": "execute_result"
    }
   ],
   "source": [
    "function fn1(x,a)                 #a simple function, to be differentiated\n",
    "   return (x - 1.1)^2 - a                \n",
    "end"
   ]
  },
  {
   "cell_type": "code",
   "execution_count": 8,
   "metadata": {},
   "outputs": [
    {
     "name": "stdout",
     "output_type": "stream",
     "text": [
      "The derivative at x=2 is (from two different methods): \n",
      "     1.800     1.800\n",
      "\n"
     ]
    }
   ],
   "source": [
    "x0 = 2\n",
    "\n",
    "dydx_A = NumDer(x->fn1(x,0.5),x0,0.01)           #differentiate fn1(x,0.5) at x = x0\n",
    "dydx_B = ForwardDiff.derivative(x->fn1(x,0.5),x0)\n",
    "\n",
    "println(\"The derivative at x=$x0 is (from two different methods): \")\n",
    "printmat([dydx_A dydx_B])"
   ]
  },
  {
   "cell_type": "code",
   "execution_count": 9,
   "metadata": {},
   "outputs": [
    {
     "name": "stdout",
     "output_type": "stream",
     "text": [
      "now lets plot this\n"
     ]
    }
   ],
   "source": [
    "x = -3:6/99:6          #calculate the derivative at many points\n",
    "\n",
    "dydx_A = [NumDer(x->fn1(x,0.5),x[i],0.01) for i=1:length(x)]        \n",
    "\n",
    "dydx_B = [ForwardDiff.derivative(x->fn1(x,0.5),x[i]) for i=1:length(x)]\n",
    "\n",
    "println(\"now lets plot this\")"
   ]
  },
  {
   "cell_type": "code",
   "execution_count": 10,
   "metadata": {},
   "outputs": [
    {
     "data": {
      "text/html": [
       "<?xml version=\"1.0\" encoding=\"utf-8\"?>\n",
       "<svg xmlns=\"http://www.w3.org/2000/svg\" xmlns:xlink=\"http://www.w3.org/1999/xlink\" width=\"600\" height=\"400\" viewBox=\"0 0 600 400\">\n",
       "<defs>\n",
       "  <clipPath id=\"clip00\">\n",
       "    <rect x=\"0\" y=\"0\" width=\"600\" height=\"400\"/>\n",
       "  </clipPath>\n",
       "</defs>\n",
       "<polygon clip-path=\"url(#clip00)\" points=\"\n",
       "0,400 600,400 600,0 0,0 \n",
       "  \" fill=\"#ffffff\" fill-opacity=\"1\"/>\n",
       "<defs>\n",
       "  <clipPath id=\"clip01\">\n",
       "    <rect x=\"120\" y=\"0\" width=\"421\" height=\"400\"/>\n",
       "  </clipPath>\n",
       "</defs>\n",
       "<polygon clip-path=\"url(#clip00)\" points=\"\n",
       "29.2591,360.065 580.315,360.065 580.315,31.4961 29.2591,31.4961 \n",
       "  \" fill=\"#ffffff\" fill-opacity=\"1\"/>\n",
       "<defs>\n",
       "  <clipPath id=\"clip02\">\n",
       "    <rect x=\"29\" y=\"31\" width=\"552\" height=\"330\"/>\n",
       "  </clipPath>\n",
       "</defs>\n",
       "<polyline clip-path=\"url(#clip02)\" style=\"stroke:#000000; stroke-width:0.5; stroke-opacity:0.1; fill:none\" points=\"\n",
       "  90.6944,360.065 90.6944,31.4961 \n",
       "  \"/>\n",
       "<polyline clip-path=\"url(#clip02)\" style=\"stroke:#000000; stroke-width:0.5; stroke-opacity:0.1; fill:none\" points=\"\n",
       "  213.565,360.065 213.565,31.4961 \n",
       "  \"/>\n",
       "<polyline clip-path=\"url(#clip02)\" style=\"stroke:#000000; stroke-width:0.5; stroke-opacity:0.1; fill:none\" points=\"\n",
       "  336.436,360.065 336.436,31.4961 \n",
       "  \"/>\n",
       "<polyline clip-path=\"url(#clip02)\" style=\"stroke:#000000; stroke-width:0.5; stroke-opacity:0.1; fill:none\" points=\"\n",
       "  459.306,360.065 459.306,31.4961 \n",
       "  \"/>\n",
       "<polyline clip-path=\"url(#clip02)\" style=\"stroke:#000000; stroke-width:0.5; stroke-opacity:0.1; fill:none\" points=\"\n",
       "  29.2591,326.596 580.315,326.596 \n",
       "  \"/>\n",
       "<polyline clip-path=\"url(#clip02)\" style=\"stroke:#000000; stroke-width:0.5; stroke-opacity:0.1; fill:none\" points=\"\n",
       "  29.2591,274.299 580.315,274.299 \n",
       "  \"/>\n",
       "<polyline clip-path=\"url(#clip02)\" style=\"stroke:#000000; stroke-width:0.5; stroke-opacity:0.1; fill:none\" points=\"\n",
       "  29.2591,222.002 580.315,222.002 \n",
       "  \"/>\n",
       "<polyline clip-path=\"url(#clip02)\" style=\"stroke:#000000; stroke-width:0.5; stroke-opacity:0.1; fill:none\" points=\"\n",
       "  29.2591,169.705 580.315,169.705 \n",
       "  \"/>\n",
       "<polyline clip-path=\"url(#clip02)\" style=\"stroke:#000000; stroke-width:0.5; stroke-opacity:0.1; fill:none\" points=\"\n",
       "  29.2591,117.409 580.315,117.409 \n",
       "  \"/>\n",
       "<polyline clip-path=\"url(#clip02)\" style=\"stroke:#000000; stroke-width:0.5; stroke-opacity:0.1; fill:none\" points=\"\n",
       "  29.2591,65.1119 580.315,65.1119 \n",
       "  \"/>\n",
       "<polyline clip-path=\"url(#clip00)\" style=\"stroke:#000000; stroke-width:1; stroke-opacity:1; fill:none\" points=\"\n",
       "  29.2591,360.065 580.315,360.065 \n",
       "  \"/>\n",
       "<polyline clip-path=\"url(#clip00)\" style=\"stroke:#000000; stroke-width:1; stroke-opacity:1; fill:none\" points=\"\n",
       "  29.2591,360.065 29.2591,31.4961 \n",
       "  \"/>\n",
       "<polyline clip-path=\"url(#clip00)\" style=\"stroke:#000000; stroke-width:1; stroke-opacity:1; fill:none\" points=\"\n",
       "  90.6944,360.065 90.6944,355.137 \n",
       "  \"/>\n",
       "<polyline clip-path=\"url(#clip00)\" style=\"stroke:#000000; stroke-width:1; stroke-opacity:1; fill:none\" points=\"\n",
       "  213.565,360.065 213.565,355.137 \n",
       "  \"/>\n",
       "<polyline clip-path=\"url(#clip00)\" style=\"stroke:#000000; stroke-width:1; stroke-opacity:1; fill:none\" points=\"\n",
       "  336.436,360.065 336.436,355.137 \n",
       "  \"/>\n",
       "<polyline clip-path=\"url(#clip00)\" style=\"stroke:#000000; stroke-width:1; stroke-opacity:1; fill:none\" points=\"\n",
       "  459.306,360.065 459.306,355.137 \n",
       "  \"/>\n",
       "<polyline clip-path=\"url(#clip00)\" style=\"stroke:#000000; stroke-width:1; stroke-opacity:1; fill:none\" points=\"\n",
       "  29.2591,326.596 37.525,326.596 \n",
       "  \"/>\n",
       "<polyline clip-path=\"url(#clip00)\" style=\"stroke:#000000; stroke-width:1; stroke-opacity:1; fill:none\" points=\"\n",
       "  29.2591,274.299 37.525,274.299 \n",
       "  \"/>\n",
       "<polyline clip-path=\"url(#clip00)\" style=\"stroke:#000000; stroke-width:1; stroke-opacity:1; fill:none\" points=\"\n",
       "  29.2591,222.002 37.525,222.002 \n",
       "  \"/>\n",
       "<polyline clip-path=\"url(#clip00)\" style=\"stroke:#000000; stroke-width:1; stroke-opacity:1; fill:none\" points=\"\n",
       "  29.2591,169.705 37.525,169.705 \n",
       "  \"/>\n",
       "<polyline clip-path=\"url(#clip00)\" style=\"stroke:#000000; stroke-width:1; stroke-opacity:1; fill:none\" points=\"\n",
       "  29.2591,117.409 37.525,117.409 \n",
       "  \"/>\n",
       "<polyline clip-path=\"url(#clip00)\" style=\"stroke:#000000; stroke-width:1; stroke-opacity:1; fill:none\" points=\"\n",
       "  29.2591,65.1119 37.525,65.1119 \n",
       "  \"/>\n",
       "<g clip-path=\"url(#clip00)\">\n",
       "<text style=\"fill:#000000; fill-opacity:1; font-family:Arial,Helvetica Neue,Helvetica,sans-serif; font-size:12; text-anchor:middle;\" transform=\"rotate(0, 90.6944, 373.865)\" x=\"90.6944\" y=\"373.865\">-2</text>\n",
       "</g>\n",
       "<g clip-path=\"url(#clip00)\">\n",
       "<text style=\"fill:#000000; fill-opacity:1; font-family:Arial,Helvetica Neue,Helvetica,sans-serif; font-size:12; text-anchor:middle;\" transform=\"rotate(0, 213.565, 373.865)\" x=\"213.565\" y=\"373.865\">0</text>\n",
       "</g>\n",
       "<g clip-path=\"url(#clip00)\">\n",
       "<text style=\"fill:#000000; fill-opacity:1; font-family:Arial,Helvetica Neue,Helvetica,sans-serif; font-size:12; text-anchor:middle;\" transform=\"rotate(0, 336.436, 373.865)\" x=\"336.436\" y=\"373.865\">2</text>\n",
       "</g>\n",
       "<g clip-path=\"url(#clip00)\">\n",
       "<text style=\"fill:#000000; fill-opacity:1; font-family:Arial,Helvetica Neue,Helvetica,sans-serif; font-size:12; text-anchor:middle;\" transform=\"rotate(0, 459.306, 373.865)\" x=\"459.306\" y=\"373.865\">4</text>\n",
       "</g>\n",
       "<g clip-path=\"url(#clip00)\">\n",
       "<text style=\"fill:#000000; fill-opacity:1; font-family:Arial,Helvetica Neue,Helvetica,sans-serif; font-size:12; text-anchor:end;\" transform=\"rotate(0, 23.2591, 331.096)\" x=\"23.2591\" y=\"331.096\">-5</text>\n",
       "</g>\n",
       "<g clip-path=\"url(#clip00)\">\n",
       "<text style=\"fill:#000000; fill-opacity:1; font-family:Arial,Helvetica Neue,Helvetica,sans-serif; font-size:12; text-anchor:end;\" transform=\"rotate(0, 23.2591, 278.799)\" x=\"23.2591\" y=\"278.799\">0</text>\n",
       "</g>\n",
       "<g clip-path=\"url(#clip00)\">\n",
       "<text style=\"fill:#000000; fill-opacity:1; font-family:Arial,Helvetica Neue,Helvetica,sans-serif; font-size:12; text-anchor:end;\" transform=\"rotate(0, 23.2591, 226.502)\" x=\"23.2591\" y=\"226.502\">5</text>\n",
       "</g>\n",
       "<g clip-path=\"url(#clip00)\">\n",
       "<text style=\"fill:#000000; fill-opacity:1; font-family:Arial,Helvetica Neue,Helvetica,sans-serif; font-size:12; text-anchor:end;\" transform=\"rotate(0, 23.2591, 174.205)\" x=\"23.2591\" y=\"174.205\">10</text>\n",
       "</g>\n",
       "<g clip-path=\"url(#clip00)\">\n",
       "<text style=\"fill:#000000; fill-opacity:1; font-family:Arial,Helvetica Neue,Helvetica,sans-serif; font-size:12; text-anchor:end;\" transform=\"rotate(0, 23.2591, 121.909)\" x=\"23.2591\" y=\"121.909\">15</text>\n",
       "</g>\n",
       "<g clip-path=\"url(#clip00)\">\n",
       "<text style=\"fill:#000000; fill-opacity:1; font-family:Arial,Helvetica Neue,Helvetica,sans-serif; font-size:12; text-anchor:end;\" transform=\"rotate(0, 23.2591, 69.6119)\" x=\"23.2591\" y=\"69.6119\">20</text>\n",
       "</g>\n",
       "<g clip-path=\"url(#clip00)\">\n",
       "<text style=\"fill:#000000; fill-opacity:1; font-family:Arial,Helvetica Neue,Helvetica,sans-serif; font-size:21; text-anchor:middle;\" transform=\"rotate(0, 304.787, 18)\" x=\"304.787\" y=\"18\">fn1() and its derivative</text>\n",
       "</g>\n",
       "<g clip-path=\"url(#clip00)\">\n",
       "<text style=\"fill:#000000; fill-opacity:1; font-family:Arial,Helvetica Neue,Helvetica,sans-serif; font-size:16; text-anchor:middle;\" transform=\"rotate(0, 304.787, 397.6)\" x=\"304.787\" y=\"397.6\">x</text>\n",
       "</g>\n",
       "<polyline clip-path=\"url(#clip02)\" style=\"stroke:#000000; stroke-width:1; stroke-opacity:1; fill:none\" points=\"\n",
       "  29.2591,103.707 32.9825,108.866 36.7058,113.949 40.4292,118.955 44.1525,123.884 47.8759,128.736 51.5992,133.512 55.3226,138.21 59.0459,142.832 62.7693,147.377 \n",
       "  66.4926,151.845 70.216,156.236 73.9393,160.55 77.6627,164.788 81.386,168.949 85.1094,173.032 88.8327,177.039 92.5561,180.97 96.2794,184.823 100.003,188.599 \n",
       "  103.726,192.299 107.449,195.922 111.173,199.468 114.896,202.937 118.62,206.329 122.343,209.645 126.066,212.884 129.79,216.045 133.513,219.13 137.236,222.139 \n",
       "  140.96,225.07 144.683,227.924 148.406,230.702 152.13,233.403 155.853,236.027 159.576,238.574 163.3,241.044 167.023,243.438 170.746,245.754 174.47,247.994 \n",
       "  178.193,250.157 181.916,252.243 185.64,254.252 189.363,256.185 193.087,258.04 196.81,259.819 200.533,261.521 204.257,263.146 207.98,264.694 211.703,266.166 \n",
       "  215.427,267.56 219.15,268.878 222.873,270.119 226.597,271.283 230.32,272.37 234.043,273.381 237.767,274.314 241.49,275.171 245.213,275.951 248.937,276.654 \n",
       "  252.66,277.28 256.384,277.83 260.107,278.302 263.83,278.698 267.554,279.017 271.277,279.259 275,279.424 278.724,279.512 282.447,279.524 286.17,279.458 \n",
       "  289.894,279.316 293.617,279.097 297.34,278.801 301.064,278.429 304.787,277.979 308.51,277.453 312.234,276.85 315.957,276.17 319.68,275.413 323.404,274.579 \n",
       "  327.127,273.669 330.851,272.681 334.574,271.617 338.297,270.476 342.021,269.258 345.744,267.964 349.467,266.592 353.191,265.144 356.914,263.619 360.637,262.017 \n",
       "  364.361,260.338 368.084,258.582 371.807,256.749 375.531,254.84 379.254,252.854 382.977,250.791 386.701,248.651 390.424,246.434 394.147,244.141 397.871,241.77 \n",
       "  401.594,239.323 405.318,236.799 409.041,234.198 412.764,231.52 416.488,228.766 420.211,225.934 423.934,223.026 427.658,220.041 431.381,216.979 435.104,213.84 \n",
       "  438.828,210.625 442.551,207.332 446.274,203.963 449.998,200.517 453.721,196.994 457.444,193.394 461.168,189.717 464.891,185.964 468.614,182.134 472.338,178.227 \n",
       "  476.061,174.243 479.785,170.182 483.508,166.044 487.231,161.83 490.955,157.538 494.678,153.17 498.401,148.725 502.125,144.203 505.848,139.605 509.571,134.929 \n",
       "  513.295,130.177 517.018,125.348 520.741,120.442 524.465,115.459 528.188,110.399 531.911,105.263 535.635,100.049 539.358,94.7593 543.081,89.3922 546.805,83.9484 \n",
       "  550.528,78.4277 554.252,72.8302 557.975,67.1558 561.698,61.4046 565.422,55.5766 569.145,49.6717 572.868,43.69 576.592,37.6314 580.315,31.4961 \n",
       "  \"/>\n",
       "<polyline clip-path=\"url(#clip02)\" style=\"stroke:#ff0000; stroke-width:4; stroke-opacity:1; fill:none\" stroke-dasharray=\"2, 4\" points=\"\n",
       "  29.2591,360.065 32.9825,358.798 36.7058,357.53 40.4292,356.262 44.1525,354.994 47.8759,353.726 51.5992,352.459 55.3226,351.191 59.0459,349.923 62.7693,348.655 \n",
       "  66.4926,347.387 70.216,346.12 73.9393,344.852 77.6627,343.584 81.386,342.316 85.1094,341.048 88.8327,339.781 92.5561,338.513 96.2794,337.245 100.003,335.977 \n",
       "  103.726,334.709 107.449,333.442 111.173,332.174 114.896,330.906 118.62,329.638 122.343,328.37 126.066,327.103 129.79,325.835 133.513,324.567 137.236,323.299 \n",
       "  140.96,322.031 144.683,320.764 148.406,319.496 152.13,318.228 155.853,316.96 159.576,315.692 163.3,314.425 167.023,313.157 170.746,311.889 174.47,310.621 \n",
       "  178.193,309.353 181.916,308.086 185.64,306.818 189.363,305.55 193.087,304.282 196.81,303.014 200.533,301.747 204.257,300.479 207.98,299.211 211.703,297.943 \n",
       "  215.427,296.675 219.15,295.408 222.873,294.14 226.597,292.872 230.32,291.604 234.043,290.336 237.767,289.069 241.49,287.801 245.213,286.533 248.937,285.265 \n",
       "  252.66,283.997 256.384,282.73 260.107,281.462 263.83,280.194 267.554,278.926 271.277,277.658 275,276.391 278.724,275.123 282.447,273.855 286.17,272.587 \n",
       "  289.894,271.319 293.617,270.052 297.34,268.784 301.064,267.516 304.787,266.248 308.51,264.98 312.234,263.713 315.957,262.445 319.68,261.177 323.404,259.909 \n",
       "  327.127,258.641 330.851,257.374 334.574,256.106 338.297,254.838 342.021,253.57 345.744,252.302 349.467,251.035 353.191,249.767 356.914,248.499 360.637,247.231 \n",
       "  364.361,245.963 368.084,244.696 371.807,243.428 375.531,242.16 379.254,240.892 382.977,239.624 386.701,238.357 390.424,237.089 394.147,235.821 397.871,234.553 \n",
       "  401.594,233.285 405.318,232.018 409.041,230.75 412.764,229.482 416.488,228.214 420.211,226.946 423.934,225.679 427.658,224.411 431.381,223.143 435.104,221.875 \n",
       "  438.828,220.607 442.551,219.34 446.274,218.072 449.998,216.804 453.721,215.536 457.444,214.268 461.168,213.001 464.891,211.733 468.614,210.465 472.338,209.197 \n",
       "  476.061,207.929 479.785,206.662 483.508,205.394 487.231,204.126 490.955,202.858 494.678,201.59 498.401,200.323 502.125,199.055 505.848,197.787 509.571,196.519 \n",
       "  513.295,195.251 517.018,193.984 520.741,192.716 524.465,191.448 528.188,190.18 531.911,188.912 535.635,187.645 539.358,186.377 543.081,185.109 546.805,183.841 \n",
       "  550.528,182.573 554.252,181.306 557.975,180.038 561.698,178.77 565.422,177.502 569.145,176.234 572.868,174.967 576.592,173.699 580.315,172.431 \n",
       "  \"/>\n",
       "<polyline clip-path=\"url(#clip02)\" style=\"stroke:#0000ff; stroke-width:2; stroke-opacity:1; fill:none\" stroke-dasharray=\"8, 5\" points=\"\n",
       "  29.2591,360.065 32.9825,358.798 36.7058,357.53 40.4292,356.262 44.1525,354.994 47.8759,353.726 51.5992,352.459 55.3226,351.191 59.0459,349.923 62.7693,348.655 \n",
       "  66.4926,347.387 70.216,346.12 73.9393,344.852 77.6627,343.584 81.386,342.316 85.1094,341.048 88.8327,339.781 92.5561,338.513 96.2794,337.245 100.003,335.977 \n",
       "  103.726,334.709 107.449,333.442 111.173,332.174 114.896,330.906 118.62,329.638 122.343,328.37 126.066,327.103 129.79,325.835 133.513,324.567 137.236,323.299 \n",
       "  140.96,322.031 144.683,320.764 148.406,319.496 152.13,318.228 155.853,316.96 159.576,315.692 163.3,314.425 167.023,313.157 170.746,311.889 174.47,310.621 \n",
       "  178.193,309.353 181.916,308.086 185.64,306.818 189.363,305.55 193.087,304.282 196.81,303.014 200.533,301.747 204.257,300.479 207.98,299.211 211.703,297.943 \n",
       "  215.427,296.675 219.15,295.408 222.873,294.14 226.597,292.872 230.32,291.604 234.043,290.336 237.767,289.069 241.49,287.801 245.213,286.533 248.937,285.265 \n",
       "  252.66,283.997 256.384,282.73 260.107,281.462 263.83,280.194 267.554,278.926 271.277,277.658 275,276.391 278.724,275.123 282.447,273.855 286.17,272.587 \n",
       "  289.894,271.319 293.617,270.052 297.34,268.784 301.064,267.516 304.787,266.248 308.51,264.98 312.234,263.713 315.957,262.445 319.68,261.177 323.404,259.909 \n",
       "  327.127,258.641 330.851,257.374 334.574,256.106 338.297,254.838 342.021,253.57 345.744,252.302 349.467,251.035 353.191,249.767 356.914,248.499 360.637,247.231 \n",
       "  364.361,245.963 368.084,244.696 371.807,243.428 375.531,242.16 379.254,240.892 382.977,239.624 386.701,238.357 390.424,237.089 394.147,235.821 397.871,234.553 \n",
       "  401.594,233.285 405.318,232.018 409.041,230.75 412.764,229.482 416.488,228.214 420.211,226.946 423.934,225.679 427.658,224.411 431.381,223.143 435.104,221.875 \n",
       "  438.828,220.607 442.551,219.34 446.274,218.072 449.998,216.804 453.721,215.536 457.444,214.268 461.168,213.001 464.891,211.733 468.614,210.465 472.338,209.197 \n",
       "  476.061,207.929 479.785,206.662 483.508,205.394 487.231,204.126 490.955,202.858 494.678,201.59 498.401,200.323 502.125,199.055 505.848,197.787 509.571,196.519 \n",
       "  513.295,195.251 517.018,193.984 520.741,192.716 524.465,191.448 528.188,190.18 531.911,188.912 535.635,187.645 539.358,186.377 543.081,185.109 546.805,183.841 \n",
       "  550.528,182.573 554.252,181.306 557.975,180.038 561.698,178.77 565.422,177.502 569.145,176.234 572.868,174.967 576.592,173.699 580.315,172.431 \n",
       "  \"/>\n",
       "<polygon clip-path=\"url(#clip00)\" points=\"\n",
       "415.382,112.856 562.315,112.856 562.315,52.3761 415.382,52.3761 \n",
       "  \" fill=\"#ffffff\" fill-opacity=\"1\"/>\n",
       "<polyline clip-path=\"url(#clip00)\" style=\"stroke:#000000; stroke-width:1; stroke-opacity:1; fill:none\" points=\"\n",
       "  415.382,112.856 562.315,112.856 562.315,52.3761 415.382,52.3761 415.382,112.856 \n",
       "  \"/>\n",
       "<polyline clip-path=\"url(#clip00)\" style=\"stroke:#000000; stroke-width:1; stroke-opacity:1; fill:none\" points=\"\n",
       "  421.382,67.4961 457.382,67.4961 \n",
       "  \"/>\n",
       "<g clip-path=\"url(#clip00)\">\n",
       "<text style=\"fill:#000000; fill-opacity:1; font-family:Arial,Helvetica Neue,Helvetica,sans-serif; font-size:12; text-anchor:start;\" transform=\"rotate(0, 463.382, 71.9961)\" x=\"463.382\" y=\"71.9961\">fn1()</text>\n",
       "</g>\n",
       "<polyline clip-path=\"url(#clip00)\" style=\"stroke:#ff0000; stroke-width:4; stroke-opacity:1; fill:none\" stroke-dasharray=\"2, 4\" points=\"\n",
       "  421.382,82.6161 457.382,82.6161 \n",
       "  \"/>\n",
       "<g clip-path=\"url(#clip00)\">\n",
       "<text style=\"fill:#000000; fill-opacity:1; font-family:Arial,Helvetica Neue,Helvetica,sans-serif; font-size:12; text-anchor:start;\" transform=\"rotate(0, 463.382, 87.1161)\" x=\"463.382\" y=\"87.1161\">crude derivative</text>\n",
       "</g>\n",
       "<polyline clip-path=\"url(#clip00)\" style=\"stroke:#0000ff; stroke-width:2; stroke-opacity:1; fill:none\" stroke-dasharray=\"8, 5\" points=\"\n",
       "  421.382,97.7361 457.382,97.7361 \n",
       "  \"/>\n",
       "<g clip-path=\"url(#clip00)\">\n",
       "<text style=\"fill:#000000; fill-opacity:1; font-family:Arial,Helvetica Neue,Helvetica,sans-serif; font-size:12; text-anchor:start;\" transform=\"rotate(0, 463.382, 102.236)\" x=\"463.382\" y=\"102.236\">ForwardDiff pkg </text>\n",
       "</g>\n",
       "</svg>\n"
      ]
     },
     "execution_count": 10,
     "metadata": {},
     "output_type": "execute_result"
    }
   ],
   "source": [
    "plot(x,fn1.(x,0.5),color=:black,label=\"fn1()\")\n",
    "plot!(x,dydx_A,color=:red,line=(:dot,4),label=\"crude derivative\")\n",
    "plot!(x,dydx_B,color=:blue,line=(:dash,2),label=\"ForwardDiff pkg \")\n",
    "title!(\"fn1() and its derivative\")\n",
    "xlabel!(\"x\")\n",
    "ylabel!(\"\")"
   ]
  },
  {
   "cell_type": "markdown",
   "metadata": {
    "collapsed": true
   },
   "source": [
    "## (extra) Comments on Using the ForwardDiff Package\n",
    "\n",
    "The ForwardDiff package applies an interesting approach to calculate derivatives, using a special number type (\"dual numbers\"). This means that your code must be able to handle such numbers. In most cases, that is not a problem, but you may have to watch out if you create arrays to store (intermediate?) results inside the function. See the examples below"
   ]
  },
  {
   "cell_type": "code",
   "execution_count": 11,
   "metadata": {},
   "outputs": [
    {
     "data": {
      "text/plain": [
       "fnDoesWork (generic function with 1 method)"
      ]
     },
     "execution_count": 11,
     "metadata": {},
     "output_type": "execute_result"
    }
   ],
   "source": [
    "function fnDoesNotWork(b,a)\n",
    "    z = zeros(length(b))              #will not work with ForwardDiff, since\n",
    "    for i = 1:length(z)               #z cannot store dual numbers\n",
    "        z[i] = b[i]*i\n",
    "    end    \n",
    "    return sum(z) + a\n",
    "end    \n",
    "\n",
    "function fnDoesWork(b,a)\n",
    "    z = zeros(eltype(b),length(b))   #will work with ForwardDiff, since\n",
    "    for i = 1:length(z)              #when b is a dual number, so is z \n",
    "        z[i] = b[i]*i\n",
    "    end    \n",
    "    return sum(z) + a\n",
    "end"
   ]
  },
  {
   "cell_type": "code",
   "execution_count": 12,
   "metadata": {},
   "outputs": [
    {
     "name": "stdout",
     "output_type": "stream",
     "text": [
      "using fnDoesWork(): [1.0, 2.0]\n"
     ]
    }
   ],
   "source": [
    "b0 = [1.5;2]\n",
    "\n",
    "try\n",
    "    ForwardDiff.gradient(b->fnDoesNotWork(b,1),b0)\n",
    "    println(\"using fnDoesNotWork(): \",dydx)\n",
    "catch    \n",
    "    dydx = ForwardDiff.gradient(b->fnDoesWork(b,1),b0)\n",
    "    println(\"using fnDoesWork(): \",dydx)    \n",
    "end"
   ]
  },
  {
   "cell_type": "code",
   "execution_count": null,
   "metadata": {
    "collapsed": true
   },
   "outputs": [],
   "source": []
  }
 ],
 "metadata": {
  "anaconda-cloud": {},
  "kernelspec": {
   "display_name": "Julia 0.6.1",
   "language": "julia",
   "name": "julia-0.6"
  },
  "language_info": {
   "file_extension": ".jl",
   "mimetype": "application/julia",
   "name": "julia",
   "version": "0.6.1"
  }
 },
 "nbformat": 4,
 "nbformat_minor": 1
}
