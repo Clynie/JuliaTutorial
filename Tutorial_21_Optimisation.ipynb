{
 "cells": [
  {
   "cell_type": "markdown",
   "metadata": {
    "collapsed": true
   },
   "source": [
    "# Optimisation and Solving Non-linear Equations\n",
    "\n",
    "The package Optim (https://github.com/JuliaNLSolvers/Optim.jl) provides powerful methods for optimisation. It can easily handle objective functions with several choice variables.\n",
    "\n",
    "The package Roots (https://github.com/JuliaMath/Roots.jl) provides methods for solving a non-linear equation (one variable, one function). If you have a system of non-linear equations, try NLsolve.jl (https://github.com/JuliaNLSolvers/NLsolve.jl)."
   ]
  },
  {
   "cell_type": "markdown",
   "metadata": {},
   "source": [
    "# Load Packages"
   ]
  },
  {
   "cell_type": "code",
   "execution_count": 1,
   "metadata": {},
   "outputs": [
    {
     "data": {
      "text/plain": [
       "printlnPs (generic function with 2 methods)"
      ]
     },
     "execution_count": 1,
     "metadata": {},
     "output_type": "execute_result"
    }
   ],
   "source": [
    "using Dates, Roots, Optim\n",
    "           \n",
    "include(\"printmat.jl\")   "
   ]
  },
  {
   "cell_type": "code",
   "execution_count": 3,
   "metadata": {},
   "outputs": [],
   "source": [
    "using Plots\n",
    "\n",
    "backend = \"gr\"              #\"gr\" (default), \"pyplot\" \n",
    "\n",
    "if backend == \"pyplot\"\n",
    "    pyplot(size=(600,400))\n",
    "else    \n",
    "    gr(size=(480,320))\n",
    "    default(fmt = :svg)\n",
    "end"
   ]
  },
  {
   "cell_type": "markdown",
   "metadata": {},
   "source": [
    "# Defining and Plotting the Function\n",
    "\n",
    "The next few cells define a fairly simple function and then plots it."
   ]
  },
  {
   "cell_type": "code",
   "execution_count": 4,
   "metadata": {},
   "outputs": [
    {
     "data": {
      "text/plain": [
       "fn1 (generic function with 1 method)"
      ]
     },
     "execution_count": 4,
     "metadata": {},
     "output_type": "execute_result"
    }
   ],
   "source": [
    "function fn1(x,c)                    #notice: the function has two arguments\n",
    "  value = 2*(x - 1.1)^2 - c\n",
    "  return value\n",
    "end  "
   ]
  },
  {
   "cell_type": "code",
   "execution_count": 5,
   "metadata": {},
   "outputs": [
    {
     "name": "stdout",
     "output_type": "stream",
     "text": [
      "x and the result from the function fn1.(x,0.5): \n",
      "     1.000    -0.480\n",
      "     1.500    -0.180\n",
      "\n"
     ]
    }
   ],
   "source": [
    "x = [1,1.5] \n",
    "y = fn1.(x,0.5)                   #calling on the function\n",
    "println(\"x and the result from the function fn1.(x,0.5): \")\n",
    "printmat([x y])"
   ]
  },
  {
   "cell_type": "markdown",
   "metadata": {},
   "source": [
    "## Plotting the Function\n",
    "\n",
    "If possible, plot your function. Maybe you see something strange. It also helps you set the initial guesses (or brackets) for root solving and optimization."
   ]
  },
  {
   "cell_type": "code",
   "execution_count": 6,
   "metadata": {},
   "outputs": [
    {
     "data": {
      "image/svg+xml": [
       "<?xml version=\"1.0\" encoding=\"utf-8\"?>\n",
       "<svg xmlns=\"http://www.w3.org/2000/svg\" xmlns:xlink=\"http://www.w3.org/1999/xlink\" width=\"480\" height=\"320\" viewBox=\"0 0 480 320\">\n",
       "<defs>\n",
       "  <clipPath id=\"clip7100\">\n",
       "    <rect x=\"0\" y=\"0\" width=\"480\" height=\"320\"/>\n",
       "  </clipPath>\n",
       "</defs>\n",
       "<polygon clip-path=\"url(#clip7100)\" points=\"\n",
       "0,320 480,320 480,0 0,0 \n",
       "  \" fill=\"#ffffff\" fill-opacity=\"1\"/>\n",
       "<defs>\n",
       "  <clipPath id=\"clip7101\">\n",
       "    <rect x=\"96\" y=\"0\" width=\"337\" height=\"320\"/>\n",
       "  </clipPath>\n",
       "</defs>\n",
       "<polygon clip-path=\"url(#clip7100)\" points=\"\n",
       "46.0607,280.121 460.315,280.121 460.315,31.4961 46.0607,31.4961 \n",
       "  \" fill=\"#ffffff\" fill-opacity=\"1\"/>\n",
       "<defs>\n",
       "  <clipPath id=\"clip7102\">\n",
       "    <rect x=\"46\" y=\"31\" width=\"415\" height=\"250\"/>\n",
       "  </clipPath>\n",
       "</defs>\n",
       "<polyline clip-path=\"url(#clip7102)\" style=\"stroke:#000000; stroke-width:0.5; stroke-opacity:0.1; fill:none\" points=\"\n",
       "  57.7848,280.121 57.7848,31.4961 \n",
       "  \"/>\n",
       "<polyline clip-path=\"url(#clip7102)\" style=\"stroke:#000000; stroke-width:0.5; stroke-opacity:0.1; fill:none\" points=\"\n",
       "  155.486,280.121 155.486,31.4961 \n",
       "  \"/>\n",
       "<polyline clip-path=\"url(#clip7102)\" style=\"stroke:#000000; stroke-width:0.5; stroke-opacity:0.1; fill:none\" points=\"\n",
       "  253.188,280.121 253.188,31.4961 \n",
       "  \"/>\n",
       "<polyline clip-path=\"url(#clip7102)\" style=\"stroke:#000000; stroke-width:0.5; stroke-opacity:0.1; fill:none\" points=\"\n",
       "  350.889,280.121 350.889,31.4961 \n",
       "  \"/>\n",
       "<polyline clip-path=\"url(#clip7102)\" style=\"stroke:#000000; stroke-width:0.5; stroke-opacity:0.1; fill:none\" points=\"\n",
       "  448.591,280.121 448.591,31.4961 \n",
       "  \"/>\n",
       "<polyline clip-path=\"url(#clip7102)\" style=\"stroke:#000000; stroke-width:0.5; stroke-opacity:0.1; fill:none\" points=\"\n",
       "  46.0607,259.788 460.315,259.788 \n",
       "  \"/>\n",
       "<polyline clip-path=\"url(#clip7102)\" style=\"stroke:#000000; stroke-width:0.5; stroke-opacity:0.1; fill:none\" points=\"\n",
       "  46.0607,206.601 460.315,206.601 \n",
       "  \"/>\n",
       "<polyline clip-path=\"url(#clip7102)\" style=\"stroke:#000000; stroke-width:0.5; stroke-opacity:0.1; fill:none\" points=\"\n",
       "  46.0607,153.415 460.315,153.415 \n",
       "  \"/>\n",
       "<polyline clip-path=\"url(#clip7102)\" style=\"stroke:#000000; stroke-width:0.5; stroke-opacity:0.1; fill:none\" points=\"\n",
       "  46.0607,100.229 460.315,100.229 \n",
       "  \"/>\n",
       "<polyline clip-path=\"url(#clip7102)\" style=\"stroke:#000000; stroke-width:0.5; stroke-opacity:0.1; fill:none\" points=\"\n",
       "  46.0607,47.0424 460.315,47.0424 \n",
       "  \"/>\n",
       "<polyline clip-path=\"url(#clip7100)\" style=\"stroke:#000000; stroke-width:1; stroke-opacity:1; fill:none\" points=\"\n",
       "  46.0607,280.121 460.315,280.121 \n",
       "  \"/>\n",
       "<polyline clip-path=\"url(#clip7100)\" style=\"stroke:#000000; stroke-width:1; stroke-opacity:1; fill:none\" points=\"\n",
       "  46.0607,280.121 46.0607,31.4961 \n",
       "  \"/>\n",
       "<polyline clip-path=\"url(#clip7100)\" style=\"stroke:#000000; stroke-width:1; stroke-opacity:1; fill:none\" points=\"\n",
       "  57.7848,280.121 57.7848,276.391 \n",
       "  \"/>\n",
       "<polyline clip-path=\"url(#clip7100)\" style=\"stroke:#000000; stroke-width:1; stroke-opacity:1; fill:none\" points=\"\n",
       "  155.486,280.121 155.486,276.391 \n",
       "  \"/>\n",
       "<polyline clip-path=\"url(#clip7100)\" style=\"stroke:#000000; stroke-width:1; stroke-opacity:1; fill:none\" points=\"\n",
       "  253.188,280.121 253.188,276.391 \n",
       "  \"/>\n",
       "<polyline clip-path=\"url(#clip7100)\" style=\"stroke:#000000; stroke-width:1; stroke-opacity:1; fill:none\" points=\"\n",
       "  350.889,280.121 350.889,276.391 \n",
       "  \"/>\n",
       "<polyline clip-path=\"url(#clip7100)\" style=\"stroke:#000000; stroke-width:1; stroke-opacity:1; fill:none\" points=\"\n",
       "  448.591,280.121 448.591,276.391 \n",
       "  \"/>\n",
       "<polyline clip-path=\"url(#clip7100)\" style=\"stroke:#000000; stroke-width:1; stroke-opacity:1; fill:none\" points=\"\n",
       "  46.0607,259.788 52.2745,259.788 \n",
       "  \"/>\n",
       "<polyline clip-path=\"url(#clip7100)\" style=\"stroke:#000000; stroke-width:1; stroke-opacity:1; fill:none\" points=\"\n",
       "  46.0607,206.601 52.2745,206.601 \n",
       "  \"/>\n",
       "<polyline clip-path=\"url(#clip7100)\" style=\"stroke:#000000; stroke-width:1; stroke-opacity:1; fill:none\" points=\"\n",
       "  46.0607,153.415 52.2745,153.415 \n",
       "  \"/>\n",
       "<polyline clip-path=\"url(#clip7100)\" style=\"stroke:#000000; stroke-width:1; stroke-opacity:1; fill:none\" points=\"\n",
       "  46.0607,100.229 52.2745,100.229 \n",
       "  \"/>\n",
       "<polyline clip-path=\"url(#clip7100)\" style=\"stroke:#000000; stroke-width:1; stroke-opacity:1; fill:none\" points=\"\n",
       "  46.0607,47.0424 52.2745,47.0424 \n",
       "  \"/>\n",
       "<g clip-path=\"url(#clip7100)\">\n",
       "<text style=\"fill:#000000; fill-opacity:1; font-family:Arial,Helvetica Neue,Helvetica,sans-serif; font-size:12; text-anchor:middle;\" transform=\"rotate(0, 57.7848, 293.321)\" x=\"57.7848\" y=\"293.321\">-1</text>\n",
       "</g>\n",
       "<g clip-path=\"url(#clip7100)\">\n",
       "<text style=\"fill:#000000; fill-opacity:1; font-family:Arial,Helvetica Neue,Helvetica,sans-serif; font-size:12; text-anchor:middle;\" transform=\"rotate(0, 155.486, 293.321)\" x=\"155.486\" y=\"293.321\">0</text>\n",
       "</g>\n",
       "<g clip-path=\"url(#clip7100)\">\n",
       "<text style=\"fill:#000000; fill-opacity:1; font-family:Arial,Helvetica Neue,Helvetica,sans-serif; font-size:12; text-anchor:middle;\" transform=\"rotate(0, 253.188, 293.321)\" x=\"253.188\" y=\"293.321\">1</text>\n",
       "</g>\n",
       "<g clip-path=\"url(#clip7100)\">\n",
       "<text style=\"fill:#000000; fill-opacity:1; font-family:Arial,Helvetica Neue,Helvetica,sans-serif; font-size:12; text-anchor:middle;\" transform=\"rotate(0, 350.889, 293.321)\" x=\"350.889\" y=\"293.321\">2</text>\n",
       "</g>\n",
       "<g clip-path=\"url(#clip7100)\">\n",
       "<text style=\"fill:#000000; fill-opacity:1; font-family:Arial,Helvetica Neue,Helvetica,sans-serif; font-size:12; text-anchor:middle;\" transform=\"rotate(0, 448.591, 293.321)\" x=\"448.591\" y=\"293.321\">3</text>\n",
       "</g>\n",
       "<g clip-path=\"url(#clip7100)\">\n",
       "<text style=\"fill:#000000; fill-opacity:1; font-family:Arial,Helvetica Neue,Helvetica,sans-serif; font-size:12; text-anchor:end;\" transform=\"rotate(0, 41.2607, 264.288)\" x=\"41.2607\" y=\"264.288\">0</text>\n",
       "</g>\n",
       "<g clip-path=\"url(#clip7100)\">\n",
       "<text style=\"fill:#000000; fill-opacity:1; font-family:Arial,Helvetica Neue,Helvetica,sans-serif; font-size:12; text-anchor:end;\" transform=\"rotate(0, 41.2607, 211.101)\" x=\"41.2607\" y=\"211.101\">2</text>\n",
       "</g>\n",
       "<g clip-path=\"url(#clip7100)\">\n",
       "<text style=\"fill:#000000; fill-opacity:1; font-family:Arial,Helvetica Neue,Helvetica,sans-serif; font-size:12; text-anchor:end;\" transform=\"rotate(0, 41.2607, 157.915)\" x=\"41.2607\" y=\"157.915\">4</text>\n",
       "</g>\n",
       "<g clip-path=\"url(#clip7100)\">\n",
       "<text style=\"fill:#000000; fill-opacity:1; font-family:Arial,Helvetica Neue,Helvetica,sans-serif; font-size:12; text-anchor:end;\" transform=\"rotate(0, 41.2607, 104.729)\" x=\"41.2607\" y=\"104.729\">6</text>\n",
       "</g>\n",
       "<g clip-path=\"url(#clip7100)\">\n",
       "<text style=\"fill:#000000; fill-opacity:1; font-family:Arial,Helvetica Neue,Helvetica,sans-serif; font-size:12; text-anchor:end;\" transform=\"rotate(0, 41.2607, 51.5424)\" x=\"41.2607\" y=\"51.5424\">8</text>\n",
       "</g>\n",
       "<g clip-path=\"url(#clip7100)\">\n",
       "<text style=\"fill:#000000; fill-opacity:1; font-family:Arial,Helvetica Neue,Helvetica,sans-serif; font-size:21; text-anchor:middle;\" transform=\"rotate(0, 253.188, 18)\" x=\"253.188\" y=\"18\">the fn1.(x,0.5) function</text>\n",
       "</g>\n",
       "<g clip-path=\"url(#clip7100)\">\n",
       "<text style=\"fill:#000000; fill-opacity:1; font-family:Arial,Helvetica Neue,Helvetica,sans-serif; font-size:16; text-anchor:middle;\" transform=\"rotate(0, 253.188, 317.6)\" x=\"253.188\" y=\"317.6\">x</text>\n",
       "</g>\n",
       "<g clip-path=\"url(#clip7100)\">\n",
       "<text style=\"fill:#000000; fill-opacity:1; font-family:Arial,Helvetica Neue,Helvetica,sans-serif; font-size:16; text-anchor:middle;\" transform=\"rotate(-90, 14.4, 155.808)\" x=\"14.4\" y=\"155.808\">y</text>\n",
       "</g>\n",
       "<polyline clip-path=\"url(#clip7102)\" style=\"stroke:#ff0000; stroke-width:2; stroke-opacity:1; fill:none\" points=\"\n",
       "  57.7848,38.5326 67.555,60.339 77.3251,81.0816 87.0953,100.761 96.8654,119.376 106.636,136.927 116.406,153.415 126.176,168.839 135.946,183.199 145.716,196.496 \n",
       "  155.486,208.729 165.256,219.898 175.027,230.003 184.797,239.045 194.567,247.023 204.337,253.937 214.107,259.788 223.877,264.574 233.648,268.297 243.418,270.957 \n",
       "  253.188,272.552 262.958,273.084 272.728,272.552 282.498,270.957 292.268,268.297 302.039,264.574 311.809,259.788 321.579,253.937 331.349,247.023 341.119,239.045 \n",
       "  350.889,230.003 360.659,219.898 370.43,208.729 380.2,196.496 389.97,183.199 399.74,168.839 409.51,153.415 419.28,136.927 429.05,119.376 438.821,100.761 \n",
       "  448.591,81.0816 \n",
       "  \"/>\n",
       "</svg>\n"
      ]
     },
     "execution_count": 6,
     "metadata": {},
     "output_type": "execute_result"
    }
   ],
   "source": [
    "x = -1:0.1:3\n",
    "\n",
    "p1 = plot(x,fn1.(x,0.5),color=:red,linewidth=2,legend=nothing)\n",
    "title!(\"the fn1.(x,0.5) function\")\n",
    "xlabel!(\"x\")\n",
    "ylabel!(\"y\")"
   ]
  },
  {
   "cell_type": "markdown",
   "metadata": {},
   "source": [
    "The minimum appears to be around 1.1 and the two roots around 0.6 and 1.6."
   ]
  },
  {
   "cell_type": "markdown",
   "metadata": {},
   "source": [
    "# Solving a Non-Linear Equation\n",
    "\n",
    "The Roots package wants a function with only one input. An easy way to turn ```fn1(a,0.5)``` into that form is by defining an anonymous function:\n",
    "```\n",
    "x->fn1(x,0.5)\n",
    "```\n",
    "\n",
    "Running \n",
    "```\n",
    "find_zero(x->fn1(x,0.5),(x₀,x₁))\n",
    "```\n",
    "searches for a root in the [x₀,x₁] interval. Alternatively, you can also do \n",
    "```\n",
    "find_zero(x->fn1(x,0.5),x₂)\n",
    "``` \n",
    "where `x₂` is a single starting guess.\n",
    "\n",
    "Instead, running\n",
    "```\n",
    "find_zeros(x->fn1(x,0.5),x₀,x₁)\n",
    "```\n",
    "searches for all roots between x₀ and x₁. (Notice the *s* in `find_zeros`.)\n",
    "\n",
    "If you want to solve a *system* of non-linear equations, try the NLsolve.jl package."
   ]
  },
  {
   "cell_type": "code",
   "execution_count": 7,
   "metadata": {},
   "outputs": [
    {
     "name": "stdout",
     "output_type": "stream",
     "text": [
      "at which x is fn1(x,0.5) = 0?      0.600\n",
      "at which x is fn1(x,0.5) = 0?      1.600\n",
      "\n",
      "yes, there are several roots. Just look at it (in the plot)\n"
     ]
    }
   ],
   "source": [
    "x1 = find_zero(x->fn1(x,0.5),(-1,1))            #searches for roots in [-1,1]\n",
    "printlnPs(\"at which x is fn1(x,0.5) = 0? \",x1)\n",
    "\n",
    "x2 = find_zero(x->fn1(x,0.5),2)              #searches for roots around 2\n",
    "printlnPs(\"at which x is fn1(x,0.5) = 0? \",x2)\n",
    "\n",
    "println(\"\\nyes, there are several roots. Just look at it (in the plot)\")"
   ]
  },
  {
   "cell_type": "code",
   "execution_count": 8,
   "metadata": {},
   "outputs": [
    {
     "name": "stdout",
     "output_type": "stream",
     "text": [
      "at which x is fn1(x,0.5) = 0?      0.600     1.600\n"
     ]
    }
   ],
   "source": [
    "x1 = find_zeros(x->fn1(x,0.5),-1,3)            #find_zeros (notice the \"s\")\n",
    "                                                    \n",
    "printlnPs(\"at which x is fn1(x,0.5) = 0? \",x1)       "
   ]
  },
  {
   "cell_type": "markdown",
   "metadata": {},
   "source": [
    "# Optimization with One Choice Variable\n",
    "\n",
    "Running \n",
    "```\n",
    "Sol = optimize(x->fn1(x,0.5),x₀,x₁)\n",
    "```\n",
    "finds the `x` value (in the interval `[x₀,x₁]`) that *minimizes* `fn1(x,0.5)`.\n",
    "\n",
    "The output (`Sol`) contains a lot of information. Print it to see, and extract the optimal `x` value as in the cell below."
   ]
  },
  {
   "cell_type": "code",
   "execution_count": 9,
   "metadata": {},
   "outputs": [
    {
     "name": "stdout",
     "output_type": "stream",
     "text": [
      "The minimum is at:      1.100\n",
      "Compare with the plot above\n"
     ]
    }
   ],
   "source": [
    "Sol = optimize(x->fn1(x,0.5),-2.0,3.0)            \n",
    "\n",
    "printlnPs(\"The minimum is at: \", Optim.minimizer(Sol))\n",
    "println(\"Compare with the plot above\")   "
   ]
  },
  {
   "cell_type": "code",
   "execution_count": 10,
   "metadata": {},
   "outputs": [
    {
     "name": "stdout",
     "output_type": "stream",
     "text": [
      "Results of Optimization Algorithm\n",
      " * Algorithm: Brent's Method\n",
      " * Search Interval: [-2.000000, 3.000000]\n",
      " * Minimizer: 1.100000e+00\n",
      " * Minimum: -5.000000e-01\n",
      " * Iterations: 5\n",
      " * Convergence: max(|x - x_upper|, |x - x_lower|) <= 2*(1.5e-08*|x|+2.2e-16): true\n",
      " * Objective Function Calls: 6\n"
     ]
    }
   ],
   "source": [
    "println(Sol)"
   ]
  },
  {
   "cell_type": "markdown",
   "metadata": {
    "collapsed": true
   },
   "source": [
    "# Optimization with Several Choice Variables\n",
    "\n",
    "The function `fn2(x,0.05)` (defined below) takes a vector `x` as input. Therefore, running \n",
    "```\n",
    "Sol = optimize(x->fn2(x,0.5),x₀)\n",
    "```\n",
    "finds the `x` vector that *minimizes* `fn2(x,0.5)`. Notice that `x₀` should be a vector of floating point numbers  with the correct number of elements (for instance, `[1.0,-0.5]`)."
   ]
  },
  {
   "cell_type": "code",
   "execution_count": 11,
   "metadata": {},
   "outputs": [
    {
     "data": {
      "text/plain": [
       "fn2 (generic function with 1 method)"
      ]
     },
     "execution_count": 11,
     "metadata": {},
     "output_type": "execute_result"
    }
   ],
   "source": [
    "function fn2(x,c)                    #notice: x is a vector\n",
    "   L = (x[1]-2)^2 + (4*x[2]+3)^2 - c\n",
    "  return L\n",
    "end  "
   ]
  },
  {
   "cell_type": "code",
   "execution_count": 12,
   "metadata": {},
   "outputs": [],
   "source": [
    "x1 = 0:0.1:4                      #a grid of values\n",
    "x2 = -2:0.05:0\n",
    "(m,n) = (length(x1),length(x2)) \n",
    "\n",
    "L = fill(NaN,m,n)                 #the fn2(x,0.5) value at a grid (to the plot)\n",
    "for i = 1:m, j = 1:n\n",
    "    L[i,j] = fn2([x1[i],x2[j]],0.5)\n",
    "end"
   ]
  },
  {
   "cell_type": "code",
   "execution_count": 13,
   "metadata": {},
   "outputs": [
    {
     "data": {
      "image/svg+xml": [
       "<?xml version=\"1.0\" encoding=\"utf-8\"?>\n",
       "<svg xmlns=\"http://www.w3.org/2000/svg\" xmlns:xlink=\"http://www.w3.org/1999/xlink\" width=\"480\" height=\"320\" viewBox=\"0 0 480 320\">\n",
       "<defs>\n",
       "  <clipPath id=\"clip7300\">\n",
       "    <rect x=\"0\" y=\"0\" width=\"480\" height=\"320\"/>\n",
       "  </clipPath>\n",
       "</defs>\n",
       "<polygon clip-path=\"url(#clip7300)\" points=\"\n",
       "0,320 480,320 480,0 0,0 \n",
       "  \" fill=\"#ffffff\" fill-opacity=\"1\"/>\n",
       "<defs>\n",
       "  <clipPath id=\"clip7301\">\n",
       "    <rect x=\"96\" y=\"0\" width=\"337\" height=\"320\"/>\n",
       "  </clipPath>\n",
       "</defs>\n",
       "<polygon clip-path=\"url(#clip7300)\" points=\"\n",
       "63.1241,280.121 460.315,280.121 460.315,31.4961 63.1241,31.4961 \n",
       "  \" fill=\"#ffffff\" fill-opacity=\"1\"/>\n",
       "<defs>\n",
       "  <clipPath id=\"clip7302\">\n",
       "    <rect x=\"63\" y=\"31\" width=\"398\" height=\"250\"/>\n",
       "  </clipPath>\n",
       "</defs>\n",
       "<polyline clip-path=\"url(#clip7302)\" style=\"stroke:#000000; stroke-width:0.5; stroke-opacity:0.1; fill:none\" points=\"\n",
       "  63.1241,280.121 63.1241,31.4961 \n",
       "  \"/>\n",
       "<polyline clip-path=\"url(#clip7302)\" style=\"stroke:#000000; stroke-width:0.5; stroke-opacity:0.1; fill:none\" points=\"\n",
       "  162.422,280.121 162.422,31.4961 \n",
       "  \"/>\n",
       "<polyline clip-path=\"url(#clip7302)\" style=\"stroke:#000000; stroke-width:0.5; stroke-opacity:0.1; fill:none\" points=\"\n",
       "  261.72,280.121 261.72,31.4961 \n",
       "  \"/>\n",
       "<polyline clip-path=\"url(#clip7302)\" style=\"stroke:#000000; stroke-width:0.5; stroke-opacity:0.1; fill:none\" points=\"\n",
       "  361.017,280.121 361.017,31.4961 \n",
       "  \"/>\n",
       "<polyline clip-path=\"url(#clip7302)\" style=\"stroke:#000000; stroke-width:0.5; stroke-opacity:0.1; fill:none\" points=\"\n",
       "  460.315,280.121 460.315,31.4961 \n",
       "  \"/>\n",
       "<polyline clip-path=\"url(#clip7302)\" style=\"stroke:#000000; stroke-width:0.5; stroke-opacity:0.1; fill:none\" points=\"\n",
       "  63.1241,280.121 460.315,280.121 \n",
       "  \"/>\n",
       "<polyline clip-path=\"url(#clip7302)\" style=\"stroke:#000000; stroke-width:0.5; stroke-opacity:0.1; fill:none\" points=\"\n",
       "  63.1241,217.965 460.315,217.965 \n",
       "  \"/>\n",
       "<polyline clip-path=\"url(#clip7302)\" style=\"stroke:#000000; stroke-width:0.5; stroke-opacity:0.1; fill:none\" points=\"\n",
       "  63.1241,155.808 460.315,155.808 \n",
       "  \"/>\n",
       "<polyline clip-path=\"url(#clip7302)\" style=\"stroke:#000000; stroke-width:0.5; stroke-opacity:0.1; fill:none\" points=\"\n",
       "  63.1241,93.6522 460.315,93.6522 \n",
       "  \"/>\n",
       "<polyline clip-path=\"url(#clip7302)\" style=\"stroke:#000000; stroke-width:0.5; stroke-opacity:0.1; fill:none\" points=\"\n",
       "  63.1241,31.4961 460.315,31.4961 \n",
       "  \"/>\n",
       "<polyline clip-path=\"url(#clip7300)\" style=\"stroke:#000000; stroke-width:1; stroke-opacity:1; fill:none\" points=\"\n",
       "  63.1241,280.121 460.315,280.121 \n",
       "  \"/>\n",
       "<polyline clip-path=\"url(#clip7300)\" style=\"stroke:#000000; stroke-width:1; stroke-opacity:1; fill:none\" points=\"\n",
       "  63.1241,280.121 63.1241,31.4961 \n",
       "  \"/>\n",
       "<polyline clip-path=\"url(#clip7300)\" style=\"stroke:#000000; stroke-width:1; stroke-opacity:1; fill:none\" points=\"\n",
       "  63.1241,280.121 63.1241,276.391 \n",
       "  \"/>\n",
       "<polyline clip-path=\"url(#clip7300)\" style=\"stroke:#000000; stroke-width:1; stroke-opacity:1; fill:none\" points=\"\n",
       "  162.422,280.121 162.422,276.391 \n",
       "  \"/>\n",
       "<polyline clip-path=\"url(#clip7300)\" style=\"stroke:#000000; stroke-width:1; stroke-opacity:1; fill:none\" points=\"\n",
       "  261.72,280.121 261.72,276.391 \n",
       "  \"/>\n",
       "<polyline clip-path=\"url(#clip7300)\" style=\"stroke:#000000; stroke-width:1; stroke-opacity:1; fill:none\" points=\"\n",
       "  361.017,280.121 361.017,276.391 \n",
       "  \"/>\n",
       "<polyline clip-path=\"url(#clip7300)\" style=\"stroke:#000000; stroke-width:1; stroke-opacity:1; fill:none\" points=\"\n",
       "  460.315,280.121 460.315,276.391 \n",
       "  \"/>\n",
       "<polyline clip-path=\"url(#clip7300)\" style=\"stroke:#000000; stroke-width:1; stroke-opacity:1; fill:none\" points=\"\n",
       "  63.1241,280.121 69.0819,280.121 \n",
       "  \"/>\n",
       "<polyline clip-path=\"url(#clip7300)\" style=\"stroke:#000000; stroke-width:1; stroke-opacity:1; fill:none\" points=\"\n",
       "  63.1241,217.965 69.0819,217.965 \n",
       "  \"/>\n",
       "<polyline clip-path=\"url(#clip7300)\" style=\"stroke:#000000; stroke-width:1; stroke-opacity:1; fill:none\" points=\"\n",
       "  63.1241,155.808 69.0819,155.808 \n",
       "  \"/>\n",
       "<polyline clip-path=\"url(#clip7300)\" style=\"stroke:#000000; stroke-width:1; stroke-opacity:1; fill:none\" points=\"\n",
       "  63.1241,93.6522 69.0819,93.6522 \n",
       "  \"/>\n",
       "<polyline clip-path=\"url(#clip7300)\" style=\"stroke:#000000; stroke-width:1; stroke-opacity:1; fill:none\" points=\"\n",
       "  63.1241,31.4961 69.0819,31.4961 \n",
       "  \"/>\n",
       "<g clip-path=\"url(#clip7300)\">\n",
       "<text style=\"fill:#000000; fill-opacity:1; font-family:Arial,Helvetica Neue,Helvetica,sans-serif; font-size:12; text-anchor:middle;\" transform=\"rotate(0, 63.1241, 293.321)\" x=\"63.1241\" y=\"293.321\">0</text>\n",
       "</g>\n",
       "<g clip-path=\"url(#clip7300)\">\n",
       "<text style=\"fill:#000000; fill-opacity:1; font-family:Arial,Helvetica Neue,Helvetica,sans-serif; font-size:12; text-anchor:middle;\" transform=\"rotate(0, 162.422, 293.321)\" x=\"162.422\" y=\"293.321\">1</text>\n",
       "</g>\n",
       "<g clip-path=\"url(#clip7300)\">\n",
       "<text style=\"fill:#000000; fill-opacity:1; font-family:Arial,Helvetica Neue,Helvetica,sans-serif; font-size:12; text-anchor:middle;\" transform=\"rotate(0, 261.72, 293.321)\" x=\"261.72\" y=\"293.321\">2</text>\n",
       "</g>\n",
       "<g clip-path=\"url(#clip7300)\">\n",
       "<text style=\"fill:#000000; fill-opacity:1; font-family:Arial,Helvetica Neue,Helvetica,sans-serif; font-size:12; text-anchor:middle;\" transform=\"rotate(0, 361.017, 293.321)\" x=\"361.017\" y=\"293.321\">3</text>\n",
       "</g>\n",
       "<g clip-path=\"url(#clip7300)\">\n",
       "<text style=\"fill:#000000; fill-opacity:1; font-family:Arial,Helvetica Neue,Helvetica,sans-serif; font-size:12; text-anchor:middle;\" transform=\"rotate(0, 460.315, 293.321)\" x=\"460.315\" y=\"293.321\">4</text>\n",
       "</g>\n",
       "<g clip-path=\"url(#clip7300)\">\n",
       "<text style=\"fill:#000000; fill-opacity:1; font-family:Arial,Helvetica Neue,Helvetica,sans-serif; font-size:12; text-anchor:end;\" transform=\"rotate(0, 58.3241, 284.621)\" x=\"58.3241\" y=\"284.621\">-2.0</text>\n",
       "</g>\n",
       "<g clip-path=\"url(#clip7300)\">\n",
       "<text style=\"fill:#000000; fill-opacity:1; font-family:Arial,Helvetica Neue,Helvetica,sans-serif; font-size:12; text-anchor:end;\" transform=\"rotate(0, 58.3241, 222.465)\" x=\"58.3241\" y=\"222.465\">-1.5</text>\n",
       "</g>\n",
       "<g clip-path=\"url(#clip7300)\">\n",
       "<text style=\"fill:#000000; fill-opacity:1; font-family:Arial,Helvetica Neue,Helvetica,sans-serif; font-size:12; text-anchor:end;\" transform=\"rotate(0, 58.3241, 160.308)\" x=\"58.3241\" y=\"160.308\">-1.0</text>\n",
       "</g>\n",
       "<g clip-path=\"url(#clip7300)\">\n",
       "<text style=\"fill:#000000; fill-opacity:1; font-family:Arial,Helvetica Neue,Helvetica,sans-serif; font-size:12; text-anchor:end;\" transform=\"rotate(0, 58.3241, 98.1522)\" x=\"58.3241\" y=\"98.1522\">-0.5</text>\n",
       "</g>\n",
       "<g clip-path=\"url(#clip7300)\">\n",
       "<text style=\"fill:#000000; fill-opacity:1; font-family:Arial,Helvetica Neue,Helvetica,sans-serif; font-size:12; text-anchor:end;\" transform=\"rotate(0, 58.3241, 35.9961)\" x=\"58.3241\" y=\"35.9961\">0.0</text>\n",
       "</g>\n",
       "<g clip-path=\"url(#clip7300)\">\n",
       "<text style=\"fill:#000000; fill-opacity:1; font-family:Arial,Helvetica Neue,Helvetica,sans-serif; font-size:21; text-anchor:middle;\" transform=\"rotate(0, 261.72, 18)\" x=\"261.72\" y=\"18\">Contour plot of loss function</text>\n",
       "</g>\n",
       "<g clip-path=\"url(#clip7300)\">\n",
       "<text style=\"fill:#000000; fill-opacity:1; font-family:Arial,Helvetica Neue,Helvetica,sans-serif; font-size:16; text-anchor:middle;\" transform=\"rotate(0, 261.72, 317.6)\" x=\"261.72\" y=\"317.6\">x1</text>\n",
       "</g>\n",
       "<g clip-path=\"url(#clip7300)\">\n",
       "<text style=\"fill:#000000; fill-opacity:1; font-family:Arial,Helvetica Neue,Helvetica,sans-serif; font-size:16; text-anchor:middle;\" transform=\"rotate(-90, 14.4, 155.808)\" x=\"14.4\" y=\"155.808\">x2</text>\n",
       "</g>\n",
       "<polyline clip-path=\"url(#clip7302)\" style=\"stroke:#f3e258; stroke-width:1; stroke-opacity:1; fill:none\" points=\"\n",
       "  63.1241,273.537 65.9611,273.905 73.0538,274.788 82.9836,275.962 92.9134,277.072 102.843,278.118 112.773,279.101 122.703,280.021 123.859,280.121 \n",
       "  \"/>\n",
       "<polyline clip-path=\"url(#clip7302)\" style=\"stroke:#e65e2d; stroke-width:1; stroke-opacity:1; fill:none\" points=\"\n",
       "  63.1241,243.635 73.0538,245.189 82.9836,246.663 92.9134,248.058 100.35,249.043 102.843,249.357 112.773,250.532 122.703,251.631 132.632,252.654 142.562,253.601 \n",
       "  152.492,254.473 162.287,255.258 162.422,255.269 172.352,255.955 182.281,256.569 192.211,257.112 202.141,257.581 212.071,257.979 222,258.304 231.93,258.557 \n",
       "  241.86,258.738 251.79,258.846 261.72,258.882 271.649,258.846 281.579,258.738 291.509,258.557 301.439,258.304 311.368,257.979 321.298,257.581 331.228,257.112 \n",
       "  341.158,256.569 351.087,255.955 361.017,255.269 361.152,255.258 370.947,254.473 380.877,253.601 390.807,252.654 400.736,251.631 410.666,250.532 420.596,249.357 \n",
       "  423.089,249.043 430.526,248.058 440.455,246.663 450.385,245.189 460.315,243.635 \n",
       "  \"/>\n",
       "<polyline clip-path=\"url(#clip7302)\" style=\"stroke:#f57d15; stroke-width:1; stroke-opacity:1; fill:none\" points=\"\n",
       "  460.315,251.75 450.385,253.228 440.455,254.63 435.754,255.258 430.526,255.924 420.596,257.117 410.666,258.237 400.736,259.285 390.807,260.261 380.877,261.164 \n",
       "  377.176,261.474 370.947,261.972 361.017,262.697 351.087,263.353 341.158,263.94 331.228,264.458 321.298,264.907 311.368,265.287 301.439,265.598 291.509,265.84 \n",
       "  281.579,266.012 271.649,266.116 261.72,266.15 251.79,266.116 241.86,266.012 231.93,265.84 222,265.598 212.071,265.287 202.141,264.907 192.211,264.458 \n",
       "  182.281,263.94 172.352,263.353 162.422,262.697 152.492,261.972 146.263,261.474 142.562,261.164 132.632,260.261 122.703,259.285 112.773,258.237 102.843,257.117 \n",
       "  92.9134,255.924 87.6851,255.258 82.9836,254.63 73.0538,253.228 63.1241,251.75 \n",
       "  \"/>\n",
       "<polyline clip-path=\"url(#clip7302)\" style=\"stroke:#fb9c07; stroke-width:1; stroke-opacity:1; fill:none\" points=\"\n",
       "  63.1241,259.398 73.0538,260.808 77.9996,261.474 82.9836,262.115 92.9134,263.324 102.843,264.463 112.773,265.534 122.703,266.535 132.632,267.467 135.186,267.689 \n",
       "  142.562,268.303 152.492,269.064 162.422,269.758 172.352,270.386 182.281,270.948 192.211,271.444 202.141,271.874 212.071,272.238 222,272.535 231.93,272.767 \n",
       "  241.86,272.932 251.79,273.031 261.72,273.064 271.649,273.031 281.579,272.932 291.509,272.767 301.439,272.535 311.368,272.238 321.298,271.874 331.228,271.444 \n",
       "  341.158,270.948 351.087,270.386 361.017,269.758 370.947,269.064 380.877,268.303 388.253,267.689 390.807,267.467 400.736,266.535 410.666,265.534 420.596,264.463 \n",
       "  430.526,263.324 440.455,262.115 445.439,261.474 450.385,260.808 460.315,259.398 \n",
       "  \"/>\n",
       "<polyline clip-path=\"url(#clip7302)\" style=\"stroke:#fabf26; stroke-width:1; stroke-opacity:1; fill:none\" points=\"\n",
       "  460.315,266.644 452.604,267.689 450.385,267.978 440.455,269.201 430.526,270.358 420.596,271.449 410.666,272.474 400.736,273.433 395.482,273.905 390.807,274.308 \n",
       "  380.877,275.101 370.947,275.83 361.017,276.496 351.087,277.099 341.158,277.638 331.228,278.114 321.298,278.526 311.368,278.875 301.439,279.16 291.509,279.382 \n",
       "  281.579,279.541 271.649,279.636 261.72,279.668 251.79,279.636 241.86,279.541 231.93,279.382 222,279.16 212.071,278.875 202.141,278.526 192.211,278.114 \n",
       "  182.281,277.638 172.352,277.099 162.422,276.496 152.492,275.83 142.562,275.101 132.632,274.308 127.957,273.905 122.703,273.433 112.773,272.474 102.843,271.449 \n",
       "  92.9134,270.358 82.9836,269.201 73.0538,267.978 70.8351,267.689 63.1241,266.644 \n",
       "  \"/>\n",
       "<polyline clip-path=\"url(#clip7302)\" style=\"stroke:#d24742; stroke-width:1; stroke-opacity:1; fill:none\" points=\"\n",
       "  63.1241,234.886 73.0175,236.611 73.0538,236.617 82.9836,238.171 92.9134,239.641 102.843,241.027 112.773,242.329 116.833,242.827 122.703,243.51 132.632,244.586 \n",
       "  142.562,245.582 152.492,246.498 162.422,247.335 172.352,248.092 182.281,248.769 186.821,249.043 192.211,249.351 202.141,249.844 212.071,250.261 222,250.602 \n",
       "  231.93,250.867 241.86,251.057 251.79,251.17 261.72,251.208 271.649,251.17 281.579,251.057 291.509,250.867 301.439,250.602 311.368,250.261 321.298,249.844 \n",
       "  331.228,249.351 336.618,249.043 341.158,248.769 351.087,248.092 361.017,247.335 370.947,246.498 380.877,245.582 390.807,244.586 400.736,243.51 406.606,242.827 \n",
       "  410.666,242.329 420.596,241.027 430.526,239.641 440.455,238.171 450.385,236.617 450.422,236.611 460.315,234.886 \n",
       "  \"/>\n",
       "<polyline clip-path=\"url(#clip7302)\" style=\"stroke:#ba3655; stroke-width:1; stroke-opacity:1; fill:none\" points=\"\n",
       "  460.315,225.404 450.385,227.241 440.455,228.983 431.944,230.396 430.526,230.618 420.596,232.083 410.666,233.459 400.736,234.747 390.807,235.945 384.849,236.611 \n",
       "  380.877,237.031 370.947,237.997 361.017,238.879 351.087,239.677 341.158,240.391 331.228,241.021 321.298,241.567 311.368,242.029 301.439,242.407 291.509,242.701 \n",
       "  285.551,242.827 281.579,242.907 271.649,243.026 261.72,243.066 251.79,243.026 241.86,242.907 237.888,242.827 231.93,242.701 222,242.407 212.071,242.029 \n",
       "  202.141,241.567 192.211,241.021 182.281,240.391 172.352,239.677 162.422,238.879 152.492,237.997 142.562,237.031 138.59,236.611 132.632,235.945 122.703,234.747 \n",
       "  112.773,233.459 102.843,232.083 92.9134,230.618 91.4948,230.396 82.9836,228.983 73.0538,227.241 63.1241,225.404 \n",
       "  \"/>\n",
       "<polyline clip-path=\"url(#clip7302)\" style=\"stroke:#9e2a62; stroke-width:1; stroke-opacity:1; fill:none\" points=\"\n",
       "  63.1241,214.903 73.0538,216.992 77.9229,217.965 82.9836,218.91 92.9134,220.664 102.843,222.318 112.773,223.872 114.876,224.18 122.703,225.256 132.632,226.528 \n",
       "  142.562,227.705 152.492,228.788 162.422,229.777 169.291,230.396 172.352,230.656 182.281,231.411 192.211,232.076 202.141,232.654 212.071,233.142 222,233.542 \n",
       "  231.93,233.852 241.86,234.074 251.79,234.208 261.72,234.252 271.649,234.208 281.579,234.074 291.509,233.852 301.439,233.542 311.368,233.142 321.298,232.654 \n",
       "  331.228,232.076 341.158,231.411 351.087,230.656 354.149,230.396 361.017,229.777 370.947,228.788 380.877,227.705 390.807,226.528 400.736,225.256 408.563,224.18 \n",
       "  410.666,223.872 420.596,222.318 430.526,220.664 440.455,218.91 445.516,217.965 450.385,216.992 460.315,214.903 \n",
       "  \"/>\n",
       "<polyline clip-path=\"url(#clip7302)\" style=\"stroke:#821f6b; stroke-width:1; stroke-opacity:1; fill:none\" points=\"\n",
       "  460.315,203.029 450.385,205.453 450.04,205.533 440.455,207.589 430.526,209.603 420.596,211.502 419.223,211.749 410.666,213.18 400.736,214.734 390.807,216.181 \n",
       "  380.877,217.521 377.3,217.965 370.947,218.702 361.017,219.755 351.087,220.707 341.158,221.559 331.228,222.311 321.298,222.963 311.368,223.514 301.439,223.965 \n",
       "  295.359,224.18 291.509,224.308 281.579,224.543 271.649,224.685 261.72,224.732 251.79,224.685 241.86,224.543 231.93,224.308 228.08,224.18 222,223.965 \n",
       "  212.071,223.514 202.141,222.963 192.211,222.311 182.281,221.559 172.352,220.707 162.422,219.755 152.492,218.702 146.139,217.965 142.562,217.521 132.632,216.181 \n",
       "  122.703,214.734 112.773,213.18 104.216,211.749 102.843,211.502 92.9134,209.603 82.9836,207.589 73.3989,205.533 73.0538,205.453 63.1241,203.029 \n",
       "  \"/>\n",
       "<polyline clip-path=\"url(#clip7302)\" style=\"stroke:#63146e; stroke-width:1; stroke-opacity:1; fill:none\" points=\"\n",
       "  63.1241,189.001 73.0538,191.886 77.4628,193.102 82.9836,194.492 92.9134,196.857 102.843,199.086 103.941,199.318 112.773,201.031 122.703,202.834 132.632,204.512 \n",
       "  139.158,205.533 142.562,206.027 152.492,207.35 162.422,208.559 172.352,209.652 182.281,210.631 192.211,211.494 195.594,211.749 202.141,212.208 212.071,212.798 \n",
       "  222,213.28 231.93,213.655 241.86,213.923 251.79,214.084 261.72,214.137 271.649,214.084 281.579,213.923 291.509,213.655 301.439,213.28 311.368,212.798 \n",
       "  321.298,212.208 327.845,211.749 331.228,211.494 341.158,210.631 351.087,209.652 361.017,208.559 370.947,207.35 380.877,206.027 384.281,205.533 390.807,204.512 \n",
       "  400.736,202.834 410.666,201.031 419.498,199.318 420.596,199.086 430.526,196.857 440.455,194.492 445.976,193.102 450.385,191.886 460.315,189.001 \n",
       "  \"/>\n",
       "<polyline clip-path=\"url(#clip7302)\" style=\"stroke:#470b69; stroke-width:1; stroke-opacity:1; fill:none\" points=\"\n",
       "  460.315,170.874 451.513,174.455 450.385,174.86 440.455,178.242 432.917,180.671 430.526,181.36 420.596,184.059 410.666,186.594 409.443,186.886 400.736,188.768 \n",
       "  390.807,190.766 380.877,192.616 378.04,193.102 370.947,194.212 361.017,195.631 351.087,196.914 341.158,198.063 331.228,199.076 328.5,199.318 321.298,199.904 \n",
       "  311.368,200.587 301.439,201.147 291.509,201.582 281.579,201.893 271.649,202.079 261.72,202.141 251.79,202.079 241.86,201.893 231.93,201.582 222,201.147 \n",
       "  212.071,200.587 202.141,199.904 194.939,199.318 192.211,199.076 182.281,198.063 172.352,196.914 162.422,195.631 152.492,194.212 145.399,193.102 142.562,192.616 \n",
       "  132.632,190.766 122.703,188.768 113.996,186.886 112.773,186.594 102.843,184.059 92.9134,181.36 90.5221,180.671 82.9836,178.242 73.0538,174.86 71.9263,174.455 \n",
       "  63.1241,170.874 \n",
       "  \"/>\n",
       "<polyline clip-path=\"url(#clip7302)\" style=\"stroke:#270b52; stroke-width:1; stroke-opacity:1; fill:none\" points=\"\n",
       "  63.1241,136.274 63.5605,137.162 68.6527,143.377 73.0538,147.214 75.9293,149.593 82.9836,154.131 85.7396,155.808 92.9134,159.38 98.5445,162.024 102.843,163.732 \n",
       "  112.773,167.437 115.072,168.24 122.703,170.548 132.632,173.345 136.888,174.455 142.562,175.761 152.492,177.863 162.422,179.783 167.499,180.671 172.352,181.43 \n",
       "  182.281,182.821 192.211,184.047 202.141,185.111 212.071,186.01 222,186.746 224.432,186.886 231.93,187.278 241.86,187.648 251.79,187.87 261.72,187.944 \n",
       "  271.649,187.87 281.579,187.648 291.509,187.278 299.007,186.886 301.439,186.746 311.368,186.01 321.298,185.111 331.228,184.047 341.158,182.821 351.087,181.43 \n",
       "  355.94,180.671 361.017,179.783 370.947,177.863 380.877,175.761 386.551,174.455 390.807,173.345 400.736,170.548 408.367,168.24 410.666,167.437 420.596,163.732 \n",
       "  424.894,162.024 430.526,159.38 437.699,155.808 440.455,154.131 447.51,149.593 450.385,147.214 454.786,143.377 459.878,137.162 460.315,136.274 \n",
       "  \"/>\n",
       "<polyline clip-path=\"url(#clip7302)\" style=\"stroke:#270b52; stroke-width:1; stroke-opacity:1; fill:none\" points=\"\n",
       "  460.315,113.187 459.878,112.299 454.786,106.083 450.385,102.246 447.51,99.8678 440.455,95.3294 437.699,93.6522 430.526,90.0802 424.894,87.4366 420.596,85.729 \n",
       "  410.666,82.0235 408.367,81.221 400.736,78.9123 390.807,76.1153 386.551,75.0054 380.877,73.6996 370.947,71.5972 361.017,69.6777 355.94,68.7898 351.087,68.0303 \n",
       "  341.158,66.64 331.228,65.4132 321.298,64.35 311.368,63.4504 301.439,62.7143 299.007,62.5741 291.509,62.183 281.579,61.813 271.649,61.5911 261.72,61.5171 \n",
       "  251.79,61.5911 241.86,61.813 231.93,62.183 224.432,62.5741 222,62.7143 212.071,63.4504 202.141,64.35 192.211,65.4132 182.281,66.64 172.352,68.0303 \n",
       "  167.499,68.7898 162.422,69.6777 152.492,71.5972 142.562,73.6996 136.888,75.0054 132.632,76.1153 122.703,78.9123 115.072,81.221 112.773,82.0235 102.843,85.729 \n",
       "  98.5445,87.4366 92.9134,90.0802 85.7396,93.6522 82.9836,95.3294 75.9293,99.8678 73.0538,102.246 68.6527,106.083 63.5605,112.299 63.1241,113.187 \n",
       "  \"/>\n",
       "<polyline clip-path=\"url(#clip7302)\" style=\"stroke:#470b69; stroke-width:1; stroke-opacity:1; fill:none\" points=\"\n",
       "  63.1241,78.5867 71.9263,75.0054 73.0538,74.6006 82.9836,71.2185 90.5221,68.7898 92.9134,68.1004 102.843,65.4015 112.773,62.8662 113.996,62.5741 122.703,60.6925 \n",
       "  132.632,58.6947 142.562,56.8448 145.399,56.3585 152.492,55.2486 162.422,53.8298 172.352,52.5461 182.281,51.3976 192.211,50.3842 194.939,50.1429 202.141,49.5569 \n",
       "  212.071,48.8731 222,48.3137 231.93,47.8786 241.86,47.5679 251.79,47.3814 261.72,47.3192 271.649,47.3814 281.579,47.5679 291.509,47.8786 301.439,48.3137 \n",
       "  311.368,48.8731 321.298,49.5569 328.5,50.1429 331.228,50.3842 341.158,51.3976 351.087,52.5461 361.017,53.8298 370.947,55.2486 378.04,56.3585 380.877,56.8448 \n",
       "  390.807,58.6947 400.736,60.6925 409.443,62.5741 410.666,62.8662 420.596,65.4015 430.526,68.1004 432.917,68.7898 440.455,71.2185 450.385,74.6006 451.513,75.0054 \n",
       "  460.315,78.5867 \n",
       "  \"/>\n",
       "<polyline clip-path=\"url(#clip7302)\" style=\"stroke:#63146e; stroke-width:1; stroke-opacity:1; fill:none\" points=\"\n",
       "  460.315,60.46 450.385,57.5742 445.976,56.3585 440.455,54.9687 430.526,52.6041 420.596,50.3745 419.498,50.1429 410.666,48.4292 400.736,46.6266 390.807,44.9484 \n",
       "  384.281,43.9273 380.877,43.434 370.947,42.1103 361.017,40.9017 351.087,39.8082 341.158,38.8298 331.228,37.9666 327.845,37.7117 321.298,37.2524 311.368,36.663 \n",
       "  301.439,36.1807 291.509,35.8057 281.579,35.5377 271.649,35.377 261.72,35.3234 251.79,35.377 241.86,35.5377 231.93,35.8057 222,36.1807 212.071,36.663 \n",
       "  202.141,37.2524 195.594,37.7117 192.211,37.9666 182.281,38.8298 172.352,39.8082 162.422,40.9017 152.492,42.1103 142.562,43.434 139.158,43.9273 132.632,44.9484 \n",
       "  122.703,46.6266 112.773,48.4292 103.941,50.1429 102.843,50.3745 92.9134,52.6041 82.9836,54.9687 77.4628,56.3585 73.0538,57.5742 63.1241,60.46 \n",
       "  \"/>\n",
       "<polyline clip-path=\"url(#clip7302)\" style=\"stroke:#821f6b; stroke-width:1; stroke-opacity:1; fill:none\" points=\"\n",
       "  63.1241,46.4313 73.0538,44.0072 73.3989,43.9273 82.9836,41.8719 92.9134,39.8575 102.843,37.9583 104.216,37.7117 112.773,36.2802 122.703,34.7263 132.632,33.2796 \n",
       "  142.562,31.94 146.139,31.4961 \n",
       "  \"/>\n",
       "<polyline clip-path=\"url(#clip7302)\" style=\"stroke:#9e2a62; stroke-width:1; stroke-opacity:1; fill:none\" points=\"\n",
       "  77.9229,31.4961 73.0538,32.4682 63.1241,34.5579 \n",
       "  \"/>\n",
       "<polyline clip-path=\"url(#clip7302)\" style=\"stroke:#821f6b; stroke-width:1; stroke-opacity:1; fill:none\" points=\"\n",
       "  377.3,31.4961 380.877,31.94 390.807,33.2796 400.736,34.7263 410.666,36.2802 419.223,37.7117 420.596,37.9583 430.526,39.8575 440.455,41.8719 450.04,43.9273 \n",
       "  450.385,44.0072 460.315,46.4313 \n",
       "  \"/>\n",
       "<polyline clip-path=\"url(#clip7302)\" style=\"stroke:#9e2a62; stroke-width:1; stroke-opacity:1; fill:none\" points=\"\n",
       "  460.315,34.5579 450.385,32.4682 445.516,31.4961 \n",
       "  \"/>\n",
       "<polyline clip-path=\"url(#clip7302)\" style=\"stroke:#f3e258; stroke-width:1; stroke-opacity:1; fill:none\" points=\"\n",
       "  457.478,273.905 460.315,273.537 \n",
       "  \"/>\n",
       "<polyline clip-path=\"url(#clip7302)\" style=\"stroke:#f3e258; stroke-width:1; stroke-opacity:1; fill:none\" points=\"\n",
       "  399.58,280.121 400.736,280.021 410.666,279.101 420.596,278.118 430.526,277.072 440.455,275.962 450.385,274.788 457.478,273.905 \n",
       "  \"/>\n",
       "<polyline clip-path=\"url(#clip7302)\" style=\"stroke:#0d0829; stroke-width:1; stroke-opacity:1; fill:none\" points=\"\n",
       "  291.509,168.462 281.579,168.98 271.649,169.29 261.72,169.394 251.79,169.29 241.86,168.98 231.93,168.462 228.89,168.24 222,167.659 212.071,166.583 \n",
       "  202.141,165.268 192.211,163.714 182.849,162.024 182.281,161.903 172.352,159.501 162.422,156.817 159.044,155.808 152.492,153.416 142.932,149.593 142.562,149.402 \n",
       "  132.632,143.853 131.844,143.377 124.489,137.162 122.703,134.646 120.257,130.946 118.887,124.73 120.257,118.515 122.703,114.815 124.489,112.299 131.844,106.083 \n",
       "  132.632,105.608 142.562,100.058 142.932,99.8678 152.492,96.0447 159.044,93.6522 162.422,92.6432 172.352,89.9592 182.281,87.5577 182.849,87.4366 192.211,85.7461 \n",
       "  202.141,84.1922 212.071,82.8773 222,81.8016 228.89,81.221 231.93,80.999 241.86,80.481 251.79,80.1702 261.72,80.0667 271.649,80.1702 281.579,80.481 \n",
       "  291.509,80.999 294.549,81.221 301.439,81.8016 311.368,82.8773 321.298,84.1922 331.228,85.7461 340.59,87.4366 341.158,87.5577 351.087,89.9592 361.017,92.6432 \n",
       "  364.395,93.6522 370.947,96.0447 380.507,99.8678 380.877,100.058 390.807,105.608 391.595,106.083 398.95,112.299 400.736,114.815 403.182,118.515 404.552,124.73 \n",
       "  403.182,130.946 400.736,134.646 398.95,137.162 391.595,143.377 390.807,143.853 380.877,149.402 380.507,149.593 370.947,153.416 364.395,155.808 361.017,156.817 \n",
       "  351.087,159.501 341.158,161.903 340.59,162.024 331.228,163.714 321.298,165.268 311.368,166.583 301.439,167.659 294.549,168.24 291.509,168.462 \n",
       "  \"/>\n",
       "</svg>\n"
      ]
     },
     "execution_count": 13,
     "metadata": {},
     "output_type": "execute_result"
    }
   ],
   "source": [
    "p1 =contour(x1,x2,copy(L'),legend=false)         #notice the transpose: L'\n",
    "title!(\"Contour plot of loss function\")\n",
    "xlabel!(\"x1\")\n",
    "ylabel!(\"x2\")"
   ]
  },
  {
   "cell_type": "code",
   "execution_count": 14,
   "metadata": {},
   "outputs": [
    {
     "name": "stdout",
     "output_type": "stream",
     "text": [
      "The minimum is at :      2.000    -0.750\n",
      "Compare with the contour plot above\n"
     ]
    }
   ],
   "source": [
    "Sol2 = optimize(x->fn2(x,0.5),[1.0,-0.5])    \n",
    "\n",
    "printlnPs(\"The minimum is at : \", Optim.minimizer(Sol2))\n",
    "println(\"Compare with the contour plot above\")   "
   ]
  },
  {
   "cell_type": "code",
   "execution_count": null,
   "metadata": {},
   "outputs": [],
   "source": []
  }
 ],
 "metadata": {
  "anaconda-cloud": {},
  "kernelspec": {
   "display_name": "Julia 1.0.0",
   "language": "julia",
   "name": "julia-1.0"
  },
  "language_info": {
   "file_extension": ".jl",
   "mimetype": "application/julia",
   "name": "julia",
   "version": "1.0.0"
  }
 },
 "nbformat": 4,
 "nbformat_minor": 1
}
