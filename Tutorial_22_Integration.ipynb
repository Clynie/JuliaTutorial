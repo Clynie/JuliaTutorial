{
 "cells": [
  {
   "cell_type": "markdown",
   "metadata": {},
   "source": [
    "# Numerical Integration and Differentiation\n",
    "\n",
    "This notebook illustrates how to perform numerical integration and differentiation. \n",
    "\n",
    "There are several packages for doing this. Here, the focus is on QuadGK (https://github.com/JuliaMath/QuadGK.jl) and ForwardDiff (https://github.com/JuliaDiff/ForwardDiff.jl)."
   ]
  },
  {
   "cell_type": "markdown",
   "metadata": {},
   "source": [
    "## Load Packages"
   ]
  },
  {
   "cell_type": "code",
   "execution_count": 1,
   "metadata": {},
   "outputs": [
    {
     "data": {
      "text/plain": [
       "printlnPs (generic function with 2 methods)"
      ]
     },
     "execution_count": 1,
     "metadata": {},
     "output_type": "execute_result"
    }
   ],
   "source": [
    "using Dates, QuadGK, ForwardDiff\n",
    "\n",
    "include(\"printmat.jl\")"
   ]
  },
  {
   "cell_type": "code",
   "execution_count": 3,
   "metadata": {},
   "outputs": [],
   "source": [
    "using Plots\n",
    "\n",
    "backend = \"gr\"              #\"gr\" (default), \"pyplot\" \n",
    "\n",
    "if backend == \"pyplot\"\n",
    "    pyplot(size=(600,400))\n",
    "else    \n",
    "    gr(size=(480,320))\n",
    "    default(fmt = :svg)\n",
    "end"
   ]
  },
  {
   "cell_type": "markdown",
   "metadata": {},
   "source": [
    "# Numerical Integration\n",
    "\n",
    "As a simple illustration, the next cells plot and integrate the $N(0,1)$ pdf."
   ]
  },
  {
   "cell_type": "markdown",
   "metadata": {},
   "source": [
    "## The Pdf of the N(μ,σ²) Distribution \n",
    "\n",
    "(Notice: the function takes $\\mu$ and $\\sigma^2$ as inputs. This differs from the Distributions package.) "
   ]
  },
  {
   "cell_type": "code",
   "execution_count": 4,
   "metadata": {},
   "outputs": [
    {
     "data": {
      "text/plain": [
       "ϕNS (generic function with 3 methods)"
      ]
     },
     "execution_count": 4,
     "metadata": {},
     "output_type": "execute_result"
    }
   ],
   "source": [
    "function ϕNS(x,μ=0,σ²=1)       #pdf of N(μ,σ²), defaults to N(0,1)\n",
    "    σ = sqrt(σ²)\n",
    "    z = (x - μ)/σ\n",
    "    pdf = exp(-0.5*z^2)/(sqrt(2*pi)*σ)    \n",
    "    return pdf\n",
    "end"
   ]
  },
  {
   "cell_type": "code",
   "execution_count": 5,
   "metadata": {},
   "outputs": [
    {
     "data": {
      "image/svg+xml": [
       "<?xml version=\"1.0\" encoding=\"utf-8\"?>\n",
       "<svg xmlns=\"http://www.w3.org/2000/svg\" xmlns:xlink=\"http://www.w3.org/1999/xlink\" width=\"480\" height=\"320\" viewBox=\"0 0 480 320\">\n",
       "<defs>\n",
       "  <clipPath id=\"clip2900\">\n",
       "    <rect x=\"0\" y=\"0\" width=\"480\" height=\"320\"/>\n",
       "  </clipPath>\n",
       "</defs>\n",
       "<polygon clip-path=\"url(#clip2900)\" points=\"\n",
       "0,320 480,320 480,0 0,0 \n",
       "  \" fill=\"#ffffff\" fill-opacity=\"1\"/>\n",
       "<defs>\n",
       "  <clipPath id=\"clip2901\">\n",
       "    <rect x=\"96\" y=\"0\" width=\"337\" height=\"320\"/>\n",
       "  </clipPath>\n",
       "</defs>\n",
       "<polygon clip-path=\"url(#clip2900)\" points=\"\n",
       "40.3485,280.121 460.315,280.121 460.315,31.4961 40.3485,31.4961 \n",
       "  \" fill=\"#ffffff\" fill-opacity=\"1\"/>\n",
       "<defs>\n",
       "  <clipPath id=\"clip2902\">\n",
       "    <rect x=\"40\" y=\"31\" width=\"421\" height=\"250\"/>\n",
       "  </clipPath>\n",
       "</defs>\n",
       "<polyline clip-path=\"url(#clip2902)\" style=\"stroke:#000000; stroke-width:0.5; stroke-opacity:0.1; fill:none\" points=\"\n",
       "  52.2344,280.121 52.2344,31.4961 \n",
       "  \"/>\n",
       "<polyline clip-path=\"url(#clip2902)\" style=\"stroke:#000000; stroke-width:0.5; stroke-opacity:0.1; fill:none\" points=\"\n",
       "  118.267,280.121 118.267,31.4961 \n",
       "  \"/>\n",
       "<polyline clip-path=\"url(#clip2902)\" style=\"stroke:#000000; stroke-width:0.5; stroke-opacity:0.1; fill:none\" points=\"\n",
       "  184.299,280.121 184.299,31.4961 \n",
       "  \"/>\n",
       "<polyline clip-path=\"url(#clip2902)\" style=\"stroke:#000000; stroke-width:0.5; stroke-opacity:0.1; fill:none\" points=\"\n",
       "  250.332,280.121 250.332,31.4961 \n",
       "  \"/>\n",
       "<polyline clip-path=\"url(#clip2902)\" style=\"stroke:#000000; stroke-width:0.5; stroke-opacity:0.1; fill:none\" points=\"\n",
       "  316.364,280.121 316.364,31.4961 \n",
       "  \"/>\n",
       "<polyline clip-path=\"url(#clip2902)\" style=\"stroke:#000000; stroke-width:0.5; stroke-opacity:0.1; fill:none\" points=\"\n",
       "  382.397,280.121 382.397,31.4961 \n",
       "  \"/>\n",
       "<polyline clip-path=\"url(#clip2902)\" style=\"stroke:#000000; stroke-width:0.5; stroke-opacity:0.1; fill:none\" points=\"\n",
       "  448.429,280.121 448.429,31.4961 \n",
       "  \"/>\n",
       "<polyline clip-path=\"url(#clip2902)\" style=\"stroke:#000000; stroke-width:0.5; stroke-opacity:0.1; fill:none\" points=\"\n",
       "  40.3485,273.084 460.315,273.084 \n",
       "  \"/>\n",
       "<polyline clip-path=\"url(#clip2902)\" style=\"stroke:#000000; stroke-width:0.5; stroke-opacity:0.1; fill:none\" points=\"\n",
       "  40.3485,214.291 460.315,214.291 \n",
       "  \"/>\n",
       "<polyline clip-path=\"url(#clip2902)\" style=\"stroke:#000000; stroke-width:0.5; stroke-opacity:0.1; fill:none\" points=\"\n",
       "  40.3485,155.497 460.315,155.497 \n",
       "  \"/>\n",
       "<polyline clip-path=\"url(#clip2902)\" style=\"stroke:#000000; stroke-width:0.5; stroke-opacity:0.1; fill:none\" points=\"\n",
       "  40.3485,96.7041 460.315,96.7041 \n",
       "  \"/>\n",
       "<polyline clip-path=\"url(#clip2902)\" style=\"stroke:#000000; stroke-width:0.5; stroke-opacity:0.1; fill:none\" points=\"\n",
       "  40.3485,37.9107 460.315,37.9107 \n",
       "  \"/>\n",
       "<polyline clip-path=\"url(#clip2900)\" style=\"stroke:#000000; stroke-width:1; stroke-opacity:1; fill:none\" points=\"\n",
       "  40.3485,280.121 460.315,280.121 \n",
       "  \"/>\n",
       "<polyline clip-path=\"url(#clip2900)\" style=\"stroke:#000000; stroke-width:1; stroke-opacity:1; fill:none\" points=\"\n",
       "  40.3485,280.121 40.3485,31.4961 \n",
       "  \"/>\n",
       "<polyline clip-path=\"url(#clip2900)\" style=\"stroke:#000000; stroke-width:1; stroke-opacity:1; fill:none\" points=\"\n",
       "  52.2344,280.121 52.2344,276.391 \n",
       "  \"/>\n",
       "<polyline clip-path=\"url(#clip2900)\" style=\"stroke:#000000; stroke-width:1; stroke-opacity:1; fill:none\" points=\"\n",
       "  118.267,280.121 118.267,276.391 \n",
       "  \"/>\n",
       "<polyline clip-path=\"url(#clip2900)\" style=\"stroke:#000000; stroke-width:1; stroke-opacity:1; fill:none\" points=\"\n",
       "  184.299,280.121 184.299,276.391 \n",
       "  \"/>\n",
       "<polyline clip-path=\"url(#clip2900)\" style=\"stroke:#000000; stroke-width:1; stroke-opacity:1; fill:none\" points=\"\n",
       "  250.332,280.121 250.332,276.391 \n",
       "  \"/>\n",
       "<polyline clip-path=\"url(#clip2900)\" style=\"stroke:#000000; stroke-width:1; stroke-opacity:1; fill:none\" points=\"\n",
       "  316.364,280.121 316.364,276.391 \n",
       "  \"/>\n",
       "<polyline clip-path=\"url(#clip2900)\" style=\"stroke:#000000; stroke-width:1; stroke-opacity:1; fill:none\" points=\"\n",
       "  382.397,280.121 382.397,276.391 \n",
       "  \"/>\n",
       "<polyline clip-path=\"url(#clip2900)\" style=\"stroke:#000000; stroke-width:1; stroke-opacity:1; fill:none\" points=\"\n",
       "  448.429,280.121 448.429,276.391 \n",
       "  \"/>\n",
       "<polyline clip-path=\"url(#clip2900)\" style=\"stroke:#000000; stroke-width:1; stroke-opacity:1; fill:none\" points=\"\n",
       "  40.3485,273.084 46.648,273.084 \n",
       "  \"/>\n",
       "<polyline clip-path=\"url(#clip2900)\" style=\"stroke:#000000; stroke-width:1; stroke-opacity:1; fill:none\" points=\"\n",
       "  40.3485,214.291 46.648,214.291 \n",
       "  \"/>\n",
       "<polyline clip-path=\"url(#clip2900)\" style=\"stroke:#000000; stroke-width:1; stroke-opacity:1; fill:none\" points=\"\n",
       "  40.3485,155.497 46.648,155.497 \n",
       "  \"/>\n",
       "<polyline clip-path=\"url(#clip2900)\" style=\"stroke:#000000; stroke-width:1; stroke-opacity:1; fill:none\" points=\"\n",
       "  40.3485,96.7041 46.648,96.7041 \n",
       "  \"/>\n",
       "<polyline clip-path=\"url(#clip2900)\" style=\"stroke:#000000; stroke-width:1; stroke-opacity:1; fill:none\" points=\"\n",
       "  40.3485,37.9107 46.648,37.9107 \n",
       "  \"/>\n",
       "<g clip-path=\"url(#clip2900)\">\n",
       "<text style=\"fill:#000000; fill-opacity:1; font-family:Arial,Helvetica Neue,Helvetica,sans-serif; font-size:12; text-anchor:middle;\" transform=\"rotate(0, 52.2344, 293.321)\" x=\"52.2344\" y=\"293.321\">-3</text>\n",
       "</g>\n",
       "<g clip-path=\"url(#clip2900)\">\n",
       "<text style=\"fill:#000000; fill-opacity:1; font-family:Arial,Helvetica Neue,Helvetica,sans-serif; font-size:12; text-anchor:middle;\" transform=\"rotate(0, 118.267, 293.321)\" x=\"118.267\" y=\"293.321\">-2</text>\n",
       "</g>\n",
       "<g clip-path=\"url(#clip2900)\">\n",
       "<text style=\"fill:#000000; fill-opacity:1; font-family:Arial,Helvetica Neue,Helvetica,sans-serif; font-size:12; text-anchor:middle;\" transform=\"rotate(0, 184.299, 293.321)\" x=\"184.299\" y=\"293.321\">-1</text>\n",
       "</g>\n",
       "<g clip-path=\"url(#clip2900)\">\n",
       "<text style=\"fill:#000000; fill-opacity:1; font-family:Arial,Helvetica Neue,Helvetica,sans-serif; font-size:12; text-anchor:middle;\" transform=\"rotate(0, 250.332, 293.321)\" x=\"250.332\" y=\"293.321\">0</text>\n",
       "</g>\n",
       "<g clip-path=\"url(#clip2900)\">\n",
       "<text style=\"fill:#000000; fill-opacity:1; font-family:Arial,Helvetica Neue,Helvetica,sans-serif; font-size:12; text-anchor:middle;\" transform=\"rotate(0, 316.364, 293.321)\" x=\"316.364\" y=\"293.321\">1</text>\n",
       "</g>\n",
       "<g clip-path=\"url(#clip2900)\">\n",
       "<text style=\"fill:#000000; fill-opacity:1; font-family:Arial,Helvetica Neue,Helvetica,sans-serif; font-size:12; text-anchor:middle;\" transform=\"rotate(0, 382.397, 293.321)\" x=\"382.397\" y=\"293.321\">2</text>\n",
       "</g>\n",
       "<g clip-path=\"url(#clip2900)\">\n",
       "<text style=\"fill:#000000; fill-opacity:1; font-family:Arial,Helvetica Neue,Helvetica,sans-serif; font-size:12; text-anchor:middle;\" transform=\"rotate(0, 448.429, 293.321)\" x=\"448.429\" y=\"293.321\">3</text>\n",
       "</g>\n",
       "<g clip-path=\"url(#clip2900)\">\n",
       "<text style=\"fill:#000000; fill-opacity:1; font-family:Arial,Helvetica Neue,Helvetica,sans-serif; font-size:12; text-anchor:end;\" transform=\"rotate(0, 35.5485, 277.584)\" x=\"35.5485\" y=\"277.584\">0.0</text>\n",
       "</g>\n",
       "<g clip-path=\"url(#clip2900)\">\n",
       "<text style=\"fill:#000000; fill-opacity:1; font-family:Arial,Helvetica Neue,Helvetica,sans-serif; font-size:12; text-anchor:end;\" transform=\"rotate(0, 35.5485, 218.791)\" x=\"35.5485\" y=\"218.791\">0.1</text>\n",
       "</g>\n",
       "<g clip-path=\"url(#clip2900)\">\n",
       "<text style=\"fill:#000000; fill-opacity:1; font-family:Arial,Helvetica Neue,Helvetica,sans-serif; font-size:12; text-anchor:end;\" transform=\"rotate(0, 35.5485, 159.997)\" x=\"35.5485\" y=\"159.997\">0.2</text>\n",
       "</g>\n",
       "<g clip-path=\"url(#clip2900)\">\n",
       "<text style=\"fill:#000000; fill-opacity:1; font-family:Arial,Helvetica Neue,Helvetica,sans-serif; font-size:12; text-anchor:end;\" transform=\"rotate(0, 35.5485, 101.204)\" x=\"35.5485\" y=\"101.204\">0.3</text>\n",
       "</g>\n",
       "<g clip-path=\"url(#clip2900)\">\n",
       "<text style=\"fill:#000000; fill-opacity:1; font-family:Arial,Helvetica Neue,Helvetica,sans-serif; font-size:12; text-anchor:end;\" transform=\"rotate(0, 35.5485, 42.4107)\" x=\"35.5485\" y=\"42.4107\">0.4</text>\n",
       "</g>\n",
       "<g clip-path=\"url(#clip2900)\">\n",
       "<text style=\"fill:#000000; fill-opacity:1; font-family:Arial,Helvetica Neue,Helvetica,sans-serif; font-size:21; text-anchor:middle;\" transform=\"rotate(0, 250.332, 18)\" x=\"250.332\" y=\"18\">pdf of N(0,1)</text>\n",
       "</g>\n",
       "<g clip-path=\"url(#clip2900)\">\n",
       "<text style=\"fill:#000000; fill-opacity:1; font-family:Arial,Helvetica Neue,Helvetica,sans-serif; font-size:16; text-anchor:middle;\" transform=\"rotate(0, 250.332, 317.6)\" x=\"250.332\" y=\"317.6\">x</text>\n",
       "</g>\n",
       "<polyline clip-path=\"url(#clip2902)\" style=\"stroke:#ff0000; stroke-width:2; stroke-opacity:1; fill:none\" points=\"\n",
       "  52.2344,270.478 58.8376,269.584 65.4408,268.43 72.0441,266.957 78.6473,265.098 85.2506,262.779 91.8538,259.918 98.4571,256.43 105.06,252.227 111.664,247.225 \n",
       "  118.267,241.341 124.87,234.506 131.473,226.667 138.077,217.79 144.68,207.87 151.283,196.936 157.886,185.054 164.49,172.331 171.093,158.916 177.696,145.002 \n",
       "  184.299,130.821 190.903,116.644 197.506,102.765 204.109,89.4996 210.712,77.1702 217.316,66.0931 223.919,56.5658 230.522,48.8535 237.125,43.177 243.728,39.7024 \n",
       "  250.332,38.5326 256.935,39.7024 263.538,43.177 270.141,48.8535 276.745,56.5658 283.348,66.0931 289.951,77.1702 296.554,89.4996 303.158,102.765 309.761,116.644 \n",
       "  316.364,130.821 322.967,145.002 329.571,158.916 336.174,172.331 342.777,185.054 349.38,196.936 355.984,207.87 362.587,217.79 369.19,226.667 375.793,234.506 \n",
       "  382.397,241.341 389,247.225 395.603,252.227 402.206,256.43 408.81,259.918 415.413,262.779 422.016,265.098 428.619,266.957 435.223,268.43 441.826,269.584 \n",
       "  448.429,270.478 \n",
       "  \"/>\n",
       "<polygon clip-path=\"url(#clip2902)\" points=\"\n",
       "52.2344,270.478 58.8376,269.584 65.4408,268.43 72.0441,266.957 78.6473,265.098 85.2506,262.779 91.8538,259.918 98.4571,256.43 105.06,252.227 111.664,247.225 \n",
       "  118.267,241.341 124.87,234.506 131.473,226.667 138.077,217.79 144.68,207.87 151.283,196.936 157.886,185.054 164.49,172.331 171.093,158.916 177.696,145.002 \n",
       "  184.299,130.821 190.903,116.644 197.506,102.765 204.109,89.4996 210.712,77.1702 217.316,66.0931 223.919,56.5658 230.522,48.8535 237.125,43.177 243.728,39.7024 \n",
       "  250.332,38.5326 256.935,39.7024 263.538,43.177 270.141,48.8535 276.745,56.5658 283.348,66.0931 289.951,77.1702 296.554,89.4996 303.158,102.765 309.761,116.644 \n",
       "  316.364,130.821 322.967,145.002 329.571,158.916 336.174,172.331 342.777,185.054 349.38,196.936 355.984,207.87 355.984,273.084 349.38,273.084 342.777,273.084 \n",
       "  336.174,273.084 329.571,273.084 322.967,273.084 316.364,273.084 309.761,273.084 303.158,273.084 296.554,273.084 289.951,273.084 283.348,273.084 276.745,273.084 \n",
       "  270.141,273.084 263.538,273.084 256.935,273.084 250.332,273.084 243.728,273.084 237.125,273.084 230.522,273.084 223.919,273.084 217.316,273.084 210.712,273.084 \n",
       "  204.109,273.084 197.506,273.084 190.903,273.084 184.299,273.084 177.696,273.084 171.093,273.084 164.49,273.084 157.886,273.084 151.283,273.084 144.68,273.084 \n",
       "  138.077,273.084 131.473,273.084 124.87,273.084 118.267,273.084 111.664,273.084 105.06,273.084 98.4571,273.084 91.8538,273.084 85.2506,273.084 78.6473,273.084 \n",
       "  72.0441,273.084 65.4408,273.084 58.8376,273.084 52.2344,273.084 \n",
       "  \" fill=\"#ff0000\" fill-opacity=\"1\"/>\n",
       "<polyline clip-path=\"url(#clip2902)\" style=\"stroke:#ff0000; stroke-width:2; stroke-opacity:1; fill:none\" points=\"\n",
       "  52.2344,270.478 58.8376,269.584 65.4408,268.43 72.0441,266.957 78.6473,265.098 85.2506,262.779 91.8538,259.918 98.4571,256.43 105.06,252.227 111.664,247.225 \n",
       "  118.267,241.341 124.87,234.506 131.473,226.667 138.077,217.79 144.68,207.87 151.283,196.936 157.886,185.054 164.49,172.331 171.093,158.916 177.696,145.002 \n",
       "  184.299,130.821 190.903,116.644 197.506,102.765 204.109,89.4996 210.712,77.1702 217.316,66.0931 223.919,56.5658 230.522,48.8535 237.125,43.177 243.728,39.7024 \n",
       "  250.332,38.5326 256.935,39.7024 263.538,43.177 270.141,48.8535 276.745,56.5658 283.348,66.0931 289.951,77.1702 296.554,89.4996 303.158,102.765 309.761,116.644 \n",
       "  316.364,130.821 322.967,145.002 329.571,158.916 336.174,172.331 342.777,185.054 349.38,196.936 355.984,207.87 \n",
       "  \"/>\n",
       "<g clip-path=\"url(#clip2900)\">\n",
       "<text style=\"fill:#000000; fill-opacity:1; font-family:Arial,Helvetica Neue,Helvetica,sans-serif; font-size:21; text-anchor:middle;\" transform=\"rotate(0, 365.889, 122.261)\" x=\"365.889\" y=\"122.261\">the area covers</text>\n",
       "</g>\n",
       "<g clip-path=\"url(#clip2900)\">\n",
       "<text style=\"fill:#000000; fill-opacity:1; font-family:Arial,Helvetica Neue,Helvetica,sans-serif; font-size:21; text-anchor:middle;\" transform=\"rotate(0, 365.889, 144.941)\" x=\"365.889\" y=\"144.941\"> up to x=1.645</text>\n",
       "</g>\n",
       "</svg>\n"
      ]
     },
     "execution_count": 5,
     "metadata": {},
     "output_type": "execute_result"
    }
   ],
   "source": [
    "x  = -3:0.1:3\n",
    "xb = x[x.<=1.645]\n",
    "\n",
    "p1 = plot(x,ϕNS.(x),color=:red,linewidth=2,legend=nothing)\n",
    "plot!(xb,ϕNS.(xb),color=:red,linewidth=2,legend=nothing,fill=(0,:red))\n",
    "title!(\"pdf of N(0,1)\")\n",
    "xlabel!(\"x\")\n",
    "ylabel!(\"\")\n",
    "annotate!(1.75,0.25,\"the area covers\\n up to x=1.645\")"
   ]
  },
  {
   "cell_type": "markdown",
   "metadata": {},
   "source": [
    "## Calculating Prob(x<=1.645)\n",
    "\n",
    "The next cell calculates (by numeric integration)\n",
    "\n",
    "$\\int_{-\\infty}^{1.645}\\phi(x,0,\\sigma^2)dx$,\n",
    "\n",
    "where $\\phi(x,\\mu,\\sigma^2)$ is the pdf of an $N(\\mu,\\sigma^2)$ variable."
   ]
  },
  {
   "cell_type": "code",
   "execution_count": 6,
   "metadata": {},
   "outputs": [
    {
     "name": "stdout",
     "output_type": "stream",
     "text": [
      "\n",
      "Pr(x<=1.64) according to N(0,1):     0.950\n",
      "\n",
      "Pr(x<=1.64) according to N(0,5):     0.769\n"
     ]
    }
   ],
   "source": [
    "cdf1, = quadgk(x->ϕNS(x),-Inf,1.645)       #could replace x->ϕNS(x), by ϕNS\n",
    "printlnPs(\"\\nPr(x<=1.64) according to N(0,1):\", cdf1)\n",
    "\n",
    "cdf2, = quadgk(x->ϕNS(x,0,5),-Inf,1.645)\n",
    "printlnPs(\"\\nPr(x<=1.64) according to N(0,5):\", cdf2)"
   ]
  },
  {
   "cell_type": "markdown",
   "metadata": {
    "collapsed": true
   },
   "source": [
    "# Numerical Derivatives\n",
    "\n",
    "Numerical derivatives can be calculated by a crude finite difference (see `NumDer()` below) or by the much more sophisticated routines in the ForwardDiff.jl package.\n",
    "\n",
    "The function you want to differentiate must typically have only one argument (even if it is a vector). To turn a multi-argument function fn1(x,a) into a one-argument function transform it to an anonymous function by\n",
    "```\n",
    "x->fn1(x,a),\n",
    "```\n",
    "assuming that `a` has a value already. We can now differentiate wrt. `x`."
   ]
  },
  {
   "cell_type": "code",
   "execution_count": 7,
   "metadata": {},
   "outputs": [
    {
     "data": {
      "text/plain": [
       "NumDer (generic function with 1 method)"
      ]
     },
     "execution_count": 7,
     "metadata": {},
     "output_type": "execute_result"
    }
   ],
   "source": [
    "function NumDer(fun,b0,h)     #crude function for a centered numerical derivative\n",
    "    bminus = b0 .- h\n",
    "    bplus  = b0 .+ h\n",
    "    hh     = bplus - bminus\n",
    "    fplus  = fun(bplus)\n",
    "    fminus = fun(bminus)\n",
    "    D      = (fplus-fminus)/hh\n",
    "    return D\n",
    "end"
   ]
  },
  {
   "cell_type": "code",
   "execution_count": 8,
   "metadata": {},
   "outputs": [
    {
     "data": {
      "text/plain": [
       "fn1 (generic function with 1 method)"
      ]
     },
     "execution_count": 8,
     "metadata": {},
     "output_type": "execute_result"
    }
   ],
   "source": [
    "function fn1(x,a)                 #a simple function, to be differentiated\n",
    "   return (x - 1.1)^2 - a                \n",
    "end"
   ]
  },
  {
   "cell_type": "code",
   "execution_count": 9,
   "metadata": {},
   "outputs": [
    {
     "name": "stdout",
     "output_type": "stream",
     "text": [
      "The derivative at x=2 is (from two different methods): \n",
      "     1.800     1.800\n",
      "\n"
     ]
    }
   ],
   "source": [
    "x0 = 2\n",
    "\n",
    "dydx_A = NumDer(x->fn1(x,0.5),x0,0.01)           #differentiate fn1(x,0.5) at x = x0\n",
    "dydx_B = ForwardDiff.derivative(x->fn1(x,0.5),x0)\n",
    "\n",
    "println(\"The derivative at x=$x0 is (from two different methods): \")\n",
    "printmat([dydx_A dydx_B])"
   ]
  },
  {
   "cell_type": "code",
   "execution_count": 10,
   "metadata": {},
   "outputs": [
    {
     "name": "stdout",
     "output_type": "stream",
     "text": [
      "now lets plot this\n"
     ]
    }
   ],
   "source": [
    "x = -3:6/99:6          #calculate the derivative at many points\n",
    "\n",
    "dydx_A = [NumDer(x->fn1(x,0.5),x[i],0.01) for i=1:length(x)]        \n",
    "\n",
    "dydx_B = [ForwardDiff.derivative(x->fn1(x,0.5),x[i]) for i=1:length(x)]\n",
    "\n",
    "println(\"now lets plot this\")"
   ]
  },
  {
   "cell_type": "code",
   "execution_count": 11,
   "metadata": {},
   "outputs": [
    {
     "data": {
      "image/svg+xml": [
       "<?xml version=\"1.0\" encoding=\"utf-8\"?>\n",
       "<svg xmlns=\"http://www.w3.org/2000/svg\" xmlns:xlink=\"http://www.w3.org/1999/xlink\" width=\"480\" height=\"320\" viewBox=\"0 0 480 320\">\n",
       "<defs>\n",
       "  <clipPath id=\"clip3100\">\n",
       "    <rect x=\"0\" y=\"0\" width=\"480\" height=\"320\"/>\n",
       "  </clipPath>\n",
       "</defs>\n",
       "<polygon clip-path=\"url(#clip3100)\" points=\"\n",
       "0,320 480,320 480,0 0,0 \n",
       "  \" fill=\"#ffffff\" fill-opacity=\"1\"/>\n",
       "<defs>\n",
       "  <clipPath id=\"clip3101\">\n",
       "    <rect x=\"96\" y=\"0\" width=\"337\" height=\"320\"/>\n",
       "  </clipPath>\n",
       "</defs>\n",
       "<polygon clip-path=\"url(#clip3100)\" points=\"\n",
       "37.3402,280.121 460.315,280.121 460.315,31.4961 37.3402,31.4961 \n",
       "  \" fill=\"#ffffff\" fill-opacity=\"1\"/>\n",
       "<defs>\n",
       "  <clipPath id=\"clip3102\">\n",
       "    <rect x=\"37\" y=\"31\" width=\"424\" height=\"250\"/>\n",
       "  </clipPath>\n",
       "</defs>\n",
       "<polyline clip-path=\"url(#clip3102)\" style=\"stroke:#000000; stroke-width:0.5; stroke-opacity:0.1; fill:none\" points=\"\n",
       "  93.7979,280.121 93.7979,31.4961 \n",
       "  \"/>\n",
       "<polyline clip-path=\"url(#clip3102)\" style=\"stroke:#000000; stroke-width:0.5; stroke-opacity:0.1; fill:none\" points=\"\n",
       "  182.771,280.121 182.771,31.4961 \n",
       "  \"/>\n",
       "<polyline clip-path=\"url(#clip3102)\" style=\"stroke:#000000; stroke-width:0.5; stroke-opacity:0.1; fill:none\" points=\"\n",
       "  271.745,280.121 271.745,31.4961 \n",
       "  \"/>\n",
       "<polyline clip-path=\"url(#clip3102)\" style=\"stroke:#000000; stroke-width:0.5; stroke-opacity:0.1; fill:none\" points=\"\n",
       "  360.719,280.121 360.719,31.4961 \n",
       "  \"/>\n",
       "<polyline clip-path=\"url(#clip3102)\" style=\"stroke:#000000; stroke-width:0.5; stroke-opacity:0.1; fill:none\" points=\"\n",
       "  449.692,280.121 449.692,31.4961 \n",
       "  \"/>\n",
       "<polyline clip-path=\"url(#clip3102)\" style=\"stroke:#000000; stroke-width:0.5; stroke-opacity:0.1; fill:none\" points=\"\n",
       "  37.3402,249.191 460.315,249.191 \n",
       "  \"/>\n",
       "<polyline clip-path=\"url(#clip3102)\" style=\"stroke:#000000; stroke-width:0.5; stroke-opacity:0.1; fill:none\" points=\"\n",
       "  37.3402,211.859 460.315,211.859 \n",
       "  \"/>\n",
       "<polyline clip-path=\"url(#clip3102)\" style=\"stroke:#000000; stroke-width:0.5; stroke-opacity:0.1; fill:none\" points=\"\n",
       "  37.3402,174.527 460.315,174.527 \n",
       "  \"/>\n",
       "<polyline clip-path=\"url(#clip3102)\" style=\"stroke:#000000; stroke-width:0.5; stroke-opacity:0.1; fill:none\" points=\"\n",
       "  37.3402,137.194 460.315,137.194 \n",
       "  \"/>\n",
       "<polyline clip-path=\"url(#clip3102)\" style=\"stroke:#000000; stroke-width:0.5; stroke-opacity:0.1; fill:none\" points=\"\n",
       "  37.3402,99.8619 460.315,99.8619 \n",
       "  \"/>\n",
       "<polyline clip-path=\"url(#clip3102)\" style=\"stroke:#000000; stroke-width:0.5; stroke-opacity:0.1; fill:none\" points=\"\n",
       "  37.3402,62.5295 460.315,62.5295 \n",
       "  \"/>\n",
       "<polyline clip-path=\"url(#clip3100)\" style=\"stroke:#000000; stroke-width:1; stroke-opacity:1; fill:none\" points=\"\n",
       "  37.3402,280.121 460.315,280.121 \n",
       "  \"/>\n",
       "<polyline clip-path=\"url(#clip3100)\" style=\"stroke:#000000; stroke-width:1; stroke-opacity:1; fill:none\" points=\"\n",
       "  37.3402,280.121 37.3402,31.4961 \n",
       "  \"/>\n",
       "<polyline clip-path=\"url(#clip3100)\" style=\"stroke:#000000; stroke-width:1; stroke-opacity:1; fill:none\" points=\"\n",
       "  93.7979,280.121 93.7979,276.391 \n",
       "  \"/>\n",
       "<polyline clip-path=\"url(#clip3100)\" style=\"stroke:#000000; stroke-width:1; stroke-opacity:1; fill:none\" points=\"\n",
       "  182.771,280.121 182.771,276.391 \n",
       "  \"/>\n",
       "<polyline clip-path=\"url(#clip3100)\" style=\"stroke:#000000; stroke-width:1; stroke-opacity:1; fill:none\" points=\"\n",
       "  271.745,280.121 271.745,276.391 \n",
       "  \"/>\n",
       "<polyline clip-path=\"url(#clip3100)\" style=\"stroke:#000000; stroke-width:1; stroke-opacity:1; fill:none\" points=\"\n",
       "  360.719,280.121 360.719,276.391 \n",
       "  \"/>\n",
       "<polyline clip-path=\"url(#clip3100)\" style=\"stroke:#000000; stroke-width:1; stroke-opacity:1; fill:none\" points=\"\n",
       "  449.692,280.121 449.692,276.391 \n",
       "  \"/>\n",
       "<polyline clip-path=\"url(#clip3100)\" style=\"stroke:#000000; stroke-width:1; stroke-opacity:1; fill:none\" points=\"\n",
       "  37.3402,249.191 43.6848,249.191 \n",
       "  \"/>\n",
       "<polyline clip-path=\"url(#clip3100)\" style=\"stroke:#000000; stroke-width:1; stroke-opacity:1; fill:none\" points=\"\n",
       "  37.3402,211.859 43.6848,211.859 \n",
       "  \"/>\n",
       "<polyline clip-path=\"url(#clip3100)\" style=\"stroke:#000000; stroke-width:1; stroke-opacity:1; fill:none\" points=\"\n",
       "  37.3402,174.527 43.6848,174.527 \n",
       "  \"/>\n",
       "<polyline clip-path=\"url(#clip3100)\" style=\"stroke:#000000; stroke-width:1; stroke-opacity:1; fill:none\" points=\"\n",
       "  37.3402,137.194 43.6848,137.194 \n",
       "  \"/>\n",
       "<polyline clip-path=\"url(#clip3100)\" style=\"stroke:#000000; stroke-width:1; stroke-opacity:1; fill:none\" points=\"\n",
       "  37.3402,99.8619 43.6848,99.8619 \n",
       "  \"/>\n",
       "<polyline clip-path=\"url(#clip3100)\" style=\"stroke:#000000; stroke-width:1; stroke-opacity:1; fill:none\" points=\"\n",
       "  37.3402,62.5295 43.6848,62.5295 \n",
       "  \"/>\n",
       "<g clip-path=\"url(#clip3100)\">\n",
       "<text style=\"fill:#000000; fill-opacity:1; font-family:Arial,Helvetica Neue,Helvetica,sans-serif; font-size:12; text-anchor:middle;\" transform=\"rotate(0, 93.7979, 293.321)\" x=\"93.7979\" y=\"293.321\">-2</text>\n",
       "</g>\n",
       "<g clip-path=\"url(#clip3100)\">\n",
       "<text style=\"fill:#000000; fill-opacity:1; font-family:Arial,Helvetica Neue,Helvetica,sans-serif; font-size:12; text-anchor:middle;\" transform=\"rotate(0, 182.771, 293.321)\" x=\"182.771\" y=\"293.321\">0</text>\n",
       "</g>\n",
       "<g clip-path=\"url(#clip3100)\">\n",
       "<text style=\"fill:#000000; fill-opacity:1; font-family:Arial,Helvetica Neue,Helvetica,sans-serif; font-size:12; text-anchor:middle;\" transform=\"rotate(0, 271.745, 293.321)\" x=\"271.745\" y=\"293.321\">2</text>\n",
       "</g>\n",
       "<g clip-path=\"url(#clip3100)\">\n",
       "<text style=\"fill:#000000; fill-opacity:1; font-family:Arial,Helvetica Neue,Helvetica,sans-serif; font-size:12; text-anchor:middle;\" transform=\"rotate(0, 360.719, 293.321)\" x=\"360.719\" y=\"293.321\">4</text>\n",
       "</g>\n",
       "<g clip-path=\"url(#clip3100)\">\n",
       "<text style=\"fill:#000000; fill-opacity:1; font-family:Arial,Helvetica Neue,Helvetica,sans-serif; font-size:12; text-anchor:middle;\" transform=\"rotate(0, 449.692, 293.321)\" x=\"449.692\" y=\"293.321\">6</text>\n",
       "</g>\n",
       "<g clip-path=\"url(#clip3100)\">\n",
       "<text style=\"fill:#000000; fill-opacity:1; font-family:Arial,Helvetica Neue,Helvetica,sans-serif; font-size:12; text-anchor:end;\" transform=\"rotate(0, 32.5402, 253.691)\" x=\"32.5402\" y=\"253.691\">-5</text>\n",
       "</g>\n",
       "<g clip-path=\"url(#clip3100)\">\n",
       "<text style=\"fill:#000000; fill-opacity:1; font-family:Arial,Helvetica Neue,Helvetica,sans-serif; font-size:12; text-anchor:end;\" transform=\"rotate(0, 32.5402, 216.359)\" x=\"32.5402\" y=\"216.359\">0</text>\n",
       "</g>\n",
       "<g clip-path=\"url(#clip3100)\">\n",
       "<text style=\"fill:#000000; fill-opacity:1; font-family:Arial,Helvetica Neue,Helvetica,sans-serif; font-size:12; text-anchor:end;\" transform=\"rotate(0, 32.5402, 179.027)\" x=\"32.5402\" y=\"179.027\">5</text>\n",
       "</g>\n",
       "<g clip-path=\"url(#clip3100)\">\n",
       "<text style=\"fill:#000000; fill-opacity:1; font-family:Arial,Helvetica Neue,Helvetica,sans-serif; font-size:12; text-anchor:end;\" transform=\"rotate(0, 32.5402, 141.694)\" x=\"32.5402\" y=\"141.694\">10</text>\n",
       "</g>\n",
       "<g clip-path=\"url(#clip3100)\">\n",
       "<text style=\"fill:#000000; fill-opacity:1; font-family:Arial,Helvetica Neue,Helvetica,sans-serif; font-size:12; text-anchor:end;\" transform=\"rotate(0, 32.5402, 104.362)\" x=\"32.5402\" y=\"104.362\">15</text>\n",
       "</g>\n",
       "<g clip-path=\"url(#clip3100)\">\n",
       "<text style=\"fill:#000000; fill-opacity:1; font-family:Arial,Helvetica Neue,Helvetica,sans-serif; font-size:12; text-anchor:end;\" transform=\"rotate(0, 32.5402, 67.0295)\" x=\"32.5402\" y=\"67.0295\">20</text>\n",
       "</g>\n",
       "<g clip-path=\"url(#clip3100)\">\n",
       "<text style=\"fill:#000000; fill-opacity:1; font-family:Arial,Helvetica Neue,Helvetica,sans-serif; font-size:21; text-anchor:middle;\" transform=\"rotate(0, 248.828, 18)\" x=\"248.828\" y=\"18\">fn1() and its derivative</text>\n",
       "</g>\n",
       "<g clip-path=\"url(#clip3100)\">\n",
       "<text style=\"fill:#000000; fill-opacity:1; font-family:Arial,Helvetica Neue,Helvetica,sans-serif; font-size:16; text-anchor:middle;\" transform=\"rotate(0, 248.828, 317.6)\" x=\"248.828\" y=\"317.6\">x</text>\n",
       "</g>\n",
       "<polyline clip-path=\"url(#clip3102)\" style=\"stroke:#000000; stroke-width:1; stroke-opacity:1; fill:none\" points=\"\n",
       "  49.3111,90.0808 52.0073,93.764 54.7035,97.3923 57.3996,100.966 60.0958,104.484 62.792,107.948 65.4881,111.357 68.1843,114.711 70.8805,118.01 73.5766,121.255 \n",
       "  76.2728,124.444 78.969,127.579 81.6652,130.659 84.3613,133.684 87.0575,136.654 89.7537,139.569 92.4498,142.43 95.146,145.235 97.8422,147.986 100.538,150.682 \n",
       "  103.234,153.323 105.931,155.909 108.627,158.441 111.323,160.917 114.019,163.339 116.715,165.705 119.412,168.017 122.108,170.274 124.804,172.477 127.5,174.624 \n",
       "  130.196,176.717 132.892,178.754 135.589,180.737 138.285,182.665 140.981,184.538 143.677,186.356 146.373,188.12 149.069,189.829 151.766,191.482 154.462,193.081 \n",
       "  157.158,194.625 159.854,196.114 162.55,197.549 165.246,198.928 167.943,200.253 170.639,201.523 173.335,202.737 176.031,203.898 178.727,205.003 181.423,206.053 \n",
       "  184.12,207.049 186.816,207.989 189.512,208.875 192.208,209.706 194.904,210.482 197.6,211.204 200.297,211.87 202.993,212.482 205.689,213.038 208.385,213.54 \n",
       "  211.081,213.987 213.777,214.379 216.474,214.717 219.17,214.999 221.866,215.227 224.562,215.4 227.258,215.518 229.954,215.581 232.651,215.589 235.347,215.542 \n",
       "  238.043,215.441 240.739,215.284 243.435,215.073 246.131,214.807 248.828,214.486 251.524,214.111 254.22,213.68 256.916,213.195 259.612,212.654 262.308,212.059 \n",
       "  265.005,211.409 267.701,210.704 270.397,209.945 273.093,209.13 275.789,208.261 278.485,207.337 281.182,206.358 283.878,205.324 286.574,204.235 289.27,203.091 \n",
       "  291.966,201.893 294.662,200.639 297.359,199.331 300.055,197.968 302.751,196.55 305.447,195.078 308.143,193.55 310.839,191.968 313.536,190.33 316.232,188.638 \n",
       "  318.928,186.891 321.624,185.089 324.32,183.233 327.016,181.321 329.713,179.355 332.409,177.334 335.105,175.258 337.801,173.127 340.497,170.941 343.193,168.7 \n",
       "  345.89,166.405 348.586,164.054 351.282,161.649 353.978,159.189 356.674,156.674 359.37,154.105 362.067,151.48 364.763,148.801 367.459,146.066 370.155,143.277 \n",
       "  372.851,140.433 375.547,137.534 378.244,134.581 380.94,131.572 383.636,128.509 386.332,125.391 389.028,122.217 391.724,118.99 394.421,115.707 397.117,112.369 \n",
       "  399.813,108.977 402.509,105.529 405.205,102.027 407.901,98.4701 410.598,94.8582 413.294,91.1915 415.99,87.4699 418.686,83.6935 421.382,79.8622 424.078,75.9761 \n",
       "  426.775,72.0351 429.471,68.0392 432.167,63.9886 434.863,59.883 437.559,55.7226 440.255,51.5074 442.952,47.2373 445.648,42.9124 448.344,38.5326 \n",
       "  \"/>\n",
       "<polyline clip-path=\"url(#clip3102)\" style=\"stroke:#ff0000; stroke-width:4; stroke-opacity:1; fill:none\" stroke-dasharray=\"2, 4\" points=\"\n",
       "  49.3111,273.084 52.0073,272.179 54.7035,271.274 57.3996,270.369 60.0958,269.464 62.792,268.559 65.4881,267.654 68.1843,266.749 70.8805,265.844 73.5766,264.939 \n",
       "  76.2728,264.034 78.969,263.129 81.6652,262.224 84.3613,261.319 87.0575,260.414 89.7537,259.509 92.4498,258.604 95.146,257.699 97.8422,256.794 100.538,255.889 \n",
       "  103.234,254.984 105.931,254.079 108.627,253.174 111.323,252.268 114.019,251.363 116.715,250.458 119.412,249.553 122.108,248.648 124.804,247.743 127.5,246.838 \n",
       "  130.196,245.933 132.892,245.028 135.589,244.123 138.285,243.218 140.981,242.313 143.677,241.408 146.373,240.503 149.069,239.598 151.766,238.693 154.462,237.788 \n",
       "  157.158,236.883 159.854,235.978 162.55,235.073 165.246,234.168 167.943,233.263 170.639,232.358 173.335,231.453 176.031,230.548 178.727,229.643 181.423,228.738 \n",
       "  184.12,227.833 186.816,226.928 189.512,226.023 192.208,225.118 194.904,224.213 197.6,223.308 200.297,222.403 202.993,221.498 205.689,220.593 208.385,219.687 \n",
       "  211.081,218.782 213.777,217.877 216.474,216.972 219.17,216.067 221.866,215.162 224.562,214.257 227.258,213.352 229.954,212.447 232.651,211.542 235.347,210.637 \n",
       "  238.043,209.732 240.739,208.827 243.435,207.922 246.131,207.017 248.828,206.112 251.524,205.207 254.22,204.302 256.916,203.397 259.612,202.492 262.308,201.587 \n",
       "  265.005,200.682 267.701,199.777 270.397,198.872 273.093,197.967 275.789,197.062 278.485,196.157 281.182,195.252 283.878,194.347 286.574,193.442 289.27,192.537 \n",
       "  291.966,191.632 294.662,190.727 297.359,189.822 300.055,188.917 302.751,188.012 305.447,187.107 308.143,186.201 310.839,185.296 313.536,184.391 316.232,183.486 \n",
       "  318.928,182.581 321.624,181.676 324.32,180.771 327.016,179.866 329.713,178.961 332.409,178.056 335.105,177.151 337.801,176.246 340.497,175.341 343.193,174.436 \n",
       "  345.89,173.531 348.586,172.626 351.282,171.721 353.978,170.816 356.674,169.911 359.37,169.006 362.067,168.101 364.763,167.196 367.459,166.291 370.155,165.386 \n",
       "  372.851,164.481 375.547,163.576 378.244,162.671 380.94,161.766 383.636,160.861 386.332,159.956 389.028,159.051 391.724,158.146 394.421,157.241 397.117,156.336 \n",
       "  399.813,155.431 402.509,154.526 405.205,153.62 407.901,152.715 410.598,151.81 413.294,150.905 415.99,150 418.686,149.095 421.382,148.19 424.078,147.285 \n",
       "  426.775,146.38 429.471,145.475 432.167,144.57 434.863,143.665 437.559,142.76 440.255,141.855 442.952,140.95 445.648,140.045 448.344,139.14 \n",
       "  \"/>\n",
       "<polyline clip-path=\"url(#clip3102)\" style=\"stroke:#0000ff; stroke-width:2; stroke-opacity:1; fill:none\" stroke-dasharray=\"8, 5\" points=\"\n",
       "  49.3111,273.084 52.0073,272.179 54.7035,271.274 57.3996,270.369 60.0958,269.464 62.792,268.559 65.4881,267.654 68.1843,266.749 70.8805,265.844 73.5766,264.939 \n",
       "  76.2728,264.034 78.969,263.129 81.6652,262.224 84.3613,261.319 87.0575,260.414 89.7537,259.509 92.4498,258.604 95.146,257.699 97.8422,256.794 100.538,255.889 \n",
       "  103.234,254.984 105.931,254.079 108.627,253.174 111.323,252.268 114.019,251.363 116.715,250.458 119.412,249.553 122.108,248.648 124.804,247.743 127.5,246.838 \n",
       "  130.196,245.933 132.892,245.028 135.589,244.123 138.285,243.218 140.981,242.313 143.677,241.408 146.373,240.503 149.069,239.598 151.766,238.693 154.462,237.788 \n",
       "  157.158,236.883 159.854,235.978 162.55,235.073 165.246,234.168 167.943,233.263 170.639,232.358 173.335,231.453 176.031,230.548 178.727,229.643 181.423,228.738 \n",
       "  184.12,227.833 186.816,226.928 189.512,226.023 192.208,225.118 194.904,224.213 197.6,223.308 200.297,222.403 202.993,221.498 205.689,220.593 208.385,219.687 \n",
       "  211.081,218.782 213.777,217.877 216.474,216.972 219.17,216.067 221.866,215.162 224.562,214.257 227.258,213.352 229.954,212.447 232.651,211.542 235.347,210.637 \n",
       "  238.043,209.732 240.739,208.827 243.435,207.922 246.131,207.017 248.828,206.112 251.524,205.207 254.22,204.302 256.916,203.397 259.612,202.492 262.308,201.587 \n",
       "  265.005,200.682 267.701,199.777 270.397,198.872 273.093,197.967 275.789,197.062 278.485,196.157 281.182,195.252 283.878,194.347 286.574,193.442 289.27,192.537 \n",
       "  291.966,191.632 294.662,190.727 297.359,189.822 300.055,188.917 302.751,188.012 305.447,187.107 308.143,186.201 310.839,185.296 313.536,184.391 316.232,183.486 \n",
       "  318.928,182.581 321.624,181.676 324.32,180.771 327.016,179.866 329.713,178.961 332.409,178.056 335.105,177.151 337.801,176.246 340.497,175.341 343.193,174.436 \n",
       "  345.89,173.531 348.586,172.626 351.282,171.721 353.978,170.816 356.674,169.911 359.37,169.006 362.067,168.101 364.763,167.196 367.459,166.291 370.155,165.386 \n",
       "  372.851,164.481 375.547,163.576 378.244,162.671 380.94,161.766 383.636,160.861 386.332,159.956 389.028,159.051 391.724,158.146 394.421,157.241 397.117,156.336 \n",
       "  399.813,155.431 402.509,154.526 405.205,153.62 407.901,152.715 410.598,151.81 413.294,150.905 415.99,150 418.686,149.095 421.382,148.19 424.078,147.285 \n",
       "  426.775,146.38 429.471,145.475 432.167,144.57 434.863,143.665 437.559,142.76 440.255,141.855 442.952,140.95 445.648,140.045 448.344,139.14 \n",
       "  \"/>\n",
       "<polygon clip-path=\"url(#clip3100)\" points=\"\n",
       "309.65,105.656 445.915,105.656 445.915,45.1761 309.65,45.1761 \n",
       "  \" fill=\"#ffffff\" fill-opacity=\"1\"/>\n",
       "<polyline clip-path=\"url(#clip3100)\" style=\"stroke:#000000; stroke-width:1; stroke-opacity:1; fill:none\" points=\"\n",
       "  309.65,105.656 445.915,105.656 445.915,45.1761 309.65,45.1761 309.65,105.656 \n",
       "  \"/>\n",
       "<polyline clip-path=\"url(#clip3100)\" style=\"stroke:#000000; stroke-width:1; stroke-opacity:1; fill:none\" points=\"\n",
       "  314.45,60.2961 343.25,60.2961 \n",
       "  \"/>\n",
       "<g clip-path=\"url(#clip3100)\">\n",
       "<text style=\"fill:#000000; fill-opacity:1; font-family:Arial,Helvetica Neue,Helvetica,sans-serif; font-size:12; text-anchor:start;\" transform=\"rotate(0, 348.05, 64.7961)\" x=\"348.05\" y=\"64.7961\">fn1()</text>\n",
       "</g>\n",
       "<polyline clip-path=\"url(#clip3100)\" style=\"stroke:#ff0000; stroke-width:4; stroke-opacity:1; fill:none\" stroke-dasharray=\"2, 4\" points=\"\n",
       "  314.45,75.4161 343.25,75.4161 \n",
       "  \"/>\n",
       "<g clip-path=\"url(#clip3100)\">\n",
       "<text style=\"fill:#000000; fill-opacity:1; font-family:Arial,Helvetica Neue,Helvetica,sans-serif; font-size:12; text-anchor:start;\" transform=\"rotate(0, 348.05, 79.9161)\" x=\"348.05\" y=\"79.9161\">crude derivative</text>\n",
       "</g>\n",
       "<polyline clip-path=\"url(#clip3100)\" style=\"stroke:#0000ff; stroke-width:2; stroke-opacity:1; fill:none\" stroke-dasharray=\"8, 5\" points=\"\n",
       "  314.45,90.5361 343.25,90.5361 \n",
       "  \"/>\n",
       "<g clip-path=\"url(#clip3100)\">\n",
       "<text style=\"fill:#000000; fill-opacity:1; font-family:Arial,Helvetica Neue,Helvetica,sans-serif; font-size:12; text-anchor:start;\" transform=\"rotate(0, 348.05, 95.0361)\" x=\"348.05\" y=\"95.0361\">ForwardDiff pkg </text>\n",
       "</g>\n",
       "</svg>\n"
      ]
     },
     "execution_count": 11,
     "metadata": {},
     "output_type": "execute_result"
    }
   ],
   "source": [
    "p1 = plot(x,fn1.(x,0.5),color=:black,label=\"fn1()\")\n",
    "plot!(x,dydx_A,color=:red,line=(:dot,4),label=\"crude derivative\")\n",
    "plot!(x,dydx_B,color=:blue,line=(:dash,2),label=\"ForwardDiff pkg \")\n",
    "title!(\"fn1() and its derivative\")\n",
    "xlabel!(\"x\")\n",
    "ylabel!(\"\")"
   ]
  },
  {
   "cell_type": "markdown",
   "metadata": {
    "collapsed": true
   },
   "source": [
    "## (extra) Comments on Using the ForwardDiff Package\n",
    "\n",
    "The ForwardDiff package applies an interesting approach to calculate derivatives, using a special number type (\"dual numbers\"). This means that your code must be able to handle such numbers. In most cases, that is not a problem, but you may have to watch out if you create arrays to store (intermediate?) results inside the function. See the examples below"
   ]
  },
  {
   "cell_type": "code",
   "execution_count": 12,
   "metadata": {},
   "outputs": [
    {
     "data": {
      "text/plain": [
       "fnDoesWork (generic function with 1 method)"
      ]
     },
     "execution_count": 12,
     "metadata": {},
     "output_type": "execute_result"
    }
   ],
   "source": [
    "function fnDoesNotWork(b,a)\n",
    "    z = zeros(length(b))              #will not work with ForwardDiff, since\n",
    "    for i = 1:length(z)               #z cannot store dual numbers\n",
    "        z[i] = b[i]*i\n",
    "    end    \n",
    "    return sum(z) + a\n",
    "end    \n",
    "\n",
    "function fnDoesWork(b,a)\n",
    "    z = zeros(eltype(b),length(b))   #will work with ForwardDiff, since\n",
    "    for i = 1:length(z)              #when b is a dual number, so is z \n",
    "        z[i] = b[i]*i\n",
    "    end    \n",
    "    return sum(z) + a\n",
    "end"
   ]
  },
  {
   "cell_type": "code",
   "execution_count": 13,
   "metadata": {},
   "outputs": [
    {
     "data": {
      "text/plain": [
       "2-element Array{Float64,1}:\n",
       " 1.0\n",
       " 2.0"
      ]
     },
     "execution_count": 13,
     "metadata": {},
     "output_type": "execute_result"
    }
   ],
   "source": [
    "b0 = [1.5,2]\n",
    "\n",
    "dydx = try\n",
    "    ForwardDiff.gradient(b->fnDoesNotWork(b,1),b0)\n",
    "    #println(\"using fnDoesNotWork(): \")\n",
    "catch    \n",
    "    ForwardDiff.gradient(b->fnDoesWork(b,1),b0)\n",
    "    #println(\"using fnDoesWork(): \")    \n",
    "end"
   ]
  },
  {
   "cell_type": "code",
   "execution_count": null,
   "metadata": {},
   "outputs": [],
   "source": []
  }
 ],
 "metadata": {
  "anaconda-cloud": {},
  "kernelspec": {
   "display_name": "Julia 1.0.0",
   "language": "julia",
   "name": "julia-1.0"
  },
  "language_info": {
   "file_extension": ".jl",
   "mimetype": "application/julia",
   "name": "julia",
   "version": "1.0.0"
  }
 },
 "nbformat": 4,
 "nbformat_minor": 1
}
